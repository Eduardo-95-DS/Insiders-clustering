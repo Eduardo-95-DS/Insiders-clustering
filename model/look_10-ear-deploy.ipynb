{
 "cells": [
  {
   "cell_type": "markdown",
   "metadata": {},
   "source": [
    "# 0.0 Imports"
   ]
  },
  {
   "cell_type": "code",
   "execution_count": 4,
   "metadata": {
    "ExecuteTime": {
     "end_time": "2023-09-09T18:53:20.149292Z",
     "start_time": "2023-09-09T18:53:20.143130Z"
    },
    "execution": {
     "iopub.execute_input": "2023-10-15T18:42:44.601061Z",
     "iopub.status.busy": "2023-10-15T18:42:44.600569Z",
     "iopub.status.idle": "2023-10-15T18:42:44.609186Z",
     "shell.execute_reply": "2023-10-15T18:42:44.607394Z",
     "shell.execute_reply.started": "2023-10-15T18:42:44.601027Z"
    }
   },
   "outputs": [],
   "source": [
    "import numpy   as np\n",
    "import pandas  as pd\n",
    "import umap.umap_ as umap\n",
    "import regex as re\n",
    "import sqlite3\n",
    "import s3fs\n",
    "\n",
    "from sklearn             import cluster as c\n",
    "from sklearn             import metrics as m\n",
    "from sklearn             import preprocessing as pp\n",
    "from sklearn             import decomposition as dd\n",
    "from sklearn             import ensemble as en\n",
    "from scipy.cluster       import hierarchy as hc\n",
    "from yellowbrick.cluster import KElbowVisualizer, SilhouetteVisualizer\n",
    "from sqlalchemy          import create_engine"
   ]
  },
  {
   "cell_type": "markdown",
   "metadata": {},
   "source": [
    "## 0.2 Load dataset"
   ]
  },
  {
   "cell_type": "code",
   "execution_count": 5,
   "metadata": {
    "ExecuteTime": {
     "end_time": "2023-09-09T18:53:21.199965Z",
     "start_time": "2023-09-09T18:53:20.192063Z"
    },
    "execution": {
     "iopub.execute_input": "2023-10-15T18:42:44.613537Z",
     "iopub.status.busy": "2023-10-15T18:42:44.612466Z",
     "iopub.status.idle": "2023-10-15T18:43:03.199188Z",
     "shell.execute_reply": "2023-10-15T18:43:03.197513Z",
     "shell.execute_reply.started": "2023-10-15T18:42:44.613448Z"
    }
   },
   "outputs": [
    {
     "data": {
      "text/html": [
       "<div>\n",
       "<style scoped>\n",
       "    .dataframe tbody tr th:only-of-type {\n",
       "        vertical-align: middle;\n",
       "    }\n",
       "\n",
       "    .dataframe tbody tr th {\n",
       "        vertical-align: top;\n",
       "    }\n",
       "\n",
       "    .dataframe thead th {\n",
       "        text-align: right;\n",
       "    }\n",
       "</style>\n",
       "<table border=\"1\" class=\"dataframe\">\n",
       "  <thead>\n",
       "    <tr style=\"text-align: right;\">\n",
       "      <th></th>\n",
       "      <th>InvoiceNo</th>\n",
       "      <th>StockCode</th>\n",
       "      <th>Description</th>\n",
       "      <th>Quantity</th>\n",
       "      <th>InvoiceDate</th>\n",
       "      <th>UnitPrice</th>\n",
       "      <th>CustomerID</th>\n",
       "      <th>Country</th>\n",
       "      <th>Unnamed: 8</th>\n",
       "    </tr>\n",
       "  </thead>\n",
       "  <tbody>\n",
       "    <tr>\n",
       "      <th>0</th>\n",
       "      <td>536365</td>\n",
       "      <td>85123A</td>\n",
       "      <td>WHITE HANGING HEART T-LIGHT HOLDER</td>\n",
       "      <td>6</td>\n",
       "      <td>29-Nov-16</td>\n",
       "      <td>2.55</td>\n",
       "      <td>17850.0</td>\n",
       "      <td>United Kingdom</td>\n",
       "      <td>NaN</td>\n",
       "    </tr>\n",
       "    <tr>\n",
       "      <th>1</th>\n",
       "      <td>536365</td>\n",
       "      <td>71053</td>\n",
       "      <td>WHITE METAL LANTERN</td>\n",
       "      <td>6</td>\n",
       "      <td>29-Nov-16</td>\n",
       "      <td>3.39</td>\n",
       "      <td>17850.0</td>\n",
       "      <td>United Kingdom</td>\n",
       "      <td>NaN</td>\n",
       "    </tr>\n",
       "    <tr>\n",
       "      <th>2</th>\n",
       "      <td>536365</td>\n",
       "      <td>84406B</td>\n",
       "      <td>CREAM CUPID HEARTS COAT HANGER</td>\n",
       "      <td>8</td>\n",
       "      <td>29-Nov-16</td>\n",
       "      <td>2.75</td>\n",
       "      <td>17850.0</td>\n",
       "      <td>United Kingdom</td>\n",
       "      <td>NaN</td>\n",
       "    </tr>\n",
       "    <tr>\n",
       "      <th>3</th>\n",
       "      <td>536365</td>\n",
       "      <td>84029G</td>\n",
       "      <td>KNITTED UNION FLAG HOT WATER BOTTLE</td>\n",
       "      <td>6</td>\n",
       "      <td>29-Nov-16</td>\n",
       "      <td>3.39</td>\n",
       "      <td>17850.0</td>\n",
       "      <td>United Kingdom</td>\n",
       "      <td>NaN</td>\n",
       "    </tr>\n",
       "    <tr>\n",
       "      <th>4</th>\n",
       "      <td>536365</td>\n",
       "      <td>84029E</td>\n",
       "      <td>RED WOOLLY HOTTIE WHITE HEART.</td>\n",
       "      <td>6</td>\n",
       "      <td>29-Nov-16</td>\n",
       "      <td>3.39</td>\n",
       "      <td>17850.0</td>\n",
       "      <td>United Kingdom</td>\n",
       "      <td>NaN</td>\n",
       "    </tr>\n",
       "    <tr>\n",
       "      <th>...</th>\n",
       "      <td>...</td>\n",
       "      <td>...</td>\n",
       "      <td>...</td>\n",
       "      <td>...</td>\n",
       "      <td>...</td>\n",
       "      <td>...</td>\n",
       "      <td>...</td>\n",
       "      <td>...</td>\n",
       "      <td>...</td>\n",
       "    </tr>\n",
       "    <tr>\n",
       "      <th>541904</th>\n",
       "      <td>581587</td>\n",
       "      <td>22613</td>\n",
       "      <td>PACK OF 20 SPACEBOY NAPKINS</td>\n",
       "      <td>12</td>\n",
       "      <td>7-Dec-17</td>\n",
       "      <td>0.85</td>\n",
       "      <td>12680.0</td>\n",
       "      <td>France</td>\n",
       "      <td>NaN</td>\n",
       "    </tr>\n",
       "    <tr>\n",
       "      <th>541905</th>\n",
       "      <td>581587</td>\n",
       "      <td>22899</td>\n",
       "      <td>CHILDREN'S APRON DOLLY GIRL</td>\n",
       "      <td>6</td>\n",
       "      <td>7-Dec-17</td>\n",
       "      <td>2.10</td>\n",
       "      <td>12680.0</td>\n",
       "      <td>France</td>\n",
       "      <td>NaN</td>\n",
       "    </tr>\n",
       "    <tr>\n",
       "      <th>541906</th>\n",
       "      <td>581587</td>\n",
       "      <td>23254</td>\n",
       "      <td>CHILDRENS CUTLERY DOLLY GIRL</td>\n",
       "      <td>4</td>\n",
       "      <td>7-Dec-17</td>\n",
       "      <td>4.15</td>\n",
       "      <td>12680.0</td>\n",
       "      <td>France</td>\n",
       "      <td>NaN</td>\n",
       "    </tr>\n",
       "    <tr>\n",
       "      <th>541907</th>\n",
       "      <td>581587</td>\n",
       "      <td>23255</td>\n",
       "      <td>CHILDRENS CUTLERY CIRCUS PARADE</td>\n",
       "      <td>4</td>\n",
       "      <td>7-Dec-17</td>\n",
       "      <td>4.15</td>\n",
       "      <td>12680.0</td>\n",
       "      <td>France</td>\n",
       "      <td>NaN</td>\n",
       "    </tr>\n",
       "    <tr>\n",
       "      <th>541908</th>\n",
       "      <td>581587</td>\n",
       "      <td>22138</td>\n",
       "      <td>BAKING SET 9 PIECE RETROSPOT</td>\n",
       "      <td>3</td>\n",
       "      <td>7-Dec-17</td>\n",
       "      <td>4.95</td>\n",
       "      <td>12680.0</td>\n",
       "      <td>France</td>\n",
       "      <td>NaN</td>\n",
       "    </tr>\n",
       "  </tbody>\n",
       "</table>\n",
       "<p>541909 rows × 9 columns</p>\n",
       "</div>"
      ],
      "text/plain": [
       "       InvoiceNo StockCode                          Description  Quantity  \\\n",
       "0         536365    85123A   WHITE HANGING HEART T-LIGHT HOLDER         6   \n",
       "1         536365     71053                  WHITE METAL LANTERN         6   \n",
       "2         536365    84406B       CREAM CUPID HEARTS COAT HANGER         8   \n",
       "3         536365    84029G  KNITTED UNION FLAG HOT WATER BOTTLE         6   \n",
       "4         536365    84029E       RED WOOLLY HOTTIE WHITE HEART.         6   \n",
       "...          ...       ...                                  ...       ...   \n",
       "541904    581587     22613          PACK OF 20 SPACEBOY NAPKINS        12   \n",
       "541905    581587     22899         CHILDREN'S APRON DOLLY GIRL          6   \n",
       "541906    581587     23254        CHILDRENS CUTLERY DOLLY GIRL          4   \n",
       "541907    581587     23255      CHILDRENS CUTLERY CIRCUS PARADE         4   \n",
       "541908    581587     22138        BAKING SET 9 PIECE RETROSPOT          3   \n",
       "\n",
       "       InvoiceDate  UnitPrice  CustomerID         Country  Unnamed: 8  \n",
       "0        29-Nov-16       2.55     17850.0  United Kingdom         NaN  \n",
       "1        29-Nov-16       3.39     17850.0  United Kingdom         NaN  \n",
       "2        29-Nov-16       2.75     17850.0  United Kingdom         NaN  \n",
       "3        29-Nov-16       3.39     17850.0  United Kingdom         NaN  \n",
       "4        29-Nov-16       3.39     17850.0  United Kingdom         NaN  \n",
       "...            ...        ...         ...             ...         ...  \n",
       "541904    7-Dec-17       0.85     12680.0          France         NaN  \n",
       "541905    7-Dec-17       2.10     12680.0          France         NaN  \n",
       "541906    7-Dec-17       4.15     12680.0          France         NaN  \n",
       "541907    7-Dec-17       4.15     12680.0          France         NaN  \n",
       "541908    7-Dec-17       4.95     12680.0          France         NaN  \n",
       "\n",
       "[541909 rows x 9 columns]"
      ]
     },
     "execution_count": 5,
     "metadata": {},
     "output_type": "execute_result"
    }
   ],
   "source": [
    "# load data\n",
    "# df_raw = pd.read_csv('data/raw/Ecommerce.csv', encoding='unicode_escape')\n",
    "df_raw = pd.read_csv('s3://insiders-dataset-27/Ecommerce.csv',encoding='unicode_escape')\n",
    "\n",
    "df_raw"
   ]
  },
  {
   "cell_type": "code",
   "execution_count": 6,
   "metadata": {
    "ExecuteTime": {
     "end_time": "2023-09-09T18:53:21.246411Z",
     "start_time": "2023-09-09T18:53:21.205116Z"
    },
    "execution": {
     "iopub.execute_input": "2023-10-15T18:43:03.202290Z",
     "iopub.status.busy": "2023-10-15T18:43:03.201372Z",
     "iopub.status.idle": "2023-10-15T18:43:03.252982Z",
     "shell.execute_reply": "2023-10-15T18:43:03.251028Z",
     "shell.execute_reply.started": "2023-10-15T18:43:03.202235Z"
    }
   },
   "outputs": [],
   "source": [
    "# drop extra column\n",
    "df_raw = df_raw.drop(columns=['Unnamed: 8'], axis=1)"
   ]
  },
  {
   "cell_type": "markdown",
   "metadata": {
    "heading_collapsed": true
   },
   "source": [
    "# 1.0 Data description"
   ]
  },
  {
   "cell_type": "code",
   "execution_count": 7,
   "metadata": {
    "ExecuteTime": {
     "end_time": "2023-09-09T18:53:21.275437Z",
     "start_time": "2023-09-09T18:53:21.250775Z"
    },
    "execution": {
     "iopub.execute_input": "2023-10-15T18:43:03.259190Z",
     "iopub.status.busy": "2023-10-15T18:43:03.257873Z",
     "iopub.status.idle": "2023-10-15T18:43:03.293704Z",
     "shell.execute_reply": "2023-10-15T18:43:03.292152Z",
     "shell.execute_reply.started": "2023-10-15T18:43:03.259074Z"
    },
    "hidden": true
   },
   "outputs": [],
   "source": [
    "df1 = df_raw.copy()"
   ]
  },
  {
   "cell_type": "markdown",
   "metadata": {
    "heading_collapsed": true,
    "hidden": true,
    "jp-MarkdownHeadingCollapsed": true
   },
   "source": [
    "## 1.1 Rename columuns"
   ]
  },
  {
   "cell_type": "code",
   "execution_count": 8,
   "metadata": {
    "ExecuteTime": {
     "end_time": "2023-09-09T18:53:21.289470Z",
     "start_time": "2023-09-09T18:53:21.280201Z"
    },
    "execution": {
     "iopub.execute_input": "2023-10-15T18:43:03.297312Z",
     "iopub.status.busy": "2023-10-15T18:43:03.295890Z",
     "iopub.status.idle": "2023-10-15T18:43:03.310489Z",
     "shell.execute_reply": "2023-10-15T18:43:03.308514Z",
     "shell.execute_reply.started": "2023-10-15T18:43:03.297249Z"
    },
    "hidden": true
   },
   "outputs": [],
   "source": [
    "cols_new = ['invoice_no', 'stock_code', 'description', 'quantity', 'invoice_date', 'unit_price', 'customer_id', 'country']\n",
    "df1.columns = cols_new"
   ]
  },
  {
   "cell_type": "markdown",
   "metadata": {
    "heading_collapsed": true,
    "hidden": true,
    "jp-MarkdownHeadingCollapsed": true
   },
   "source": [
    "## 1.2 Replace NA"
   ]
  },
  {
   "cell_type": "code",
   "execution_count": 9,
   "metadata": {
    "ExecuteTime": {
     "end_time": "2023-09-09T18:53:21.773643Z",
     "start_time": "2023-09-09T18:53:21.593576Z"
    },
    "execution": {
     "iopub.execute_input": "2023-10-15T18:43:03.316637Z",
     "iopub.status.busy": "2023-10-15T18:43:03.315956Z",
     "iopub.status.idle": "2023-10-15T18:43:03.671074Z",
     "shell.execute_reply": "2023-10-15T18:43:03.668358Z",
     "shell.execute_reply.started": "2023-10-15T18:43:03.316577Z"
    },
    "hidden": true
   },
   "outputs": [],
   "source": [
    "df_missing = df1.loc[df1['customer_id'].isna()]\n",
    "df_not_missing = df1.loc[~df1['customer_id'].isna()]\n",
    "\n",
    "# create reference\n",
    "df_backup = pd.DataFrame(df_missing['invoice_no'].drop_duplicates())\n",
    "df_backup['customer_id'] = np.arange(19000, 19000+len(df_backup), 1)\n",
    "\n",
    "# merge original with reference dataframe\n",
    "df1 = pd.merge(df1, df_backup, on='invoice_no', how='left')\n",
    "\n",
    "# coalesce \n",
    "df1['customer_id'] = df1['customer_id_x'].combine_first(df1['customer_id_y'])\n",
    "\n",
    "# drop extra columns\n",
    "df1 = df1.drop(columns=['customer_id_x', 'customer_id_y'], axis=1)"
   ]
  },
  {
   "cell_type": "markdown",
   "metadata": {
    "heading_collapsed": true,
    "hidden": true,
    "jp-MarkdownHeadingCollapsed": true
   },
   "source": [
    "## 1.3 Change dtypes"
   ]
  },
  {
   "cell_type": "code",
   "execution_count": 10,
   "metadata": {
    "ExecuteTime": {
     "end_time": "2023-09-09T18:53:22.040719Z",
     "start_time": "2023-09-09T18:53:21.938091Z"
    },
    "execution": {
     "iopub.execute_input": "2023-10-15T18:43:03.677261Z",
     "iopub.status.busy": "2023-10-15T18:43:03.674608Z",
     "iopub.status.idle": "2023-10-15T18:43:03.795371Z",
     "shell.execute_reply": "2023-10-15T18:43:03.793581Z",
     "shell.execute_reply.started": "2023-10-15T18:43:03.677190Z"
    },
    "hidden": true
   },
   "outputs": [],
   "source": [
    "# invoice date\n",
    "df1['invoice_date'] = pd.to_datetime(df1['invoice_date'], format='%d-%b-%y')\n",
    "\n",
    "# customer id\n",
    "df1['customer_id'] = df1['customer_id'].astype(int)"
   ]
  },
  {
   "cell_type": "markdown",
   "metadata": {
    "heading_collapsed": true,
    "jp-MarkdownHeadingCollapsed": true
   },
   "source": [
    "# 2.0 Variable filtering "
   ]
  },
  {
   "cell_type": "code",
   "execution_count": 11,
   "metadata": {
    "ExecuteTime": {
     "end_time": "2023-09-09T18:53:38.872122Z",
     "start_time": "2023-09-09T18:53:38.808757Z"
    },
    "execution": {
     "iopub.execute_input": "2023-10-15T18:43:03.797293Z",
     "iopub.status.busy": "2023-10-15T18:43:03.796798Z",
     "iopub.status.idle": "2023-10-15T18:43:03.932850Z",
     "shell.execute_reply": "2023-10-15T18:43:03.931621Z",
     "shell.execute_reply.started": "2023-10-15T18:43:03.797234Z"
    },
    "hidden": true
   },
   "outputs": [],
   "source": [
    "df2 = df1.copy()"
   ]
  },
  {
   "cell_type": "code",
   "execution_count": 12,
   "metadata": {
    "ExecuteTime": {
     "end_time": "2023-09-09T18:53:39.104725Z",
     "start_time": "2023-09-09T18:53:38.875294Z"
    },
    "execution": {
     "iopub.execute_input": "2023-10-15T18:43:03.937475Z",
     "iopub.status.busy": "2023-10-15T18:43:03.935133Z",
     "iopub.status.idle": "2023-10-15T18:43:04.466348Z",
     "shell.execute_reply": "2023-10-15T18:43:04.465042Z",
     "shell.execute_reply.started": "2023-10-15T18:43:03.936951Z"
    },
    "hidden": true
   },
   "outputs": [
    {
     "name": "stdout",
     "output_type": "stream",
     "text": [
      "% of the data lost : 0.011%\n"
     ]
    }
   ],
   "source": [
    "# unit price\n",
    "df2 = df2.loc[df2['unit_price'] >= 0.04]\n",
    "\n",
    "# stock code\n",
    "df2 = df2[~df2['stock_code'].isin( ['POST', 'D', 'DOT', 'M', 'S', 'AMAZONFEE', 'm', 'DCGSSBOY', 'DCGSSGIRL', 'PADS', 'B', 'CRUK'] ) ]\n",
    "\n",
    "# description\n",
    "df2 = df2.drop(columns='description', axis=1)\n",
    "\n",
    "df2 = df2[~df2['country'].isin( ['European Community', 'Unspecified' ] ) ]\n",
    "\n",
    "# bad users\n",
    "df2=df2[~df2['customer_id'].isin([12346,16446,21497,21498,21499])]\n",
    "\n",
    "# quantity\n",
    "df2_returns = df2.loc[df1['quantity'] < 0]\n",
    "\n",
    "# purchases\n",
    "df2_purchases = df2.loc[df1['quantity'] >= 0]\n",
    "\n",
    "\n",
    "print('% of the data lost : {:.3f}%'.format(1-(df2.shape[0] / df1.shape[0])))"
   ]
  },
  {
   "cell_type": "markdown",
   "metadata": {
    "jp-MarkdownHeadingCollapsed": true
   },
   "source": [
    "# 3.0 Feature engineering "
   ]
  },
  {
   "cell_type": "code",
   "execution_count": 13,
   "metadata": {
    "ExecuteTime": {
     "end_time": "2023-09-09T19:34:41.499616Z",
     "start_time": "2023-09-09T19:34:41.480645Z"
    },
    "execution": {
     "iopub.execute_input": "2023-10-15T18:43:04.469386Z",
     "iopub.status.busy": "2023-10-15T18:43:04.468587Z",
     "iopub.status.idle": "2023-10-15T18:43:04.510302Z",
     "shell.execute_reply": "2023-10-15T18:43:04.508287Z",
     "shell.execute_reply.started": "2023-10-15T18:43:04.469323Z"
    }
   },
   "outputs": [],
   "source": [
    "df3 = df2.copy()"
   ]
  },
  {
   "cell_type": "markdown",
   "metadata": {},
   "source": [
    "## 3.1 Feature creation"
   ]
  },
  {
   "cell_type": "code",
   "execution_count": 14,
   "metadata": {
    "ExecuteTime": {
     "end_time": "2023-09-09T19:34:41.768588Z",
     "start_time": "2023-09-09T19:34:41.752163Z"
    },
    "execution": {
     "iopub.execute_input": "2023-10-15T18:43:04.514465Z",
     "iopub.status.busy": "2023-10-15T18:43:04.512888Z",
     "iopub.status.idle": "2023-10-15T18:43:04.553982Z",
     "shell.execute_reply": "2023-10-15T18:43:04.551168Z",
     "shell.execute_reply.started": "2023-10-15T18:43:04.514341Z"
    }
   },
   "outputs": [],
   "source": [
    "# data reference\n",
    "df_ref = df3.drop(['invoice_no', 'stock_code', \n",
    "                    'quantity', 'invoice_date', 'unit_price', \n",
    "                    'country'], axis=1).drop_duplicates(ignore_index=True)"
   ]
  },
  {
   "cell_type": "markdown",
   "metadata": {
    "jp-MarkdownHeadingCollapsed": true
   },
   "source": [
    "### 3.1.1 Gross revenue"
   ]
  },
  {
   "cell_type": "code",
   "execution_count": 15,
   "metadata": {
    "ExecuteTime": {
     "end_time": "2023-09-09T19:34:42.129295Z",
     "start_time": "2023-09-09T19:34:42.077832Z"
    },
    "execution": {
     "iopub.execute_input": "2023-10-15T18:43:04.559364Z",
     "iopub.status.busy": "2023-10-15T18:43:04.558076Z",
     "iopub.status.idle": "2023-10-15T18:43:04.646213Z",
     "shell.execute_reply": "2023-10-15T18:43:04.644758Z",
     "shell.execute_reply.started": "2023-10-15T18:43:04.559297Z"
    }
   },
   "outputs": [
    {
     "name": "stderr",
     "output_type": "stream",
     "text": [
      "/tmp/ipykernel_6536/962894076.py:2: SettingWithCopyWarning: \n",
      "A value is trying to be set on a copy of a slice from a DataFrame.\n",
      "Try using .loc[row_indexer,col_indexer] = value instead\n",
      "\n",
      "See the caveats in the documentation: https://pandas.pydata.org/pandas-docs/stable/user_guide/indexing.html#returning-a-view-versus-a-copy\n",
      "  df2_purchases['gross_revenue'] = df2_purchases['quantity'] * df2_purchases['unit_price']\n"
     ]
    },
    {
     "data": {
      "text/plain": [
       "customer_id       0\n",
       "gross_revenue    91\n",
       "dtype: int64"
      ]
     },
     "execution_count": 15,
     "metadata": {},
     "output_type": "execute_result"
    }
   ],
   "source": [
    "# quantity * price\n",
    "df2_purchases['gross_revenue'] = df2_purchases['quantity'] * df2_purchases['unit_price']\n",
    "\n",
    "# Monetary\n",
    "df_monetary = df2_purchases[['customer_id', 'gross_revenue']].groupby('customer_id').sum().reset_index()\n",
    "df_ref = pd.merge(df_ref, df_monetary, on='customer_id', how='left')\n",
    "df_ref.isna().sum()"
   ]
  },
  {
   "cell_type": "markdown",
   "metadata": {
    "jp-MarkdownHeadingCollapsed": true
   },
   "source": [
    "### 3.1.2 Recency"
   ]
  },
  {
   "cell_type": "code",
   "execution_count": 16,
   "metadata": {
    "ExecuteTime": {
     "end_time": "2023-09-09T19:34:43.472971Z",
     "start_time": "2023-09-09T19:34:43.439295Z"
    },
    "execution": {
     "iopub.execute_input": "2023-10-15T18:43:04.649247Z",
     "iopub.status.busy": "2023-10-15T18:43:04.648001Z",
     "iopub.status.idle": "2023-10-15T18:43:04.733845Z",
     "shell.execute_reply": "2023-10-15T18:43:04.732518Z",
     "shell.execute_reply.started": "2023-10-15T18:43:04.649185Z"
    }
   },
   "outputs": [
    {
     "data": {
      "text/plain": [
       "customer_id       0\n",
       "gross_revenue    91\n",
       "recency_days     91\n",
       "dtype: int64"
      ]
     },
     "execution_count": 16,
     "metadata": {},
     "output_type": "execute_result"
    }
   ],
   "source": [
    "# how many days since last purchase\n",
    "df_recency = df2_purchases.loc[:, ['customer_id', 'invoice_date']].groupby('customer_id').max().reset_index()\n",
    "df_recency['recency_days'] = (df2['invoice_date'].max() - df_recency['invoice_date']).dt.days\n",
    "df_recency = df_recency[['customer_id', 'recency_days']].copy()\n",
    "df_ref = pd.merge(df_ref, df_recency, on='customer_id', how='left')\n",
    "df_ref.isna().sum()"
   ]
  },
  {
   "cell_type": "markdown",
   "metadata": {
    "jp-MarkdownHeadingCollapsed": true
   },
   "source": [
    "### 3.1.3 Frequency "
   ]
  },
  {
   "cell_type": "code",
   "execution_count": 17,
   "metadata": {
    "ExecuteTime": {
     "end_time": "2023-09-09T19:53:15.004904Z",
     "start_time": "2023-09-09T19:53:13.436381Z"
    },
    "execution": {
     "iopub.execute_input": "2023-10-15T18:43:04.735880Z",
     "iopub.status.busy": "2023-10-15T18:43:04.735215Z",
     "iopub.status.idle": "2023-10-15T18:43:07.434796Z",
     "shell.execute_reply": "2023-10-15T18:43:07.433404Z",
     "shell.execute_reply.started": "2023-10-15T18:43:04.735739Z"
    }
   },
   "outputs": [
    {
     "data": {
      "text/plain": [
       "customer_id       0\n",
       "gross_revenue    91\n",
       "recency_days     91\n",
       "frequency        91\n",
       "dtype: int64"
      ]
     },
     "execution_count": 17,
     "metadata": {},
     "output_type": "execute_result"
    }
   ],
   "source": [
    "# frequency of purchases\n",
    "df_aux = (df2_purchases[['customer_id', 'invoice_no', 'invoice_date']].drop_duplicates()\n",
    "                                                             .groupby('customer_id')\n",
    "                                                             .agg(max_ = ('invoice_date', 'max'), \n",
    "                                                                   min_ = ('invoice_date', 'min'),\n",
    "                                                                   days_= ('invoice_date', lambda x: ((x.max() - x.min()).days) + 1),\n",
    "                                                                   buy_ = ('invoice_no', 'count'))).reset_index()\n",
    "# # Frequency\n",
    "df_aux['frequency'] = df_aux[['buy_', 'days_']].apply(lambda x: x['buy_'] / x['days_'] if  x['days_'] != 0 else 0, axis=1)\n",
    "\n",
    "# # Merge\n",
    "df_ref = pd.merge(df_ref, df_aux[['customer_id', 'frequency']], on='customer_id', how='left')\n",
    "\n",
    "df_ref.isna().sum()"
   ]
  },
  {
   "cell_type": "markdown",
   "metadata": {
    "jp-MarkdownHeadingCollapsed": true
   },
   "source": [
    "### 3.1.4 Total invoices"
   ]
  },
  {
   "cell_type": "code",
   "execution_count": 18,
   "metadata": {
    "ExecuteTime": {
     "end_time": "2023-09-09T18:59:55.339885Z",
     "start_time": "2023-09-09T18:59:55.244182Z"
    },
    "execution": {
     "iopub.execute_input": "2023-10-15T18:43:07.449119Z",
     "iopub.status.busy": "2023-10-15T18:43:07.444776Z",
     "iopub.status.idle": "2023-10-15T18:43:07.623128Z",
     "shell.execute_reply": "2023-10-15T18:43:07.620462Z",
     "shell.execute_reply.started": "2023-10-15T18:43:07.449053Z"
    }
   },
   "outputs": [
    {
     "data": {
      "text/plain": [
       "customer_id        0\n",
       "gross_revenue     91\n",
       "recency_days      91\n",
       "frequency         91\n",
       "total_invoices    91\n",
       "dtype: int64"
      ]
     },
     "execution_count": 18,
     "metadata": {},
     "output_type": "execute_result"
    }
   ],
   "source": [
    "# total of invoices\n",
    "df_freq = (df2_purchases.loc[:, ['customer_id', 'invoice_no']].drop_duplicates()\n",
    "                                                             .groupby('customer_id')\n",
    "                                                             .count()\n",
    "                                                             .reset_index()\n",
    "                                                             .rename(columns={'invoice_no': 'total_invoices'}))\n",
    "\n",
    "df_ref = pd.merge(df_ref, df_freq, on='customer_id', how='left')\n",
    "df_ref.isna().sum()"
   ]
  },
  {
   "cell_type": "markdown",
   "metadata": {
    "jp-MarkdownHeadingCollapsed": true
   },
   "source": [
    "### 3.1.5 Total of items purchased "
   ]
  },
  {
   "cell_type": "code",
   "execution_count": 19,
   "metadata": {
    "ExecuteTime": {
     "end_time": "2023-09-09T18:59:56.150748Z",
     "start_time": "2023-09-09T18:59:56.105570Z"
    },
    "execution": {
     "iopub.execute_input": "2023-10-15T18:43:07.626208Z",
     "iopub.status.busy": "2023-10-15T18:43:07.625409Z",
     "iopub.status.idle": "2023-10-15T18:43:07.704518Z",
     "shell.execute_reply": "2023-10-15T18:43:07.700303Z",
     "shell.execute_reply.started": "2023-10-15T18:43:07.626150Z"
    }
   },
   "outputs": [
    {
     "data": {
      "text/plain": [
       "customer_id        0\n",
       "gross_revenue     91\n",
       "recency_days      91\n",
       "frequency         91\n",
       "total_invoices    91\n",
       "items             91\n",
       "dtype: int64"
      ]
     },
     "execution_count": 19,
     "metadata": {},
     "output_type": "execute_result"
    }
   ],
   "source": [
    "# number of products purchases\n",
    "df_freq = (df2_purchases.loc[:, ['customer_id', 'quantity']].groupby('customer_id').sum()\n",
    "                                                           .reset_index()\n",
    "                                                           .rename(columns={'quantity': 'items'}))\n",
    "df_ref = pd.merge(df_ref, df_freq, on='customer_id', how='left')\n",
    "df_ref.isna().sum()"
   ]
  },
  {
   "cell_type": "markdown",
   "metadata": {
    "jp-MarkdownHeadingCollapsed": true
   },
   "source": [
    "### 3.1.6 Total of different items purchased "
   ]
  },
  {
   "cell_type": "code",
   "execution_count": 20,
   "metadata": {
    "ExecuteTime": {
     "end_time": "2023-09-09T18:59:57.141893Z",
     "start_time": "2023-09-09T18:59:57.070600Z"
    },
    "execution": {
     "iopub.execute_input": "2023-10-15T18:43:07.711188Z",
     "iopub.status.busy": "2023-10-15T18:43:07.708455Z",
     "iopub.status.idle": "2023-10-15T18:43:07.856600Z",
     "shell.execute_reply": "2023-10-15T18:43:07.854282Z",
     "shell.execute_reply.started": "2023-10-15T18:43:07.711120Z"
    }
   },
   "outputs": [
    {
     "data": {
      "text/plain": [
       "customer_id        0\n",
       "gross_revenue     91\n",
       "recency_days      91\n",
       "frequency         91\n",
       "total_invoices    91\n",
       "items             91\n",
       "products          91\n",
       "dtype: int64"
      ]
     },
     "execution_count": 20,
     "metadata": {},
     "output_type": "execute_result"
    }
   ],
   "source": [
    "# number of different items purchased\n",
    "df_freq = (df2_purchases.loc[:, ['customer_id', 'stock_code']].groupby('customer_id').count()\n",
    "                                                           .reset_index()\n",
    "                                                           .rename(columns={'stock_code': 'products'}))\n",
    "df_ref = pd.merge(df_ref, df_freq, on='customer_id', how='left')\n",
    "df_ref.isna().sum()"
   ]
  },
  {
   "cell_type": "markdown",
   "metadata": {
    "jp-MarkdownHeadingCollapsed": true
   },
   "source": [
    "### 3.1.7 Returns "
   ]
  },
  {
   "cell_type": "code",
   "execution_count": 21,
   "metadata": {
    "ExecuteTime": {
     "end_time": "2023-09-09T19:00:00.933940Z",
     "start_time": "2023-09-09T19:00:00.914477Z"
    },
    "execution": {
     "iopub.execute_input": "2023-10-15T18:43:07.860439Z",
     "iopub.status.busy": "2023-10-15T18:43:07.859351Z",
     "iopub.status.idle": "2023-10-15T18:43:07.912561Z",
     "shell.execute_reply": "2023-10-15T18:43:07.910415Z",
     "shell.execute_reply.started": "2023-10-15T18:43:07.860375Z"
    }
   },
   "outputs": [
    {
     "data": {
      "text/plain": [
       "customer_id        0\n",
       "gross_revenue     91\n",
       "recency_days      91\n",
       "frequency         91\n",
       "total_invoices    91\n",
       "items             91\n",
       "products          91\n",
       "returns_qtt        0\n",
       "dtype: int64"
      ]
     },
     "execution_count": 21,
     "metadata": {},
     "output_type": "execute_result"
    }
   ],
   "source": [
    "# total number of returns\n",
    "df_returns = df2_returns[['customer_id', 'quantity']].groupby('customer_id').sum().reset_index().rename(columns={'quantity':'returns_qtt'})\n",
    "df_returns['returns_qtt'] = df_returns['returns_qtt'] * -1\n",
    "\n",
    "df_ref = pd.merge(df_ref, df_returns, how='left', on='customer_id')\n",
    "df_ref.loc[df_ref['returns_qtt'].isna(), 'returns_qtt'] = 0\n",
    "\n",
    "df_ref.isna().sum()"
   ]
  },
  {
   "cell_type": "markdown",
   "metadata": {
    "heading_collapsed": true,
    "jp-MarkdownHeadingCollapsed": true
   },
   "source": [
    "# 4.0 EDA (Exploratory Data Analysis) "
   ]
  },
  {
   "cell_type": "code",
   "execution_count": 22,
   "metadata": {
    "ExecuteTime": {
     "end_time": "2023-09-05T19:11:54.346423Z",
     "start_time": "2023-09-05T19:11:54.324979Z"
    },
    "execution": {
     "iopub.execute_input": "2023-10-15T18:43:07.917794Z",
     "iopub.status.busy": "2023-10-15T18:43:07.917088Z",
     "iopub.status.idle": "2023-10-15T18:43:07.930855Z",
     "shell.execute_reply": "2023-10-15T18:43:07.929022Z",
     "shell.execute_reply.started": "2023-10-15T18:43:07.917728Z"
    },
    "hidden": true
   },
   "outputs": [],
   "source": [
    "df_ref = df_ref.dropna()\n",
    "df4 = df_ref.copy()"
   ]
  },
  {
   "cell_type": "markdown",
   "metadata": {
    "heading_collapsed": true,
    "jp-MarkdownHeadingCollapsed": true
   },
   "source": [
    "# 5.0 Data preparation "
   ]
  },
  {
   "cell_type": "code",
   "execution_count": 23,
   "metadata": {
    "ExecuteTime": {
     "end_time": "2023-09-05T23:37:40.154237Z",
     "start_time": "2023-09-05T23:37:40.149133Z"
    },
    "execution": {
     "iopub.execute_input": "2023-10-15T18:43:07.935329Z",
     "iopub.status.busy": "2023-10-15T18:43:07.933511Z",
     "iopub.status.idle": "2023-10-15T18:43:07.945276Z",
     "shell.execute_reply": "2023-10-15T18:43:07.942960Z",
     "shell.execute_reply.started": "2023-10-15T18:43:07.935251Z"
    },
    "hidden": true
   },
   "outputs": [],
   "source": [
    "df5 = df4.copy()"
   ]
  },
  {
   "cell_type": "markdown",
   "metadata": {
    "heading_collapsed": true,
    "jp-MarkdownHeadingCollapsed": true
   },
   "source": [
    "# 6.0 Feature selection "
   ]
  },
  {
   "cell_type": "code",
   "execution_count": 24,
   "metadata": {
    "ExecuteTime": {
     "end_time": "2023-09-05T23:37:43.623657Z",
     "start_time": "2023-09-05T23:37:43.613054Z"
    },
    "execution": {
     "iopub.execute_input": "2023-10-15T18:43:07.948582Z",
     "iopub.status.busy": "2023-10-15T18:43:07.947555Z",
     "iopub.status.idle": "2023-10-15T18:43:07.962712Z",
     "shell.execute_reply": "2023-10-15T18:43:07.960661Z",
     "shell.execute_reply.started": "2023-10-15T18:43:07.948502Z"
    },
    "hidden": true
   },
   "outputs": [],
   "source": [
    "df6 = df5.copy()"
   ]
  },
  {
   "cell_type": "markdown",
   "metadata": {
    "heading_collapsed": true
   },
   "source": [
    "# 7.0 Hyperparameter Fine-Tunning"
   ]
  },
  {
   "cell_type": "code",
   "execution_count": 25,
   "metadata": {
    "execution": {
     "iopub.execute_input": "2023-10-15T18:43:07.966674Z",
     "iopub.status.busy": "2023-10-15T18:43:07.965579Z",
     "iopub.status.idle": "2023-10-15T18:43:07.976346Z",
     "shell.execute_reply": "2023-10-15T18:43:07.974489Z",
     "shell.execute_reply.started": "2023-10-15T18:43:07.966611Z"
    },
    "hidden": true
   },
   "outputs": [],
   "source": [
    "df7=df6.copy()"
   ]
  },
  {
   "cell_type": "markdown",
   "metadata": {},
   "source": [
    "# 8.0 Cluster "
   ]
  },
  {
   "cell_type": "code",
   "execution_count": 26,
   "metadata": {
    "ExecuteTime": {
     "end_time": "2023-09-05T23:38:13.148869Z",
     "start_time": "2023-09-05T23:38:13.143048Z"
    },
    "execution": {
     "iopub.execute_input": "2023-10-15T18:43:07.979026Z",
     "iopub.status.busy": "2023-10-15T18:43:07.978410Z",
     "iopub.status.idle": "2023-10-15T18:43:07.989065Z",
     "shell.execute_reply": "2023-10-15T18:43:07.987466Z",
     "shell.execute_reply.started": "2023-10-15T18:43:07.978969Z"
    }
   },
   "outputs": [],
   "source": [
    "df8=df7.copy()"
   ]
  },
  {
   "cell_type": "markdown",
   "metadata": {},
   "source": [
    "## 8.1 Cluster creation"
   ]
  },
  {
   "cell_type": "code",
   "execution_count": 27,
   "metadata": {
    "execution": {
     "iopub.execute_input": "2023-10-15T18:43:07.992258Z",
     "iopub.status.busy": "2023-10-15T18:43:07.991244Z",
     "iopub.status.idle": "2023-10-15T18:44:25.541463Z",
     "shell.execute_reply": "2023-10-15T18:44:25.538307Z",
     "shell.execute_reply.started": "2023-10-15T18:43:07.992196Z"
    }
   },
   "outputs": [
    {
     "name": "stdout",
     "output_type": "stream",
     "text": [
      "SS value: 0.6450212001800537\n"
     ]
    }
   ],
   "source": [
    "# TREE==================================================\n",
    "# training dataset\n",
    "\n",
    "X1 = df8.drop(columns=['customer_id','gross_revenue'], axis=1)\n",
    "y = df8['gross_revenue']\n",
    "\n",
    "# model definition\n",
    "rf_model = en.RandomForestRegressor(n_estimators=100,random_state=42)\n",
    "\n",
    "# model training\n",
    "rf_model.fit(X1, y)\n",
    "\n",
    "# leaf\n",
    "df_leaf = pd.DataFrame(rf_model.apply(X1))\n",
    "\n",
    "# UMAP TREE 1\n",
    "reducer = umap.UMAP(n_components=10,random_state=42)\n",
    "embedding = reducer.fit_transform(df_leaf)\n",
    "\n",
    "# embedding\n",
    "df99 = pd.DataFrame()\n",
    "df99['embedding_x'] = embedding[:, 0]\n",
    "df99['embedding_y'] = embedding[:, 1]\n",
    "df99['embedding_z'] = embedding[:, 2]\n",
    "df99['embedding_a'] = embedding[:, 3]\n",
    "df99['embedding_b'] = embedding[:, 4]\n",
    "df99['embedding_c'] = embedding[:, 5]\n",
    "df99['embedding_d'] = embedding[:, 6]\n",
    "df99['embedding_e'] = embedding[:, 7]\n",
    "df99['embedding_f'] = embedding[:, 8]\n",
    "df99['embedding_g'] = embedding[:, 9]\n",
    "\n",
    "# model definition\n",
    "hc1 = hc.linkage(df99, 'ward')\n",
    "\n",
    "# model predict\n",
    "labels = hc.fcluster(hc1, 10, criterion='maxclust')\n",
    "\n",
    "df8['cluster'] = labels\n",
    "\n",
    "print('SS value: {}'.format(m.silhouette_score(df99, labels, metric='euclidean')))"
   ]
  },
  {
   "cell_type": "markdown",
   "metadata": {},
   "source": [
    "## 8.2 Cluster profile"
   ]
  },
  {
   "cell_type": "code",
   "execution_count": 28,
   "metadata": {
    "execution": {
     "iopub.execute_input": "2023-10-15T18:44:25.544350Z",
     "iopub.status.busy": "2023-10-15T18:44:25.543685Z",
     "iopub.status.idle": "2023-10-15T18:44:25.759653Z",
     "shell.execute_reply": "2023-10-15T18:44:25.757930Z",
     "shell.execute_reply.started": "2023-10-15T18:44:25.544292Z"
    }
   },
   "outputs": [
    {
     "data": {
      "text/html": [
       "<div>\n",
       "<style scoped>\n",
       "    .dataframe tbody tr th:only-of-type {\n",
       "        vertical-align: middle;\n",
       "    }\n",
       "\n",
       "    .dataframe tbody tr th {\n",
       "        vertical-align: top;\n",
       "    }\n",
       "\n",
       "    .dataframe thead th {\n",
       "        text-align: right;\n",
       "    }\n",
       "</style>\n",
       "<table border=\"1\" class=\"dataframe\">\n",
       "  <thead>\n",
       "    <tr style=\"text-align: right;\">\n",
       "      <th></th>\n",
       "      <th>cluster</th>\n",
       "      <th>customers</th>\n",
       "      <th>perc_customer</th>\n",
       "      <th>gross_revenue</th>\n",
       "      <th>gross_perc</th>\n",
       "      <th>items</th>\n",
       "      <th>products</th>\n",
       "      <th>invoices</th>\n",
       "      <th>returns_qtt</th>\n",
       "      <th>avg_recency_days</th>\n",
       "      <th>avg_frequency</th>\n",
       "    </tr>\n",
       "  </thead>\n",
       "  <tbody>\n",
       "    <tr>\n",
       "      <th>0</th>\n",
       "      <td>1</td>\n",
       "      <td>550</td>\n",
       "      <td>9.66 %</td>\n",
       "      <td>$ 5,654,076.61</td>\n",
       "      <td>56.39 %</td>\n",
       "      <td>3250561</td>\n",
       "      <td>201908</td>\n",
       "      <td>7366</td>\n",
       "      <td>72580</td>\n",
       "      <td>44</td>\n",
       "      <td>0.21</td>\n",
       "    </tr>\n",
       "    <tr>\n",
       "      <th>1</th>\n",
       "      <td>2</td>\n",
       "      <td>819</td>\n",
       "      <td>14.38 %</td>\n",
       "      <td>$ 1,432,428.18</td>\n",
       "      <td>14.29 %</td>\n",
       "      <td>727001</td>\n",
       "      <td>97768</td>\n",
       "      <td>3285</td>\n",
       "      <td>11821</td>\n",
       "      <td>67</td>\n",
       "      <td>0.25</td>\n",
       "    </tr>\n",
       "    <tr>\n",
       "      <th>2</th>\n",
       "      <td>3</td>\n",
       "      <td>1194</td>\n",
       "      <td>20.97 %</td>\n",
       "      <td>$ 1,202,398.85</td>\n",
       "      <td>11.99 %</td>\n",
       "      <td>523178</td>\n",
       "      <td>100459</td>\n",
       "      <td>2804</td>\n",
       "      <td>6550</td>\n",
       "      <td>104</td>\n",
       "      <td>0.46</td>\n",
       "    </tr>\n",
       "    <tr>\n",
       "      <th>3</th>\n",
       "      <td>4</td>\n",
       "      <td>383</td>\n",
       "      <td>6.73 %</td>\n",
       "      <td>$ 979,998.18</td>\n",
       "      <td>9.77 %</td>\n",
       "      <td>601463</td>\n",
       "      <td>61483</td>\n",
       "      <td>2535</td>\n",
       "      <td>8305</td>\n",
       "      <td>40</td>\n",
       "      <td>0.10</td>\n",
       "    </tr>\n",
       "    <tr>\n",
       "      <th>4</th>\n",
       "      <td>5</td>\n",
       "      <td>1050</td>\n",
       "      <td>18.44 %</td>\n",
       "      <td>$ 479,853.66</td>\n",
       "      <td>4.79 %</td>\n",
       "      <td>207407</td>\n",
       "      <td>43740</td>\n",
       "      <td>1889</td>\n",
       "      <td>3046</td>\n",
       "      <td>132</td>\n",
       "      <td>0.57</td>\n",
       "    </tr>\n",
       "    <tr>\n",
       "      <th>5</th>\n",
       "      <td>6</td>\n",
       "      <td>326</td>\n",
       "      <td>5.73 %</td>\n",
       "      <td>$ 86,580.39</td>\n",
       "      <td>0.86 %</td>\n",
       "      <td>50758</td>\n",
       "      <td>3769</td>\n",
       "      <td>353</td>\n",
       "      <td>693</td>\n",
       "      <td>155</td>\n",
       "      <td>0.98</td>\n",
       "    </tr>\n",
       "    <tr>\n",
       "      <th>6</th>\n",
       "      <td>7</td>\n",
       "      <td>309</td>\n",
       "      <td>5.43 %</td>\n",
       "      <td>$ 83,215.82</td>\n",
       "      <td>0.83 %</td>\n",
       "      <td>27482</td>\n",
       "      <td>7375</td>\n",
       "      <td>391</td>\n",
       "      <td>301</td>\n",
       "      <td>181</td>\n",
       "      <td>0.84</td>\n",
       "    </tr>\n",
       "    <tr>\n",
       "      <th>7</th>\n",
       "      <td>8</td>\n",
       "      <td>356</td>\n",
       "      <td>6.25 %</td>\n",
       "      <td>$ 71,615.04</td>\n",
       "      <td>0.71 %</td>\n",
       "      <td>20886</td>\n",
       "      <td>6751</td>\n",
       "      <td>411</td>\n",
       "      <td>506</td>\n",
       "      <td>179</td>\n",
       "      <td>0.92</td>\n",
       "    </tr>\n",
       "    <tr>\n",
       "      <th>8</th>\n",
       "      <td>9</td>\n",
       "      <td>494</td>\n",
       "      <td>8.68 %</td>\n",
       "      <td>$ 34,508.00</td>\n",
       "      <td>0.34 %</td>\n",
       "      <td>9066</td>\n",
       "      <td>3832</td>\n",
       "      <td>520</td>\n",
       "      <td>52</td>\n",
       "      <td>193</td>\n",
       "      <td>0.98</td>\n",
       "    </tr>\n",
       "    <tr>\n",
       "      <th>9</th>\n",
       "      <td>10</td>\n",
       "      <td>213</td>\n",
       "      <td>3.74 %</td>\n",
       "      <td>$ 2,800.02</td>\n",
       "      <td>0.03 %</td>\n",
       "      <td>388</td>\n",
       "      <td>325</td>\n",
       "      <td>214</td>\n",
       "      <td>4</td>\n",
       "      <td>188</td>\n",
       "      <td>1.00</td>\n",
       "    </tr>\n",
       "  </tbody>\n",
       "</table>\n",
       "</div>"
      ],
      "text/plain": [
       "   cluster  customers perc_customer   gross_revenue gross_perc    items  \\\n",
       "0        1        550        9.66 %  $ 5,654,076.61    56.39 %  3250561   \n",
       "1        2        819       14.38 %  $ 1,432,428.18    14.29 %   727001   \n",
       "2        3       1194       20.97 %  $ 1,202,398.85    11.99 %   523178   \n",
       "3        4        383        6.73 %    $ 979,998.18     9.77 %   601463   \n",
       "4        5       1050       18.44 %    $ 479,853.66     4.79 %   207407   \n",
       "5        6        326        5.73 %     $ 86,580.39     0.86 %    50758   \n",
       "6        7        309        5.43 %     $ 83,215.82     0.83 %    27482   \n",
       "7        8        356        6.25 %     $ 71,615.04     0.71 %    20886   \n",
       "8        9        494        8.68 %     $ 34,508.00     0.34 %     9066   \n",
       "9       10        213        3.74 %      $ 2,800.02     0.03 %      388   \n",
       "\n",
       "   products  invoices  returns_qtt  avg_recency_days  avg_frequency  \n",
       "0    201908      7366        72580                44           0.21  \n",
       "1     97768      3285        11821                67           0.25  \n",
       "2    100459      2804         6550               104           0.46  \n",
       "3     61483      2535         8305                40           0.10  \n",
       "4     43740      1889         3046               132           0.57  \n",
       "5      3769       353          693               155           0.98  \n",
       "6      7375       391          301               181           0.84  \n",
       "7      6751       411          506               179           0.92  \n",
       "8      3832       520           52               193           0.98  \n",
       "9       325       214            4               188           1.00  "
      ]
     },
     "execution_count": 28,
     "metadata": {},
     "output_type": "execute_result"
    }
   ],
   "source": [
    "df8['cluster'] = labels\n",
    "\n",
    "# Percentual of customers\n",
    "df_cluster = df8[['customer_id', 'cluster']].groupby('cluster').count().reset_index()\n",
    "df_cluster['perc_customer'] = 100*(df_cluster['customer_id'] / df_cluster['customer_id'].sum())\n",
    "df_cluster['perc_customer']=df_cluster['perc_customer'].map('{:,.2f} %'.format)\n",
    "\n",
    "# Gross revenue\n",
    "df_gross_revenue = df8[['gross_revenue', 'cluster']].groupby('cluster').sum().reset_index()\n",
    "# df_gross_revenue=df_gross_revenue.rename(columns={'gross_revenue':'avg_gross_revenue'})\n",
    "df_cluster = pd.merge(df_cluster, df_gross_revenue, how='inner', on='cluster')\n",
    "\n",
    "# Gross revenue percentual\n",
    "df_cluster['gross_perc'] = 100*(df_cluster['gross_revenue'] / df_cluster['gross_revenue'].sum())\n",
    "df_cluster['gross_perc']=df_cluster['gross_perc'].map('{:,.2f} %'.format)\n",
    "\n",
    "# items\n",
    "df_items = df8[['items', 'cluster']].groupby('cluster').sum().reset_index()\n",
    "df_cluster = pd.merge(df_cluster, df_items, how='inner', on='cluster')\n",
    "df_cluster['items']=df_cluster['items'].astype(int)\n",
    "\n",
    "# products \n",
    "df_products = df8[['products', 'cluster']].groupby('cluster').sum().reset_index()\n",
    "df_cluster = pd.merge(df_cluster, df_products, how='inner', on='cluster')\n",
    "df_cluster['products']=df_cluster['products'].astype(int)\n",
    "\n",
    "# invoice_no\n",
    "df_invoice_no = df8[['total_invoices', 'cluster']].groupby('cluster').sum().reset_index()\n",
    "df_invoice_no=df_invoice_no.rename(columns={'total_invoices':'invoices'})\n",
    "df_cluster = pd.merge(df_cluster, df_invoice_no, how='inner', on='cluster')\n",
    "df_cluster['invoices']=df_cluster['invoices'].astype(int)\n",
    "\n",
    "# returns\n",
    "df_returns = df8[['returns_qtt', 'cluster']].groupby('cluster').sum().reset_index()\n",
    "df_cluster = pd.merge(df_cluster, df_returns, how='inner', on='cluster')\n",
    "df_cluster['returns_qtt']=df_cluster['returns_qtt'].astype(int)\n",
    "\n",
    "# Avg recency days\n",
    "df_avg_recency_days = df8[['recency_days', 'cluster']].groupby('cluster').mean().reset_index()\n",
    "df_cluster = pd.merge(df_cluster, df_avg_recency_days, how='inner', on='cluster')\n",
    "df_cluster['recency_days']=df_cluster['recency_days'].astype(int)\n",
    "df_cluster=df_cluster.rename(columns={'recency_days':'avg_recency_days'})\n",
    "\n",
    "# Avg frequency\n",
    "df_avg_frequency = df8[['frequency', 'cluster']].groupby('cluster').mean().reset_index()\n",
    "df_cluster = pd.merge(df_cluster, df_avg_frequency, how='inner', on='cluster')\n",
    "df_cluster['frequency']=df_cluster['frequency'].astype(float)\n",
    "df_cluster['frequency']=df_cluster['frequency'].round(2)\n",
    "df_cluster=df_cluster.rename(columns={'frequency':'avg_frequency'})\n",
    "\n",
    "\n",
    "df_cluster=df_cluster.sort_values(['gross_revenue'],ascending=False).reset_index(drop=True)\n",
    "\n",
    "df_cluster['gross_revenue']=df_cluster['gross_revenue'].map('$ {:,.2f}'.format)\n",
    "\n",
    "df_cluster=df_cluster.rename(columns={'customer_id':'customers'})\n",
    "\n",
    "df_cluster.loc[0:0,'cluster'] = 1\n",
    "df_cluster.loc[1:1,'cluster'] = 2\n",
    "df_cluster.loc[2:2,'cluster'] = 3\n",
    "\n",
    "rows=df_cluster.shape[0:1]\n",
    "rows=int(rows[0])\n",
    "\n",
    "if rows>3:\n",
    "        df_cluster.loc[3:3,'cluster'] = 4\n",
    "        df_cluster.loc[4:4,'cluster'] = 5\n",
    "        df_cluster.loc[5:5,'cluster'] = 6\n",
    "        df_cluster.loc[6:6,'cluster'] = 7\n",
    "        df_cluster.loc[7:7,'cluster'] = 8\n",
    "        df_cluster.loc[8:8,'cluster'] = 9\n",
    "        df_cluster.loc[9:9,'cluster'] = 10\n",
    "        df_cluster.loc[10:10,'cluster'] = 11\n",
    "else:\n",
    "    None\n",
    "\n",
    "df_cluster"
   ]
  },
  {
   "cell_type": "code",
   "execution_count": 29,
   "metadata": {
    "execution": {
     "iopub.execute_input": "2023-10-15T18:44:25.763153Z",
     "iopub.status.busy": "2023-10-15T18:44:25.762103Z",
     "iopub.status.idle": "2023-10-15T18:44:25.788803Z",
     "shell.execute_reply": "2023-10-15T18:44:25.785988Z",
     "shell.execute_reply.started": "2023-10-15T18:44:25.763089Z"
    }
   },
   "outputs": [],
   "source": [
    "df8['cluster']=df8['cluster'].apply(lambda x: 1 if x == 3 \n",
    "                                         else 2 if x == 6\n",
    "                                         else 3 if x == 4\n",
    "                                         else 4 if x == 8\n",
    "                                         else 5 if x == 10\n",
    "                                         else 6 if x == 7\n",
    "                                         else 7 if x == 9\n",
    "                                         else 8 if x == 5\n",
    "                                         else 9 if x == 1\n",
    "                                         else 10\n",
    "                                    )"
   ]
  },
  {
   "cell_type": "markdown",
   "metadata": {
    "heading_collapsed": true
   },
   "source": [
    "# 9 Deploy to production"
   ]
  },
  {
   "cell_type": "markdown",
   "metadata": {
    "hidden": true
   },
   "source": [
    "## 9.1 Insert into SQLITE"
   ]
  },
  {
   "cell_type": "code",
   "execution_count": 27,
   "metadata": {
    "execution": {
     "iopub.execute_input": "2023-10-09T21:44:43.845569Z",
     "iopub.status.busy": "2023-10-09T21:44:43.845109Z",
     "iopub.status.idle": "2023-10-09T21:44:43.859648Z",
     "shell.execute_reply": "2023-10-09T21:44:43.858356Z",
     "shell.execute_reply.started": "2023-10-09T21:44:43.845536Z"
    },
    "hidden": true
   },
   "outputs": [],
   "source": [
    "df8['total_invoices'] = df8['total_invoices'].astype(int)\n",
    "df8['items'] = df8['items'].astype(int)"
   ]
  },
  {
   "cell_type": "code",
   "execution_count": 29,
   "metadata": {
    "execution": {
     "iopub.execute_input": "2023-10-09T21:44:57.866156Z",
     "iopub.status.busy": "2023-10-09T21:44:57.865144Z",
     "iopub.status.idle": "2023-10-09T21:44:58.031677Z",
     "shell.execute_reply": "2023-10-09T21:44:58.030399Z",
     "shell.execute_reply.started": "2023-10-09T21:44:57.866090Z"
    },
    "hidden": true
   },
   "outputs": [
    {
     "data": {
      "text/plain": [
       "5694"
      ]
     },
     "execution_count": 29,
     "metadata": {},
     "output_type": "execute_result"
    }
   ],
   "source": [
    "# create table\n",
    "query_create_table_insiders = \"\"\"\n",
    "   CREATE TABLE insiders ( \n",
    "       customer_id     INTEGER,\n",
    "       gross_revenue   REAL,\n",
    "       recency_days    INTEGER,\n",
    "       frequency       REAL,\n",
    "       total_invoices  INTEGER,\n",
    "       items           INTEGER,\n",
    "       products        INTEGER,\n",
    "       returns_qtt     INTEGER,\n",
    "       cluster         INTEGER\n",
    "   )\n",
    "\"\"\"\n",
    "\n",
    "conn = sqlite3.connect('insiders_db.sqlite')\n",
    "conn.execute(query_create_table_insiders)\n",
    "conn.commit()\n",
    "conn.close()\n",
    "\n",
    "# insert data\n",
    "conn = create_engine('sqlite:///insiders_db.sqlite' )\n",
    "\n",
    "df8.to_sql( 'insiders', con=conn, if_exists='append', index=False )"
   ]
  },
  {
   "cell_type": "code",
   "execution_count": 30,
   "metadata": {
    "execution": {
     "iopub.execute_input": "2023-10-09T21:45:08.426402Z",
     "iopub.status.busy": "2023-10-09T21:45:08.418866Z",
     "iopub.status.idle": "2023-10-09T21:45:08.541964Z",
     "shell.execute_reply": "2023-10-09T21:45:08.537779Z",
     "shell.execute_reply.started": "2023-10-09T21:45:08.426336Z"
    },
    "hidden": true
   },
   "outputs": [
    {
     "data": {
      "text/html": [
       "<div>\n",
       "<style scoped>\n",
       "    .dataframe tbody tr th:only-of-type {\n",
       "        vertical-align: middle;\n",
       "    }\n",
       "\n",
       "    .dataframe tbody tr th {\n",
       "        vertical-align: top;\n",
       "    }\n",
       "\n",
       "    .dataframe thead th {\n",
       "        text-align: right;\n",
       "    }\n",
       "</style>\n",
       "<table border=\"1\" class=\"dataframe\">\n",
       "  <thead>\n",
       "    <tr style=\"text-align: right;\">\n",
       "      <th></th>\n",
       "      <th>customer_id</th>\n",
       "      <th>gross_revenue</th>\n",
       "      <th>recency_days</th>\n",
       "      <th>frequency</th>\n",
       "      <th>total_invoices</th>\n",
       "      <th>items</th>\n",
       "      <th>products</th>\n",
       "      <th>returns_qtt</th>\n",
       "      <th>cluster</th>\n",
       "    </tr>\n",
       "  </thead>\n",
       "  <tbody>\n",
       "    <tr>\n",
       "      <th>0</th>\n",
       "      <td>17850</td>\n",
       "      <td>5391.21</td>\n",
       "      <td>372</td>\n",
       "      <td>17.000000</td>\n",
       "      <td>34</td>\n",
       "      <td>1733</td>\n",
       "      <td>297</td>\n",
       "      <td>40</td>\n",
       "      <td>2</td>\n",
       "    </tr>\n",
       "    <tr>\n",
       "      <th>1</th>\n",
       "      <td>13047</td>\n",
       "      <td>3232.59</td>\n",
       "      <td>56</td>\n",
       "      <td>0.028302</td>\n",
       "      <td>9</td>\n",
       "      <td>1390</td>\n",
       "      <td>171</td>\n",
       "      <td>35</td>\n",
       "      <td>2</td>\n",
       "    </tr>\n",
       "    <tr>\n",
       "      <th>2</th>\n",
       "      <td>12583</td>\n",
       "      <td>6705.38</td>\n",
       "      <td>2</td>\n",
       "      <td>0.040323</td>\n",
       "      <td>15</td>\n",
       "      <td>5028</td>\n",
       "      <td>232</td>\n",
       "      <td>50</td>\n",
       "      <td>1</td>\n",
       "    </tr>\n",
       "    <tr>\n",
       "      <th>3</th>\n",
       "      <td>13748</td>\n",
       "      <td>948.25</td>\n",
       "      <td>95</td>\n",
       "      <td>0.017921</td>\n",
       "      <td>5</td>\n",
       "      <td>439</td>\n",
       "      <td>28</td>\n",
       "      <td>0</td>\n",
       "      <td>4</td>\n",
       "    </tr>\n",
       "    <tr>\n",
       "      <th>4</th>\n",
       "      <td>15100</td>\n",
       "      <td>876.00</td>\n",
       "      <td>333</td>\n",
       "      <td>0.073171</td>\n",
       "      <td>3</td>\n",
       "      <td>80</td>\n",
       "      <td>3</td>\n",
       "      <td>22</td>\n",
       "      <td>6</td>\n",
       "    </tr>\n",
       "  </tbody>\n",
       "</table>\n",
       "</div>"
      ],
      "text/plain": [
       "   customer_id  gross_revenue  recency_days  frequency  total_invoices  items  \\\n",
       "0        17850        5391.21           372  17.000000              34   1733   \n",
       "1        13047        3232.59            56   0.028302               9   1390   \n",
       "2        12583        6705.38             2   0.040323              15   5028   \n",
       "3        13748         948.25            95   0.017921               5    439   \n",
       "4        15100         876.00           333   0.073171               3     80   \n",
       "\n",
       "   products  returns_qtt  cluster  \n",
       "0       297           40        2  \n",
       "1       171           35        2  \n",
       "2       232           50        1  \n",
       "3        28            0        4  \n",
       "4         3           22        6  "
      ]
     },
     "execution_count": 30,
     "metadata": {},
     "output_type": "execute_result"
    }
   ],
   "source": [
    "# consulting database\n",
    "query = \"\"\"\n",
    "    SELECT * FROM insiders \n",
    "\"\"\"\n",
    "\n",
    "df = pd.read_sql_query( query, conn )\n",
    "\n",
    "df.head()"
   ]
  },
  {
   "cell_type": "code",
   "execution_count": null,
   "metadata": {
    "hidden": true
   },
   "outputs": [],
   "source": []
  },
  {
   "cell_type": "code",
   "execution_count": null,
   "metadata": {
    "hidden": true
   },
   "outputs": [],
   "source": []
  },
  {
   "cell_type": "code",
   "execution_count": null,
   "metadata": {
    "hidden": true
   },
   "outputs": [],
   "source": []
  },
  {
   "cell_type": "code",
   "execution_count": null,
   "metadata": {
    "hidden": true
   },
   "outputs": [],
   "source": []
  },
  {
   "cell_type": "code",
   "execution_count": null,
   "metadata": {
    "hidden": true
   },
   "outputs": [],
   "source": []
  }
 ],
 "metadata": {
  "hide_input": false,
  "kernelspec": {
   "display_name": "Python 3 (ipykernel)",
   "language": "python",
   "name": "python3"
  },
  "language_info": {
   "codemirror_mode": {
    "name": "ipython",
    "version": 3
   },
   "file_extension": ".py",
   "mimetype": "text/x-python",
   "name": "python",
   "nbconvert_exporter": "python",
   "pygments_lexer": "ipython3",
   "version": "3.10.4"
  }
 },
 "nbformat": 4,
 "nbformat_minor": 4
}
