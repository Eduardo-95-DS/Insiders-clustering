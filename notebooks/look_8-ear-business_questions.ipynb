{
 "cells": [
  {
   "cell_type": "markdown",
   "metadata": {
    "jp-MarkdownHeadingCollapsed": true
   },
   "source": [
    "# 0.0 Imports"
   ]
  },
  {
   "cell_type": "code",
   "execution_count": 1,
   "metadata": {
    "ExecuteTime": {
     "end_time": "2023-09-09T18:53:20.149292Z",
     "start_time": "2023-09-09T18:53:20.143130Z"
    },
    "execution": {
     "iopub.execute_input": "2023-10-26T19:50:40.457014Z",
     "iopub.status.busy": "2023-10-26T19:50:40.456435Z",
     "iopub.status.idle": "2023-10-26T19:50:49.714076Z",
     "shell.execute_reply": "2023-10-26T19:50:49.712934Z",
     "shell.execute_reply.started": "2023-10-26T19:50:40.456961Z"
    }
   },
   "outputs": [
    {
     "name": "stderr",
     "output_type": "stream",
     "text": [
      "/home/soturno/.pyenv/versions/3.10.4/envs/pa05/lib/python3.10/site-packages/umap/distances.py:1063: NumbaDeprecationWarning: The 'nopython' keyword argument was not supplied to the 'numba.jit' decorator. The implicit default value for this argument is currently False, but it will be changed to True in Numba 0.59.0. See https://numba.readthedocs.io/en/stable/reference/deprecation.html#deprecation-of-object-mode-fall-back-behaviour-when-using-jit for details.\n",
      "  @numba.jit()\n",
      "/home/soturno/.pyenv/versions/3.10.4/envs/pa05/lib/python3.10/site-packages/umap/distances.py:1071: NumbaDeprecationWarning: The 'nopython' keyword argument was not supplied to the 'numba.jit' decorator. The implicit default value for this argument is currently False, but it will be changed to True in Numba 0.59.0. See https://numba.readthedocs.io/en/stable/reference/deprecation.html#deprecation-of-object-mode-fall-back-behaviour-when-using-jit for details.\n",
      "  @numba.jit()\n",
      "/home/soturno/.pyenv/versions/3.10.4/envs/pa05/lib/python3.10/site-packages/umap/distances.py:1086: NumbaDeprecationWarning: The 'nopython' keyword argument was not supplied to the 'numba.jit' decorator. The implicit default value for this argument is currently False, but it will be changed to True in Numba 0.59.0. See https://numba.readthedocs.io/en/stable/reference/deprecation.html#deprecation-of-object-mode-fall-back-behaviour-when-using-jit for details.\n",
      "  @numba.jit()\n",
      "/home/soturno/.pyenv/versions/3.10.4/envs/pa05/lib/python3.10/site-packages/tqdm/auto.py:21: TqdmWarning: IProgress not found. Please update jupyter and ipywidgets. See https://ipywidgets.readthedocs.io/en/stable/user_install.html\n",
      "  from .autonotebook import tqdm as notebook_tqdm\n",
      "/home/soturno/.pyenv/versions/3.10.4/envs/pa05/lib/python3.10/site-packages/umap/umap_.py:660: NumbaDeprecationWarning: The 'nopython' keyword argument was not supplied to the 'numba.jit' decorator. The implicit default value for this argument is currently False, but it will be changed to True in Numba 0.59.0. See https://numba.readthedocs.io/en/stable/reference/deprecation.html#deprecation-of-object-mode-fall-back-behaviour-when-using-jit for details.\n",
      "  @numba.jit()\n",
      "/home/soturno/.pyenv/versions/3.10.4/envs/pa05/lib/python3.10/site-packages/numba/core/decorators.py:262: NumbaDeprecationWarning: numba.generated_jit is deprecated. Please see the documentation at: https://numba.readthedocs.io/en/stable/reference/deprecation.html#deprecation-of-generated-jit for more information and advice on a suitable replacement.\n",
      "  warnings.warn(msg, NumbaDeprecationWarning)\n",
      "/home/soturno/.pyenv/versions/3.10.4/envs/pa05/lib/python3.10/site-packages/visions/backends/shared/nan_handling.py:51: NumbaDeprecationWarning: The 'nopython' keyword argument was not supplied to the 'numba.jit' decorator. The implicit default value for this argument is currently False, but it will be changed to True in Numba 0.59.0. See https://numba.readthedocs.io/en/stable/reference/deprecation.html#deprecation-of-object-mode-fall-back-behaviour-when-using-jit for details.\n",
      "  def hasna(x: np.ndarray) -> bool:\n"
     ]
    }
   ],
   "source": [
    "import warnings\n",
    "import numpy   as np\n",
    "import pandas  as pd\n",
    "import seaborn as sns\n",
    "import umap.umap_ as umap\n",
    "import regex as re\n",
    "import matplotlib.gridspec as gridspec\n",
    "\n",
    "from IPython.display     import HTML\n",
    "from ydata_profiling     import ProfileReport\n",
    "from pylab               import rcParams\n",
    "from matplotlib          import pyplot  as plt\n",
    "from matplotlib import cm\n",
    "from plotly              import express as px\n",
    "from sklearn             import cluster as c\n",
    "from sklearn             import metrics as m\n",
    "from sklearn             import preprocessing as pp\n",
    "from sklearn             import decomposition as dd\n",
    "from sklearn             import ensemble as en\n",
    "from sklearn             import mixture       as mx\n",
    "from sklearn.manifold    import TSNE\n",
    "from scipy.cluster       import hierarchy as hc\n",
    "from yellowbrick.cluster import KElbowVisualizer, SilhouetteVisualizer"
   ]
  },
  {
   "cell_type": "markdown",
   "metadata": {
    "heading_collapsed": true,
    "jp-MarkdownHeadingCollapsed": true
   },
   "source": [
    "## 0.1 Helper functions"
   ]
  },
  {
   "cell_type": "code",
   "execution_count": 2,
   "metadata": {
    "ExecuteTime": {
     "end_time": "2023-09-09T18:53:20.187451Z",
     "start_time": "2023-09-09T18:53:20.172407Z"
    },
    "execution": {
     "iopub.execute_input": "2023-10-26T19:50:49.716823Z",
     "iopub.status.busy": "2023-10-26T19:50:49.716320Z",
     "iopub.status.idle": "2023-10-26T19:50:49.746650Z",
     "shell.execute_reply": "2023-10-26T19:50:49.745059Z",
     "shell.execute_reply.started": "2023-10-26T19:50:49.716792Z"
    },
    "hidden": true
   },
   "outputs": [
    {
     "data": {
      "text/html": [
       "<style>.container { width:100% !important; }</style>"
      ],
      "text/plain": [
       "<IPython.core.display.HTML object>"
      ]
     },
     "metadata": {},
     "output_type": "display_data"
    }
   ],
   "source": [
    "def jupyter_settings():\n",
    "    %matplotlib inline\n",
    "    \n",
    "    display(HTML('<style>.container { width:100% !important; }</style>'))\n",
    "    pd.set_option('display.expand_frame_repr', False)\n",
    "    warnings.filterwarnings(\"ignore\")    \n",
    "    \n",
    "    sns.set()\n",
    "    \n",
    "jupyter_settings()"
   ]
  },
  {
   "cell_type": "markdown",
   "metadata": {},
   "source": [
    "## 0.2 Load dataset"
   ]
  },
  {
   "cell_type": "code",
   "execution_count": 3,
   "metadata": {
    "ExecuteTime": {
     "end_time": "2023-09-09T18:53:21.199965Z",
     "start_time": "2023-09-09T18:53:20.192063Z"
    },
    "execution": {
     "iopub.execute_input": "2023-10-26T19:50:49.749676Z",
     "iopub.status.busy": "2023-10-26T19:50:49.749015Z",
     "iopub.status.idle": "2023-10-26T19:50:50.597933Z",
     "shell.execute_reply": "2023-10-26T19:50:50.596185Z",
     "shell.execute_reply.started": "2023-10-26T19:50:49.749616Z"
    }
   },
   "outputs": [
    {
     "data": {
      "text/html": [
       "<div>\n",
       "<style scoped>\n",
       "    .dataframe tbody tr th:only-of-type {\n",
       "        vertical-align: middle;\n",
       "    }\n",
       "\n",
       "    .dataframe tbody tr th {\n",
       "        vertical-align: top;\n",
       "    }\n",
       "\n",
       "    .dataframe thead th {\n",
       "        text-align: right;\n",
       "    }\n",
       "</style>\n",
       "<table border=\"1\" class=\"dataframe\">\n",
       "  <thead>\n",
       "    <tr style=\"text-align: right;\">\n",
       "      <th></th>\n",
       "      <th>InvoiceNo</th>\n",
       "      <th>StockCode</th>\n",
       "      <th>Description</th>\n",
       "      <th>Quantity</th>\n",
       "      <th>InvoiceDate</th>\n",
       "      <th>UnitPrice</th>\n",
       "      <th>CustomerID</th>\n",
       "      <th>Country</th>\n",
       "      <th>Unnamed: 8</th>\n",
       "    </tr>\n",
       "  </thead>\n",
       "  <tbody>\n",
       "    <tr>\n",
       "      <th>0</th>\n",
       "      <td>536365</td>\n",
       "      <td>85123A</td>\n",
       "      <td>WHITE HANGING HEART T-LIGHT HOLDER</td>\n",
       "      <td>6</td>\n",
       "      <td>29-Nov-16</td>\n",
       "      <td>2.55</td>\n",
       "      <td>17850.0</td>\n",
       "      <td>United Kingdom</td>\n",
       "      <td>NaN</td>\n",
       "    </tr>\n",
       "    <tr>\n",
       "      <th>1</th>\n",
       "      <td>536365</td>\n",
       "      <td>71053</td>\n",
       "      <td>WHITE METAL LANTERN</td>\n",
       "      <td>6</td>\n",
       "      <td>29-Nov-16</td>\n",
       "      <td>3.39</td>\n",
       "      <td>17850.0</td>\n",
       "      <td>United Kingdom</td>\n",
       "      <td>NaN</td>\n",
       "    </tr>\n",
       "    <tr>\n",
       "      <th>2</th>\n",
       "      <td>536365</td>\n",
       "      <td>84406B</td>\n",
       "      <td>CREAM CUPID HEARTS COAT HANGER</td>\n",
       "      <td>8</td>\n",
       "      <td>29-Nov-16</td>\n",
       "      <td>2.75</td>\n",
       "      <td>17850.0</td>\n",
       "      <td>United Kingdom</td>\n",
       "      <td>NaN</td>\n",
       "    </tr>\n",
       "    <tr>\n",
       "      <th>3</th>\n",
       "      <td>536365</td>\n",
       "      <td>84029G</td>\n",
       "      <td>KNITTED UNION FLAG HOT WATER BOTTLE</td>\n",
       "      <td>6</td>\n",
       "      <td>29-Nov-16</td>\n",
       "      <td>3.39</td>\n",
       "      <td>17850.0</td>\n",
       "      <td>United Kingdom</td>\n",
       "      <td>NaN</td>\n",
       "    </tr>\n",
       "    <tr>\n",
       "      <th>4</th>\n",
       "      <td>536365</td>\n",
       "      <td>84029E</td>\n",
       "      <td>RED WOOLLY HOTTIE WHITE HEART.</td>\n",
       "      <td>6</td>\n",
       "      <td>29-Nov-16</td>\n",
       "      <td>3.39</td>\n",
       "      <td>17850.0</td>\n",
       "      <td>United Kingdom</td>\n",
       "      <td>NaN</td>\n",
       "    </tr>\n",
       "    <tr>\n",
       "      <th>...</th>\n",
       "      <td>...</td>\n",
       "      <td>...</td>\n",
       "      <td>...</td>\n",
       "      <td>...</td>\n",
       "      <td>...</td>\n",
       "      <td>...</td>\n",
       "      <td>...</td>\n",
       "      <td>...</td>\n",
       "      <td>...</td>\n",
       "    </tr>\n",
       "    <tr>\n",
       "      <th>541904</th>\n",
       "      <td>581587</td>\n",
       "      <td>22613</td>\n",
       "      <td>PACK OF 20 SPACEBOY NAPKINS</td>\n",
       "      <td>12</td>\n",
       "      <td>7-Dec-17</td>\n",
       "      <td>0.85</td>\n",
       "      <td>12680.0</td>\n",
       "      <td>France</td>\n",
       "      <td>NaN</td>\n",
       "    </tr>\n",
       "    <tr>\n",
       "      <th>541905</th>\n",
       "      <td>581587</td>\n",
       "      <td>22899</td>\n",
       "      <td>CHILDREN'S APRON DOLLY GIRL</td>\n",
       "      <td>6</td>\n",
       "      <td>7-Dec-17</td>\n",
       "      <td>2.10</td>\n",
       "      <td>12680.0</td>\n",
       "      <td>France</td>\n",
       "      <td>NaN</td>\n",
       "    </tr>\n",
       "    <tr>\n",
       "      <th>541906</th>\n",
       "      <td>581587</td>\n",
       "      <td>23254</td>\n",
       "      <td>CHILDRENS CUTLERY DOLLY GIRL</td>\n",
       "      <td>4</td>\n",
       "      <td>7-Dec-17</td>\n",
       "      <td>4.15</td>\n",
       "      <td>12680.0</td>\n",
       "      <td>France</td>\n",
       "      <td>NaN</td>\n",
       "    </tr>\n",
       "    <tr>\n",
       "      <th>541907</th>\n",
       "      <td>581587</td>\n",
       "      <td>23255</td>\n",
       "      <td>CHILDRENS CUTLERY CIRCUS PARADE</td>\n",
       "      <td>4</td>\n",
       "      <td>7-Dec-17</td>\n",
       "      <td>4.15</td>\n",
       "      <td>12680.0</td>\n",
       "      <td>France</td>\n",
       "      <td>NaN</td>\n",
       "    </tr>\n",
       "    <tr>\n",
       "      <th>541908</th>\n",
       "      <td>581587</td>\n",
       "      <td>22138</td>\n",
       "      <td>BAKING SET 9 PIECE RETROSPOT</td>\n",
       "      <td>3</td>\n",
       "      <td>7-Dec-17</td>\n",
       "      <td>4.95</td>\n",
       "      <td>12680.0</td>\n",
       "      <td>France</td>\n",
       "      <td>NaN</td>\n",
       "    </tr>\n",
       "  </tbody>\n",
       "</table>\n",
       "<p>541909 rows × 9 columns</p>\n",
       "</div>"
      ],
      "text/plain": [
       "       InvoiceNo StockCode                          Description  Quantity InvoiceDate  UnitPrice  CustomerID         Country  Unnamed: 8\n",
       "0         536365    85123A   WHITE HANGING HEART T-LIGHT HOLDER         6   29-Nov-16       2.55     17850.0  United Kingdom         NaN\n",
       "1         536365     71053                  WHITE METAL LANTERN         6   29-Nov-16       3.39     17850.0  United Kingdom         NaN\n",
       "2         536365    84406B       CREAM CUPID HEARTS COAT HANGER         8   29-Nov-16       2.75     17850.0  United Kingdom         NaN\n",
       "3         536365    84029G  KNITTED UNION FLAG HOT WATER BOTTLE         6   29-Nov-16       3.39     17850.0  United Kingdom         NaN\n",
       "4         536365    84029E       RED WOOLLY HOTTIE WHITE HEART.         6   29-Nov-16       3.39     17850.0  United Kingdom         NaN\n",
       "...          ...       ...                                  ...       ...         ...        ...         ...             ...         ...\n",
       "541904    581587     22613          PACK OF 20 SPACEBOY NAPKINS        12    7-Dec-17       0.85     12680.0          France         NaN\n",
       "541905    581587     22899         CHILDREN'S APRON DOLLY GIRL          6    7-Dec-17       2.10     12680.0          France         NaN\n",
       "541906    581587     23254        CHILDRENS CUTLERY DOLLY GIRL          4    7-Dec-17       4.15     12680.0          France         NaN\n",
       "541907    581587     23255      CHILDRENS CUTLERY CIRCUS PARADE         4    7-Dec-17       4.15     12680.0          France         NaN\n",
       "541908    581587     22138        BAKING SET 9 PIECE RETROSPOT          3    7-Dec-17       4.95     12680.0          France         NaN\n",
       "\n",
       "[541909 rows x 9 columns]"
      ]
     },
     "execution_count": 3,
     "metadata": {},
     "output_type": "execute_result"
    }
   ],
   "source": [
    "# load data\n",
    "df_raw = pd.read_csv('../data/raw/Ecommerce.csv', encoding='unicode_escape')\n",
    "\n",
    "df_raw"
   ]
  },
  {
   "cell_type": "code",
   "execution_count": 4,
   "metadata": {
    "ExecuteTime": {
     "end_time": "2023-09-09T18:53:21.246411Z",
     "start_time": "2023-09-09T18:53:21.205116Z"
    },
    "execution": {
     "iopub.execute_input": "2023-10-26T19:50:50.603683Z",
     "iopub.status.busy": "2023-10-26T19:50:50.603050Z",
     "iopub.status.idle": "2023-10-26T19:50:50.660702Z",
     "shell.execute_reply": "2023-10-26T19:50:50.659361Z",
     "shell.execute_reply.started": "2023-10-26T19:50:50.603636Z"
    }
   },
   "outputs": [],
   "source": [
    "# drop extra column\n",
    "df_raw = df_raw.drop(columns=['Unnamed: 8'], axis=1)"
   ]
  },
  {
   "cell_type": "markdown",
   "metadata": {
    "heading_collapsed": true,
    "jp-MarkdownHeadingCollapsed": true
   },
   "source": [
    "# 1.0 Data description"
   ]
  },
  {
   "cell_type": "code",
   "execution_count": 5,
   "metadata": {
    "ExecuteTime": {
     "end_time": "2023-09-09T18:53:21.275437Z",
     "start_time": "2023-09-09T18:53:21.250775Z"
    },
    "execution": {
     "iopub.execute_input": "2023-10-26T19:50:50.662934Z",
     "iopub.status.busy": "2023-10-26T19:50:50.662564Z",
     "iopub.status.idle": "2023-10-26T19:50:50.705375Z",
     "shell.execute_reply": "2023-10-26T19:50:50.703204Z",
     "shell.execute_reply.started": "2023-10-26T19:50:50.662901Z"
    },
    "hidden": true
   },
   "outputs": [],
   "source": [
    "df1 = df_raw.copy()"
   ]
  },
  {
   "cell_type": "markdown",
   "metadata": {
    "heading_collapsed": true,
    "hidden": true,
    "jp-MarkdownHeadingCollapsed": true
   },
   "source": [
    "## 1.1 Rename columuns"
   ]
  },
  {
   "cell_type": "code",
   "execution_count": 6,
   "metadata": {
    "ExecuteTime": {
     "end_time": "2023-09-09T18:53:21.289470Z",
     "start_time": "2023-09-09T18:53:21.280201Z"
    },
    "execution": {
     "iopub.execute_input": "2023-10-26T19:50:50.708661Z",
     "iopub.status.busy": "2023-10-26T19:50:50.707995Z",
     "iopub.status.idle": "2023-10-26T19:50:50.718025Z",
     "shell.execute_reply": "2023-10-26T19:50:50.716272Z",
     "shell.execute_reply.started": "2023-10-26T19:50:50.708600Z"
    },
    "hidden": true
   },
   "outputs": [],
   "source": [
    "cols_new = ['invoice_no', 'stock_code', 'description', 'quantity', 'invoice_date', 'unit_price', 'customer_id', 'country']\n",
    "df1.columns = cols_new"
   ]
  },
  {
   "cell_type": "markdown",
   "metadata": {
    "heading_collapsed": true,
    "hidden": true,
    "jp-MarkdownHeadingCollapsed": true
   },
   "source": [
    "## 1.2 Data types"
   ]
  },
  {
   "cell_type": "code",
   "execution_count": 7,
   "metadata": {
    "ExecuteTime": {
     "end_time": "2023-09-09T18:53:21.310458Z",
     "start_time": "2023-09-09T18:53:21.296989Z"
    },
    "execution": {
     "iopub.execute_input": "2023-10-26T19:50:50.719833Z",
     "iopub.status.busy": "2023-10-26T19:50:50.719412Z",
     "iopub.status.idle": "2023-10-26T19:50:50.730845Z",
     "shell.execute_reply": "2023-10-26T19:50:50.729533Z",
     "shell.execute_reply.started": "2023-10-26T19:50:50.719798Z"
    },
    "hidden": true
   },
   "outputs": [
    {
     "data": {
      "text/plain": [
       "invoice_no       object\n",
       "stock_code       object\n",
       "description      object\n",
       "quantity          int64\n",
       "invoice_date     object\n",
       "unit_price      float64\n",
       "customer_id     float64\n",
       "country          object\n",
       "dtype: object"
      ]
     },
     "execution_count": 7,
     "metadata": {},
     "output_type": "execute_result"
    }
   ],
   "source": [
    "df1.dtypes"
   ]
  },
  {
   "cell_type": "markdown",
   "metadata": {
    "heading_collapsed": true,
    "hidden": true,
    "jp-MarkdownHeadingCollapsed": true
   },
   "source": [
    "## 1.3 Check NA"
   ]
  },
  {
   "cell_type": "code",
   "execution_count": 8,
   "metadata": {
    "ExecuteTime": {
     "end_time": "2023-09-09T18:53:21.493518Z",
     "start_time": "2023-09-09T18:53:21.313494Z"
    },
    "execution": {
     "iopub.execute_input": "2023-10-26T19:50:50.733554Z",
     "iopub.status.busy": "2023-10-26T19:50:50.732859Z",
     "iopub.status.idle": "2023-10-26T19:50:50.997335Z",
     "shell.execute_reply": "2023-10-26T19:50:50.996260Z",
     "shell.execute_reply.started": "2023-10-26T19:50:50.733493Z"
    },
    "hidden": true
   },
   "outputs": [
    {
     "data": {
      "text/plain": [
       "invoice_no           0\n",
       "stock_code           0\n",
       "description       1454\n",
       "quantity             0\n",
       "invoice_date         0\n",
       "unit_price           0\n",
       "customer_id     135080\n",
       "country              0\n",
       "dtype: int64"
      ]
     },
     "execution_count": 8,
     "metadata": {},
     "output_type": "execute_result"
    }
   ],
   "source": [
    "df1.isna().sum()"
   ]
  },
  {
   "cell_type": "markdown",
   "metadata": {
    "heading_collapsed": true,
    "hidden": true,
    "jp-MarkdownHeadingCollapsed": true
   },
   "source": [
    "## 1.4 Replace NA"
   ]
  },
  {
   "cell_type": "code",
   "execution_count": 9,
   "metadata": {
    "execution": {
     "iopub.execute_input": "2023-10-26T19:50:51.000043Z",
     "iopub.status.busy": "2023-10-26T19:50:50.998736Z",
     "iopub.status.idle": "2023-10-26T19:50:51.005684Z",
     "shell.execute_reply": "2023-10-26T19:50:51.003998Z",
     "shell.execute_reply.started": "2023-10-26T19:50:50.999983Z"
    }
   },
   "outputs": [],
   "source": [
    "# df1 = df1.dropna(subset=['description', 'customer_id'])"
   ]
  },
  {
   "cell_type": "code",
   "execution_count": 10,
   "metadata": {
    "ExecuteTime": {
     "end_time": "2023-09-09T18:53:21.773643Z",
     "start_time": "2023-09-09T18:53:21.593576Z"
    },
    "execution": {
     "iopub.execute_input": "2023-10-26T19:50:51.013822Z",
     "iopub.status.busy": "2023-10-26T19:50:51.013191Z",
     "iopub.status.idle": "2023-10-26T19:50:51.266376Z",
     "shell.execute_reply": "2023-10-26T19:50:51.264724Z",
     "shell.execute_reply.started": "2023-10-26T19:50:51.013770Z"
    },
    "hidden": true
   },
   "outputs": [],
   "source": [
    "df_missing = df1.loc[df1['customer_id'].isna()]\n",
    "df_not_missing = df1.loc[~df1['customer_id'].isna()]\n",
    "\n",
    "# create reference\n",
    "df_backup = pd.DataFrame(df_missing['invoice_no'].drop_duplicates())\n",
    "df_backup['customer_id'] = np.arange(19000, 19000+len(df_backup), 1)\n",
    "\n",
    "# merge original with reference dataframe\n",
    "df1 = pd.merge(df1, df_backup, on='invoice_no', how='left')\n",
    "\n",
    "# coalesce \n",
    "df1['customer_id'] = df1['customer_id_x'].combine_first(df1['customer_id_y'])\n",
    "\n",
    "# drop extra columns\n",
    "df1 = df1.drop(columns=['customer_id_x', 'customer_id_y'], axis=1)"
   ]
  },
  {
   "cell_type": "code",
   "execution_count": 11,
   "metadata": {
    "ExecuteTime": {
     "end_time": "2023-09-09T18:53:21.935209Z",
     "start_time": "2023-09-09T18:53:21.776853Z"
    },
    "execution": {
     "iopub.execute_input": "2023-10-26T19:50:51.268880Z",
     "iopub.status.busy": "2023-10-26T19:50:51.267911Z",
     "iopub.status.idle": "2023-10-26T19:50:51.422662Z",
     "shell.execute_reply": "2023-10-26T19:50:51.421293Z",
     "shell.execute_reply.started": "2023-10-26T19:50:51.268842Z"
    },
    "hidden": true
   },
   "outputs": [
    {
     "data": {
      "text/plain": [
       "invoice_no         0\n",
       "stock_code         0\n",
       "description     1454\n",
       "quantity           0\n",
       "invoice_date       0\n",
       "unit_price         0\n",
       "country            0\n",
       "customer_id        0\n",
       "dtype: int64"
      ]
     },
     "execution_count": 11,
     "metadata": {},
     "output_type": "execute_result"
    }
   ],
   "source": [
    "df1.isna().sum()"
   ]
  },
  {
   "cell_type": "markdown",
   "metadata": {
    "heading_collapsed": true,
    "hidden": true,
    "jp-MarkdownHeadingCollapsed": true
   },
   "source": [
    "## 1.5 Change dtypes"
   ]
  },
  {
   "cell_type": "code",
   "execution_count": 12,
   "metadata": {
    "ExecuteTime": {
     "end_time": "2023-09-09T18:53:22.040719Z",
     "start_time": "2023-09-09T18:53:21.938091Z"
    },
    "execution": {
     "iopub.execute_input": "2023-10-26T19:50:51.425747Z",
     "iopub.status.busy": "2023-10-26T19:50:51.424892Z",
     "iopub.status.idle": "2023-10-26T19:50:51.508705Z",
     "shell.execute_reply": "2023-10-26T19:50:51.507553Z",
     "shell.execute_reply.started": "2023-10-26T19:50:51.425704Z"
    },
    "hidden": true
   },
   "outputs": [
    {
     "data": {
      "text/html": [
       "<div>\n",
       "<style scoped>\n",
       "    .dataframe tbody tr th:only-of-type {\n",
       "        vertical-align: middle;\n",
       "    }\n",
       "\n",
       "    .dataframe tbody tr th {\n",
       "        vertical-align: top;\n",
       "    }\n",
       "\n",
       "    .dataframe thead th {\n",
       "        text-align: right;\n",
       "    }\n",
       "</style>\n",
       "<table border=\"1\" class=\"dataframe\">\n",
       "  <thead>\n",
       "    <tr style=\"text-align: right;\">\n",
       "      <th></th>\n",
       "      <th>invoice_no</th>\n",
       "      <th>stock_code</th>\n",
       "      <th>description</th>\n",
       "      <th>quantity</th>\n",
       "      <th>invoice_date</th>\n",
       "      <th>unit_price</th>\n",
       "      <th>country</th>\n",
       "      <th>customer_id</th>\n",
       "    </tr>\n",
       "  </thead>\n",
       "  <tbody>\n",
       "    <tr>\n",
       "      <th>0</th>\n",
       "      <td>536365</td>\n",
       "      <td>85123A</td>\n",
       "      <td>WHITE HANGING HEART T-LIGHT HOLDER</td>\n",
       "      <td>6</td>\n",
       "      <td>2016-11-29</td>\n",
       "      <td>2.55</td>\n",
       "      <td>United Kingdom</td>\n",
       "      <td>17850</td>\n",
       "    </tr>\n",
       "    <tr>\n",
       "      <th>1</th>\n",
       "      <td>536365</td>\n",
       "      <td>71053</td>\n",
       "      <td>WHITE METAL LANTERN</td>\n",
       "      <td>6</td>\n",
       "      <td>2016-11-29</td>\n",
       "      <td>3.39</td>\n",
       "      <td>United Kingdom</td>\n",
       "      <td>17850</td>\n",
       "    </tr>\n",
       "    <tr>\n",
       "      <th>2</th>\n",
       "      <td>536365</td>\n",
       "      <td>84406B</td>\n",
       "      <td>CREAM CUPID HEARTS COAT HANGER</td>\n",
       "      <td>8</td>\n",
       "      <td>2016-11-29</td>\n",
       "      <td>2.75</td>\n",
       "      <td>United Kingdom</td>\n",
       "      <td>17850</td>\n",
       "    </tr>\n",
       "    <tr>\n",
       "      <th>3</th>\n",
       "      <td>536365</td>\n",
       "      <td>84029G</td>\n",
       "      <td>KNITTED UNION FLAG HOT WATER BOTTLE</td>\n",
       "      <td>6</td>\n",
       "      <td>2016-11-29</td>\n",
       "      <td>3.39</td>\n",
       "      <td>United Kingdom</td>\n",
       "      <td>17850</td>\n",
       "    </tr>\n",
       "    <tr>\n",
       "      <th>4</th>\n",
       "      <td>536365</td>\n",
       "      <td>84029E</td>\n",
       "      <td>RED WOOLLY HOTTIE WHITE HEART.</td>\n",
       "      <td>6</td>\n",
       "      <td>2016-11-29</td>\n",
       "      <td>3.39</td>\n",
       "      <td>United Kingdom</td>\n",
       "      <td>17850</td>\n",
       "    </tr>\n",
       "  </tbody>\n",
       "</table>\n",
       "</div>"
      ],
      "text/plain": [
       "  invoice_no stock_code                          description  quantity invoice_date  unit_price         country  customer_id\n",
       "0     536365     85123A   WHITE HANGING HEART T-LIGHT HOLDER         6   2016-11-29        2.55  United Kingdom        17850\n",
       "1     536365      71053                  WHITE METAL LANTERN         6   2016-11-29        3.39  United Kingdom        17850\n",
       "2     536365     84406B       CREAM CUPID HEARTS COAT HANGER         8   2016-11-29        2.75  United Kingdom        17850\n",
       "3     536365     84029G  KNITTED UNION FLAG HOT WATER BOTTLE         6   2016-11-29        3.39  United Kingdom        17850\n",
       "4     536365     84029E       RED WOOLLY HOTTIE WHITE HEART.         6   2016-11-29        3.39  United Kingdom        17850"
      ]
     },
     "execution_count": 12,
     "metadata": {},
     "output_type": "execute_result"
    }
   ],
   "source": [
    "# invoice date\n",
    "df1['invoice_date'] = pd.to_datetime(df1['invoice_date'], format='%d-%b-%y')\n",
    "\n",
    "# customer id\n",
    "df1['customer_id'] = df1['customer_id'].astype(int)\n",
    "df1.head()"
   ]
  },
  {
   "cell_type": "code",
   "execution_count": 13,
   "metadata": {
    "ExecuteTime": {
     "end_time": "2023-09-09T18:53:22.052550Z",
     "start_time": "2023-09-09T18:53:22.044071Z"
    },
    "execution": {
     "iopub.execute_input": "2023-10-26T19:50:51.511407Z",
     "iopub.status.busy": "2023-10-26T19:50:51.510399Z",
     "iopub.status.idle": "2023-10-26T19:50:51.521032Z",
     "shell.execute_reply": "2023-10-26T19:50:51.519380Z",
     "shell.execute_reply.started": "2023-10-26T19:50:51.511354Z"
    },
    "hidden": true
   },
   "outputs": [
    {
     "data": {
      "text/plain": [
       "invoice_no              object\n",
       "stock_code              object\n",
       "description             object\n",
       "quantity                 int64\n",
       "invoice_date    datetime64[ns]\n",
       "unit_price             float64\n",
       "country                 object\n",
       "customer_id              int64\n",
       "dtype: object"
      ]
     },
     "execution_count": 13,
     "metadata": {},
     "output_type": "execute_result"
    }
   ],
   "source": [
    "df1.dtypes"
   ]
  },
  {
   "cell_type": "markdown",
   "metadata": {
    "heading_collapsed": true,
    "hidden": true
   },
   "source": [
    "## 1.6 Descriptive statistics"
   ]
  },
  {
   "cell_type": "code",
   "execution_count": 14,
   "metadata": {
    "ExecuteTime": {
     "end_time": "2023-09-09T18:53:22.125708Z",
     "start_time": "2023-09-09T18:53:22.057401Z"
    },
    "execution": {
     "iopub.execute_input": "2023-10-26T19:50:51.523285Z",
     "iopub.status.busy": "2023-10-26T19:50:51.522862Z",
     "iopub.status.idle": "2023-10-26T19:50:51.600297Z",
     "shell.execute_reply": "2023-10-26T19:50:51.599290Z",
     "shell.execute_reply.started": "2023-10-26T19:50:51.523246Z"
    },
    "hidden": true
   },
   "outputs": [],
   "source": [
    "num_attributes = df1.select_dtypes(include=['int64', 'float64'])\n",
    "cat_attributes = df1.select_dtypes(exclude=['int64', 'float64', 'datetime64[ns]'])"
   ]
  },
  {
   "cell_type": "markdown",
   "metadata": {
    "heading_collapsed": true,
    "hidden": true
   },
   "source": [
    "### 1.6.1 Numerical attributes"
   ]
  },
  {
   "cell_type": "code",
   "execution_count": 15,
   "metadata": {
    "ExecuteTime": {
     "end_time": "2023-09-09T18:53:22.251814Z",
     "start_time": "2023-09-09T18:53:22.129012Z"
    },
    "execution": {
     "iopub.execute_input": "2023-10-26T19:50:51.602492Z",
     "iopub.status.busy": "2023-10-26T19:50:51.601982Z",
     "iopub.status.idle": "2023-10-26T19:50:51.724256Z",
     "shell.execute_reply": "2023-10-26T19:50:51.723107Z",
     "shell.execute_reply.started": "2023-10-26T19:50:51.602448Z"
    },
    "hidden": true
   },
   "outputs": [
    {
     "data": {
      "text/html": [
       "<div>\n",
       "<style scoped>\n",
       "    .dataframe tbody tr th:only-of-type {\n",
       "        vertical-align: middle;\n",
       "    }\n",
       "\n",
       "    .dataframe tbody tr th {\n",
       "        vertical-align: top;\n",
       "    }\n",
       "\n",
       "    .dataframe thead th {\n",
       "        text-align: right;\n",
       "    }\n",
       "</style>\n",
       "<table border=\"1\" class=\"dataframe\">\n",
       "  <thead>\n",
       "    <tr style=\"text-align: right;\">\n",
       "      <th></th>\n",
       "      <th>attributes</th>\n",
       "      <th>min</th>\n",
       "      <th>max</th>\n",
       "      <th>range</th>\n",
       "      <th>mean</th>\n",
       "      <th>median</th>\n",
       "      <th>std</th>\n",
       "      <th>skew</th>\n",
       "      <th>kurtosis</th>\n",
       "    </tr>\n",
       "  </thead>\n",
       "  <tbody>\n",
       "    <tr>\n",
       "      <th>0</th>\n",
       "      <td>quantity</td>\n",
       "      <td>-80995.00</td>\n",
       "      <td>80995.0</td>\n",
       "      <td>161990.00</td>\n",
       "      <td>9.552250</td>\n",
       "      <td>3.00</td>\n",
       "      <td>218.080957</td>\n",
       "      <td>-0.264076</td>\n",
       "      <td>119769.160031</td>\n",
       "    </tr>\n",
       "    <tr>\n",
       "      <th>1</th>\n",
       "      <td>unit_price</td>\n",
       "      <td>-11062.06</td>\n",
       "      <td>38970.0</td>\n",
       "      <td>50032.06</td>\n",
       "      <td>4.611114</td>\n",
       "      <td>2.08</td>\n",
       "      <td>96.759764</td>\n",
       "      <td>186.506972</td>\n",
       "      <td>59005.719097</td>\n",
       "    </tr>\n",
       "    <tr>\n",
       "      <th>2</th>\n",
       "      <td>customer_id</td>\n",
       "      <td>12346.00</td>\n",
       "      <td>22709.0</td>\n",
       "      <td>10363.00</td>\n",
       "      <td>16688.840453</td>\n",
       "      <td>16249.00</td>\n",
       "      <td>2911.408666</td>\n",
       "      <td>0.487449</td>\n",
       "      <td>-0.804287</td>\n",
       "    </tr>\n",
       "  </tbody>\n",
       "</table>\n",
       "</div>"
      ],
      "text/plain": [
       "    attributes       min      max      range          mean    median          std        skew       kurtosis\n",
       "0     quantity -80995.00  80995.0  161990.00      9.552250      3.00   218.080957   -0.264076  119769.160031\n",
       "1   unit_price -11062.06  38970.0   50032.06      4.611114      2.08    96.759764  186.506972   59005.719097\n",
       "2  customer_id  12346.00  22709.0   10363.00  16688.840453  16249.00  2911.408666    0.487449      -0.804287"
      ]
     },
     "execution_count": 15,
     "metadata": {},
     "output_type": "execute_result"
    }
   ],
   "source": [
    "# central tendency - mean, median\n",
    "ct1 = pd.DataFrame(num_attributes.apply(np.mean)).T\n",
    "ct2 = pd.DataFrame(num_attributes.apply(np.median)).T\n",
    "             \n",
    "# dispersion - desvio padrão, minimo, maximo, range, skew, kurtosis\n",
    "d1 = pd.DataFrame(num_attributes.apply(np.std)).T\n",
    "d2 = pd.DataFrame(num_attributes.apply(np.min)).T\n",
    "d3 = pd.DataFrame(num_attributes.apply(np.max)).T\n",
    "d4 = pd.DataFrame(num_attributes.apply(lambda x: x.max() - x.min())).T\n",
    "d5 = pd.DataFrame(num_attributes.apply(lambda x: x.skew())).T\n",
    "d6 = pd.DataFrame(num_attributes.apply(lambda x: x.kurtosis())).T\n",
    "\n",
    "# concatenate\n",
    "metrics = pd.concat([d2, d3, d4, ct1, ct2, d1, d5, d6]).T.reset_index()\n",
    "metrics.columns = ['attributes', 'min', 'max', 'range', 'mean', 'median', 'std', 'skew', 'kurtosis']\n",
    "metrics"
   ]
  },
  {
   "cell_type": "markdown",
   "metadata": {
    "heading_collapsed": true,
    "hidden": true
   },
   "source": [
    "#### 1.6.1.1 Quantity"
   ]
  },
  {
   "cell_type": "code",
   "execution_count": 16,
   "metadata": {
    "ExecuteTime": {
     "end_time": "2023-09-09T18:53:22.326726Z",
     "start_time": "2023-09-09T18:53:22.256142Z"
    },
    "execution": {
     "iopub.execute_input": "2023-10-26T19:50:51.726962Z",
     "iopub.status.busy": "2023-10-26T19:50:51.726161Z",
     "iopub.status.idle": "2023-10-26T19:50:51.797213Z",
     "shell.execute_reply": "2023-10-26T19:50:51.796004Z",
     "shell.execute_reply.started": "2023-10-26T19:50:51.726898Z"
    },
    "hidden": true
   },
   "outputs": [
    {
     "name": "stdout",
     "output_type": "stream",
     "text": [
      "0\n",
      "10624\n",
      "531285\n"
     ]
    }
   ],
   "source": [
    "print(len(df1[df1['quantity']==0]))\n",
    "print(len(df1[df1['quantity']<0]))\n",
    "print(len(df1[df1['quantity']>0]))"
   ]
  },
  {
   "cell_type": "markdown",
   "metadata": {
    "heading_collapsed": true,
    "hidden": true
   },
   "source": [
    "#### 1.6.1.2 Unit price"
   ]
  },
  {
   "cell_type": "code",
   "execution_count": 17,
   "metadata": {
    "ExecuteTime": {
     "end_time": "2023-09-09T18:53:22.351107Z",
     "start_time": "2023-09-09T18:53:22.329876Z"
    },
    "execution": {
     "iopub.execute_input": "2023-10-26T19:50:51.799468Z",
     "iopub.status.busy": "2023-10-26T19:50:51.798965Z",
     "iopub.status.idle": "2023-10-26T19:50:51.823979Z",
     "shell.execute_reply": "2023-10-26T19:50:51.822218Z",
     "shell.execute_reply.started": "2023-10-26T19:50:51.799430Z"
    },
    "hidden": true
   },
   "outputs": [
    {
     "data": {
      "text/html": [
       "<div>\n",
       "<style scoped>\n",
       "    .dataframe tbody tr th:only-of-type {\n",
       "        vertical-align: middle;\n",
       "    }\n",
       "\n",
       "    .dataframe tbody tr th {\n",
       "        vertical-align: top;\n",
       "    }\n",
       "\n",
       "    .dataframe thead th {\n",
       "        text-align: right;\n",
       "    }\n",
       "</style>\n",
       "<table border=\"1\" class=\"dataframe\">\n",
       "  <thead>\n",
       "    <tr style=\"text-align: right;\">\n",
       "      <th></th>\n",
       "      <th>invoice_no</th>\n",
       "      <th>stock_code</th>\n",
       "      <th>description</th>\n",
       "      <th>quantity</th>\n",
       "      <th>invoice_date</th>\n",
       "      <th>unit_price</th>\n",
       "      <th>country</th>\n",
       "      <th>customer_id</th>\n",
       "    </tr>\n",
       "  </thead>\n",
       "  <tbody>\n",
       "    <tr>\n",
       "      <th>4287</th>\n",
       "      <td>C536757</td>\n",
       "      <td>84347</td>\n",
       "      <td>ROTATING SILVER ANGELS T-LIGHT HLDR</td>\n",
       "      <td>-9360</td>\n",
       "      <td>2016-11-30</td>\n",
       "      <td>0.030</td>\n",
       "      <td>United Kingdom</td>\n",
       "      <td>15838</td>\n",
       "    </tr>\n",
       "    <tr>\n",
       "      <th>108088</th>\n",
       "      <td>C545478</td>\n",
       "      <td>D</td>\n",
       "      <td>Discount</td>\n",
       "      <td>-720</td>\n",
       "      <td>2017-03-01</td>\n",
       "      <td>0.010</td>\n",
       "      <td>United Kingdom</td>\n",
       "      <td>16422</td>\n",
       "    </tr>\n",
       "    <tr>\n",
       "      <th>157195</th>\n",
       "      <td>550193</td>\n",
       "      <td>PADS</td>\n",
       "      <td>PADS TO MATCH ALL CUSHIONS</td>\n",
       "      <td>1</td>\n",
       "      <td>2017-04-13</td>\n",
       "      <td>0.001</td>\n",
       "      <td>United Kingdom</td>\n",
       "      <td>13952</td>\n",
       "    </tr>\n",
       "    <tr>\n",
       "      <th>182729</th>\n",
       "      <td>C552569</td>\n",
       "      <td>D</td>\n",
       "      <td>Discount</td>\n",
       "      <td>-240</td>\n",
       "      <td>2017-05-08</td>\n",
       "      <td>0.030</td>\n",
       "      <td>United Kingdom</td>\n",
       "      <td>12901</td>\n",
       "    </tr>\n",
       "    <tr>\n",
       "      <th>279045</th>\n",
       "      <td>561226</td>\n",
       "      <td>PADS</td>\n",
       "      <td>PADS TO MATCH ALL CUSHIONS</td>\n",
       "      <td>1</td>\n",
       "      <td>2017-07-24</td>\n",
       "      <td>0.001</td>\n",
       "      <td>United Kingdom</td>\n",
       "      <td>15618</td>\n",
       "    </tr>\n",
       "    <tr>\n",
       "      <th>355050</th>\n",
       "      <td>C567903</td>\n",
       "      <td>M</td>\n",
       "      <td>Manual</td>\n",
       "      <td>-120</td>\n",
       "      <td>2017-09-20</td>\n",
       "      <td>0.030</td>\n",
       "      <td>United Kingdom</td>\n",
       "      <td>16422</td>\n",
       "    </tr>\n",
       "    <tr>\n",
       "      <th>359871</th>\n",
       "      <td>568200</td>\n",
       "      <td>PADS</td>\n",
       "      <td>PADS TO MATCH ALL CUSHIONS</td>\n",
       "      <td>1</td>\n",
       "      <td>2017-09-23</td>\n",
       "      <td>0.001</td>\n",
       "      <td>United Kingdom</td>\n",
       "      <td>16198</td>\n",
       "    </tr>\n",
       "    <tr>\n",
       "      <th>361741</th>\n",
       "      <td>568375</td>\n",
       "      <td>BANK CHARGES</td>\n",
       "      <td>Bank Charges</td>\n",
       "      <td>1</td>\n",
       "      <td>2017-09-24</td>\n",
       "      <td>0.001</td>\n",
       "      <td>United Kingdom</td>\n",
       "      <td>13405</td>\n",
       "    </tr>\n",
       "  </tbody>\n",
       "</table>\n",
       "</div>"
      ],
      "text/plain": [
       "       invoice_no    stock_code                          description  quantity invoice_date  unit_price         country  customer_id\n",
       "4287      C536757         84347  ROTATING SILVER ANGELS T-LIGHT HLDR     -9360   2016-11-30       0.030  United Kingdom        15838\n",
       "108088    C545478             D                             Discount      -720   2017-03-01       0.010  United Kingdom        16422\n",
       "157195     550193          PADS           PADS TO MATCH ALL CUSHIONS         1   2017-04-13       0.001  United Kingdom        13952\n",
       "182729    C552569             D                             Discount      -240   2017-05-08       0.030  United Kingdom        12901\n",
       "279045     561226          PADS           PADS TO MATCH ALL CUSHIONS         1   2017-07-24       0.001  United Kingdom        15618\n",
       "355050    C567903             M                               Manual      -120   2017-09-20       0.030  United Kingdom        16422\n",
       "359871     568200          PADS           PADS TO MATCH ALL CUSHIONS         1   2017-09-23       0.001  United Kingdom        16198\n",
       "361741     568375  BANK CHARGES                         Bank Charges         1   2017-09-24       0.001  United Kingdom        13405"
      ]
     },
     "execution_count": 17,
     "metadata": {},
     "output_type": "execute_result"
    }
   ],
   "source": [
    "df1[(df1['unit_price']>0.00) & (df1['unit_price']<=0.03)]"
   ]
  },
  {
   "cell_type": "code",
   "execution_count": 18,
   "metadata": {
    "ExecuteTime": {
     "end_time": "2023-09-09T18:53:22.381414Z",
     "start_time": "2023-09-09T18:53:22.355640Z"
    },
    "execution": {
     "iopub.execute_input": "2023-10-26T19:50:51.827928Z",
     "iopub.status.busy": "2023-10-26T19:50:51.826225Z",
     "iopub.status.idle": "2023-10-26T19:50:51.857148Z",
     "shell.execute_reply": "2023-10-26T19:50:51.856130Z",
     "shell.execute_reply.started": "2023-10-26T19:50:51.827864Z"
    },
    "hidden": true
   },
   "outputs": [
    {
     "data": {
      "text/html": [
       "<div>\n",
       "<style scoped>\n",
       "    .dataframe tbody tr th:only-of-type {\n",
       "        vertical-align: middle;\n",
       "    }\n",
       "\n",
       "    .dataframe tbody tr th {\n",
       "        vertical-align: top;\n",
       "    }\n",
       "\n",
       "    .dataframe thead th {\n",
       "        text-align: right;\n",
       "    }\n",
       "</style>\n",
       "<table border=\"1\" class=\"dataframe\">\n",
       "  <thead>\n",
       "    <tr style=\"text-align: right;\">\n",
       "      <th></th>\n",
       "      <th>invoice_no</th>\n",
       "      <th>stock_code</th>\n",
       "      <th>description</th>\n",
       "      <th>quantity</th>\n",
       "      <th>invoice_date</th>\n",
       "      <th>unit_price</th>\n",
       "      <th>country</th>\n",
       "      <th>customer_id</th>\n",
       "    </tr>\n",
       "  </thead>\n",
       "  <tbody>\n",
       "    <tr>\n",
       "      <th>4287</th>\n",
       "      <td>C536757</td>\n",
       "      <td>84347</td>\n",
       "      <td>ROTATING SILVER ANGELS T-LIGHT HLDR</td>\n",
       "      <td>-9360</td>\n",
       "      <td>2016-11-30</td>\n",
       "      <td>0.030</td>\n",
       "      <td>United Kingdom</td>\n",
       "      <td>15838</td>\n",
       "    </tr>\n",
       "    <tr>\n",
       "      <th>108088</th>\n",
       "      <td>C545478</td>\n",
       "      <td>D</td>\n",
       "      <td>Discount</td>\n",
       "      <td>-720</td>\n",
       "      <td>2017-03-01</td>\n",
       "      <td>0.010</td>\n",
       "      <td>United Kingdom</td>\n",
       "      <td>16422</td>\n",
       "    </tr>\n",
       "    <tr>\n",
       "      <th>157195</th>\n",
       "      <td>550193</td>\n",
       "      <td>PADS</td>\n",
       "      <td>PADS TO MATCH ALL CUSHIONS</td>\n",
       "      <td>1</td>\n",
       "      <td>2017-04-13</td>\n",
       "      <td>0.001</td>\n",
       "      <td>United Kingdom</td>\n",
       "      <td>13952</td>\n",
       "    </tr>\n",
       "    <tr>\n",
       "      <th>182729</th>\n",
       "      <td>C552569</td>\n",
       "      <td>D</td>\n",
       "      <td>Discount</td>\n",
       "      <td>-240</td>\n",
       "      <td>2017-05-08</td>\n",
       "      <td>0.030</td>\n",
       "      <td>United Kingdom</td>\n",
       "      <td>12901</td>\n",
       "    </tr>\n",
       "    <tr>\n",
       "      <th>217060</th>\n",
       "      <td>555876</td>\n",
       "      <td>16045</td>\n",
       "      <td>POPART WOODEN PENCILS ASST</td>\n",
       "      <td>100</td>\n",
       "      <td>2017-06-05</td>\n",
       "      <td>0.040</td>\n",
       "      <td>United Kingdom</td>\n",
       "      <td>15799</td>\n",
       "    </tr>\n",
       "    <tr>\n",
       "      <th>...</th>\n",
       "      <td>...</td>\n",
       "      <td>...</td>\n",
       "      <td>...</td>\n",
       "      <td>...</td>\n",
       "      <td>...</td>\n",
       "      <td>...</td>\n",
       "      <td>...</td>\n",
       "      <td>...</td>\n",
       "    </tr>\n",
       "    <tr>\n",
       "      <th>492556</th>\n",
       "      <td>578126</td>\n",
       "      <td>16045</td>\n",
       "      <td>POPART WOODEN PENCILS ASST</td>\n",
       "      <td>100</td>\n",
       "      <td>2017-11-21</td>\n",
       "      <td>0.040</td>\n",
       "      <td>United Kingdom</td>\n",
       "      <td>16900</td>\n",
       "    </tr>\n",
       "    <tr>\n",
       "      <th>506043</th>\n",
       "      <td>579124</td>\n",
       "      <td>16045</td>\n",
       "      <td>POPART WOODEN PENCILS ASST</td>\n",
       "      <td>100</td>\n",
       "      <td>2017-11-26</td>\n",
       "      <td>0.040</td>\n",
       "      <td>United Kingdom</td>\n",
       "      <td>15721</td>\n",
       "    </tr>\n",
       "    <tr>\n",
       "      <th>506918</th>\n",
       "      <td>579161</td>\n",
       "      <td>16045</td>\n",
       "      <td>POPART WOODEN PENCILS ASST</td>\n",
       "      <td>100</td>\n",
       "      <td>2017-11-26</td>\n",
       "      <td>0.040</td>\n",
       "      <td>United Kingdom</td>\n",
       "      <td>17379</td>\n",
       "    </tr>\n",
       "    <tr>\n",
       "      <th>523461</th>\n",
       "      <td>580513</td>\n",
       "      <td>16045</td>\n",
       "      <td>POPART WOODEN PENCILS ASST</td>\n",
       "      <td>100</td>\n",
       "      <td>2017-12-02</td>\n",
       "      <td>0.040</td>\n",
       "      <td>United Kingdom</td>\n",
       "      <td>14456</td>\n",
       "    </tr>\n",
       "    <tr>\n",
       "      <th>525404</th>\n",
       "      <td>580619</td>\n",
       "      <td>16045</td>\n",
       "      <td>POPART WOODEN PENCILS ASST</td>\n",
       "      <td>100</td>\n",
       "      <td>2017-12-03</td>\n",
       "      <td>0.040</td>\n",
       "      <td>United Kingdom</td>\n",
       "      <td>15053</td>\n",
       "    </tr>\n",
       "  </tbody>\n",
       "</table>\n",
       "<p>74 rows × 8 columns</p>\n",
       "</div>"
      ],
      "text/plain": [
       "       invoice_no stock_code                          description  quantity invoice_date  unit_price         country  customer_id\n",
       "4287      C536757      84347  ROTATING SILVER ANGELS T-LIGHT HLDR     -9360   2016-11-30       0.030  United Kingdom        15838\n",
       "108088    C545478          D                             Discount      -720   2017-03-01       0.010  United Kingdom        16422\n",
       "157195     550193       PADS           PADS TO MATCH ALL CUSHIONS         1   2017-04-13       0.001  United Kingdom        13952\n",
       "182729    C552569          D                             Discount      -240   2017-05-08       0.030  United Kingdom        12901\n",
       "217060     555876      16045           POPART WOODEN PENCILS ASST       100   2017-06-05       0.040  United Kingdom        15799\n",
       "...           ...        ...                                  ...       ...          ...         ...             ...          ...\n",
       "492556     578126      16045           POPART WOODEN PENCILS ASST       100   2017-11-21       0.040  United Kingdom        16900\n",
       "506043     579124      16045           POPART WOODEN PENCILS ASST       100   2017-11-26       0.040  United Kingdom        15721\n",
       "506918     579161      16045           POPART WOODEN PENCILS ASST       100   2017-11-26       0.040  United Kingdom        17379\n",
       "523461     580513      16045           POPART WOODEN PENCILS ASST       100   2017-12-02       0.040  United Kingdom        14456\n",
       "525404     580619      16045           POPART WOODEN PENCILS ASST       100   2017-12-03       0.040  United Kingdom        15053\n",
       "\n",
       "[74 rows x 8 columns]"
      ]
     },
     "execution_count": 18,
     "metadata": {},
     "output_type": "execute_result"
    }
   ],
   "source": [
    "df1[(df1['unit_price']>0.00) & (df1['unit_price']<=0.04)]"
   ]
  },
  {
   "cell_type": "code",
   "execution_count": 19,
   "metadata": {
    "ExecuteTime": {
     "end_time": "2023-09-09T18:53:22.394633Z",
     "start_time": "2023-09-09T18:53:22.383902Z"
    },
    "execution": {
     "iopub.execute_input": "2023-10-26T19:50:51.859684Z",
     "iopub.status.busy": "2023-10-26T19:50:51.859004Z",
     "iopub.status.idle": "2023-10-26T19:50:51.872823Z",
     "shell.execute_reply": "2023-10-26T19:50:51.871355Z",
     "shell.execute_reply.started": "2023-10-26T19:50:51.859625Z"
    },
    "hidden": true
   },
   "outputs": [
    {
     "data": {
      "text/plain": [
       "2591"
      ]
     },
     "execution_count": 19,
     "metadata": {},
     "output_type": "execute_result"
    }
   ],
   "source": [
    "len(df1[df1['unit_price']<0.05])"
   ]
  },
  {
   "cell_type": "markdown",
   "metadata": {
    "heading_collapsed": true,
    "hidden": true
   },
   "source": [
    "#### 1.6.1.3 Customer id"
   ]
  },
  {
   "cell_type": "code",
   "execution_count": 20,
   "metadata": {
    "ExecuteTime": {
     "end_time": "2023-09-09T18:53:22.413767Z",
     "start_time": "2023-09-09T18:53:22.398145Z"
    },
    "execution": {
     "iopub.execute_input": "2023-10-26T19:50:51.875676Z",
     "iopub.status.busy": "2023-10-26T19:50:51.875060Z",
     "iopub.status.idle": "2023-10-26T19:50:51.895059Z",
     "shell.execute_reply": "2023-10-26T19:50:51.893339Z",
     "shell.execute_reply.started": "2023-10-26T19:50:51.875615Z"
    },
    "hidden": true
   },
   "outputs": [
    {
     "data": {
      "text/plain": [
       "8082"
      ]
     },
     "execution_count": 20,
     "metadata": {},
     "output_type": "execute_result"
    }
   ],
   "source": [
    "len(df1['customer_id'].unique())"
   ]
  },
  {
   "cell_type": "markdown",
   "metadata": {
    "hidden": true
   },
   "source": [
    "questions :"
   ]
  },
  {
   "cell_type": "markdown",
   "metadata": {
    "hidden": true
   },
   "source": [
    "Negativate quantity - product return?\n",
    "\n",
    "Unit price 0 - promotion/sale?"
   ]
  },
  {
   "cell_type": "markdown",
   "metadata": {
    "hidden": true
   },
   "source": [
    "### 1.6.2 Categorical attributes"
   ]
  },
  {
   "cell_type": "markdown",
   "metadata": {
    "heading_collapsed": true,
    "hidden": true
   },
   "source": [
    "#### 1.6.2.1 Invoice no"
   ]
  },
  {
   "cell_type": "code",
   "execution_count": 21,
   "metadata": {
    "ExecuteTime": {
     "end_time": "2023-09-09T18:53:27.567358Z",
     "start_time": "2023-09-09T18:53:22.417464Z"
    },
    "execution": {
     "iopub.execute_input": "2023-10-26T19:50:51.898136Z",
     "iopub.status.busy": "2023-10-26T19:50:51.897548Z",
     "iopub.status.idle": "2023-10-26T19:50:57.075725Z",
     "shell.execute_reply": "2023-10-26T19:50:57.074044Z",
     "shell.execute_reply.started": "2023-10-26T19:50:51.898084Z"
    },
    "hidden": true,
    "scrolled": true
   },
   "outputs": [
    {
     "name": "stdout",
     "output_type": "stream",
     "text": [
      "Total number of invoices with letters: 9291\n",
      "Total number of negative quantity in invoices with letters: 9288\n",
      "% of the total data: 1.71%\n"
     ]
    }
   ],
   "source": [
    "df_letter_invoices = df1.loc[df1['invoice_no'].apply(lambda x: bool(re.search('[^0-9]+', x))),:]\n",
    "# df_letter_invoices.head()\n",
    "\n",
    "print('Total number of invoices with letters: {}'.format(len(df_letter_invoices)))\n",
    "print('Total number of negative quantity in invoices with letters: {}'.format(len(df_letter_invoices[df_letter_invoices['quantity'] < 0])))\n",
    "print('% of the total data: {:.2f}%'.format((df_letter_invoices.shape[0] / df1.shape[0])*100))"
   ]
  },
  {
   "cell_type": "code",
   "execution_count": 22,
   "metadata": {
    "ExecuteTime": {
     "end_time": "2023-09-09T18:53:27.592528Z",
     "start_time": "2023-09-09T18:53:27.571276Z"
    },
    "execution": {
     "iopub.execute_input": "2023-10-26T19:50:57.079009Z",
     "iopub.status.busy": "2023-10-26T19:50:57.078029Z",
     "iopub.status.idle": "2023-10-26T19:50:57.099505Z",
     "shell.execute_reply": "2023-10-26T19:50:57.098642Z",
     "shell.execute_reply.started": "2023-10-26T19:50:57.078945Z"
    },
    "hidden": true
   },
   "outputs": [
    {
     "data": {
      "text/html": [
       "<div>\n",
       "<style scoped>\n",
       "    .dataframe tbody tr th:only-of-type {\n",
       "        vertical-align: middle;\n",
       "    }\n",
       "\n",
       "    .dataframe tbody tr th {\n",
       "        vertical-align: top;\n",
       "    }\n",
       "\n",
       "    .dataframe thead th {\n",
       "        text-align: right;\n",
       "    }\n",
       "</style>\n",
       "<table border=\"1\" class=\"dataframe\">\n",
       "  <thead>\n",
       "    <tr style=\"text-align: right;\">\n",
       "      <th></th>\n",
       "      <th>invoice_no</th>\n",
       "      <th>stock_code</th>\n",
       "      <th>description</th>\n",
       "      <th>quantity</th>\n",
       "      <th>invoice_date</th>\n",
       "      <th>unit_price</th>\n",
       "      <th>country</th>\n",
       "      <th>customer_id</th>\n",
       "    </tr>\n",
       "  </thead>\n",
       "  <tbody>\n",
       "    <tr>\n",
       "      <th>299982</th>\n",
       "      <td>A563185</td>\n",
       "      <td>B</td>\n",
       "      <td>Adjust bad debt</td>\n",
       "      <td>1</td>\n",
       "      <td>2017-08-10</td>\n",
       "      <td>11062.06</td>\n",
       "      <td>United Kingdom</td>\n",
       "      <td>21497</td>\n",
       "    </tr>\n",
       "    <tr>\n",
       "      <th>299983</th>\n",
       "      <td>A563186</td>\n",
       "      <td>B</td>\n",
       "      <td>Adjust bad debt</td>\n",
       "      <td>1</td>\n",
       "      <td>2017-08-10</td>\n",
       "      <td>-11062.06</td>\n",
       "      <td>United Kingdom</td>\n",
       "      <td>21498</td>\n",
       "    </tr>\n",
       "    <tr>\n",
       "      <th>299984</th>\n",
       "      <td>A563187</td>\n",
       "      <td>B</td>\n",
       "      <td>Adjust bad debt</td>\n",
       "      <td>1</td>\n",
       "      <td>2017-08-10</td>\n",
       "      <td>-11062.06</td>\n",
       "      <td>United Kingdom</td>\n",
       "      <td>21499</td>\n",
       "    </tr>\n",
       "  </tbody>\n",
       "</table>\n",
       "</div>"
      ],
      "text/plain": [
       "       invoice_no stock_code      description  quantity invoice_date  unit_price         country  customer_id\n",
       "299982    A563185          B  Adjust bad debt         1   2017-08-10    11062.06  United Kingdom        21497\n",
       "299983    A563186          B  Adjust bad debt         1   2017-08-10   -11062.06  United Kingdom        21498\n",
       "299984    A563187          B  Adjust bad debt         1   2017-08-10   -11062.06  United Kingdom        21499"
      ]
     },
     "execution_count": 22,
     "metadata": {},
     "output_type": "execute_result"
    }
   ],
   "source": [
    "df_letter_invoices[df_letter_invoices['quantity'] > 0]"
   ]
  },
  {
   "cell_type": "markdown",
   "metadata": {
    "hidden": true
   },
   "source": [
    "remove customers 21497,21498,21499"
   ]
  },
  {
   "cell_type": "markdown",
   "metadata": {
    "heading_collapsed": true,
    "hidden": true
   },
   "source": [
    "#### 1.6.2.2 Stock code"
   ]
  },
  {
   "cell_type": "code",
   "execution_count": 23,
   "metadata": {
    "ExecuteTime": {
     "end_time": "2023-09-09T18:53:32.696764Z",
     "start_time": "2023-09-09T18:53:27.596897Z"
    },
    "execution": {
     "iopub.execute_input": "2023-10-26T19:50:57.101368Z",
     "iopub.status.busy": "2023-10-26T19:50:57.101030Z",
     "iopub.status.idle": "2023-10-26T19:51:02.424157Z",
     "shell.execute_reply": "2023-10-26T19:51:02.422987Z",
     "shell.execute_reply.started": "2023-10-26T19:50:57.101336Z"
    },
    "hidden": true
   },
   "outputs": [
    {
     "data": {
      "text/plain": [
       "array(['POST', 'D', 'DOT', 'M', 'S', 'AMAZONFEE', 'm', 'DCGSSBOY',\n",
       "       'DCGSSGIRL', 'PADS', 'B', 'CRUK'], dtype=object)"
      ]
     },
     "execution_count": 23,
     "metadata": {},
     "output_type": "execute_result"
    }
   ],
   "source": [
    "df1.loc[df1['stock_code'].apply(lambda x: bool(re.search('^[a-zA-Z]+$', x))), 'stock_code'].unique()"
   ]
  },
  {
   "cell_type": "code",
   "execution_count": 24,
   "metadata": {
    "ExecuteTime": {
     "end_time": "2023-09-09T18:53:37.775598Z",
     "start_time": "2023-09-09T18:53:32.700321Z"
    },
    "execution": {
     "iopub.execute_input": "2023-10-26T19:51:02.426744Z",
     "iopub.status.busy": "2023-10-26T19:51:02.426293Z",
     "iopub.status.idle": "2023-10-26T19:51:07.964961Z",
     "shell.execute_reply": "2023-10-26T19:51:07.963375Z",
     "shell.execute_reply.started": "2023-10-26T19:51:02.426704Z"
    },
    "hidden": true
   },
   "outputs": [
    {
     "name": "stdout",
     "output_type": "stream",
     "text": [
      "% of the total data: 0.51%\n"
     ]
    }
   ],
   "source": [
    "df_stock_letters=df1.loc[df1['stock_code'].apply(lambda x: bool(re.search('^[a-zA-Z]+$', x))), 'stock_code']\n",
    "print('% of the total data: {:.2f}%'.format((df_stock_letters.shape[0] / df1.shape[0])*100))"
   ]
  },
  {
   "cell_type": "code",
   "execution_count": 25,
   "metadata": {
    "ExecuteTime": {
     "end_time": "2023-09-09T18:53:37.850984Z",
     "start_time": "2023-09-09T18:53:37.778700Z"
    },
    "execution": {
     "iopub.execute_input": "2023-10-26T19:51:07.967178Z",
     "iopub.status.busy": "2023-10-26T19:51:07.966709Z",
     "iopub.status.idle": "2023-10-26T19:51:08.038335Z",
     "shell.execute_reply": "2023-10-26T19:51:08.037182Z",
     "shell.execute_reply.started": "2023-10-26T19:51:07.967146Z"
    },
    "hidden": true
   },
   "outputs": [
    {
     "data": {
      "text/html": [
       "<div>\n",
       "<style scoped>\n",
       "    .dataframe tbody tr th:only-of-type {\n",
       "        vertical-align: middle;\n",
       "    }\n",
       "\n",
       "    .dataframe tbody tr th {\n",
       "        vertical-align: top;\n",
       "    }\n",
       "\n",
       "    .dataframe thead th {\n",
       "        text-align: right;\n",
       "    }\n",
       "</style>\n",
       "<table border=\"1\" class=\"dataframe\">\n",
       "  <thead>\n",
       "    <tr style=\"text-align: right;\">\n",
       "      <th></th>\n",
       "      <th>invoice_no</th>\n",
       "      <th>stock_code</th>\n",
       "      <th>description</th>\n",
       "      <th>quantity</th>\n",
       "      <th>invoice_date</th>\n",
       "      <th>unit_price</th>\n",
       "      <th>country</th>\n",
       "      <th>customer_id</th>\n",
       "    </tr>\n",
       "  </thead>\n",
       "  <tbody>\n",
       "    <tr>\n",
       "      <th>45</th>\n",
       "      <td>536370</td>\n",
       "      <td>POST</td>\n",
       "      <td>POSTAGE</td>\n",
       "      <td>3</td>\n",
       "      <td>2016-11-29</td>\n",
       "      <td>18.0</td>\n",
       "      <td>France</td>\n",
       "      <td>12583</td>\n",
       "    </tr>\n",
       "    <tr>\n",
       "      <th>386</th>\n",
       "      <td>536403</td>\n",
       "      <td>POST</td>\n",
       "      <td>POSTAGE</td>\n",
       "      <td>1</td>\n",
       "      <td>2016-11-29</td>\n",
       "      <td>15.0</td>\n",
       "      <td>Netherlands</td>\n",
       "      <td>12791</td>\n",
       "    </tr>\n",
       "    <tr>\n",
       "      <th>1123</th>\n",
       "      <td>536527</td>\n",
       "      <td>POST</td>\n",
       "      <td>POSTAGE</td>\n",
       "      <td>1</td>\n",
       "      <td>2016-11-29</td>\n",
       "      <td>18.0</td>\n",
       "      <td>Germany</td>\n",
       "      <td>12662</td>\n",
       "    </tr>\n",
       "    <tr>\n",
       "      <th>5073</th>\n",
       "      <td>536840</td>\n",
       "      <td>POST</td>\n",
       "      <td>POSTAGE</td>\n",
       "      <td>1</td>\n",
       "      <td>2016-11-30</td>\n",
       "      <td>18.0</td>\n",
       "      <td>Germany</td>\n",
       "      <td>12738</td>\n",
       "    </tr>\n",
       "    <tr>\n",
       "      <th>5258</th>\n",
       "      <td>536852</td>\n",
       "      <td>POST</td>\n",
       "      <td>POSTAGE</td>\n",
       "      <td>1</td>\n",
       "      <td>2016-12-01</td>\n",
       "      <td>18.0</td>\n",
       "      <td>France</td>\n",
       "      <td>12686</td>\n",
       "    </tr>\n",
       "  </tbody>\n",
       "</table>\n",
       "</div>"
      ],
      "text/plain": [
       "     invoice_no stock_code description  quantity invoice_date  unit_price      country  customer_id\n",
       "45       536370       POST     POSTAGE         3   2016-11-29        18.0       France        12583\n",
       "386      536403       POST     POSTAGE         1   2016-11-29        15.0  Netherlands        12791\n",
       "1123     536527       POST     POSTAGE         1   2016-11-29        18.0      Germany        12662\n",
       "5073     536840       POST     POSTAGE         1   2016-11-30        18.0      Germany        12738\n",
       "5258     536852       POST     POSTAGE         1   2016-12-01        18.0       France        12686"
      ]
     },
     "execution_count": 25,
     "metadata": {},
     "output_type": "execute_result"
    }
   ],
   "source": [
    "df1[df1['stock_code']=='POST'].head()\n",
    "\n",
    "# not remove"
   ]
  },
  {
   "cell_type": "code",
   "execution_count": 26,
   "metadata": {
    "ExecuteTime": {
     "end_time": "2023-09-09T18:53:37.918419Z",
     "start_time": "2023-09-09T18:53:37.854964Z"
    },
    "execution": {
     "iopub.execute_input": "2023-10-26T19:51:08.040899Z",
     "iopub.status.busy": "2023-10-26T19:51:08.040148Z",
     "iopub.status.idle": "2023-10-26T19:51:08.126331Z",
     "shell.execute_reply": "2023-10-26T19:51:08.124870Z",
     "shell.execute_reply.started": "2023-10-26T19:51:08.040835Z"
    },
    "hidden": true
   },
   "outputs": [
    {
     "data": {
      "text/html": [
       "<div>\n",
       "<style scoped>\n",
       "    .dataframe tbody tr th:only-of-type {\n",
       "        vertical-align: middle;\n",
       "    }\n",
       "\n",
       "    .dataframe tbody tr th {\n",
       "        vertical-align: top;\n",
       "    }\n",
       "\n",
       "    .dataframe thead th {\n",
       "        text-align: right;\n",
       "    }\n",
       "</style>\n",
       "<table border=\"1\" class=\"dataframe\">\n",
       "  <thead>\n",
       "    <tr style=\"text-align: right;\">\n",
       "      <th></th>\n",
       "      <th>invoice_no</th>\n",
       "      <th>stock_code</th>\n",
       "      <th>description</th>\n",
       "      <th>quantity</th>\n",
       "      <th>invoice_date</th>\n",
       "      <th>unit_price</th>\n",
       "      <th>country</th>\n",
       "      <th>customer_id</th>\n",
       "    </tr>\n",
       "  </thead>\n",
       "  <tbody>\n",
       "    <tr>\n",
       "      <th>141</th>\n",
       "      <td>C536379</td>\n",
       "      <td>D</td>\n",
       "      <td>Discount</td>\n",
       "      <td>-1</td>\n",
       "      <td>2016-11-29</td>\n",
       "      <td>27.50</td>\n",
       "      <td>United Kingdom</td>\n",
       "      <td>14527</td>\n",
       "    </tr>\n",
       "    <tr>\n",
       "      <th>9038</th>\n",
       "      <td>C537164</td>\n",
       "      <td>D</td>\n",
       "      <td>Discount</td>\n",
       "      <td>-1</td>\n",
       "      <td>2016-12-03</td>\n",
       "      <td>29.29</td>\n",
       "      <td>United Kingdom</td>\n",
       "      <td>14527</td>\n",
       "    </tr>\n",
       "    <tr>\n",
       "      <th>14498</th>\n",
       "      <td>C537597</td>\n",
       "      <td>D</td>\n",
       "      <td>Discount</td>\n",
       "      <td>-1</td>\n",
       "      <td>2016-12-05</td>\n",
       "      <td>281.00</td>\n",
       "      <td>United Kingdom</td>\n",
       "      <td>15498</td>\n",
       "    </tr>\n",
       "    <tr>\n",
       "      <th>19392</th>\n",
       "      <td>C537857</td>\n",
       "      <td>D</td>\n",
       "      <td>Discount</td>\n",
       "      <td>-1</td>\n",
       "      <td>2016-12-06</td>\n",
       "      <td>267.12</td>\n",
       "      <td>United Kingdom</td>\n",
       "      <td>17340</td>\n",
       "    </tr>\n",
       "    <tr>\n",
       "      <th>31134</th>\n",
       "      <td>C538897</td>\n",
       "      <td>D</td>\n",
       "      <td>Discount</td>\n",
       "      <td>-1</td>\n",
       "      <td>2016-12-13</td>\n",
       "      <td>5.76</td>\n",
       "      <td>United Kingdom</td>\n",
       "      <td>16422</td>\n",
       "    </tr>\n",
       "    <tr>\n",
       "      <th>...</th>\n",
       "      <td>...</td>\n",
       "      <td>...</td>\n",
       "      <td>...</td>\n",
       "      <td>...</td>\n",
       "      <td>...</td>\n",
       "      <td>...</td>\n",
       "      <td>...</td>\n",
       "      <td>...</td>\n",
       "    </tr>\n",
       "    <tr>\n",
       "      <th>479868</th>\n",
       "      <td>C577227</td>\n",
       "      <td>D</td>\n",
       "      <td>Discount</td>\n",
       "      <td>-1</td>\n",
       "      <td>2017-11-16</td>\n",
       "      <td>19.82</td>\n",
       "      <td>United Kingdom</td>\n",
       "      <td>14527</td>\n",
       "    </tr>\n",
       "    <tr>\n",
       "      <th>479869</th>\n",
       "      <td>C577227</td>\n",
       "      <td>D</td>\n",
       "      <td>Discount</td>\n",
       "      <td>-1</td>\n",
       "      <td>2017-11-16</td>\n",
       "      <td>16.76</td>\n",
       "      <td>United Kingdom</td>\n",
       "      <td>14527</td>\n",
       "    </tr>\n",
       "    <tr>\n",
       "      <th>493613</th>\n",
       "      <td>C578239</td>\n",
       "      <td>D</td>\n",
       "      <td>Discount</td>\n",
       "      <td>-1</td>\n",
       "      <td>2017-11-21</td>\n",
       "      <td>26.33</td>\n",
       "      <td>Italy</td>\n",
       "      <td>14912</td>\n",
       "    </tr>\n",
       "    <tr>\n",
       "      <th>516221</th>\n",
       "      <td>C579884</td>\n",
       "      <td>D</td>\n",
       "      <td>Discount</td>\n",
       "      <td>-1</td>\n",
       "      <td>2017-11-28</td>\n",
       "      <td>20.53</td>\n",
       "      <td>United Kingdom</td>\n",
       "      <td>14527</td>\n",
       "    </tr>\n",
       "    <tr>\n",
       "      <th>516455</th>\n",
       "      <td>C579908</td>\n",
       "      <td>D</td>\n",
       "      <td>Discount</td>\n",
       "      <td>-1</td>\n",
       "      <td>2017-11-29</td>\n",
       "      <td>28.68</td>\n",
       "      <td>United Kingdom</td>\n",
       "      <td>14527</td>\n",
       "    </tr>\n",
       "  </tbody>\n",
       "</table>\n",
       "<p>77 rows × 8 columns</p>\n",
       "</div>"
      ],
      "text/plain": [
       "       invoice_no stock_code description  quantity invoice_date  unit_price         country  customer_id\n",
       "141       C536379          D    Discount        -1   2016-11-29       27.50  United Kingdom        14527\n",
       "9038      C537164          D    Discount        -1   2016-12-03       29.29  United Kingdom        14527\n",
       "14498     C537597          D    Discount        -1   2016-12-05      281.00  United Kingdom        15498\n",
       "19392     C537857          D    Discount        -1   2016-12-06      267.12  United Kingdom        17340\n",
       "31134     C538897          D    Discount        -1   2016-12-13        5.76  United Kingdom        16422\n",
       "...           ...        ...         ...       ...          ...         ...             ...          ...\n",
       "479868    C577227          D    Discount        -1   2017-11-16       19.82  United Kingdom        14527\n",
       "479869    C577227          D    Discount        -1   2017-11-16       16.76  United Kingdom        14527\n",
       "493613    C578239          D    Discount        -1   2017-11-21       26.33           Italy        14912\n",
       "516221    C579884          D    Discount        -1   2017-11-28       20.53  United Kingdom        14527\n",
       "516455    C579908          D    Discount        -1   2017-11-29       28.68  United Kingdom        14527\n",
       "\n",
       "[77 rows x 8 columns]"
      ]
     },
     "execution_count": 26,
     "metadata": {},
     "output_type": "execute_result"
    }
   ],
   "source": [
    "df1[df1['stock_code']=='D']"
   ]
  },
  {
   "cell_type": "code",
   "execution_count": 27,
   "metadata": {
    "ExecuteTime": {
     "end_time": "2023-09-09T18:53:37.980743Z",
     "start_time": "2023-09-09T18:53:37.922592Z"
    },
    "execution": {
     "iopub.execute_input": "2023-10-26T19:51:08.128380Z",
     "iopub.status.busy": "2023-10-26T19:51:08.127863Z",
     "iopub.status.idle": "2023-10-26T19:51:08.202390Z",
     "shell.execute_reply": "2023-10-26T19:51:08.201181Z",
     "shell.execute_reply.started": "2023-10-26T19:51:08.128341Z"
    },
    "hidden": true
   },
   "outputs": [
    {
     "data": {
      "text/html": [
       "<div>\n",
       "<style scoped>\n",
       "    .dataframe tbody tr th:only-of-type {\n",
       "        vertical-align: middle;\n",
       "    }\n",
       "\n",
       "    .dataframe tbody tr th {\n",
       "        vertical-align: top;\n",
       "    }\n",
       "\n",
       "    .dataframe thead th {\n",
       "        text-align: right;\n",
       "    }\n",
       "</style>\n",
       "<table border=\"1\" class=\"dataframe\">\n",
       "  <thead>\n",
       "    <tr style=\"text-align: right;\">\n",
       "      <th></th>\n",
       "      <th>invoice_no</th>\n",
       "      <th>stock_code</th>\n",
       "      <th>description</th>\n",
       "      <th>quantity</th>\n",
       "      <th>invoice_date</th>\n",
       "      <th>unit_price</th>\n",
       "      <th>country</th>\n",
       "      <th>customer_id</th>\n",
       "    </tr>\n",
       "  </thead>\n",
       "  <tbody>\n",
       "  </tbody>\n",
       "</table>\n",
       "</div>"
      ],
      "text/plain": [
       "Empty DataFrame\n",
       "Columns: [invoice_no, stock_code, description, quantity, invoice_date, unit_price, country, customer_id]\n",
       "Index: []"
      ]
     },
     "execution_count": 27,
     "metadata": {},
     "output_type": "execute_result"
    }
   ],
   "source": [
    "df1[(df1['stock_code']=='D') & (df1['quantity']>0)]\n",
    "\n",
    "# will be removed with invoice letters"
   ]
  },
  {
   "cell_type": "code",
   "execution_count": 28,
   "metadata": {
    "ExecuteTime": {
     "end_time": "2023-09-09T18:53:38.068617Z",
     "start_time": "2023-09-09T18:53:37.992406Z"
    },
    "execution": {
     "iopub.execute_input": "2023-10-26T19:51:08.215306Z",
     "iopub.status.busy": "2023-10-26T19:51:08.214806Z",
     "iopub.status.idle": "2023-10-26T19:51:08.287567Z",
     "shell.execute_reply": "2023-10-26T19:51:08.286325Z",
     "shell.execute_reply.started": "2023-10-26T19:51:08.215265Z"
    },
    "hidden": true
   },
   "outputs": [
    {
     "data": {
      "text/html": [
       "<div>\n",
       "<style scoped>\n",
       "    .dataframe tbody tr th:only-of-type {\n",
       "        vertical-align: middle;\n",
       "    }\n",
       "\n",
       "    .dataframe tbody tr th {\n",
       "        vertical-align: top;\n",
       "    }\n",
       "\n",
       "    .dataframe thead th {\n",
       "        text-align: right;\n",
       "    }\n",
       "</style>\n",
       "<table border=\"1\" class=\"dataframe\">\n",
       "  <thead>\n",
       "    <tr style=\"text-align: right;\">\n",
       "      <th></th>\n",
       "      <th>invoice_no</th>\n",
       "      <th>stock_code</th>\n",
       "      <th>description</th>\n",
       "      <th>quantity</th>\n",
       "      <th>invoice_date</th>\n",
       "      <th>unit_price</th>\n",
       "      <th>country</th>\n",
       "      <th>customer_id</th>\n",
       "    </tr>\n",
       "  </thead>\n",
       "  <tbody>\n",
       "    <tr>\n",
       "      <th>1814</th>\n",
       "      <td>536544</td>\n",
       "      <td>DOT</td>\n",
       "      <td>DOTCOM POSTAGE</td>\n",
       "      <td>1</td>\n",
       "      <td>2016-11-29</td>\n",
       "      <td>569.77</td>\n",
       "      <td>United Kingdom</td>\n",
       "      <td>19001</td>\n",
       "    </tr>\n",
       "    <tr>\n",
       "      <th>3041</th>\n",
       "      <td>536592</td>\n",
       "      <td>DOT</td>\n",
       "      <td>DOTCOM POSTAGE</td>\n",
       "      <td>1</td>\n",
       "      <td>2016-11-29</td>\n",
       "      <td>607.49</td>\n",
       "      <td>United Kingdom</td>\n",
       "      <td>19014</td>\n",
       "    </tr>\n",
       "    <tr>\n",
       "      <th>5450</th>\n",
       "      <td>536862</td>\n",
       "      <td>DOT</td>\n",
       "      <td>DOTCOM POSTAGE</td>\n",
       "      <td>1</td>\n",
       "      <td>2016-12-01</td>\n",
       "      <td>254.43</td>\n",
       "      <td>United Kingdom</td>\n",
       "      <td>19023</td>\n",
       "    </tr>\n",
       "    <tr>\n",
       "      <th>5545</th>\n",
       "      <td>536864</td>\n",
       "      <td>DOT</td>\n",
       "      <td>DOTCOM POSTAGE</td>\n",
       "      <td>1</td>\n",
       "      <td>2016-12-01</td>\n",
       "      <td>121.06</td>\n",
       "      <td>United Kingdom</td>\n",
       "      <td>19024</td>\n",
       "    </tr>\n",
       "    <tr>\n",
       "      <th>5685</th>\n",
       "      <td>536865</td>\n",
       "      <td>DOT</td>\n",
       "      <td>DOTCOM POSTAGE</td>\n",
       "      <td>1</td>\n",
       "      <td>2016-12-01</td>\n",
       "      <td>498.47</td>\n",
       "      <td>United Kingdom</td>\n",
       "      <td>19025</td>\n",
       "    </tr>\n",
       "    <tr>\n",
       "      <th>...</th>\n",
       "      <td>...</td>\n",
       "      <td>...</td>\n",
       "      <td>...</td>\n",
       "      <td>...</td>\n",
       "      <td>...</td>\n",
       "      <td>...</td>\n",
       "      <td>...</td>\n",
       "      <td>...</td>\n",
       "    </tr>\n",
       "    <tr>\n",
       "      <th>536834</th>\n",
       "      <td>581219</td>\n",
       "      <td>DOT</td>\n",
       "      <td>DOTCOM POSTAGE</td>\n",
       "      <td>1</td>\n",
       "      <td>2017-12-06</td>\n",
       "      <td>1008.96</td>\n",
       "      <td>United Kingdom</td>\n",
       "      <td>22696</td>\n",
       "    </tr>\n",
       "    <tr>\n",
       "      <th>537254</th>\n",
       "      <td>581238</td>\n",
       "      <td>DOT</td>\n",
       "      <td>DOTCOM POSTAGE</td>\n",
       "      <td>1</td>\n",
       "      <td>2017-12-06</td>\n",
       "      <td>1683.75</td>\n",
       "      <td>United Kingdom</td>\n",
       "      <td>22699</td>\n",
       "    </tr>\n",
       "    <tr>\n",
       "      <th>539368</th>\n",
       "      <td>581439</td>\n",
       "      <td>DOT</td>\n",
       "      <td>DOTCOM POSTAGE</td>\n",
       "      <td>1</td>\n",
       "      <td>2017-12-06</td>\n",
       "      <td>938.59</td>\n",
       "      <td>United Kingdom</td>\n",
       "      <td>22706</td>\n",
       "    </tr>\n",
       "    <tr>\n",
       "      <th>540908</th>\n",
       "      <td>581492</td>\n",
       "      <td>DOT</td>\n",
       "      <td>DOTCOM POSTAGE</td>\n",
       "      <td>1</td>\n",
       "      <td>2017-12-07</td>\n",
       "      <td>933.17</td>\n",
       "      <td>United Kingdom</td>\n",
       "      <td>22707</td>\n",
       "    </tr>\n",
       "    <tr>\n",
       "      <th>541540</th>\n",
       "      <td>581498</td>\n",
       "      <td>DOT</td>\n",
       "      <td>DOTCOM POSTAGE</td>\n",
       "      <td>1</td>\n",
       "      <td>2017-12-07</td>\n",
       "      <td>1714.17</td>\n",
       "      <td>United Kingdom</td>\n",
       "      <td>22709</td>\n",
       "    </tr>\n",
       "  </tbody>\n",
       "</table>\n",
       "<p>710 rows × 8 columns</p>\n",
       "</div>"
      ],
      "text/plain": [
       "       invoice_no stock_code     description  quantity invoice_date  unit_price         country  customer_id\n",
       "1814       536544        DOT  DOTCOM POSTAGE         1   2016-11-29      569.77  United Kingdom        19001\n",
       "3041       536592        DOT  DOTCOM POSTAGE         1   2016-11-29      607.49  United Kingdom        19014\n",
       "5450       536862        DOT  DOTCOM POSTAGE         1   2016-12-01      254.43  United Kingdom        19023\n",
       "5545       536864        DOT  DOTCOM POSTAGE         1   2016-12-01      121.06  United Kingdom        19024\n",
       "5685       536865        DOT  DOTCOM POSTAGE         1   2016-12-01      498.47  United Kingdom        19025\n",
       "...           ...        ...             ...       ...          ...         ...             ...          ...\n",
       "536834     581219        DOT  DOTCOM POSTAGE         1   2017-12-06     1008.96  United Kingdom        22696\n",
       "537254     581238        DOT  DOTCOM POSTAGE         1   2017-12-06     1683.75  United Kingdom        22699\n",
       "539368     581439        DOT  DOTCOM POSTAGE         1   2017-12-06      938.59  United Kingdom        22706\n",
       "540908     581492        DOT  DOTCOM POSTAGE         1   2017-12-07      933.17  United Kingdom        22707\n",
       "541540     581498        DOT  DOTCOM POSTAGE         1   2017-12-07     1714.17  United Kingdom        22709\n",
       "\n",
       "[710 rows x 8 columns]"
      ]
     },
     "execution_count": 28,
     "metadata": {},
     "output_type": "execute_result"
    }
   ],
   "source": [
    "df1[df1['stock_code']=='DOT']\n",
    "\n",
    "# not remove"
   ]
  },
  {
   "cell_type": "code",
   "execution_count": 29,
   "metadata": {
    "ExecuteTime": {
     "end_time": "2023-09-09T18:53:38.140707Z",
     "start_time": "2023-09-09T18:53:38.073199Z"
    },
    "execution": {
     "iopub.execute_input": "2023-10-26T19:51:08.290519Z",
     "iopub.status.busy": "2023-10-26T19:51:08.289774Z",
     "iopub.status.idle": "2023-10-26T19:51:08.366598Z",
     "shell.execute_reply": "2023-10-26T19:51:08.365383Z",
     "shell.execute_reply.started": "2023-10-26T19:51:08.290460Z"
    },
    "hidden": true
   },
   "outputs": [
    {
     "data": {
      "text/html": [
       "<div>\n",
       "<style scoped>\n",
       "    .dataframe tbody tr th:only-of-type {\n",
       "        vertical-align: middle;\n",
       "    }\n",
       "\n",
       "    .dataframe tbody tr th {\n",
       "        vertical-align: top;\n",
       "    }\n",
       "\n",
       "    .dataframe thead th {\n",
       "        text-align: right;\n",
       "    }\n",
       "</style>\n",
       "<table border=\"1\" class=\"dataframe\">\n",
       "  <thead>\n",
       "    <tr style=\"text-align: right;\">\n",
       "      <th></th>\n",
       "      <th>invoice_no</th>\n",
       "      <th>stock_code</th>\n",
       "      <th>description</th>\n",
       "      <th>quantity</th>\n",
       "      <th>invoice_date</th>\n",
       "      <th>unit_price</th>\n",
       "      <th>country</th>\n",
       "      <th>customer_id</th>\n",
       "    </tr>\n",
       "  </thead>\n",
       "  <tbody>\n",
       "    <tr>\n",
       "      <th>2239</th>\n",
       "      <td>536569</td>\n",
       "      <td>M</td>\n",
       "      <td>Manual</td>\n",
       "      <td>1</td>\n",
       "      <td>2016-11-29</td>\n",
       "      <td>1.25</td>\n",
       "      <td>United Kingdom</td>\n",
       "      <td>16274</td>\n",
       "    </tr>\n",
       "    <tr>\n",
       "      <th>2250</th>\n",
       "      <td>536569</td>\n",
       "      <td>M</td>\n",
       "      <td>Manual</td>\n",
       "      <td>1</td>\n",
       "      <td>2016-11-29</td>\n",
       "      <td>18.95</td>\n",
       "      <td>United Kingdom</td>\n",
       "      <td>16274</td>\n",
       "    </tr>\n",
       "    <tr>\n",
       "      <th>5684</th>\n",
       "      <td>536865</td>\n",
       "      <td>M</td>\n",
       "      <td>Manual</td>\n",
       "      <td>1</td>\n",
       "      <td>2016-12-01</td>\n",
       "      <td>2.55</td>\n",
       "      <td>United Kingdom</td>\n",
       "      <td>19025</td>\n",
       "    </tr>\n",
       "    <tr>\n",
       "      <th>6798</th>\n",
       "      <td>536981</td>\n",
       "      <td>M</td>\n",
       "      <td>Manual</td>\n",
       "      <td>2</td>\n",
       "      <td>2016-12-01</td>\n",
       "      <td>0.85</td>\n",
       "      <td>United Kingdom</td>\n",
       "      <td>14723</td>\n",
       "    </tr>\n",
       "    <tr>\n",
       "      <th>7976</th>\n",
       "      <td>537077</td>\n",
       "      <td>M</td>\n",
       "      <td>Manual</td>\n",
       "      <td>12</td>\n",
       "      <td>2016-12-03</td>\n",
       "      <td>0.42</td>\n",
       "      <td>United Kingdom</td>\n",
       "      <td>17062</td>\n",
       "    </tr>\n",
       "    <tr>\n",
       "      <th>...</th>\n",
       "      <td>...</td>\n",
       "      <td>...</td>\n",
       "      <td>...</td>\n",
       "      <td>...</td>\n",
       "      <td>...</td>\n",
       "      <td>...</td>\n",
       "      <td>...</td>\n",
       "      <td>...</td>\n",
       "    </tr>\n",
       "    <tr>\n",
       "      <th>531432</th>\n",
       "      <td>580956</td>\n",
       "      <td>M</td>\n",
       "      <td>Manual</td>\n",
       "      <td>4</td>\n",
       "      <td>2017-12-04</td>\n",
       "      <td>1.25</td>\n",
       "      <td>United Kingdom</td>\n",
       "      <td>17841</td>\n",
       "    </tr>\n",
       "    <tr>\n",
       "      <th>533082</th>\n",
       "      <td>C581009</td>\n",
       "      <td>M</td>\n",
       "      <td>Manual</td>\n",
       "      <td>-1</td>\n",
       "      <td>2017-12-05</td>\n",
       "      <td>125.00</td>\n",
       "      <td>United Kingdom</td>\n",
       "      <td>16971</td>\n",
       "    </tr>\n",
       "    <tr>\n",
       "      <th>534308</th>\n",
       "      <td>C581145</td>\n",
       "      <td>M</td>\n",
       "      <td>Manual</td>\n",
       "      <td>-1</td>\n",
       "      <td>2017-12-05</td>\n",
       "      <td>9.95</td>\n",
       "      <td>United Kingdom</td>\n",
       "      <td>17490</td>\n",
       "    </tr>\n",
       "    <tr>\n",
       "      <th>538321</th>\n",
       "      <td>581405</td>\n",
       "      <td>M</td>\n",
       "      <td>Manual</td>\n",
       "      <td>3</td>\n",
       "      <td>2017-12-06</td>\n",
       "      <td>0.42</td>\n",
       "      <td>United Kingdom</td>\n",
       "      <td>13521</td>\n",
       "    </tr>\n",
       "    <tr>\n",
       "      <th>541541</th>\n",
       "      <td>C581499</td>\n",
       "      <td>M</td>\n",
       "      <td>Manual</td>\n",
       "      <td>-1</td>\n",
       "      <td>2017-12-07</td>\n",
       "      <td>224.69</td>\n",
       "      <td>United Kingdom</td>\n",
       "      <td>15498</td>\n",
       "    </tr>\n",
       "  </tbody>\n",
       "</table>\n",
       "<p>571 rows × 8 columns</p>\n",
       "</div>"
      ],
      "text/plain": [
       "       invoice_no stock_code description  quantity invoice_date  unit_price         country  customer_id\n",
       "2239       536569          M      Manual         1   2016-11-29        1.25  United Kingdom        16274\n",
       "2250       536569          M      Manual         1   2016-11-29       18.95  United Kingdom        16274\n",
       "5684       536865          M      Manual         1   2016-12-01        2.55  United Kingdom        19025\n",
       "6798       536981          M      Manual         2   2016-12-01        0.85  United Kingdom        14723\n",
       "7976       537077          M      Manual        12   2016-12-03        0.42  United Kingdom        17062\n",
       "...           ...        ...         ...       ...          ...         ...             ...          ...\n",
       "531432     580956          M      Manual         4   2017-12-04        1.25  United Kingdom        17841\n",
       "533082    C581009          M      Manual        -1   2017-12-05      125.00  United Kingdom        16971\n",
       "534308    C581145          M      Manual        -1   2017-12-05        9.95  United Kingdom        17490\n",
       "538321     581405          M      Manual         3   2017-12-06        0.42  United Kingdom        13521\n",
       "541541    C581499          M      Manual        -1   2017-12-07      224.69  United Kingdom        15498\n",
       "\n",
       "[571 rows x 8 columns]"
      ]
     },
     "execution_count": 29,
     "metadata": {},
     "output_type": "execute_result"
    }
   ],
   "source": [
    "df1[df1['stock_code']=='M']\n",
    "\n",
    "# not remove"
   ]
  },
  {
   "cell_type": "code",
   "execution_count": 30,
   "metadata": {
    "ExecuteTime": {
     "end_time": "2023-09-09T18:53:38.211183Z",
     "start_time": "2023-09-09T18:53:38.145016Z"
    },
    "execution": {
     "iopub.execute_input": "2023-10-26T19:51:08.368991Z",
     "iopub.status.busy": "2023-10-26T19:51:08.368302Z",
     "iopub.status.idle": "2023-10-26T19:51:08.448040Z",
     "shell.execute_reply": "2023-10-26T19:51:08.446628Z",
     "shell.execute_reply.started": "2023-10-26T19:51:08.368935Z"
    },
    "hidden": true
   },
   "outputs": [
    {
     "data": {
      "text/html": [
       "<div>\n",
       "<style scoped>\n",
       "    .dataframe tbody tr th:only-of-type {\n",
       "        vertical-align: middle;\n",
       "    }\n",
       "\n",
       "    .dataframe tbody tr th {\n",
       "        vertical-align: top;\n",
       "    }\n",
       "\n",
       "    .dataframe thead th {\n",
       "        text-align: right;\n",
       "    }\n",
       "</style>\n",
       "<table border=\"1\" class=\"dataframe\">\n",
       "  <thead>\n",
       "    <tr style=\"text-align: right;\">\n",
       "      <th></th>\n",
       "      <th>invoice_no</th>\n",
       "      <th>stock_code</th>\n",
       "      <th>description</th>\n",
       "      <th>quantity</th>\n",
       "      <th>invoice_date</th>\n",
       "      <th>unit_price</th>\n",
       "      <th>country</th>\n",
       "      <th>customer_id</th>\n",
       "    </tr>\n",
       "  </thead>\n",
       "  <tbody>\n",
       "    <tr>\n",
       "      <th>14436</th>\n",
       "      <td>C537581</td>\n",
       "      <td>S</td>\n",
       "      <td>SAMPLES</td>\n",
       "      <td>-1</td>\n",
       "      <td>2016-12-05</td>\n",
       "      <td>12.95</td>\n",
       "      <td>United Kingdom</td>\n",
       "      <td>19100</td>\n",
       "    </tr>\n",
       "    <tr>\n",
       "      <th>14437</th>\n",
       "      <td>C537581</td>\n",
       "      <td>S</td>\n",
       "      <td>SAMPLES</td>\n",
       "      <td>-1</td>\n",
       "      <td>2016-12-05</td>\n",
       "      <td>52.00</td>\n",
       "      <td>United Kingdom</td>\n",
       "      <td>19100</td>\n",
       "    </tr>\n",
       "    <tr>\n",
       "      <th>96680</th>\n",
       "      <td>C544580</td>\n",
       "      <td>S</td>\n",
       "      <td>SAMPLES</td>\n",
       "      <td>-1</td>\n",
       "      <td>2017-02-19</td>\n",
       "      <td>5.74</td>\n",
       "      <td>United Kingdom</td>\n",
       "      <td>19707</td>\n",
       "    </tr>\n",
       "    <tr>\n",
       "      <th>96681</th>\n",
       "      <td>C544580</td>\n",
       "      <td>S</td>\n",
       "      <td>SAMPLES</td>\n",
       "      <td>-1</td>\n",
       "      <td>2017-02-19</td>\n",
       "      <td>11.08</td>\n",
       "      <td>United Kingdom</td>\n",
       "      <td>19707</td>\n",
       "    </tr>\n",
       "    <tr>\n",
       "      <th>96682</th>\n",
       "      <td>C544580</td>\n",
       "      <td>S</td>\n",
       "      <td>SAMPLES</td>\n",
       "      <td>-1</td>\n",
       "      <td>2017-02-19</td>\n",
       "      <td>5.79</td>\n",
       "      <td>United Kingdom</td>\n",
       "      <td>19707</td>\n",
       "    </tr>\n",
       "    <tr>\n",
       "      <th>...</th>\n",
       "      <td>...</td>\n",
       "      <td>...</td>\n",
       "      <td>...</td>\n",
       "      <td>...</td>\n",
       "      <td>...</td>\n",
       "      <td>...</td>\n",
       "      <td>...</td>\n",
       "      <td>...</td>\n",
       "    </tr>\n",
       "    <tr>\n",
       "      <th>414147</th>\n",
       "      <td>C572347</td>\n",
       "      <td>S</td>\n",
       "      <td>SAMPLES</td>\n",
       "      <td>-1</td>\n",
       "      <td>2017-10-22</td>\n",
       "      <td>33.05</td>\n",
       "      <td>United Kingdom</td>\n",
       "      <td>22090</td>\n",
       "    </tr>\n",
       "    <tr>\n",
       "      <th>419666</th>\n",
       "      <td>572849</td>\n",
       "      <td>S</td>\n",
       "      <td>SAMPLES</td>\n",
       "      <td>1</td>\n",
       "      <td>2017-10-24</td>\n",
       "      <td>33.05</td>\n",
       "      <td>United Kingdom</td>\n",
       "      <td>22159</td>\n",
       "    </tr>\n",
       "    <tr>\n",
       "      <th>480961</th>\n",
       "      <td>C577330</td>\n",
       "      <td>S</td>\n",
       "      <td>SAMPLES</td>\n",
       "      <td>-1</td>\n",
       "      <td>2017-11-16</td>\n",
       "      <td>2.89</td>\n",
       "      <td>United Kingdom</td>\n",
       "      <td>22469</td>\n",
       "    </tr>\n",
       "    <tr>\n",
       "      <th>480962</th>\n",
       "      <td>C577330</td>\n",
       "      <td>S</td>\n",
       "      <td>SAMPLES</td>\n",
       "      <td>-1</td>\n",
       "      <td>2017-11-16</td>\n",
       "      <td>75.00</td>\n",
       "      <td>United Kingdom</td>\n",
       "      <td>22469</td>\n",
       "    </tr>\n",
       "    <tr>\n",
       "      <th>480963</th>\n",
       "      <td>C577330</td>\n",
       "      <td>S</td>\n",
       "      <td>SAMPLES</td>\n",
       "      <td>-1</td>\n",
       "      <td>2017-11-16</td>\n",
       "      <td>5.99</td>\n",
       "      <td>United Kingdom</td>\n",
       "      <td>22469</td>\n",
       "    </tr>\n",
       "  </tbody>\n",
       "</table>\n",
       "<p>63 rows × 8 columns</p>\n",
       "</div>"
      ],
      "text/plain": [
       "       invoice_no stock_code description  quantity invoice_date  unit_price         country  customer_id\n",
       "14436     C537581          S     SAMPLES        -1   2016-12-05       12.95  United Kingdom        19100\n",
       "14437     C537581          S     SAMPLES        -1   2016-12-05       52.00  United Kingdom        19100\n",
       "96680     C544580          S     SAMPLES        -1   2017-02-19        5.74  United Kingdom        19707\n",
       "96681     C544580          S     SAMPLES        -1   2017-02-19       11.08  United Kingdom        19707\n",
       "96682     C544580          S     SAMPLES        -1   2017-02-19        5.79  United Kingdom        19707\n",
       "...           ...        ...         ...       ...          ...         ...             ...          ...\n",
       "414147    C572347          S     SAMPLES        -1   2017-10-22       33.05  United Kingdom        22090\n",
       "419666     572849          S     SAMPLES         1   2017-10-24       33.05  United Kingdom        22159\n",
       "480961    C577330          S     SAMPLES        -1   2017-11-16        2.89  United Kingdom        22469\n",
       "480962    C577330          S     SAMPLES        -1   2017-11-16       75.00  United Kingdom        22469\n",
       "480963    C577330          S     SAMPLES        -1   2017-11-16        5.99  United Kingdom        22469\n",
       "\n",
       "[63 rows x 8 columns]"
      ]
     },
     "execution_count": 30,
     "metadata": {},
     "output_type": "execute_result"
    }
   ],
   "source": [
    "df1[df1['stock_code']=='S']"
   ]
  },
  {
   "cell_type": "code",
   "execution_count": 31,
   "metadata": {
    "ExecuteTime": {
     "end_time": "2023-09-09T18:53:38.278970Z",
     "start_time": "2023-09-09T18:53:38.214023Z"
    },
    "execution": {
     "iopub.execute_input": "2023-10-26T19:51:08.450444Z",
     "iopub.status.busy": "2023-10-26T19:51:08.449903Z",
     "iopub.status.idle": "2023-10-26T19:51:08.528099Z",
     "shell.execute_reply": "2023-10-26T19:51:08.527011Z",
     "shell.execute_reply.started": "2023-10-26T19:51:08.450397Z"
    },
    "hidden": true
   },
   "outputs": [
    {
     "data": {
      "text/html": [
       "<div>\n",
       "<style scoped>\n",
       "    .dataframe tbody tr th:only-of-type {\n",
       "        vertical-align: middle;\n",
       "    }\n",
       "\n",
       "    .dataframe tbody tr th {\n",
       "        vertical-align: top;\n",
       "    }\n",
       "\n",
       "    .dataframe thead th {\n",
       "        text-align: right;\n",
       "    }\n",
       "</style>\n",
       "<table border=\"1\" class=\"dataframe\">\n",
       "  <thead>\n",
       "    <tr style=\"text-align: right;\">\n",
       "      <th></th>\n",
       "      <th>invoice_no</th>\n",
       "      <th>stock_code</th>\n",
       "      <th>description</th>\n",
       "      <th>quantity</th>\n",
       "      <th>invoice_date</th>\n",
       "      <th>unit_price</th>\n",
       "      <th>country</th>\n",
       "      <th>customer_id</th>\n",
       "    </tr>\n",
       "  </thead>\n",
       "  <tbody>\n",
       "    <tr>\n",
       "      <th>152709</th>\n",
       "      <td>549684</td>\n",
       "      <td>S</td>\n",
       "      <td>SAMPLES</td>\n",
       "      <td>1</td>\n",
       "      <td>2017-04-09</td>\n",
       "      <td>30.00</td>\n",
       "      <td>United Kingdom</td>\n",
       "      <td>20307</td>\n",
       "    </tr>\n",
       "    <tr>\n",
       "      <th>419666</th>\n",
       "      <td>572849</td>\n",
       "      <td>S</td>\n",
       "      <td>SAMPLES</td>\n",
       "      <td>1</td>\n",
       "      <td>2017-10-24</td>\n",
       "      <td>33.05</td>\n",
       "      <td>United Kingdom</td>\n",
       "      <td>22159</td>\n",
       "    </tr>\n",
       "  </tbody>\n",
       "</table>\n",
       "</div>"
      ],
      "text/plain": [
       "       invoice_no stock_code description  quantity invoice_date  unit_price         country  customer_id\n",
       "152709     549684          S     SAMPLES         1   2017-04-09       30.00  United Kingdom        20307\n",
       "419666     572849          S     SAMPLES         1   2017-10-24       33.05  United Kingdom        22159"
      ]
     },
     "execution_count": 31,
     "metadata": {},
     "output_type": "execute_result"
    }
   ],
   "source": [
    "df1[(df1['stock_code']=='S') & (df1['quantity']>0)]\n",
    "\n",
    "# not remove"
   ]
  },
  {
   "cell_type": "code",
   "execution_count": 32,
   "metadata": {
    "ExecuteTime": {
     "end_time": "2023-09-09T18:53:38.349071Z",
     "start_time": "2023-09-09T18:53:38.282178Z"
    },
    "execution": {
     "iopub.execute_input": "2023-10-26T19:51:08.530373Z",
     "iopub.status.busy": "2023-10-26T19:51:08.529855Z",
     "iopub.status.idle": "2023-10-26T19:51:08.601625Z",
     "shell.execute_reply": "2023-10-26T19:51:08.600231Z",
     "shell.execute_reply.started": "2023-10-26T19:51:08.530324Z"
    },
    "hidden": true
   },
   "outputs": [
    {
     "data": {
      "text/html": [
       "<div>\n",
       "<style scoped>\n",
       "    .dataframe tbody tr th:only-of-type {\n",
       "        vertical-align: middle;\n",
       "    }\n",
       "\n",
       "    .dataframe tbody tr th {\n",
       "        vertical-align: top;\n",
       "    }\n",
       "\n",
       "    .dataframe thead th {\n",
       "        text-align: right;\n",
       "    }\n",
       "</style>\n",
       "<table border=\"1\" class=\"dataframe\">\n",
       "  <thead>\n",
       "    <tr style=\"text-align: right;\">\n",
       "      <th></th>\n",
       "      <th>invoice_no</th>\n",
       "      <th>stock_code</th>\n",
       "      <th>description</th>\n",
       "      <th>quantity</th>\n",
       "      <th>invoice_date</th>\n",
       "      <th>unit_price</th>\n",
       "      <th>country</th>\n",
       "      <th>customer_id</th>\n",
       "    </tr>\n",
       "  </thead>\n",
       "  <tbody>\n",
       "    <tr>\n",
       "      <th>14514</th>\n",
       "      <td>C537600</td>\n",
       "      <td>AMAZONFEE</td>\n",
       "      <td>AMAZON FEE</td>\n",
       "      <td>-1</td>\n",
       "      <td>2016-12-05</td>\n",
       "      <td>1.00</td>\n",
       "      <td>United Kingdom</td>\n",
       "      <td>19101</td>\n",
       "    </tr>\n",
       "    <tr>\n",
       "      <th>15016</th>\n",
       "      <td>C537630</td>\n",
       "      <td>AMAZONFEE</td>\n",
       "      <td>AMAZON FEE</td>\n",
       "      <td>-1</td>\n",
       "      <td>2016-12-05</td>\n",
       "      <td>13541.33</td>\n",
       "      <td>United Kingdom</td>\n",
       "      <td>19105</td>\n",
       "    </tr>\n",
       "    <tr>\n",
       "      <th>15017</th>\n",
       "      <td>537632</td>\n",
       "      <td>AMAZONFEE</td>\n",
       "      <td>AMAZON FEE</td>\n",
       "      <td>1</td>\n",
       "      <td>2016-12-05</td>\n",
       "      <td>13541.33</td>\n",
       "      <td>United Kingdom</td>\n",
       "      <td>19106</td>\n",
       "    </tr>\n",
       "    <tr>\n",
       "      <th>16232</th>\n",
       "      <td>C537644</td>\n",
       "      <td>AMAZONFEE</td>\n",
       "      <td>AMAZON FEE</td>\n",
       "      <td>-1</td>\n",
       "      <td>2016-12-05</td>\n",
       "      <td>13474.79</td>\n",
       "      <td>United Kingdom</td>\n",
       "      <td>19116</td>\n",
       "    </tr>\n",
       "    <tr>\n",
       "      <th>16313</th>\n",
       "      <td>C537647</td>\n",
       "      <td>AMAZONFEE</td>\n",
       "      <td>AMAZON FEE</td>\n",
       "      <td>-1</td>\n",
       "      <td>2016-12-05</td>\n",
       "      <td>5519.25</td>\n",
       "      <td>United Kingdom</td>\n",
       "      <td>19117</td>\n",
       "    </tr>\n",
       "  </tbody>\n",
       "</table>\n",
       "</div>"
      ],
      "text/plain": [
       "      invoice_no stock_code description  quantity invoice_date  unit_price         country  customer_id\n",
       "14514    C537600  AMAZONFEE  AMAZON FEE        -1   2016-12-05        1.00  United Kingdom        19101\n",
       "15016    C537630  AMAZONFEE  AMAZON FEE        -1   2016-12-05    13541.33  United Kingdom        19105\n",
       "15017     537632  AMAZONFEE  AMAZON FEE         1   2016-12-05    13541.33  United Kingdom        19106\n",
       "16232    C537644  AMAZONFEE  AMAZON FEE        -1   2016-12-05    13474.79  United Kingdom        19116\n",
       "16313    C537647  AMAZONFEE  AMAZON FEE        -1   2016-12-05     5519.25  United Kingdom        19117"
      ]
     },
     "execution_count": 32,
     "metadata": {},
     "output_type": "execute_result"
    }
   ],
   "source": [
    "df1[df1['stock_code']=='AMAZONFEE'].head()\n",
    "\n",
    "# remove"
   ]
  },
  {
   "cell_type": "code",
   "execution_count": 33,
   "metadata": {
    "ExecuteTime": {
     "end_time": "2023-09-09T18:53:38.416670Z",
     "start_time": "2023-09-09T18:53:38.352594Z"
    },
    "execution": {
     "iopub.execute_input": "2023-10-26T19:51:08.604543Z",
     "iopub.status.busy": "2023-10-26T19:51:08.603365Z",
     "iopub.status.idle": "2023-10-26T19:51:08.683835Z",
     "shell.execute_reply": "2023-10-26T19:51:08.682293Z",
     "shell.execute_reply.started": "2023-10-26T19:51:08.604481Z"
    },
    "hidden": true
   },
   "outputs": [
    {
     "data": {
      "text/html": [
       "<div>\n",
       "<style scoped>\n",
       "    .dataframe tbody tr th:only-of-type {\n",
       "        vertical-align: middle;\n",
       "    }\n",
       "\n",
       "    .dataframe tbody tr th {\n",
       "        vertical-align: top;\n",
       "    }\n",
       "\n",
       "    .dataframe thead th {\n",
       "        text-align: right;\n",
       "    }\n",
       "</style>\n",
       "<table border=\"1\" class=\"dataframe\">\n",
       "  <thead>\n",
       "    <tr style=\"text-align: right;\">\n",
       "      <th></th>\n",
       "      <th>invoice_no</th>\n",
       "      <th>stock_code</th>\n",
       "      <th>description</th>\n",
       "      <th>quantity</th>\n",
       "      <th>invoice_date</th>\n",
       "      <th>unit_price</th>\n",
       "      <th>country</th>\n",
       "      <th>customer_id</th>\n",
       "    </tr>\n",
       "  </thead>\n",
       "  <tbody>\n",
       "    <tr>\n",
       "      <th>40383</th>\n",
       "      <td>539736</td>\n",
       "      <td>m</td>\n",
       "      <td>Manual</td>\n",
       "      <td>1</td>\n",
       "      <td>2016-12-19</td>\n",
       "      <td>2.55</td>\n",
       "      <td>United Kingdom</td>\n",
       "      <td>19282</td>\n",
       "    </tr>\n",
       "  </tbody>\n",
       "</table>\n",
       "</div>"
      ],
      "text/plain": [
       "      invoice_no stock_code description  quantity invoice_date  unit_price         country  customer_id\n",
       "40383     539736          m      Manual         1   2016-12-19        2.55  United Kingdom        19282"
      ]
     },
     "execution_count": 33,
     "metadata": {},
     "output_type": "execute_result"
    }
   ],
   "source": [
    "df1[df1['stock_code']=='m']\n",
    "\n",
    "# not remove"
   ]
  },
  {
   "cell_type": "code",
   "execution_count": 34,
   "metadata": {
    "ExecuteTime": {
     "end_time": "2023-09-09T18:53:38.481644Z",
     "start_time": "2023-09-09T18:53:38.420142Z"
    },
    "execution": {
     "iopub.execute_input": "2023-10-26T19:51:08.687263Z",
     "iopub.status.busy": "2023-10-26T19:51:08.685798Z",
     "iopub.status.idle": "2023-10-26T19:51:08.769428Z",
     "shell.execute_reply": "2023-10-26T19:51:08.768235Z",
     "shell.execute_reply.started": "2023-10-26T19:51:08.687199Z"
    },
    "hidden": true
   },
   "outputs": [
    {
     "data": {
      "text/html": [
       "<div>\n",
       "<style scoped>\n",
       "    .dataframe tbody tr th:only-of-type {\n",
       "        vertical-align: middle;\n",
       "    }\n",
       "\n",
       "    .dataframe tbody tr th {\n",
       "        vertical-align: top;\n",
       "    }\n",
       "\n",
       "    .dataframe thead th {\n",
       "        text-align: right;\n",
       "    }\n",
       "</style>\n",
       "<table border=\"1\" class=\"dataframe\">\n",
       "  <thead>\n",
       "    <tr style=\"text-align: right;\">\n",
       "      <th></th>\n",
       "      <th>invoice_no</th>\n",
       "      <th>stock_code</th>\n",
       "      <th>description</th>\n",
       "      <th>quantity</th>\n",
       "      <th>invoice_date</th>\n",
       "      <th>unit_price</th>\n",
       "      <th>country</th>\n",
       "      <th>customer_id</th>\n",
       "    </tr>\n",
       "  </thead>\n",
       "  <tbody>\n",
       "    <tr>\n",
       "      <th>84016</th>\n",
       "      <td>543358</td>\n",
       "      <td>DCGSSBOY</td>\n",
       "      <td>BOYS PARTY BAG</td>\n",
       "      <td>1</td>\n",
       "      <td>2017-02-05</td>\n",
       "      <td>3.29</td>\n",
       "      <td>United Kingdom</td>\n",
       "      <td>19614</td>\n",
       "    </tr>\n",
       "    <tr>\n",
       "      <th>97246</th>\n",
       "      <td>544599</td>\n",
       "      <td>DCGSSBOY</td>\n",
       "      <td>BOYS PARTY BAG</td>\n",
       "      <td>1</td>\n",
       "      <td>2017-02-19</td>\n",
       "      <td>3.29</td>\n",
       "      <td>United Kingdom</td>\n",
       "      <td>19715</td>\n",
       "    </tr>\n",
       "    <tr>\n",
       "      <th>112723</th>\n",
       "      <td>545897</td>\n",
       "      <td>DCGSSBOY</td>\n",
       "      <td>BOYS PARTY BAG</td>\n",
       "      <td>5</td>\n",
       "      <td>2017-03-05</td>\n",
       "      <td>3.29</td>\n",
       "      <td>United Kingdom</td>\n",
       "      <td>19801</td>\n",
       "    </tr>\n",
       "    <tr>\n",
       "      <th>116891</th>\n",
       "      <td>546306</td>\n",
       "      <td>DCGSSBOY</td>\n",
       "      <td>BOYS PARTY BAG</td>\n",
       "      <td>1</td>\n",
       "      <td>2017-03-08</td>\n",
       "      <td>3.29</td>\n",
       "      <td>United Kingdom</td>\n",
       "      <td>19843</td>\n",
       "    </tr>\n",
       "    <tr>\n",
       "      <th>128107</th>\n",
       "      <td>547249</td>\n",
       "      <td>DCGSSBOY</td>\n",
       "      <td>BOYS PARTY BAG</td>\n",
       "      <td>6</td>\n",
       "      <td>2017-03-20</td>\n",
       "      <td>3.29</td>\n",
       "      <td>United Kingdom</td>\n",
       "      <td>19916</td>\n",
       "    </tr>\n",
       "  </tbody>\n",
       "</table>\n",
       "</div>"
      ],
      "text/plain": [
       "       invoice_no stock_code     description  quantity invoice_date  unit_price         country  customer_id\n",
       "84016      543358   DCGSSBOY  BOYS PARTY BAG         1   2017-02-05        3.29  United Kingdom        19614\n",
       "97246      544599   DCGSSBOY  BOYS PARTY BAG         1   2017-02-19        3.29  United Kingdom        19715\n",
       "112723     545897   DCGSSBOY  BOYS PARTY BAG         5   2017-03-05        3.29  United Kingdom        19801\n",
       "116891     546306   DCGSSBOY  BOYS PARTY BAG         1   2017-03-08        3.29  United Kingdom        19843\n",
       "128107     547249   DCGSSBOY  BOYS PARTY BAG         6   2017-03-20        3.29  United Kingdom        19916"
      ]
     },
     "execution_count": 34,
     "metadata": {},
     "output_type": "execute_result"
    }
   ],
   "source": [
    "df1[df1['stock_code']=='DCGSSBOY'].head()\n",
    "\n",
    "# not remove"
   ]
  },
  {
   "cell_type": "code",
   "execution_count": 35,
   "metadata": {
    "ExecuteTime": {
     "end_time": "2023-09-09T18:53:38.546160Z",
     "start_time": "2023-09-09T18:53:38.485121Z"
    },
    "execution": {
     "iopub.execute_input": "2023-10-26T19:51:08.771740Z",
     "iopub.status.busy": "2023-10-26T19:51:08.771053Z",
     "iopub.status.idle": "2023-10-26T19:51:08.843922Z",
     "shell.execute_reply": "2023-10-26T19:51:08.842637Z",
     "shell.execute_reply.started": "2023-10-26T19:51:08.771691Z"
    },
    "hidden": true
   },
   "outputs": [
    {
     "data": {
      "text/html": [
       "<div>\n",
       "<style scoped>\n",
       "    .dataframe tbody tr th:only-of-type {\n",
       "        vertical-align: middle;\n",
       "    }\n",
       "\n",
       "    .dataframe tbody tr th {\n",
       "        vertical-align: top;\n",
       "    }\n",
       "\n",
       "    .dataframe thead th {\n",
       "        text-align: right;\n",
       "    }\n",
       "</style>\n",
       "<table border=\"1\" class=\"dataframe\">\n",
       "  <thead>\n",
       "    <tr style=\"text-align: right;\">\n",
       "      <th></th>\n",
       "      <th>invoice_no</th>\n",
       "      <th>stock_code</th>\n",
       "      <th>description</th>\n",
       "      <th>quantity</th>\n",
       "      <th>invoice_date</th>\n",
       "      <th>unit_price</th>\n",
       "      <th>country</th>\n",
       "      <th>customer_id</th>\n",
       "    </tr>\n",
       "  </thead>\n",
       "  <tbody>\n",
       "    <tr>\n",
       "      <th>84017</th>\n",
       "      <td>543358</td>\n",
       "      <td>DCGSSGIRL</td>\n",
       "      <td>GIRLS PARTY BAG</td>\n",
       "      <td>3</td>\n",
       "      <td>2017-02-05</td>\n",
       "      <td>3.29</td>\n",
       "      <td>United Kingdom</td>\n",
       "      <td>19614</td>\n",
       "    </tr>\n",
       "    <tr>\n",
       "      <th>112724</th>\n",
       "      <td>545897</td>\n",
       "      <td>DCGSSGIRL</td>\n",
       "      <td>GIRLS PARTY BAG</td>\n",
       "      <td>5</td>\n",
       "      <td>2017-03-05</td>\n",
       "      <td>3.29</td>\n",
       "      <td>United Kingdom</td>\n",
       "      <td>19801</td>\n",
       "    </tr>\n",
       "    <tr>\n",
       "      <th>116892</th>\n",
       "      <td>546306</td>\n",
       "      <td>DCGSSGIRL</td>\n",
       "      <td>GIRLS PARTY BAG</td>\n",
       "      <td>2</td>\n",
       "      <td>2017-03-08</td>\n",
       "      <td>3.29</td>\n",
       "      <td>United Kingdom</td>\n",
       "      <td>19843</td>\n",
       "    </tr>\n",
       "    <tr>\n",
       "      <th>128108</th>\n",
       "      <td>547249</td>\n",
       "      <td>DCGSSGIRL</td>\n",
       "      <td>GIRLS PARTY BAG</td>\n",
       "      <td>17</td>\n",
       "      <td>2017-03-20</td>\n",
       "      <td>3.29</td>\n",
       "      <td>United Kingdom</td>\n",
       "      <td>19916</td>\n",
       "    </tr>\n",
       "    <tr>\n",
       "      <th>128269</th>\n",
       "      <td>547250</td>\n",
       "      <td>DCGSSGIRL</td>\n",
       "      <td>GIRLS PARTY BAG</td>\n",
       "      <td>2</td>\n",
       "      <td>2017-03-20</td>\n",
       "      <td>3.29</td>\n",
       "      <td>United Kingdom</td>\n",
       "      <td>19917</td>\n",
       "    </tr>\n",
       "  </tbody>\n",
       "</table>\n",
       "</div>"
      ],
      "text/plain": [
       "       invoice_no stock_code      description  quantity invoice_date  unit_price         country  customer_id\n",
       "84017      543358  DCGSSGIRL  GIRLS PARTY BAG         3   2017-02-05        3.29  United Kingdom        19614\n",
       "112724     545897  DCGSSGIRL  GIRLS PARTY BAG         5   2017-03-05        3.29  United Kingdom        19801\n",
       "116892     546306  DCGSSGIRL  GIRLS PARTY BAG         2   2017-03-08        3.29  United Kingdom        19843\n",
       "128108     547249  DCGSSGIRL  GIRLS PARTY BAG        17   2017-03-20        3.29  United Kingdom        19916\n",
       "128269     547250  DCGSSGIRL  GIRLS PARTY BAG         2   2017-03-20        3.29  United Kingdom        19917"
      ]
     },
     "execution_count": 35,
     "metadata": {},
     "output_type": "execute_result"
    }
   ],
   "source": [
    "df1[df1['stock_code']=='DCGSSGIRL'].head()\n",
    "\n",
    "# not remove"
   ]
  },
  {
   "cell_type": "code",
   "execution_count": 36,
   "metadata": {
    "ExecuteTime": {
     "end_time": "2023-09-09T18:53:38.556063Z",
     "start_time": "2023-09-09T18:53:38.549316Z"
    },
    "execution": {
     "iopub.execute_input": "2023-10-26T19:51:08.846435Z",
     "iopub.status.busy": "2023-10-26T19:51:08.845799Z",
     "iopub.status.idle": "2023-10-26T19:51:08.853172Z",
     "shell.execute_reply": "2023-10-26T19:51:08.850886Z",
     "shell.execute_reply.started": "2023-10-26T19:51:08.846383Z"
    },
    "hidden": true
   },
   "outputs": [],
   "source": [
    "# df1[df1['stock_code']=='PADS'].head()\n",
    "\n",
    "# removed with low price"
   ]
  },
  {
   "cell_type": "code",
   "execution_count": 37,
   "metadata": {
    "ExecuteTime": {
     "end_time": "2023-09-09T18:53:38.619511Z",
     "start_time": "2023-09-09T18:53:38.558968Z"
    },
    "execution": {
     "iopub.execute_input": "2023-10-26T19:51:08.855836Z",
     "iopub.status.busy": "2023-10-26T19:51:08.855131Z",
     "iopub.status.idle": "2023-10-26T19:51:08.934956Z",
     "shell.execute_reply": "2023-10-26T19:51:08.933526Z",
     "shell.execute_reply.started": "2023-10-26T19:51:08.855773Z"
    },
    "hidden": true
   },
   "outputs": [
    {
     "data": {
      "text/html": [
       "<div>\n",
       "<style scoped>\n",
       "    .dataframe tbody tr th:only-of-type {\n",
       "        vertical-align: middle;\n",
       "    }\n",
       "\n",
       "    .dataframe tbody tr th {\n",
       "        vertical-align: top;\n",
       "    }\n",
       "\n",
       "    .dataframe thead th {\n",
       "        text-align: right;\n",
       "    }\n",
       "</style>\n",
       "<table border=\"1\" class=\"dataframe\">\n",
       "  <thead>\n",
       "    <tr style=\"text-align: right;\">\n",
       "      <th></th>\n",
       "      <th>invoice_no</th>\n",
       "      <th>stock_code</th>\n",
       "      <th>description</th>\n",
       "      <th>quantity</th>\n",
       "      <th>invoice_date</th>\n",
       "      <th>unit_price</th>\n",
       "      <th>country</th>\n",
       "      <th>customer_id</th>\n",
       "    </tr>\n",
       "  </thead>\n",
       "  <tbody>\n",
       "    <tr>\n",
       "      <th>299982</th>\n",
       "      <td>A563185</td>\n",
       "      <td>B</td>\n",
       "      <td>Adjust bad debt</td>\n",
       "      <td>1</td>\n",
       "      <td>2017-08-10</td>\n",
       "      <td>11062.06</td>\n",
       "      <td>United Kingdom</td>\n",
       "      <td>21497</td>\n",
       "    </tr>\n",
       "    <tr>\n",
       "      <th>299983</th>\n",
       "      <td>A563186</td>\n",
       "      <td>B</td>\n",
       "      <td>Adjust bad debt</td>\n",
       "      <td>1</td>\n",
       "      <td>2017-08-10</td>\n",
       "      <td>-11062.06</td>\n",
       "      <td>United Kingdom</td>\n",
       "      <td>21498</td>\n",
       "    </tr>\n",
       "    <tr>\n",
       "      <th>299984</th>\n",
       "      <td>A563187</td>\n",
       "      <td>B</td>\n",
       "      <td>Adjust bad debt</td>\n",
       "      <td>1</td>\n",
       "      <td>2017-08-10</td>\n",
       "      <td>-11062.06</td>\n",
       "      <td>United Kingdom</td>\n",
       "      <td>21499</td>\n",
       "    </tr>\n",
       "  </tbody>\n",
       "</table>\n",
       "</div>"
      ],
      "text/plain": [
       "       invoice_no stock_code      description  quantity invoice_date  unit_price         country  customer_id\n",
       "299982    A563185          B  Adjust bad debt         1   2017-08-10    11062.06  United Kingdom        21497\n",
       "299983    A563186          B  Adjust bad debt         1   2017-08-10   -11062.06  United Kingdom        21498\n",
       "299984    A563187          B  Adjust bad debt         1   2017-08-10   -11062.06  United Kingdom        21499"
      ]
     },
     "execution_count": 37,
     "metadata": {},
     "output_type": "execute_result"
    }
   ],
   "source": [
    "df1[df1['stock_code']=='B']\n",
    "\n",
    "# remove"
   ]
  },
  {
   "cell_type": "code",
   "execution_count": 38,
   "metadata": {
    "ExecuteTime": {
     "end_time": "2023-09-09T18:53:38.627465Z",
     "start_time": "2023-09-09T18:53:38.623442Z"
    },
    "execution": {
     "iopub.execute_input": "2023-10-26T19:51:08.937853Z",
     "iopub.status.busy": "2023-10-26T19:51:08.937239Z",
     "iopub.status.idle": "2023-10-26T19:51:08.946235Z",
     "shell.execute_reply": "2023-10-26T19:51:08.942593Z",
     "shell.execute_reply.started": "2023-10-26T19:51:08.937795Z"
    },
    "hidden": true
   },
   "outputs": [],
   "source": [
    "# df1[df1['stock_code']=='CRUK'].head()\n",
    "\n",
    "# will be removed with invoice letters"
   ]
  },
  {
   "cell_type": "markdown",
   "metadata": {
    "hidden": true
   },
   "source": [
    "TO REMOVE: 'AMAZONFEE', 'B'"
   ]
  },
  {
   "cell_type": "markdown",
   "metadata": {
    "heading_collapsed": true,
    "hidden": true,
    "jp-MarkdownHeadingCollapsed": true
   },
   "source": [
    "#### 1.6.2.3 Description"
   ]
  },
  {
   "cell_type": "code",
   "execution_count": 39,
   "metadata": {
    "ExecuteTime": {
     "end_time": "2023-09-09T18:53:38.650986Z",
     "start_time": "2023-09-09T18:53:38.631143Z"
    },
    "execution": {
     "iopub.execute_input": "2023-10-26T19:51:08.949855Z",
     "iopub.status.busy": "2023-10-26T19:51:08.949059Z",
     "iopub.status.idle": "2023-10-26T19:51:08.977677Z",
     "shell.execute_reply": "2023-10-26T19:51:08.975173Z",
     "shell.execute_reply.started": "2023-10-26T19:51:08.949739Z"
    },
    "hidden": true
   },
   "outputs": [
    {
     "data": {
      "text/html": [
       "<div>\n",
       "<style scoped>\n",
       "    .dataframe tbody tr th:only-of-type {\n",
       "        vertical-align: middle;\n",
       "    }\n",
       "\n",
       "    .dataframe tbody tr th {\n",
       "        vertical-align: top;\n",
       "    }\n",
       "\n",
       "    .dataframe thead th {\n",
       "        text-align: right;\n",
       "    }\n",
       "</style>\n",
       "<table border=\"1\" class=\"dataframe\">\n",
       "  <thead>\n",
       "    <tr style=\"text-align: right;\">\n",
       "      <th></th>\n",
       "      <th>invoice_no</th>\n",
       "      <th>stock_code</th>\n",
       "      <th>description</th>\n",
       "      <th>quantity</th>\n",
       "      <th>invoice_date</th>\n",
       "      <th>unit_price</th>\n",
       "      <th>country</th>\n",
       "      <th>customer_id</th>\n",
       "    </tr>\n",
       "  </thead>\n",
       "  <tbody>\n",
       "    <tr>\n",
       "      <th>0</th>\n",
       "      <td>536365</td>\n",
       "      <td>85123A</td>\n",
       "      <td>WHITE HANGING HEART T-LIGHT HOLDER</td>\n",
       "      <td>6</td>\n",
       "      <td>2016-11-29</td>\n",
       "      <td>2.55</td>\n",
       "      <td>United Kingdom</td>\n",
       "      <td>17850</td>\n",
       "    </tr>\n",
       "    <tr>\n",
       "      <th>1</th>\n",
       "      <td>536365</td>\n",
       "      <td>71053</td>\n",
       "      <td>WHITE METAL LANTERN</td>\n",
       "      <td>6</td>\n",
       "      <td>2016-11-29</td>\n",
       "      <td>3.39</td>\n",
       "      <td>United Kingdom</td>\n",
       "      <td>17850</td>\n",
       "    </tr>\n",
       "    <tr>\n",
       "      <th>2</th>\n",
       "      <td>536365</td>\n",
       "      <td>84406B</td>\n",
       "      <td>CREAM CUPID HEARTS COAT HANGER</td>\n",
       "      <td>8</td>\n",
       "      <td>2016-11-29</td>\n",
       "      <td>2.75</td>\n",
       "      <td>United Kingdom</td>\n",
       "      <td>17850</td>\n",
       "    </tr>\n",
       "    <tr>\n",
       "      <th>3</th>\n",
       "      <td>536365</td>\n",
       "      <td>84029G</td>\n",
       "      <td>KNITTED UNION FLAG HOT WATER BOTTLE</td>\n",
       "      <td>6</td>\n",
       "      <td>2016-11-29</td>\n",
       "      <td>3.39</td>\n",
       "      <td>United Kingdom</td>\n",
       "      <td>17850</td>\n",
       "    </tr>\n",
       "    <tr>\n",
       "      <th>4</th>\n",
       "      <td>536365</td>\n",
       "      <td>84029E</td>\n",
       "      <td>RED WOOLLY HOTTIE WHITE HEART.</td>\n",
       "      <td>6</td>\n",
       "      <td>2016-11-29</td>\n",
       "      <td>3.39</td>\n",
       "      <td>United Kingdom</td>\n",
       "      <td>17850</td>\n",
       "    </tr>\n",
       "  </tbody>\n",
       "</table>\n",
       "</div>"
      ],
      "text/plain": [
       "  invoice_no stock_code                          description  quantity invoice_date  unit_price         country  customer_id\n",
       "0     536365     85123A   WHITE HANGING HEART T-LIGHT HOLDER         6   2016-11-29        2.55  United Kingdom        17850\n",
       "1     536365      71053                  WHITE METAL LANTERN         6   2016-11-29        3.39  United Kingdom        17850\n",
       "2     536365     84406B       CREAM CUPID HEARTS COAT HANGER         8   2016-11-29        2.75  United Kingdom        17850\n",
       "3     536365     84029G  KNITTED UNION FLAG HOT WATER BOTTLE         6   2016-11-29        3.39  United Kingdom        17850\n",
       "4     536365     84029E       RED WOOLLY HOTTIE WHITE HEART.         6   2016-11-29        3.39  United Kingdom        17850"
      ]
     },
     "execution_count": 39,
     "metadata": {},
     "output_type": "execute_result"
    }
   ],
   "source": [
    "df1.head()"
   ]
  },
  {
   "cell_type": "markdown",
   "metadata": {
    "heading_collapsed": true,
    "hidden": true
   },
   "source": [
    "#### 1.6.2.4 Country"
   ]
  },
  {
   "cell_type": "code",
   "execution_count": 40,
   "metadata": {
    "ExecuteTime": {
     "end_time": "2023-09-09T18:53:38.717713Z",
     "start_time": "2023-09-09T18:53:38.654357Z"
    },
    "execution": {
     "iopub.execute_input": "2023-10-26T19:51:08.980747Z",
     "iopub.status.busy": "2023-10-26T19:51:08.980026Z",
     "iopub.status.idle": "2023-10-26T19:51:09.048950Z",
     "shell.execute_reply": "2023-10-26T19:51:09.047419Z",
     "shell.execute_reply.started": "2023-10-26T19:51:08.980656Z"
    },
    "hidden": true
   },
   "outputs": [
    {
     "data": {
      "text/plain": [
       "country\n",
       "United Kingdom    0.914320\n",
       "Germany           0.017521\n",
       "France            0.015790\n",
       "EIRE              0.015124\n",
       "Spain             0.004674\n",
       "Name: proportion, dtype: float64"
      ]
     },
     "execution_count": 40,
     "metadata": {},
     "output_type": "execute_result"
    }
   ],
   "source": [
    "df1['country'].value_counts(normalize=True).head()"
   ]
  },
  {
   "cell_type": "code",
   "execution_count": 41,
   "metadata": {
    "ExecuteTime": {
     "end_time": "2023-09-09T18:53:38.805222Z",
     "start_time": "2023-09-09T18:53:38.721492Z"
    },
    "execution": {
     "iopub.execute_input": "2023-10-26T19:51:09.051163Z",
     "iopub.status.busy": "2023-10-26T19:51:09.050692Z",
     "iopub.status.idle": "2023-10-26T19:51:09.141813Z",
     "shell.execute_reply": "2023-10-26T19:51:09.140473Z",
     "shell.execute_reply.started": "2023-10-26T19:51:09.051128Z"
    },
    "hidden": true
   },
   "outputs": [
    {
     "data": {
      "text/html": [
       "<div>\n",
       "<style scoped>\n",
       "    .dataframe tbody tr th:only-of-type {\n",
       "        vertical-align: middle;\n",
       "    }\n",
       "\n",
       "    .dataframe tbody tr th {\n",
       "        vertical-align: top;\n",
       "    }\n",
       "\n",
       "    .dataframe thead th {\n",
       "        text-align: right;\n",
       "    }\n",
       "</style>\n",
       "<table border=\"1\" class=\"dataframe\">\n",
       "  <thead>\n",
       "    <tr style=\"text-align: right;\">\n",
       "      <th></th>\n",
       "      <th>country</th>\n",
       "      <th>customer_id</th>\n",
       "    </tr>\n",
       "  </thead>\n",
       "  <tbody>\n",
       "    <tr>\n",
       "      <th>36</th>\n",
       "      <td>United Kingdom</td>\n",
       "      <td>7587</td>\n",
       "    </tr>\n",
       "    <tr>\n",
       "      <th>14</th>\n",
       "      <td>Germany</td>\n",
       "      <td>95</td>\n",
       "    </tr>\n",
       "    <tr>\n",
       "      <th>13</th>\n",
       "      <td>France</td>\n",
       "      <td>90</td>\n",
       "    </tr>\n",
       "    <tr>\n",
       "      <th>10</th>\n",
       "      <td>EIRE</td>\n",
       "      <td>44</td>\n",
       "    </tr>\n",
       "    <tr>\n",
       "      <th>31</th>\n",
       "      <td>Spain</td>\n",
       "      <td>31</td>\n",
       "    </tr>\n",
       "    <tr>\n",
       "      <th>3</th>\n",
       "      <td>Belgium</td>\n",
       "      <td>25</td>\n",
       "    </tr>\n",
       "    <tr>\n",
       "      <th>33</th>\n",
       "      <td>Switzerland</td>\n",
       "      <td>24</td>\n",
       "    </tr>\n",
       "    <tr>\n",
       "      <th>27</th>\n",
       "      <td>Portugal</td>\n",
       "      <td>20</td>\n",
       "    </tr>\n",
       "    <tr>\n",
       "      <th>19</th>\n",
       "      <td>Italy</td>\n",
       "      <td>15</td>\n",
       "    </tr>\n",
       "    <tr>\n",
       "      <th>16</th>\n",
       "      <td>Hong Kong</td>\n",
       "      <td>15</td>\n",
       "    </tr>\n",
       "    <tr>\n",
       "      <th>12</th>\n",
       "      <td>Finland</td>\n",
       "      <td>12</td>\n",
       "    </tr>\n",
       "    <tr>\n",
       "      <th>1</th>\n",
       "      <td>Austria</td>\n",
       "      <td>11</td>\n",
       "    </tr>\n",
       "    <tr>\n",
       "      <th>25</th>\n",
       "      <td>Norway</td>\n",
       "      <td>10</td>\n",
       "    </tr>\n",
       "    <tr>\n",
       "      <th>24</th>\n",
       "      <td>Netherlands</td>\n",
       "      <td>9</td>\n",
       "    </tr>\n",
       "    <tr>\n",
       "      <th>0</th>\n",
       "      <td>Australia</td>\n",
       "      <td>9</td>\n",
       "    </tr>\n",
       "    <tr>\n",
       "      <th>37</th>\n",
       "      <td>Unspecified</td>\n",
       "      <td>9</td>\n",
       "    </tr>\n",
       "    <tr>\n",
       "      <th>9</th>\n",
       "      <td>Denmark</td>\n",
       "      <td>9</td>\n",
       "    </tr>\n",
       "    <tr>\n",
       "      <th>6</th>\n",
       "      <td>Channel Islands</td>\n",
       "      <td>9</td>\n",
       "    </tr>\n",
       "    <tr>\n",
       "      <th>7</th>\n",
       "      <td>Cyprus</td>\n",
       "      <td>8</td>\n",
       "    </tr>\n",
       "    <tr>\n",
       "      <th>32</th>\n",
       "      <td>Sweden</td>\n",
       "      <td>8</td>\n",
       "    </tr>\n",
       "    <tr>\n",
       "      <th>20</th>\n",
       "      <td>Japan</td>\n",
       "      <td>8</td>\n",
       "    </tr>\n",
       "    <tr>\n",
       "      <th>18</th>\n",
       "      <td>Israel</td>\n",
       "      <td>7</td>\n",
       "    </tr>\n",
       "    <tr>\n",
       "      <th>26</th>\n",
       "      <td>Poland</td>\n",
       "      <td>6</td>\n",
       "    </tr>\n",
       "    <tr>\n",
       "      <th>5</th>\n",
       "      <td>Canada</td>\n",
       "      <td>4</td>\n",
       "    </tr>\n",
       "    <tr>\n",
       "      <th>34</th>\n",
       "      <td>USA</td>\n",
       "      <td>4</td>\n",
       "    </tr>\n",
       "    <tr>\n",
       "      <th>2</th>\n",
       "      <td>Bahrain</td>\n",
       "      <td>4</td>\n",
       "    </tr>\n",
       "    <tr>\n",
       "      <th>15</th>\n",
       "      <td>Greece</td>\n",
       "      <td>4</td>\n",
       "    </tr>\n",
       "    <tr>\n",
       "      <th>23</th>\n",
       "      <td>Malta</td>\n",
       "      <td>2</td>\n",
       "    </tr>\n",
       "    <tr>\n",
       "      <th>35</th>\n",
       "      <td>United Arab Emirates</td>\n",
       "      <td>2</td>\n",
       "    </tr>\n",
       "    <tr>\n",
       "      <th>8</th>\n",
       "      <td>Czech Republic</td>\n",
       "      <td>1</td>\n",
       "    </tr>\n",
       "    <tr>\n",
       "      <th>22</th>\n",
       "      <td>Lithuania</td>\n",
       "      <td>1</td>\n",
       "    </tr>\n",
       "    <tr>\n",
       "      <th>11</th>\n",
       "      <td>European Community</td>\n",
       "      <td>1</td>\n",
       "    </tr>\n",
       "    <tr>\n",
       "      <th>21</th>\n",
       "      <td>Lebanon</td>\n",
       "      <td>1</td>\n",
       "    </tr>\n",
       "    <tr>\n",
       "      <th>28</th>\n",
       "      <td>RSA</td>\n",
       "      <td>1</td>\n",
       "    </tr>\n",
       "    <tr>\n",
       "      <th>29</th>\n",
       "      <td>Saudi Arabia</td>\n",
       "      <td>1</td>\n",
       "    </tr>\n",
       "    <tr>\n",
       "      <th>30</th>\n",
       "      <td>Singapore</td>\n",
       "      <td>1</td>\n",
       "    </tr>\n",
       "    <tr>\n",
       "      <th>17</th>\n",
       "      <td>Iceland</td>\n",
       "      <td>1</td>\n",
       "    </tr>\n",
       "    <tr>\n",
       "      <th>4</th>\n",
       "      <td>Brazil</td>\n",
       "      <td>1</td>\n",
       "    </tr>\n",
       "  </tbody>\n",
       "</table>\n",
       "</div>"
      ],
      "text/plain": [
       "                 country  customer_id\n",
       "36        United Kingdom         7587\n",
       "14               Germany           95\n",
       "13                France           90\n",
       "10                  EIRE           44\n",
       "31                 Spain           31\n",
       "3                Belgium           25\n",
       "33           Switzerland           24\n",
       "27              Portugal           20\n",
       "19                 Italy           15\n",
       "16             Hong Kong           15\n",
       "12               Finland           12\n",
       "1                Austria           11\n",
       "25                Norway           10\n",
       "24           Netherlands            9\n",
       "0              Australia            9\n",
       "37           Unspecified            9\n",
       "9                Denmark            9\n",
       "6        Channel Islands            9\n",
       "7                 Cyprus            8\n",
       "32                Sweden            8\n",
       "20                 Japan            8\n",
       "18                Israel            7\n",
       "26                Poland            6\n",
       "5                 Canada            4\n",
       "34                   USA            4\n",
       "2                Bahrain            4\n",
       "15                Greece            4\n",
       "23                 Malta            2\n",
       "35  United Arab Emirates            2\n",
       "8         Czech Republic            1\n",
       "22             Lithuania            1\n",
       "11    European Community            1\n",
       "21               Lebanon            1\n",
       "28                   RSA            1\n",
       "29          Saudi Arabia            1\n",
       "30             Singapore            1\n",
       "17               Iceland            1\n",
       "4                 Brazil            1"
      ]
     },
     "execution_count": 41,
     "metadata": {},
     "output_type": "execute_result"
    }
   ],
   "source": [
    "df1[['customer_id', 'country']].drop_duplicates().groupby('country').count().reset_index().sort_values('customer_id', ascending=False)"
   ]
  },
  {
   "cell_type": "markdown",
   "metadata": {
    "heading_collapsed": true,
    "jp-MarkdownHeadingCollapsed": true
   },
   "source": [
    "# 2.0 Variable filtering "
   ]
  },
  {
   "cell_type": "code",
   "execution_count": 42,
   "metadata": {
    "ExecuteTime": {
     "end_time": "2023-09-09T18:53:38.872122Z",
     "start_time": "2023-09-09T18:53:38.808757Z"
    },
    "execution": {
     "iopub.execute_input": "2023-10-26T19:51:09.146327Z",
     "iopub.status.busy": "2023-10-26T19:51:09.143952Z",
     "iopub.status.idle": "2023-10-26T19:51:09.237580Z",
     "shell.execute_reply": "2023-10-26T19:51:09.236358Z",
     "shell.execute_reply.started": "2023-10-26T19:51:09.146252Z"
    },
    "hidden": true
   },
   "outputs": [],
   "source": [
    "df2 = df1.copy()"
   ]
  },
  {
   "cell_type": "code",
   "execution_count": 43,
   "metadata": {
    "ExecuteTime": {
     "end_time": "2023-09-09T18:53:39.104725Z",
     "start_time": "2023-09-09T18:53:38.875294Z"
    },
    "execution": {
     "iopub.execute_input": "2023-10-26T19:51:09.239806Z",
     "iopub.status.busy": "2023-10-26T19:51:09.239314Z",
     "iopub.status.idle": "2023-10-26T19:51:09.585871Z",
     "shell.execute_reply": "2023-10-26T19:51:09.584654Z",
     "shell.execute_reply.started": "2023-10-26T19:51:09.239760Z"
    },
    "hidden": true
   },
   "outputs": [
    {
     "name": "stdout",
     "output_type": "stream",
     "text": [
      "% of the data lost : 0.011%\n"
     ]
    }
   ],
   "source": [
    "# unit price\n",
    "df2 = df2.loc[df2['unit_price'] >= 0.04]\n",
    "\n",
    "# stock code\n",
    "df2 = df2[~df2['stock_code'].isin(['POST', 'D', 'DOT', 'M', 'S', 'AMAZONFEE', 'm', 'DCGSSBOY', 'DCGSSGIRL', 'PADS', 'B', 'CRUK']) ]\n",
    "\n",
    "# description\n",
    "df2 = df2.drop(columns='description', axis=1)\n",
    "\n",
    "df2 = df2[~df2['country'].isin(['European Community', 'Unspecified' ]) ]\n",
    "\n",
    "# bad users\n",
    "df2=df2[~df2['customer_id'].isin([12346,16446,21497,21498,21499])]\n",
    "\n",
    "# quantity\n",
    "df2_returns = df2.loc[df1['quantity'] < 0]\n",
    "\n",
    "# purchases\n",
    "df2_purchases = df2.loc[df1['quantity'] >= 0]\n",
    "\n",
    "\n",
    "print('% of the data lost : {:.3f}%'.format(1-(df2.shape[0] / df1.shape[0])))"
   ]
  },
  {
   "cell_type": "markdown",
   "metadata": {
    "jp-MarkdownHeadingCollapsed": true
   },
   "source": [
    "# 3.0 Feature engineering "
   ]
  },
  {
   "cell_type": "code",
   "execution_count": 44,
   "metadata": {
    "ExecuteTime": {
     "end_time": "2023-09-09T19:34:41.499616Z",
     "start_time": "2023-09-09T19:34:41.480645Z"
    },
    "execution": {
     "iopub.execute_input": "2023-10-26T19:51:09.588024Z",
     "iopub.status.busy": "2023-10-26T19:51:09.587552Z",
     "iopub.status.idle": "2023-10-26T19:51:09.624813Z",
     "shell.execute_reply": "2023-10-26T19:51:09.623187Z",
     "shell.execute_reply.started": "2023-10-26T19:51:09.587989Z"
    }
   },
   "outputs": [],
   "source": [
    "df3 = df2.copy()"
   ]
  },
  {
   "cell_type": "markdown",
   "metadata": {},
   "source": [
    "## 3.1 Feature creation"
   ]
  },
  {
   "cell_type": "code",
   "execution_count": 45,
   "metadata": {
    "ExecuteTime": {
     "end_time": "2023-09-09T19:34:41.768588Z",
     "start_time": "2023-09-09T19:34:41.752163Z"
    },
    "execution": {
     "iopub.execute_input": "2023-10-26T19:51:09.627038Z",
     "iopub.status.busy": "2023-10-26T19:51:09.626433Z",
     "iopub.status.idle": "2023-10-26T19:51:09.650559Z",
     "shell.execute_reply": "2023-10-26T19:51:09.648937Z",
     "shell.execute_reply.started": "2023-10-26T19:51:09.626991Z"
    }
   },
   "outputs": [],
   "source": [
    "# data reference\n",
    "df_ref = df3.drop(['invoice_no', 'stock_code', \n",
    "                    'quantity', 'invoice_date', 'unit_price', \n",
    "                    'country'], axis=1).drop_duplicates(ignore_index=True)"
   ]
  },
  {
   "cell_type": "markdown",
   "metadata": {},
   "source": [
    "### 3.1.1 Gross revenue"
   ]
  },
  {
   "cell_type": "code",
   "execution_count": 46,
   "metadata": {
    "ExecuteTime": {
     "end_time": "2023-09-09T19:34:42.129295Z",
     "start_time": "2023-09-09T19:34:42.077832Z"
    },
    "execution": {
     "iopub.execute_input": "2023-10-26T19:51:09.653522Z",
     "iopub.status.busy": "2023-10-26T19:51:09.652363Z",
     "iopub.status.idle": "2023-10-26T19:51:09.735357Z",
     "shell.execute_reply": "2023-10-26T19:51:09.733762Z",
     "shell.execute_reply.started": "2023-10-26T19:51:09.653454Z"
    }
   },
   "outputs": [
    {
     "data": {
      "text/plain": [
       "customer_id       0\n",
       "gross_revenue    91\n",
       "dtype: int64"
      ]
     },
     "execution_count": 46,
     "metadata": {},
     "output_type": "execute_result"
    }
   ],
   "source": [
    "# quantity * price\n",
    "df2_purchases['gross_revenue'] = df2_purchases['quantity'] * df2_purchases['unit_price']\n",
    "\n",
    "# Monetary\n",
    "df_monetary = df2_purchases[['customer_id', 'gross_revenue']].groupby('customer_id').sum().reset_index()\n",
    "df_ref = pd.merge(df_ref, df_monetary, on='customer_id', how='left')\n",
    "df_ref.isna().sum()"
   ]
  },
  {
   "cell_type": "markdown",
   "metadata": {},
   "source": [
    "### 3.1.2 Average ticket value "
   ]
  },
  {
   "cell_type": "code",
   "execution_count": 47,
   "metadata": {
    "ExecuteTime": {
     "end_time": "2023-09-09T19:34:42.665903Z",
     "start_time": "2023-09-09T19:34:42.630217Z"
    },
    "execution": {
     "iopub.execute_input": "2023-10-26T19:51:09.738108Z",
     "iopub.status.busy": "2023-10-26T19:51:09.737315Z",
     "iopub.status.idle": "2023-10-26T19:51:09.800377Z",
     "shell.execute_reply": "2023-10-26T19:51:09.798740Z",
     "shell.execute_reply.started": "2023-10-26T19:51:09.738054Z"
    }
   },
   "outputs": [
    {
     "data": {
      "text/plain": [
       "customer_id       0\n",
       "gross_revenue    91\n",
       "avg_ticket       91\n",
       "dtype: int64"
      ]
     },
     "execution_count": 47,
     "metadata": {},
     "output_type": "execute_result"
    }
   ],
   "source": [
    "# average gross revenue\n",
    "df_avg_ticket = df2_purchases[['customer_id', 'gross_revenue']].groupby('customer_id').mean().reset_index().rename(columns={'gross_revenue':'avg_ticket'})\n",
    "df_ref = pd.merge(df_ref, df_avg_ticket, on='customer_id', how='left')\n",
    "df_ref.isna().sum()"
   ]
  },
  {
   "cell_type": "markdown",
   "metadata": {},
   "source": [
    "### 3.1.2 Recency"
   ]
  },
  {
   "cell_type": "code",
   "execution_count": 48,
   "metadata": {
    "ExecuteTime": {
     "end_time": "2023-09-09T19:34:43.472971Z",
     "start_time": "2023-09-09T19:34:43.439295Z"
    },
    "execution": {
     "iopub.execute_input": "2023-10-26T19:51:09.803243Z",
     "iopub.status.busy": "2023-10-26T19:51:09.802644Z",
     "iopub.status.idle": "2023-10-26T19:51:09.875459Z",
     "shell.execute_reply": "2023-10-26T19:51:09.873617Z",
     "shell.execute_reply.started": "2023-10-26T19:51:09.803191Z"
    }
   },
   "outputs": [
    {
     "data": {
      "text/plain": [
       "customer_id       0\n",
       "gross_revenue    91\n",
       "avg_ticket       91\n",
       "recency_days     91\n",
       "dtype: int64"
      ]
     },
     "execution_count": 48,
     "metadata": {},
     "output_type": "execute_result"
    }
   ],
   "source": [
    "# how many days since last purchase\n",
    "df_recency = df2_purchases.loc[:, ['customer_id', 'invoice_date']].groupby('customer_id').max().reset_index()\n",
    "df_recency['recency_days'] = (df2['invoice_date'].max() - df_recency['invoice_date']).dt.days\n",
    "df_recency = df_recency[['customer_id', 'recency_days']].copy()\n",
    "df_ref = pd.merge(df_ref, df_recency, on='customer_id', how='left')\n",
    "df_ref.isna().sum()"
   ]
  },
  {
   "cell_type": "markdown",
   "metadata": {
    "jp-MarkdownHeadingCollapsed": true
   },
   "source": [
    "### 3.1.3 Frequency "
   ]
  },
  {
   "cell_type": "code",
   "execution_count": 49,
   "metadata": {
    "ExecuteTime": {
     "end_time": "2023-09-09T19:53:15.004904Z",
     "start_time": "2023-09-09T19:53:13.436381Z"
    },
    "execution": {
     "iopub.execute_input": "2023-10-26T19:51:09.878878Z",
     "iopub.status.busy": "2023-10-26T19:51:09.878188Z",
     "iopub.status.idle": "2023-10-26T19:51:11.476292Z",
     "shell.execute_reply": "2023-10-26T19:51:11.475057Z",
     "shell.execute_reply.started": "2023-10-26T19:51:09.878814Z"
    }
   },
   "outputs": [
    {
     "data": {
      "text/plain": [
       "customer_id       0\n",
       "gross_revenue    91\n",
       "avg_ticket       91\n",
       "recency_days     91\n",
       "frequency        91\n",
       "dtype: int64"
      ]
     },
     "execution_count": 49,
     "metadata": {},
     "output_type": "execute_result"
    }
   ],
   "source": [
    "# frequency of purchases\n",
    "df_aux = (df2_purchases[['customer_id', 'invoice_no', 'invoice_date']].drop_duplicates()\n",
    "                                                             .groupby('customer_id')\n",
    "                                                             .agg(max_ = ('invoice_date', 'max'), \n",
    "                                                                   min_ = ('invoice_date', 'min'),\n",
    "                                                                   days_= ('invoice_date', lambda x: ((x.max() - x.min()).days) + 1),\n",
    "                                                                   buy_ = ('invoice_no', 'count'))).reset_index()\n",
    "# # Frequency\n",
    "df_aux['frequency'] = df_aux[['buy_', 'days_']].apply(lambda x: x['buy_'] / x['days_'] if  x['days_'] != 0 else 0, axis=1)\n",
    "\n",
    "# # Merge\n",
    "df_ref = pd.merge(df_ref, df_aux[['customer_id', 'frequency']], on='customer_id', how='left')\n",
    "\n",
    "df_ref.isna().sum()"
   ]
  },
  {
   "cell_type": "markdown",
   "metadata": {
    "jp-MarkdownHeadingCollapsed": true
   },
   "source": [
    "### 3.1.4 Total invoices"
   ]
  },
  {
   "cell_type": "code",
   "execution_count": 50,
   "metadata": {
    "ExecuteTime": {
     "end_time": "2023-09-09T18:59:55.339885Z",
     "start_time": "2023-09-09T18:59:55.244182Z"
    },
    "execution": {
     "iopub.execute_input": "2023-10-26T19:51:11.479083Z",
     "iopub.status.busy": "2023-10-26T19:51:11.478167Z",
     "iopub.status.idle": "2023-10-26T19:51:11.592548Z",
     "shell.execute_reply": "2023-10-26T19:51:11.590912Z",
     "shell.execute_reply.started": "2023-10-26T19:51:11.479036Z"
    }
   },
   "outputs": [
    {
     "data": {
      "text/plain": [
       "customer_id        0\n",
       "gross_revenue     91\n",
       "avg_ticket        91\n",
       "recency_days      91\n",
       "frequency         91\n",
       "total_invoices    91\n",
       "dtype: int64"
      ]
     },
     "execution_count": 50,
     "metadata": {},
     "output_type": "execute_result"
    }
   ],
   "source": [
    "# total of invoices\n",
    "df_freq = (df2_purchases.loc[:, ['customer_id', 'invoice_no']].drop_duplicates()\n",
    "                                                             .groupby('customer_id')\n",
    "                                                             .count()\n",
    "                                                             .reset_index()\n",
    "                                                             .rename(columns={'invoice_no': 'total_invoices'}))\n",
    "\n",
    "df_ref = pd.merge(df_ref, df_freq, on='customer_id', how='left')\n",
    "df_ref.isna().sum()"
   ]
  },
  {
   "cell_type": "markdown",
   "metadata": {},
   "source": [
    "### 3.1.5 Total of items purchased "
   ]
  },
  {
   "cell_type": "code",
   "execution_count": 51,
   "metadata": {
    "ExecuteTime": {
     "end_time": "2023-09-09T18:59:56.150748Z",
     "start_time": "2023-09-09T18:59:56.105570Z"
    },
    "execution": {
     "iopub.execute_input": "2023-10-26T19:51:11.595348Z",
     "iopub.status.busy": "2023-10-26T19:51:11.594733Z",
     "iopub.status.idle": "2023-10-26T19:51:11.641050Z",
     "shell.execute_reply": "2023-10-26T19:51:11.639590Z",
     "shell.execute_reply.started": "2023-10-26T19:51:11.595269Z"
    }
   },
   "outputs": [
    {
     "data": {
      "text/plain": [
       "customer_id        0\n",
       "gross_revenue     91\n",
       "avg_ticket        91\n",
       "recency_days      91\n",
       "frequency         91\n",
       "total_invoices    91\n",
       "items             91\n",
       "dtype: int64"
      ]
     },
     "execution_count": 51,
     "metadata": {},
     "output_type": "execute_result"
    }
   ],
   "source": [
    "# number of products purchases\n",
    "df_freq = (df2_purchases.loc[:, ['customer_id', 'quantity']].groupby('customer_id').sum()\n",
    "                                                           .reset_index()\n",
    "                                                           .rename(columns={'quantity': 'items'}))\n",
    "df_ref = pd.merge(df_ref, df_freq, on='customer_id', how='left')\n",
    "df_ref.isna().sum()"
   ]
  },
  {
   "cell_type": "markdown",
   "metadata": {},
   "source": [
    "### 3.1.6 Total of different items purchased "
   ]
  },
  {
   "cell_type": "code",
   "execution_count": 52,
   "metadata": {
    "ExecuteTime": {
     "end_time": "2023-09-09T18:59:57.141893Z",
     "start_time": "2023-09-09T18:59:57.070600Z"
    },
    "execution": {
     "iopub.execute_input": "2023-10-26T19:51:11.643897Z",
     "iopub.status.busy": "2023-10-26T19:51:11.642958Z",
     "iopub.status.idle": "2023-10-26T19:51:11.725850Z",
     "shell.execute_reply": "2023-10-26T19:51:11.724606Z",
     "shell.execute_reply.started": "2023-10-26T19:51:11.643850Z"
    }
   },
   "outputs": [
    {
     "data": {
      "text/plain": [
       "customer_id        0\n",
       "gross_revenue     91\n",
       "avg_ticket        91\n",
       "recency_days      91\n",
       "frequency         91\n",
       "total_invoices    91\n",
       "items             91\n",
       "products          91\n",
       "dtype: int64"
      ]
     },
     "execution_count": 52,
     "metadata": {},
     "output_type": "execute_result"
    }
   ],
   "source": [
    "# number of different items purchased\n",
    "df_freq = (df2_purchases.loc[:, ['customer_id', 'stock_code']].groupby('customer_id').count()\n",
    "                                                           .reset_index()\n",
    "                                                           .rename(columns={'stock_code': 'products'}))\n",
    "df_ref = pd.merge(df_ref, df_freq, on='customer_id', how='left')\n",
    "df_ref.isna().sum()"
   ]
  },
  {
   "cell_type": "markdown",
   "metadata": {},
   "source": [
    "### 3.1.9 Basket size "
   ]
  },
  {
   "cell_type": "code",
   "execution_count": 53,
   "metadata": {
    "ExecuteTime": {
     "end_time": "2023-09-09T18:59:58.048517Z",
     "start_time": "2023-09-09T18:59:57.931448Z"
    },
    "execution": {
     "iopub.execute_input": "2023-10-26T19:51:11.728502Z",
     "iopub.status.busy": "2023-10-26T19:51:11.727297Z",
     "iopub.status.idle": "2023-10-26T19:51:11.839600Z",
     "shell.execute_reply": "2023-10-26T19:51:11.838178Z",
     "shell.execute_reply.started": "2023-10-26T19:51:11.728444Z"
    }
   },
   "outputs": [
    {
     "data": {
      "text/plain": [
       "customer_id         0\n",
       "gross_revenue      91\n",
       "avg_ticket         91\n",
       "recency_days       91\n",
       "frequency          91\n",
       "total_invoices     91\n",
       "items              91\n",
       "products           91\n",
       "avg_basket_size    91\n",
       "dtype: int64"
      ]
     },
     "execution_count": 53,
     "metadata": {},
     "output_type": "execute_result"
    }
   ],
   "source": [
    "# quantity of items per invoice\n",
    "df_aux = (df2_purchases.loc[:, ['customer_id', 'invoice_no', 'quantity']].groupby('customer_id')\n",
    "                                                                            .agg(n_purchase=('invoice_no', 'nunique'),\n",
    "                                                                                  n_products=('quantity', 'sum'))\n",
    "                                                                            .reset_index())\n",
    "\n",
    "# calculation\n",
    "df_aux['avg_basket_size'] = df_aux['n_products'] / df_aux['n_purchase']\n",
    "\n",
    "# merge\n",
    "df_ref = pd.merge(df_ref, df_aux[['customer_id', 'avg_basket_size']], how='left', on='customer_id')\n",
    "df_ref.isna().sum()"
   ]
  },
  {
   "cell_type": "markdown",
   "metadata": {},
   "source": [
    "### 3.2.0 Unique basket size "
   ]
  },
  {
   "cell_type": "code",
   "execution_count": 54,
   "metadata": {
    "ExecuteTime": {
     "end_time": "2023-09-09T18:59:59.257670Z",
     "start_time": "2023-09-09T18:59:58.967325Z"
    },
    "execution": {
     "iopub.execute_input": "2023-10-26T19:51:11.841441Z",
     "iopub.status.busy": "2023-10-26T19:51:11.840983Z",
     "iopub.status.idle": "2023-10-26T19:51:12.126549Z",
     "shell.execute_reply": "2023-10-26T19:51:12.125440Z",
     "shell.execute_reply.started": "2023-10-26T19:51:11.841403Z"
    }
   },
   "outputs": [
    {
     "data": {
      "text/plain": [
       "customer_id                0\n",
       "gross_revenue             91\n",
       "avg_ticket                91\n",
       "recency_days              91\n",
       "frequency                 91\n",
       "total_invoices            91\n",
       "items                     91\n",
       "products                  91\n",
       "avg_basket_size           91\n",
       "avg_unique_basket_size    91\n",
       "dtype: int64"
      ]
     },
     "execution_count": 54,
     "metadata": {},
     "output_type": "execute_result"
    }
   ],
   "source": [
    "# quantity of different items per invoice\n",
    "df_aux = (df2_purchases.loc[:, ['customer_id', 'invoice_no', 'stock_code']].groupby('customer_id')\n",
    "                                                                            .agg(n_purchase=('invoice_no', 'nunique'),\n",
    "                                                                                   n_products=('stock_code', 'nunique'))\n",
    "                                                                            .reset_index())\n",
    "\n",
    "# calculation\n",
    "df_aux['avg_unique_basket_size'] = df_aux['n_products'] / df_aux['n_purchase']\n",
    "\n",
    "# merge\n",
    "df_ref = pd.merge(df_ref, df_aux[['customer_id', 'avg_unique_basket_size']], how='left', on='customer_id')\n",
    "df_ref.isna().sum()"
   ]
  },
  {
   "cell_type": "markdown",
   "metadata": {},
   "source": [
    "### 3.1.7 Returns "
   ]
  },
  {
   "cell_type": "code",
   "execution_count": 55,
   "metadata": {
    "ExecuteTime": {
     "end_time": "2023-09-09T19:00:00.933940Z",
     "start_time": "2023-09-09T19:00:00.914477Z"
    },
    "execution": {
     "iopub.execute_input": "2023-10-26T19:51:12.128832Z",
     "iopub.status.busy": "2023-10-26T19:51:12.127862Z",
     "iopub.status.idle": "2023-10-26T19:51:12.175351Z",
     "shell.execute_reply": "2023-10-26T19:51:12.172944Z",
     "shell.execute_reply.started": "2023-10-26T19:51:12.128797Z"
    }
   },
   "outputs": [
    {
     "data": {
      "text/plain": [
       "customer_id                0\n",
       "gross_revenue             91\n",
       "avg_ticket                91\n",
       "recency_days              91\n",
       "frequency                 91\n",
       "total_invoices            91\n",
       "items                     91\n",
       "products                  91\n",
       "avg_basket_size           91\n",
       "avg_unique_basket_size    91\n",
       "returns_qtt                0\n",
       "dtype: int64"
      ]
     },
     "execution_count": 55,
     "metadata": {},
     "output_type": "execute_result"
    }
   ],
   "source": [
    "# total number of returns\n",
    "df_returns = df2_returns[['customer_id', 'quantity']].groupby('customer_id').sum().reset_index().rename(columns={'quantity':'returns_qtt'})\n",
    "df_returns['returns_qtt'] = df_returns['returns_qtt'] * -1\n",
    "\n",
    "df_ref = pd.merge(df_ref, df_returns, how='left', on='customer_id')\n",
    "df_ref.loc[df_ref['returns_qtt'].isna(), 'returns_qtt'] = 0\n",
    "\n",
    "df_ref.isna().sum()"
   ]
  },
  {
   "cell_type": "code",
   "execution_count": 56,
   "metadata": {
    "execution": {
     "iopub.execute_input": "2023-10-26T19:51:12.177277Z",
     "iopub.status.busy": "2023-10-26T19:51:12.176831Z",
     "iopub.status.idle": "2023-10-26T19:51:12.196740Z",
     "shell.execute_reply": "2023-10-26T19:51:12.195117Z",
     "shell.execute_reply.started": "2023-10-26T19:51:12.177237Z"
    }
   },
   "outputs": [
    {
     "data": {
      "text/plain": [
       "customer_id               0\n",
       "gross_revenue             0\n",
       "avg_ticket                0\n",
       "recency_days              0\n",
       "frequency                 0\n",
       "total_invoices            0\n",
       "items                     0\n",
       "products                  0\n",
       "avg_basket_size           0\n",
       "avg_unique_basket_size    0\n",
       "returns_qtt               0\n",
       "dtype: int64"
      ]
     },
     "execution_count": 56,
     "metadata": {},
     "output_type": "execute_result"
    }
   ],
   "source": [
    "df_ref = df_ref.dropna()\n",
    "df_ref.isna().sum()"
   ]
  },
  {
   "cell_type": "markdown",
   "metadata": {
    "heading_collapsed": true,
    "jp-MarkdownHeadingCollapsed": true
   },
   "source": [
    "# 4.0 <s>EDA (Exploratory Data Analysis)<s/> "
   ]
  },
  {
   "cell_type": "code",
   "execution_count": 57,
   "metadata": {
    "ExecuteTime": {
     "end_time": "2023-09-05T19:11:54.346423Z",
     "start_time": "2023-09-05T19:11:54.324979Z"
    },
    "execution": {
     "iopub.execute_input": "2023-10-26T19:51:12.200880Z",
     "iopub.status.busy": "2023-10-26T19:51:12.200292Z",
     "iopub.status.idle": "2023-10-26T19:51:12.209518Z",
     "shell.execute_reply": "2023-10-26T19:51:12.206965Z",
     "shell.execute_reply.started": "2023-10-26T19:51:12.200822Z"
    },
    "hidden": true
   },
   "outputs": [],
   "source": [
    "df4 = df_ref.copy()"
   ]
  },
  {
   "cell_type": "code",
   "execution_count": 58,
   "metadata": {
    "execution": {
     "iopub.execute_input": "2023-10-26T19:51:12.212565Z",
     "iopub.status.busy": "2023-10-26T19:51:12.211446Z",
     "iopub.status.idle": "2023-10-26T19:51:12.221571Z",
     "shell.execute_reply": "2023-10-26T19:51:12.218921Z",
     "shell.execute_reply.started": "2023-10-26T19:51:12.212499Z"
    }
   },
   "outputs": [],
   "source": [
    "# profile = ProfileReport(df4)\n",
    "# profile.to_file('../img/output_v1.html')"
   ]
  },
  {
   "cell_type": "markdown",
   "metadata": {},
   "source": [
    "## 4.1 Univariate analysis"
   ]
  },
  {
   "cell_type": "markdown",
   "metadata": {
    "jp-MarkdownHeadingCollapsed": true
   },
   "source": [
    "## 4.2 Bivariate analysis"
   ]
  },
  {
   "cell_type": "code",
   "execution_count": 72,
   "metadata": {
    "execution": {
     "iopub.execute_input": "2023-10-26T19:51:12.605938Z",
     "iopub.status.busy": "2023-10-26T19:51:12.604603Z",
     "iopub.status.idle": "2023-10-26T19:51:12.612043Z",
     "shell.execute_reply": "2023-10-26T19:51:12.610202Z",
     "shell.execute_reply.started": "2023-10-26T19:51:12.605882Z"
    }
   },
   "outputs": [],
   "source": [
    "# sns.pairplot(df42);"
   ]
  },
  {
   "cell_type": "markdown",
   "metadata": {},
   "source": [
    "## 4.3 Embedding spaces"
   ]
  },
  {
   "cell_type": "markdown",
   "metadata": {
    "jp-MarkdownHeadingCollapsed": true
   },
   "source": [
    "### 4.3.1 Transformations"
   ]
  },
  {
   "cell_type": "code",
   "execution_count": 1,
   "metadata": {
    "execution": {
     "iopub.execute_input": "2023-10-31T22:34:38.489567Z",
     "iopub.status.busy": "2023-10-31T22:34:38.488831Z",
     "iopub.status.idle": "2023-10-31T22:34:38.500649Z",
     "shell.execute_reply": "2023-10-31T22:34:38.499220Z",
     "shell.execute_reply.started": "2023-10-31T22:34:38.489512Z"
    }
   },
   "outputs": [],
   "source": [
    "# X1 = df4.drop(columns=['customer_id','avg_ticket','avg_basket_size','avg_unique_basket_size'], axis=1).copy()\n",
    "\n",
    "# ssgross = pp.RobustScaler()\n",
    "# ssrecency = pp.RobustScaler()\n",
    "# ssfrequency = pp.RobustScaler()\n",
    "# ssinvoices = pp.RobustScaler()\n",
    "# ssitems = pp.RobustScaler()\n",
    "# ssproducts = pp.RobustScaler()\n",
    "# ssreturns = pp.RobustScaler()\n",
    "\n",
    "# X1['gross_revenue'] = ssgross.fit_transform(X1[['gross_revenue']])\n",
    "# X1['frequency'] = ssfrequency.fit_transform(X1[['frequency']])\n",
    "# X1['total_invoices'] = ssinvoices.fit_transform(X1[['total_invoices']])\n",
    "# X1['items'] = ssitems.fit_transform(X1[['items']])\n",
    "# X1['products'] = ssproducts.fit_transform(X1[['products']])\n",
    "# X1['returns_qtt'] = ssreturns.fit_transform(X1[['returns_qtt']])\n",
    "\n",
    "# X2 = df4.drop(columns=['customer_id','avg_ticket','avg_basket_size','avg_unique_basket_size'], axis=1).copy()\n",
    "\n",
    "# ssgross = pp.MinMaxScaler()\n",
    "# ssrecency = pp.MinMaxScaler()\n",
    "# ssfrequency = pp.MinMaxScaler()\n",
    "# ssinvoices = pp.MinMaxScaler()\n",
    "# ssitems = pp.MinMaxScaler()\n",
    "# ssproducts = pp.MinMaxScaler()\n",
    "# ssreturns = pp.MinMaxScaler()\n",
    "\n",
    "# X2['gross_revenue'] = ssgross.fit_transform(X2[['gross_revenue']])\n",
    "# X2['recency_days'] = ssrecency.fit_transform(X2[['recency_days']])\n",
    "# X2['frequency'] = ssfrequency.fit_transform(X2[['frequency']])\n",
    "# X2['total_invoices'] = ssinvoices.fit_transform(X2[['total_invoices']])\n",
    "# X2['items'] = ssitems.fit_transform(X2[['items']])\n",
    "# X2['products'] = ssproducts.fit_transform(X2[['products']])\n",
    "# X2['returns_qtt'] = ssreturns.fit_transform(X2[['returns_qtt']])\n",
    "\n",
    "# X3 = df4.drop(columns=['customer_id','avg_ticket','avg_basket_size','avg_unique_basket_size'], axis=1).copy()\n",
    "\n",
    "# ssgross = pp.StandardScaler()\n",
    "# ssrecency = pp.StandardScaler()\n",
    "# ssfrequency = pp.StandardScaler()\n",
    "# ssinvoices = pp.StandardScaler()\n",
    "# ssitems = pp.StandardScaler()\n",
    "# ssproducts = pp.StandardScaler()\n",
    "# ssreturns = pp.StandardScaler()\n",
    "\n",
    "# X3['gross_revenue'] = ssgross.fit_transform(X3[['gross_revenue']])\n",
    "# X3['recency_days'] = ssrecency.fit_transform(X3[['recency_days']])\n",
    "# X3['frequency'] = ssfrequency.fit_transform(X3[['frequency']])\n",
    "# X3['total_invoices'] = ssinvoices.fit_transform(X3[['total_invoices']])\n",
    "# X3['items'] = ssitems.fit_transform(X3[['items']])\n",
    "# X3['products'] = ssproducts.fit_transform(X3[['products']])\n",
    "# X3['returns_qtt'] = ssreturns.fit_transform(X3[['returns_qtt']])"
   ]
  },
  {
   "cell_type": "markdown",
   "metadata": {
    "jp-MarkdownHeadingCollapsed": true
   },
   "source": [
    "### 4.3.2 PCA, UMAP, t-SNE and Tree-based embeddings"
   ]
  },
  {
   "cell_type": "code",
   "execution_count": 2,
   "metadata": {
    "execution": {
     "iopub.execute_input": "2023-10-31T22:34:45.576658Z",
     "iopub.status.busy": "2023-10-31T22:34:45.575870Z",
     "iopub.status.idle": "2023-10-31T22:34:45.619147Z",
     "shell.execute_reply": "2023-10-31T22:34:45.613513Z",
     "shell.execute_reply.started": "2023-10-31T22:34:45.576596Z"
    }
   },
   "outputs": [],
   "source": [
    "# # PCA=========================================================\n",
    "\n",
    "# rcParams['figure.figsize'] = 20,20\n",
    "# grid=gridspec.GridSpec(4,3)\n",
    "\n",
    "# # robust scaler\n",
    "# pca = dd.PCA(n_components=X1.shape[1])\n",
    "\n",
    "# principal_components = pca.fit_transform(X1)\n",
    "\n",
    "# # plot explained variable\n",
    "# features = range(pca.n_components_)\n",
    "\n",
    "# # ax1 = plt.subplot(grid[0,0]) \n",
    "# # plt.bar(features, pca.explained_variance_ratio_, color='black')\n",
    "\n",
    "# # pca component\n",
    "# df_pca = pd.DataFrame(principal_components)\n",
    "\n",
    "# ax1 = plt.subplot(grid[0,0]) \n",
    "# sns.scatterplot(x=0, y=1, data=df_pca);\n",
    "\n",
    "\n",
    "# # min max scaler\n",
    "# pca = dd.PCA(n_components=X2.shape[1])\n",
    "\n",
    "# principal_components = pca.fit_transform(X2)\n",
    "\n",
    "# # plot explained variable\n",
    "# features = range(pca.n_components_)\n",
    "\n",
    "# # a3 = plt.subplot(grid[1,0]) \n",
    "# # plt.bar(features, pca.explained_variance_ratio_, color='black')\n",
    "\n",
    "# # pca component\n",
    "# df_pca = pd.DataFrame(principal_components)\n",
    "\n",
    "# ax2 = plt.subplot(grid[0,1])\n",
    "# sns.scatterplot(x=0, y=1, data=df_pca);\n",
    "\n",
    "\n",
    "# # normalization\n",
    "# pca = dd.PCA(n_components=X3.shape[1])\n",
    "\n",
    "# principal_components = pca.fit_transform(X3)\n",
    "\n",
    "# # plot explained variable\n",
    "# features = range(pca.n_components_)\n",
    "\n",
    "# # ax5 = plt.subplot(grid[2,0]) \n",
    "# # plt.bar(features, pca.explained_variance_ratio_, color='black')\n",
    "\n",
    "# # pca component\n",
    "# df_pca = pd.DataFrame(principal_components)\n",
    "\n",
    "# ax3 = plt.subplot(grid[0,2]) \n",
    "# sns.scatterplot(x=0, y=1, data=df_pca);\n",
    "\n",
    "# ax1.legend(title='PCA-Robust scaler', fontsize=\"x-large\");\n",
    "# ax2.legend(title='PCA-Min Max scaler', fontsize=\"x-large\");\n",
    "# ax3.legend(title='PCA-Normalization', fontsize=\"x-large\");\n",
    "\n",
    "\n",
    "# # UMAP===========================================================================\n",
    "# # reducer\n",
    "# reducer = umap.UMAP(random_state=42)\n",
    "\n",
    "# # robust scaler\n",
    "# embedding = reducer.fit_transform(X1)\n",
    "\n",
    "# # embedding\n",
    "# df_umap_rs = pd.DataFrame()\n",
    "# df_umap_rs['embedding_x'] = embedding[:, 0]\n",
    "# df_umap_rs['embedding_y'] = embedding[:, 1]\n",
    "\n",
    "# # plot UMAP\n",
    "# ax4 = plt.subplot(grid[1,0]) \n",
    "# sns.scatterplot(x='embedding_x', \n",
    "#                  y='embedding_y', \n",
    "#                  data=df_umap_rs);\n",
    "\n",
    "\n",
    "# # min max scaler\n",
    "# embedding = reducer.fit_transform(X2)\n",
    "\n",
    "# # embedding\n",
    "# df_umap_mms = pd.DataFrame()\n",
    "# df_umap_mms['embedding_x'] = embedding[:, 0]\n",
    "# df_umap_mms['embedding_y'] = embedding[:, 1]\n",
    "\n",
    "# # plot UMAP\n",
    "# ax5 = plt.subplot(grid[1,1]) \n",
    "# sns.scatterplot(x='embedding_x', \n",
    "#                  y='embedding_y', \n",
    "#                  data=df_umap_mms);\n",
    "\n",
    "\n",
    "# # normalization\n",
    "# embedding = reducer.fit_transform(X3)\n",
    "\n",
    "# # embedding\n",
    "# df_umap_nor = pd.DataFrame()\n",
    "# df_umap_nor['embedding_x'] = embedding[:, 0]\n",
    "# df_umap_nor['embedding_y'] = embedding[:, 1]\n",
    "\n",
    "# # plot UMAP\n",
    "# ax6 = plt.subplot(grid[1,2]) \n",
    "# sns.scatterplot(x='embedding_x', \n",
    "#                  y='embedding_y', \n",
    "#                  data=df_umap_nor);\n",
    "\n",
    "# ax4.legend(title='UMAP-Robust scaler', fontsize=\"x-large\");\n",
    "# ax5.legend(title='UMAP-Min Max scaler', fontsize=\"x-large\");\n",
    "# ax6.legend(title='UMAP-Normalization', fontsize=\"x-large\");\n",
    "\n",
    "\n",
    "# # TSNE===========================================================================\n",
    "# # reducer\n",
    "# reducer = TSNE(n_components=2, n_jobs=-1, random_state=42)\n",
    "\n",
    "# # robust scaler\n",
    "# embedding = reducer.fit_transform(X1)\n",
    "\n",
    "# # embedding\n",
    "# df_tsne_rs = pd.DataFrame()\n",
    "# df_tsne_rs['embedding_x'] = embedding[:, 0]\n",
    "# df_tsne_rs['embedding_y'] = embedding[:, 1]\n",
    "\n",
    "# # plot tsne\n",
    "# ax7 = plt.subplot(grid[2,0]) \n",
    "# sns.scatterplot(x='embedding_x', \n",
    "#                  y='embedding_y', \n",
    "#                  data=df_tsne_rs);\n",
    "\n",
    "\n",
    "# # min max scaler\n",
    "# embedding = reducer.fit_transform(X2)\n",
    "\n",
    "# # embedding\n",
    "# df_tsne_mms = pd.DataFrame()\n",
    "# df_tsne_mms['embedding_x'] = embedding[:, 0]\n",
    "# df_tsne_mms['embedding_y'] = embedding[:, 1]\n",
    "\n",
    "# # plot tsne\n",
    "# ax8 = plt.subplot(grid[2,1]) \n",
    "# sns.scatterplot(x='embedding_x', \n",
    "#                  y='embedding_y', \n",
    "#                  data=df_tsne_mms);\n",
    "\n",
    "\n",
    "# # normalization\n",
    "# embedding = reducer.fit_transform(X3)\n",
    "\n",
    "# # embedding\n",
    "# df_tsne_nor = pd.DataFrame()\n",
    "# df_tsne_nor['embedding_x'] = embedding[:, 0]\n",
    "# df_tsne_nor['embedding_y'] = embedding[:, 1]\n",
    "\n",
    "# # plot plot tsne\n",
    "# ax9 = plt.subplot(grid[2,2]) \n",
    "# sns.scatterplot(x='embedding_x', \n",
    "#                  y='embedding_y', \n",
    "#                  data=df_tsne_nor);\n",
    "\n",
    "# ax7.legend(title='tSNE-Robust scaler', fontsize=\"x-large\");\n",
    "# ax8.legend(title='tSNE-Min Max scaler', fontsize=\"x-large\");\n",
    "# ax9.legend(title='tSNE-Normalization', fontsize=\"x-large\");\n",
    "\n",
    "\n",
    "# # TREE==================================================\n",
    "# # training dataset\n",
    "# X1 = df4.drop(columns=['customer_id','gross_revenue','avg_ticket','avg_basket_size','avg_unique_basket_size'], axis=1).copy()\n",
    "# y = df4['gross_revenue']\n",
    "\n",
    "\n",
    "# # model definition\n",
    "# rf_model = en.RandomForestRegressor(random_state=42)\n",
    "\n",
    "# # model training\n",
    "# rf_model.fit(X1, y)\n",
    "\n",
    "# # leaf\n",
    "# df_leaf = pd.DataFrame(rf_model.apply(X1))\n",
    "\n",
    "# # PCA TREE\n",
    "# pca = dd.PCA(X1.shape[1])\n",
    "\n",
    "# principal_components = pca.fit_transform(df_leaf)\n",
    "\n",
    "# # plot explained variable\n",
    "# features = range(pca.n_components_)\n",
    "\n",
    "# # ax1 = plt.subplot(grid[0,0]) \n",
    "# # plt.bar(features, pca.explained_variance_ratio_, color='black')\n",
    "\n",
    "# # pca component\n",
    "# df_pca = pd.DataFrame(principal_components)\n",
    "\n",
    "# ax10 = plt.subplot(grid[3,0]) \n",
    "# sns.scatterplot(x=0, y=1, data=df_pca);\n",
    "# ax10.legend(title='Tree based PCA', fontsize=\"x-large\");\n",
    "\n",
    "\n",
    "# # UMAP TREE\n",
    "# reducer = umap.UMAP(random_state=42)\n",
    "# embedding = reducer.fit_transform(df_leaf)\n",
    "\n",
    "# # embedding\n",
    "# df_umap_tree = pd.DataFrame()\n",
    "# df_umap_tree['embedding_x'] = embedding[:, 0]\n",
    "# df_umap_tree['embedding_y'] = embedding[:, 1]\n",
    "\n",
    "# # plot UMAP\n",
    "# aX1 = plt.subplot(grid[3,1]) \n",
    "# sns.scatterplot(x='embedding_x', \n",
    "#                  y='embedding_y', \n",
    "#                  data=df_umap_tree);\n",
    "\n",
    "# aX1.legend(title='Tree based UMAP', fontsize=\"x-large\");\n",
    "\n",
    "\n",
    "# # TSNE\n",
    "# reducer = TSNE(n_components=2, n_jobs=-1, random_state=42)\n",
    "# embedding = reducer.fit_transform(df_leaf)\n",
    "\n",
    "# # embedding\n",
    "# df_tsne_tree = pd.DataFrame()\n",
    "# df_tsne_tree['embedding_x'] = embedding[:, 0]\n",
    "# df_tsne_tree['embedding_y'] = embedding[:, 1]\n",
    "\n",
    "# # plot tsne\n",
    "# aX2 = plt.subplot(grid[3,2]) \n",
    "# sns.scatterplot(x='embedding_x', \n",
    "#                  y='embedding_y', \n",
    "#                  data=df_tsne_tree);\n",
    "\n",
    "# aX2.legend(title='Tree based TSNE', fontsize=\"x-large\");"
   ]
  },
  {
   "cell_type": "markdown",
   "metadata": {
    "heading_collapsed": true,
    "jp-MarkdownHeadingCollapsed": true
   },
   "source": [
    "# 5.0 Data preparation "
   ]
  },
  {
   "cell_type": "code",
   "execution_count": 75,
   "metadata": {
    "ExecuteTime": {
     "end_time": "2023-09-05T23:37:40.154237Z",
     "start_time": "2023-09-05T23:37:40.149133Z"
    },
    "execution": {
     "iopub.execute_input": "2023-10-26T19:55:15.538763Z",
     "iopub.status.busy": "2023-10-26T19:55:15.538283Z",
     "iopub.status.idle": "2023-10-26T19:55:15.549421Z",
     "shell.execute_reply": "2023-10-26T19:55:15.547612Z",
     "shell.execute_reply.started": "2023-10-26T19:55:15.538730Z"
    },
    "hidden": true
   },
   "outputs": [],
   "source": [
    "df5 = df4.copy()\n",
    "df5=df5.drop(columns=['avg_ticket','avg_basket_size','avg_unique_basket_size'], axis=1)"
   ]
  },
  {
   "cell_type": "markdown",
   "metadata": {
    "heading_collapsed": true,
    "jp-MarkdownHeadingCollapsed": true
   },
   "source": [
    "# <s>6.0 Feature selection<s/> "
   ]
  },
  {
   "cell_type": "code",
   "execution_count": 76,
   "metadata": {
    "ExecuteTime": {
     "end_time": "2023-09-05T23:37:43.623657Z",
     "start_time": "2023-09-05T23:37:43.613054Z"
    },
    "execution": {
     "iopub.execute_input": "2023-10-26T19:55:15.551338Z",
     "iopub.status.busy": "2023-10-26T19:55:15.550992Z",
     "iopub.status.idle": "2023-10-26T19:55:15.573211Z",
     "shell.execute_reply": "2023-10-26T19:55:15.571633Z",
     "shell.execute_reply.started": "2023-10-26T19:55:15.551309Z"
    },
    "hidden": true
   },
   "outputs": [],
   "source": [
    "df6 = df5.copy()"
   ]
  },
  {
   "cell_type": "markdown",
   "metadata": {
    "jp-MarkdownHeadingCollapsed": true
   },
   "source": [
    "## 6.1 Random forest regressor "
   ]
  },
  {
   "cell_type": "code",
   "execution_count": 3,
   "metadata": {
    "execution": {
     "iopub.execute_input": "2023-10-31T22:35:04.903471Z",
     "iopub.status.busy": "2023-10-31T22:35:04.902342Z",
     "iopub.status.idle": "2023-10-31T22:35:04.914748Z",
     "shell.execute_reply": "2023-10-31T22:35:04.913038Z",
     "shell.execute_reply.started": "2023-10-31T22:35:04.903409Z"
    }
   },
   "outputs": [],
   "source": [
    "# rcParams['figure.figsize'] = 10,5\n",
    "\n",
    "# # model definition\n",
    "# forest=en.RandomForestRegressor(random_state=42,n_jobs=-1) \n",
    "\n",
    "# # data preparation\n",
    "# x_train_n=df6.drop(['gross_revenue'],axis=1)\n",
    "# y_train=df6['gross_revenue']\n",
    "# y_train_n=y_train.values\n",
    "# forest.fit(x_train_n,y_train_n)\n",
    "\n",
    "# importances=forest.feature_importances_\n",
    "# std=np.std([tree.feature_importances_ for tree in forest.estimators_],axis=0)\n",
    "# indices=np.argsort(importances)[::-1]  \n",
    "\n",
    "# # print the feature ranking\n",
    "# print('Feature ranking')\n",
    "# df=pd.DataFrame()\n",
    "# for i, j in zip(x_train_n,forest.feature_importances_): \n",
    "#     aux=pd.DataFrame({'feature':i,'importance':j},index=[0])\n",
    "#     df=pd.concat([df,aux],axis=0)\n",
    "    \n",
    "# print(df.sort_values('importance',ascending=False))\n",
    "\n",
    "# # plot the imputiry-based feature importances of the forest\n",
    "# plt.figure()\n",
    "# plt.title('feature importances')\n",
    "# plt.bar(range(x_train_n.shape[1]),importances[indices],color='r',yerr=std[indices],align='center')\n",
    "# plt.xticks(range(x_train_n.shape[1]),indices)\n",
    "# plt.xlim([-1,x_train_n.shape[1]])\n",
    "# plt.show()"
   ]
  },
  {
   "cell_type": "markdown",
   "metadata": {
    "heading_collapsed": true
   },
   "source": [
    "# 7.0 Hyperparameter Fine-Tunning"
   ]
  },
  {
   "cell_type": "code",
   "execution_count": 78,
   "metadata": {
    "execution": {
     "iopub.execute_input": "2023-10-26T19:55:17.951581Z",
     "iopub.status.busy": "2023-10-26T19:55:17.950711Z",
     "iopub.status.idle": "2023-10-26T19:55:17.958168Z",
     "shell.execute_reply": "2023-10-26T19:55:17.956260Z",
     "shell.execute_reply.started": "2023-10-26T19:55:17.951501Z"
    }
   },
   "outputs": [],
   "source": [
    "df7=df6.copy()"
   ]
  },
  {
   "cell_type": "code",
   "execution_count": 80,
   "metadata": {
    "execution": {
     "iopub.execute_input": "2023-10-26T19:57:33.429321Z",
     "iopub.status.busy": "2023-10-26T19:57:33.428778Z",
     "iopub.status.idle": "2023-10-26T19:57:33.515226Z",
     "shell.execute_reply": "2023-10-26T19:57:33.513635Z",
     "shell.execute_reply.started": "2023-10-26T19:57:33.429272Z"
    }
   },
   "outputs": [
    {
     "data": {
      "text/html": [
       "<style type=\"text/css\">\n",
       "#T_215ca_row0_col0, #T_215ca_row0_col3, #T_215ca_row0_col4, #T_215ca_row0_col5, #T_215ca_row0_col6, #T_215ca_row1_col1, #T_215ca_row1_col2, #T_215ca_row6_col7, #T_215ca_row6_col8 {\n",
       "  background-color: orange;\n",
       "}\n",
       "</style>\n",
       "<table id=\"T_215ca\">\n",
       "  <thead>\n",
       "    <tr>\n",
       "      <th class=\"blank level0\" >&nbsp;</th>\n",
       "      <th id=\"T_215ca_level0_col0\" class=\"col_heading level0 col0\" >2</th>\n",
       "      <th id=\"T_215ca_level0_col1\" class=\"col_heading level0 col1\" >3</th>\n",
       "      <th id=\"T_215ca_level0_col2\" class=\"col_heading level0 col2\" >4</th>\n",
       "      <th id=\"T_215ca_level0_col3\" class=\"col_heading level0 col3\" >5</th>\n",
       "      <th id=\"T_215ca_level0_col4\" class=\"col_heading level0 col4\" >6</th>\n",
       "      <th id=\"T_215ca_level0_col5\" class=\"col_heading level0 col5\" >7</th>\n",
       "      <th id=\"T_215ca_level0_col6\" class=\"col_heading level0 col6\" >8</th>\n",
       "      <th id=\"T_215ca_level0_col7\" class=\"col_heading level0 col7\" >9</th>\n",
       "      <th id=\"T_215ca_level0_col8\" class=\"col_heading level0 col8\" >10</th>\n",
       "    </tr>\n",
       "  </thead>\n",
       "  <tbody>\n",
       "    <tr>\n",
       "      <th id=\"T_215ca_level0_row0\" class=\"row_heading level0 row0\" >KMeans1</th>\n",
       "      <td id=\"T_215ca_row0_col0\" class=\"data row0 col0\" >0.386175</td>\n",
       "      <td id=\"T_215ca_row0_col1\" class=\"data row0 col1\" >0.433367</td>\n",
       "      <td id=\"T_215ca_row0_col2\" class=\"data row0 col2\" >0.444288</td>\n",
       "      <td id=\"T_215ca_row0_col3\" class=\"data row0 col3\" >0.464824</td>\n",
       "      <td id=\"T_215ca_row0_col4\" class=\"data row0 col4\" >0.470658</td>\n",
       "      <td id=\"T_215ca_row0_col5\" class=\"data row0 col5\" >0.500500</td>\n",
       "      <td id=\"T_215ca_row0_col6\" class=\"data row0 col6\" >0.502632</td>\n",
       "      <td id=\"T_215ca_row0_col7\" class=\"data row0 col7\" >0.503233</td>\n",
       "      <td id=\"T_215ca_row0_col8\" class=\"data row0 col8\" >0.522531</td>\n",
       "    </tr>\n",
       "    <tr>\n",
       "      <th id=\"T_215ca_level0_row1\" class=\"row_heading level0 row1\" >Kmeans2</th>\n",
       "      <td id=\"T_215ca_row1_col0\" class=\"data row1 col0\" >0.371556</td>\n",
       "      <td id=\"T_215ca_row1_col1\" class=\"data row1 col1\" >0.445069</td>\n",
       "      <td id=\"T_215ca_row1_col2\" class=\"data row1 col2\" >0.454269</td>\n",
       "      <td id=\"T_215ca_row1_col3\" class=\"data row1 col3\" >0.451012</td>\n",
       "      <td id=\"T_215ca_row1_col4\" class=\"data row1 col4\" >0.460935</td>\n",
       "      <td id=\"T_215ca_row1_col5\" class=\"data row1 col5\" >0.477255</td>\n",
       "      <td id=\"T_215ca_row1_col6\" class=\"data row1 col6\" >0.470111</td>\n",
       "      <td id=\"T_215ca_row1_col7\" class=\"data row1 col7\" >0.467002</td>\n",
       "      <td id=\"T_215ca_row1_col8\" class=\"data row1 col8\" >0.475241</td>\n",
       "    </tr>\n",
       "    <tr>\n",
       "      <th id=\"T_215ca_level0_row2\" class=\"row_heading level0 row2\" >Kmeans3</th>\n",
       "      <td id=\"T_215ca_row2_col0\" class=\"data row2 col0\" >0.365827</td>\n",
       "      <td id=\"T_215ca_row2_col1\" class=\"data row2 col1\" >0.399365</td>\n",
       "      <td id=\"T_215ca_row2_col2\" class=\"data row2 col2\" >0.424467</td>\n",
       "      <td id=\"T_215ca_row2_col3\" class=\"data row2 col3\" >0.416057</td>\n",
       "      <td id=\"T_215ca_row2_col4\" class=\"data row2 col4\" >0.458887</td>\n",
       "      <td id=\"T_215ca_row2_col5\" class=\"data row2 col5\" >0.479944</td>\n",
       "      <td id=\"T_215ca_row2_col6\" class=\"data row2 col6\" >0.490822</td>\n",
       "      <td id=\"T_215ca_row2_col7\" class=\"data row2 col7\" >0.489399</td>\n",
       "      <td id=\"T_215ca_row2_col8\" class=\"data row2 col8\" >0.481147</td>\n",
       "    </tr>\n",
       "    <tr>\n",
       "      <th id=\"T_215ca_level0_row3\" class=\"row_heading level0 row3\" >GMM1</th>\n",
       "      <td id=\"T_215ca_row3_col0\" class=\"data row3 col0\" >0.375210</td>\n",
       "      <td id=\"T_215ca_row3_col1\" class=\"data row3 col1\" >0.434039</td>\n",
       "      <td id=\"T_215ca_row3_col2\" class=\"data row3 col2\" >0.322606</td>\n",
       "      <td id=\"T_215ca_row3_col3\" class=\"data row3 col3\" >0.401898</td>\n",
       "      <td id=\"T_215ca_row3_col4\" class=\"data row3 col4\" >0.323363</td>\n",
       "      <td id=\"T_215ca_row3_col5\" class=\"data row3 col5\" >0.439620</td>\n",
       "      <td id=\"T_215ca_row3_col6\" class=\"data row3 col6\" >0.417568</td>\n",
       "      <td id=\"T_215ca_row3_col7\" class=\"data row3 col7\" >0.444224</td>\n",
       "      <td id=\"T_215ca_row3_col8\" class=\"data row3 col8\" >0.516104</td>\n",
       "    </tr>\n",
       "    <tr>\n",
       "      <th id=\"T_215ca_level0_row4\" class=\"row_heading level0 row4\" >GMM2</th>\n",
       "      <td id=\"T_215ca_row4_col0\" class=\"data row4 col0\" >0.376799</td>\n",
       "      <td id=\"T_215ca_row4_col1\" class=\"data row4 col1\" >0.412165</td>\n",
       "      <td id=\"T_215ca_row4_col2\" class=\"data row4 col2\" >0.443182</td>\n",
       "      <td id=\"T_215ca_row4_col3\" class=\"data row4 col3\" >0.438178</td>\n",
       "      <td id=\"T_215ca_row4_col4\" class=\"data row4 col4\" >0.341144</td>\n",
       "      <td id=\"T_215ca_row4_col5\" class=\"data row4 col5\" >0.459093</td>\n",
       "      <td id=\"T_215ca_row4_col6\" class=\"data row4 col6\" >0.367618</td>\n",
       "      <td id=\"T_215ca_row4_col7\" class=\"data row4 col7\" >0.412957</td>\n",
       "      <td id=\"T_215ca_row4_col8\" class=\"data row4 col8\" >0.459700</td>\n",
       "    </tr>\n",
       "    <tr>\n",
       "      <th id=\"T_215ca_level0_row5\" class=\"row_heading level0 row5\" >GMM3</th>\n",
       "      <td id=\"T_215ca_row5_col0\" class=\"data row5 col0\" >0.364955</td>\n",
       "      <td id=\"T_215ca_row5_col1\" class=\"data row5 col1\" >0.398779</td>\n",
       "      <td id=\"T_215ca_row5_col2\" class=\"data row5 col2\" >0.364337</td>\n",
       "      <td id=\"T_215ca_row5_col3\" class=\"data row5 col3\" >0.384572</td>\n",
       "      <td id=\"T_215ca_row5_col4\" class=\"data row5 col4\" >0.342818</td>\n",
       "      <td id=\"T_215ca_row5_col5\" class=\"data row5 col5\" >0.437367</td>\n",
       "      <td id=\"T_215ca_row5_col6\" class=\"data row5 col6\" >0.434838</td>\n",
       "      <td id=\"T_215ca_row5_col7\" class=\"data row5 col7\" >0.479120</td>\n",
       "      <td id=\"T_215ca_row5_col8\" class=\"data row5 col8\" >0.441023</td>\n",
       "    </tr>\n",
       "    <tr>\n",
       "      <th id=\"T_215ca_level0_row6\" class=\"row_heading level0 row6\" >HC1</th>\n",
       "      <td id=\"T_215ca_row6_col0\" class=\"data row6 col0\" >0.351767</td>\n",
       "      <td id=\"T_215ca_row6_col1\" class=\"data row6 col1\" >0.387566</td>\n",
       "      <td id=\"T_215ca_row6_col2\" class=\"data row6 col2\" >0.402931</td>\n",
       "      <td id=\"T_215ca_row6_col3\" class=\"data row6 col3\" >0.434686</td>\n",
       "      <td id=\"T_215ca_row6_col4\" class=\"data row6 col4\" >0.446444</td>\n",
       "      <td id=\"T_215ca_row6_col5\" class=\"data row6 col5\" >0.488732</td>\n",
       "      <td id=\"T_215ca_row6_col6\" class=\"data row6 col6\" >0.483039</td>\n",
       "      <td id=\"T_215ca_row6_col7\" class=\"data row6 col7\" >0.509995</td>\n",
       "      <td id=\"T_215ca_row6_col8\" class=\"data row6 col8\" >0.524974</td>\n",
       "    </tr>\n",
       "    <tr>\n",
       "      <th id=\"T_215ca_level0_row7\" class=\"row_heading level0 row7\" >HC2</th>\n",
       "      <td id=\"T_215ca_row7_col0\" class=\"data row7 col0\" >0.363689</td>\n",
       "      <td id=\"T_215ca_row7_col1\" class=\"data row7 col1\" >0.441778</td>\n",
       "      <td id=\"T_215ca_row7_col2\" class=\"data row7 col2\" >0.429191</td>\n",
       "      <td id=\"T_215ca_row7_col3\" class=\"data row7 col3\" >0.424945</td>\n",
       "      <td id=\"T_215ca_row7_col4\" class=\"data row7 col4\" >0.424392</td>\n",
       "      <td id=\"T_215ca_row7_col5\" class=\"data row7 col5\" >0.437091</td>\n",
       "      <td id=\"T_215ca_row7_col6\" class=\"data row7 col6\" >0.433857</td>\n",
       "      <td id=\"T_215ca_row7_col7\" class=\"data row7 col7\" >0.438404</td>\n",
       "      <td id=\"T_215ca_row7_col8\" class=\"data row7 col8\" >0.440168</td>\n",
       "    </tr>\n",
       "    <tr>\n",
       "      <th id=\"T_215ca_level0_row8\" class=\"row_heading level0 row8\" >HC3</th>\n",
       "      <td id=\"T_215ca_row8_col0\" class=\"data row8 col0\" >0.356502</td>\n",
       "      <td id=\"T_215ca_row8_col1\" class=\"data row8 col1\" >0.360473</td>\n",
       "      <td id=\"T_215ca_row8_col2\" class=\"data row8 col2\" >0.374562</td>\n",
       "      <td id=\"T_215ca_row8_col3\" class=\"data row8 col3\" >0.380080</td>\n",
       "      <td id=\"T_215ca_row8_col4\" class=\"data row8 col4\" >0.441346</td>\n",
       "      <td id=\"T_215ca_row8_col5\" class=\"data row8 col5\" >0.465901</td>\n",
       "      <td id=\"T_215ca_row8_col6\" class=\"data row8 col6\" >0.477684</td>\n",
       "      <td id=\"T_215ca_row8_col7\" class=\"data row8 col7\" >0.476316</td>\n",
       "      <td id=\"T_215ca_row8_col8\" class=\"data row8 col8\" >0.491831</td>\n",
       "    </tr>\n",
       "  </tbody>\n",
       "</table>\n"
      ],
      "text/plain": [
       "<pandas.io.formats.style.Styler at 0x7ffb679961d0>"
      ]
     },
     "execution_count": 80,
     "metadata": {},
     "output_type": "execute_result"
    }
   ],
   "source": [
    "df1 = pd.DataFrame(\n",
    "    {'KMeans1': kmeans_list1, \n",
    "     'Kmeans2': kmeans_list2,\n",
    "     'Kmeans3': kmeans_list3,\n",
    "     'GMM1': gmm_list1, \n",
    "     'GMM2': gmm_list2,\n",
    "     'GMM3': gmm_list3,\n",
    "     'HC1': hc_list1, \n",
    "     'HC2': hc_list2,\n",
    "     'HC3': hc_list3,}).T\n",
    "\n",
    "df1.columns = clusters\n",
    "df1.style.highlight_max(color='orange',axis=0)"
   ]
  },
  {
   "cell_type": "markdown",
   "metadata": {},
   "source": [
    "## 7.1 UMAP n-components (10)"
   ]
  },
  {
   "cell_type": "code",
   "execution_count": 81,
   "metadata": {
    "execution": {
     "iopub.execute_input": "2023-10-26T19:57:33.517947Z",
     "iopub.status.busy": "2023-10-26T19:57:33.517116Z",
     "iopub.status.idle": "2023-10-26T20:05:26.646626Z",
     "shell.execute_reply": "2023-10-26T20:05:26.645389Z",
     "shell.execute_reply.started": "2023-10-26T19:57:33.517896Z"
    }
   },
   "outputs": [],
   "source": [
    "# TREE==================================================\n",
    "# training dataset\n",
    "X1 = df7.drop(columns=['customer_id','gross_revenue'], axis=1)\n",
    "y = df7['gross_revenue']\n",
    "\n",
    "# model definition\n",
    "rf_model = en.RandomForestRegressor(random_state=42)\n",
    "\n",
    "# model training\n",
    "rf_model.fit(X1, y)\n",
    "\n",
    "# leaf\n",
    "df_leaf = pd.DataFrame(rf_model.apply(X1))\n",
    "\n",
    "# UMAP TREE 9\n",
    "reducer = umap.UMAP(n_components=10,random_state=42)\n",
    "embedding = reducer.fit_transform(df_leaf)\n",
    "\n",
    "# embedding\n",
    "df99 = pd.DataFrame()\n",
    "df99['embedding_x'] = embedding[:, 0]\n",
    "df99['embedding_y'] = embedding[:, 1]\n",
    "df99['embedding_z'] = embedding[:, 2]\n",
    "df99['embedding_a'] = embedding[:, 3]\n",
    "df99['embedding_b'] = embedding[:, 4]\n",
    "df99['embedding_c'] = embedding[:, 5]\n",
    "df99['embedding_d'] = embedding[:, 6]\n",
    "df99['embedding_e'] = embedding[:, 7]\n",
    "df99['embedding_f'] = embedding[:, 8]\n",
    "df99['embedding_g'] = embedding[:, 9]"
   ]
  },
  {
   "cell_type": "markdown",
   "metadata": {},
   "source": [
    "### 7.3.1 K-means"
   ]
  },
  {
   "cell_type": "code",
   "execution_count": 85,
   "metadata": {
    "execution": {
     "iopub.execute_input": "2023-10-26T20:07:22.803894Z",
     "iopub.status.busy": "2023-10-26T20:07:22.803343Z",
     "iopub.status.idle": "2023-10-26T20:07:24.346936Z",
     "shell.execute_reply": "2023-10-26T20:07:24.345644Z",
     "shell.execute_reply.started": "2023-10-26T20:07:22.803849Z"
    }
   },
   "outputs": [
    {
     "name": "stdout",
     "output_type": "stream",
     "text": [
      "SS value: 0.518324613571167\n"
     ]
    }
   ],
   "source": [
    "# model definition\n",
    "kmeans1 = c.KMeans(n_clusters=10,random_state=42)\n",
    "\n",
    "# model training\n",
    "kmeans1.fit(df99)\n",
    "\n",
    "# model predict\n",
    "labels1 = kmeans1.predict(df99)\n",
    "\n",
    "# model performance\n",
    "sil = m.silhouette_score(df99, labels1, metric='euclidean')\n",
    "\n",
    "print('SS value: {}'.format(m.silhouette_score(df99, labels1, metric='euclidean')))\n"
   ]
  },
  {
   "cell_type": "code",
   "execution_count": 86,
   "metadata": {
    "execution": {
     "iopub.execute_input": "2023-10-26T20:07:24.348954Z",
     "iopub.status.busy": "2023-10-26T20:07:24.348207Z",
     "iopub.status.idle": "2023-10-26T20:07:26.148551Z",
     "shell.execute_reply": "2023-10-26T20:07:26.147219Z",
     "shell.execute_reply.started": "2023-10-26T20:07:24.348917Z"
    }
   },
   "outputs": [
    {
     "name": "stdout",
     "output_type": "stream",
     "text": [
      "SS value: 0.518324613571167\n"
     ]
    }
   ],
   "source": [
    "# model definition\n",
    "kmeans2 = c.KMeans(n_clusters=10,n_init=20,algorithm='elkan',random_state=42)\n",
    "\n",
    "# model training\n",
    "kmeans2.fit(df99)\n",
    "\n",
    "# model predict\n",
    "labels2 = kmeans2.predict(df99)\n",
    "\n",
    "# model performance\n",
    "sil = m.silhouette_score(df99, labels2, metric='euclidean')\n",
    "\n",
    "print('SS value: {}'.format(m.silhouette_score(df99, labels2, metric='euclidean')))"
   ]
  },
  {
   "cell_type": "markdown",
   "metadata": {},
   "source": [
    "### 7.3.2 Gaussian mixture model"
   ]
  },
  {
   "cell_type": "code",
   "execution_count": 87,
   "metadata": {
    "execution": {
     "iopub.execute_input": "2023-10-26T20:07:26.151253Z",
     "iopub.status.busy": "2023-10-26T20:07:26.150325Z",
     "iopub.status.idle": "2023-10-26T20:07:27.521352Z",
     "shell.execute_reply": "2023-10-26T20:07:27.519786Z",
     "shell.execute_reply.started": "2023-10-26T20:07:26.151210Z"
    }
   },
   "outputs": [
    {
     "name": "stdout",
     "output_type": "stream",
     "text": [
      "SS value: 0.5069458484649658\n"
     ]
    }
   ],
   "source": [
    "# model definition\n",
    "gmm1 = mx.GaussianMixture(n_components=10)\n",
    "\n",
    "# model training\n",
    "gmm1.fit(df99)\n",
    "\n",
    "# model predict\n",
    "labels3 = gmm1.predict(df99)\n",
    "\n",
    "# model performance\n",
    "sil = m.silhouette_score(df99, labels3, metric='euclidean')\n",
    "\n",
    "print('SS value: {}'.format(m.silhouette_score(df99, labels3, metric='euclidean')))"
   ]
  },
  {
   "cell_type": "code",
   "execution_count": 88,
   "metadata": {
    "execution": {
     "iopub.execute_input": "2023-10-26T20:07:27.523660Z",
     "iopub.status.busy": "2023-10-26T20:07:27.523064Z",
     "iopub.status.idle": "2023-10-26T20:07:30.735289Z",
     "shell.execute_reply": "2023-10-26T20:07:30.733785Z",
     "shell.execute_reply.started": "2023-10-26T20:07:27.523600Z"
    }
   },
   "outputs": [
    {
     "name": "stdout",
     "output_type": "stream",
     "text": [
      "SS value: 0.4926764965057373\n"
     ]
    }
   ],
   "source": [
    "# model definition\n",
    "gmm2 = mx.GaussianMixture(n_components=10,n_init=5,init_params='k-means++',random_state=42)\n",
    "\n",
    "# model training\n",
    "gmm2.fit(df99)\n",
    "\n",
    "# model predict\n",
    "labels4 = gmm2.predict(df99)\n",
    "\n",
    "# model performance\n",
    "sil = m.silhouette_score(df99, labels4, metric='euclidean')\n",
    "\n",
    "print('SS value: {}'.format(m.silhouette_score(df99, labels4, metric='euclidean')))"
   ]
  },
  {
   "cell_type": "markdown",
   "metadata": {},
   "source": [
    "### 7.3.3 Hierarchical clustering"
   ]
  },
  {
   "cell_type": "code",
   "execution_count": 89,
   "metadata": {
    "execution": {
     "iopub.execute_input": "2023-10-26T20:07:30.738047Z",
     "iopub.status.busy": "2023-10-26T20:07:30.737102Z",
     "iopub.status.idle": "2023-10-26T20:07:32.984740Z",
     "shell.execute_reply": "2023-10-26T20:07:32.983365Z",
     "shell.execute_reply.started": "2023-10-26T20:07:30.737992Z"
    }
   },
   "outputs": [
    {
     "name": "stdout",
     "output_type": "stream",
     "text": [
      "SS value: 0.521063506603241\n"
     ]
    }
   ],
   "source": [
    "# model definition\n",
    "hc1 = hc.linkage(df99, 'ward')\n",
    "\n",
    "# model predict\n",
    "labels5 = hc.fcluster(hc1, 10, criterion='maxclust')\n",
    "\n",
    "# model performance\n",
    "sil = m.silhouette_score(df99, labels5, metric='euclidean')\n",
    "\n",
    "print('SS value: {}'.format(m.silhouette_score(df99, labels5, metric='euclidean')))"
   ]
  },
  {
   "cell_type": "markdown",
   "metadata": {
    "jp-MarkdownHeadingCollapsed": true
   },
   "source": [
    "## <s>7.2 Silhouette visualizer<s/>"
   ]
  },
  {
   "cell_type": "markdown",
   "metadata": {
    "jp-MarkdownHeadingCollapsed": true
   },
   "source": [
    "### 7.2.1 K-means"
   ]
  },
  {
   "cell_type": "code",
   "execution_count": 4,
   "metadata": {
    "execution": {
     "iopub.execute_input": "2023-10-31T22:42:18.551097Z",
     "iopub.status.busy": "2023-10-31T22:42:18.550346Z",
     "iopub.status.idle": "2023-10-31T22:42:18.557703Z",
     "shell.execute_reply": "2023-10-31T22:42:18.556360Z",
     "shell.execute_reply.started": "2023-10-31T22:42:18.551061Z"
    }
   },
   "outputs": [],
   "source": [
    "# clusters=[2,3,4,5,6,7,8,9,10,11]\n",
    "\n",
    "# fig, ax = plt.subplots(5, 2)\n",
    "# fig.set_size_inches(15, 15)\n",
    "\n",
    "# for k in clusters:\n",
    "#     q, mod = divmod(k, 2)\n",
    "    \n",
    "#     ax[q-1, mod].set_xlim([ -0.1, 1])\n",
    "#     ax[q-1, mod].set_ylim([ 0, len(df99) + (k+1)*10])\n",
    "#     samples_silhouette_values = m.silhouette_samples(df99, labels1)\n",
    "\n",
    "    \n",
    "#     y_lower = 10\n",
    "#     for i in range(k):\n",
    "\n",
    "#         # select clusters\n",
    "#         ith_samples_silhouette_values = samples_silhouette_values[ labels1 == i]\n",
    "        \n",
    "#         # sort values\n",
    "#         ith_samples_silhouette_values.sort()\n",
    "\n",
    "#         # size clusters\n",
    "#         size_cluster_i = ith_samples_silhouette_values.shape[0]\n",
    "#         y_upper = y_lower + size_cluster_i\n",
    "        \n",
    "#         cmap = cm.get_cmap('Spectral')\n",
    "#         color = cmap(i / k)\n",
    "\n",
    "#         ax[q-1, mod].fill_betweenx(np.arange(y_lower, y_upper), 0, ith_samples_silhouette_values )\n",
    "        \n",
    "#         y_lower = y_upper + 10\n",
    "\n",
    "#     ax[q-1, mod].set_yticks([])\n",
    "#     ax[q-1, mod].set_xticks([-0.1, 0, 0.2, 0.4, 0.6, 0.8, 1])"
   ]
  },
  {
   "cell_type": "markdown",
   "metadata": {
    "jp-MarkdownHeadingCollapsed": true
   },
   "source": [
    "### 7.2.2 GMM"
   ]
  },
  {
   "cell_type": "code",
   "execution_count": 91,
   "metadata": {
    "execution": {
     "iopub.execute_input": "2023-10-26T20:07:41.255827Z",
     "iopub.status.busy": "2023-10-26T20:07:41.255317Z",
     "iopub.status.idle": "2023-10-26T20:07:49.672997Z",
     "shell.execute_reply": "2023-10-26T20:07:49.671894Z",
     "shell.execute_reply.started": "2023-10-26T20:07:41.255794Z"
    }
   },
   "outputs": [
    {
     "data": {
      "image/png": "[encoded data removed]",
      "text/plain": [
       "<Figure size 1500x1500 with 10 Axes>"
      ]
     },
     "metadata": {},
     "output_type": "display_data"
    }
   ],
   "source": [
    "clusters=[2,3,4,5,6,7,8,9,10,11]\n",
    "\n",
    "fig, ax = plt.subplots(5, 2)\n",
    "fig.set_size_inches(15, 15)\n",
    "\n",
    "for k in clusters:\n",
    "    q, mod = divmod(k, 2)\n",
    "    \n",
    "    ax[q-1, mod].set_xlim([ -0.1, 1])\n",
    "    ax[q-1, mod].set_ylim([ 0, len(df99) + (k+1)*10])\n",
    "    samples_silhouette_values = m.silhouette_samples(df99, labels4)\n",
    "\n",
    "    \n",
    "    y_lower = 10\n",
    "    for i in range(k):\n",
    "\n",
    "        # select clusters\n",
    "        ith_samples_silhouette_values = samples_silhouette_values[ labels4 == i]\n",
    "        \n",
    "        # sort values\n",
    "        ith_samples_silhouette_values.sort()\n",
    "\n",
    "        # size clusters\n",
    "        size_cluster_i = ith_samples_silhouette_values.shape[0]\n",
    "        y_upper = y_lower + size_cluster_i\n",
    "        \n",
    "        cmap = cm.get_cmap('Spectral')\n",
    "        color = cmap(i / k)\n",
    "\n",
    "        ax[q-1, mod].fill_betweenx(np.arange(y_lower, y_upper), 0, ith_samples_silhouette_values )\n",
    "        \n",
    "        y_lower = y_upper + 10\n",
    "\n",
    "    ax[q-1, mod].set_yticks([])\n",
    "    ax[q-1, mod].set_xticks([-0.1, 0, 0.2, 0.4, 0.6, 0.8, 1])"
   ]
  },
  {
   "cell_type": "markdown",
   "metadata": {
    "jp-MarkdownHeadingCollapsed": true
   },
   "source": [
    "### 7.2.3 Hierarchical clustering"
   ]
  },
  {
   "cell_type": "code",
   "execution_count": 92,
   "metadata": {
    "execution": {
     "iopub.execute_input": "2023-10-26T20:07:49.675220Z",
     "iopub.status.busy": "2023-10-26T20:07:49.674625Z",
     "iopub.status.idle": "2023-10-26T20:07:57.892888Z",
     "shell.execute_reply": "2023-10-26T20:07:57.891581Z",
     "shell.execute_reply.started": "2023-10-26T20:07:49.675164Z"
    }
   },
   "outputs": [
    {
     "data": {
      "image/png": "[encoded data removed]",
      "text/plain": [
       "<Figure size 1500x1500 with 10 Axes>"
      ]
     },
     "metadata": {},
     "output_type": "display_data"
    }
   ],
   "source": [
    "clusters=[2,3,4,5,6,7,8,9,10,11]\n",
    "\n",
    "fig, ax = plt.subplots(5, 2)\n",
    "fig.set_size_inches(15, 15)\n",
    "\n",
    "for k in clusters:\n",
    "    q, mod = divmod(k, 2)\n",
    "    \n",
    "    ax[q-1, mod].set_xlim([ -0.1, 1])\n",
    "    ax[q-1, mod].set_ylim([ 0, len(df99) + (k+1)*10])\n",
    "    samples_silhouette_values = m.silhouette_samples(df99, labels5)\n",
    "\n",
    "    \n",
    "    y_lower = 10\n",
    "    for i in range(k):\n",
    "\n",
    "        # select clusters\n",
    "        ith_samples_silhouette_values = samples_silhouette_values[ labels5 == i]\n",
    "        \n",
    "        # sort values\n",
    "        ith_samples_silhouette_values.sort()\n",
    "\n",
    "        # size clusters\n",
    "        size_cluster_i = ith_samples_silhouette_values.shape[0]\n",
    "        y_upper = y_lower + size_cluster_i\n",
    "        \n",
    "        cmap = cm.get_cmap('Spectral')\n",
    "        color = cmap(i / k)\n",
    "\n",
    "        ax[q-1, mod].fill_betweenx(np.arange(y_lower, y_upper), 0, ith_samples_silhouette_values )\n",
    "        \n",
    "        y_lower = y_upper + 10\n",
    "\n",
    "    ax[q-1, mod].set_yticks([])\n",
    "    ax[q-1, mod].set_xticks([-0.1, 0, 0.2, 0.4, 0.6, 0.8, 1])"
   ]
  },
  {
   "cell_type": "markdown",
   "metadata": {
    "heading_collapsed": true,
    "jp-MarkdownHeadingCollapsed": true
   },
   "source": [
    "# 8.0 Cluster analysis"
   ]
  },
  {
   "cell_type": "code",
   "execution_count": 98,
   "metadata": {
    "ExecuteTime": {
     "end_time": "2023-09-05T23:38:13.148869Z",
     "start_time": "2023-09-05T23:38:13.143048Z"
    },
    "execution": {
     "iopub.execute_input": "2023-10-26T22:42:53.450130Z",
     "iopub.status.busy": "2023-10-26T22:42:53.449395Z",
     "iopub.status.idle": "2023-10-26T22:42:53.455960Z",
     "shell.execute_reply": "2023-10-26T22:42:53.455025Z",
     "shell.execute_reply.started": "2023-10-26T22:42:53.450089Z"
    },
    "hidden": true
   },
   "outputs": [],
   "source": [
    "df8=df4.copy()"
   ]
  },
  {
   "cell_type": "code",
   "execution_count": 94,
   "metadata": {
    "execution": {
     "iopub.execute_input": "2023-10-26T20:07:57.902872Z",
     "iopub.status.busy": "2023-10-26T20:07:57.902375Z",
     "iopub.status.idle": "2023-10-26T20:08:17.702749Z",
     "shell.execute_reply": "2023-10-26T20:08:17.701435Z",
     "shell.execute_reply.started": "2023-10-26T20:07:57.902837Z"
    }
   },
   "outputs": [],
   "source": [
    "# TREE==================================================\n",
    "# training dataset\n",
    "X1 = df7.drop(columns=['customer_id','gross_revenue'], axis=1)\n",
    "y = df7['gross_revenue']\n",
    "\n",
    "# model definition\n",
    "rf_model = en.RandomForestRegressor(random_state=42)\n",
    "\n",
    "# model training\n",
    "rf_model.fit(X1, y)\n",
    "\n",
    "# leaf\n",
    "df_leaf = pd.DataFrame(rf_model.apply(X1))\n",
    "\n",
    "# UMAP TREE 1\n",
    "reducer = umap.UMAP(n_components=10,random_state=42)\n",
    "embedding = reducer.fit_transform(df_leaf)\n",
    "\n",
    "# embedding\n",
    "df99 = pd.DataFrame()\n",
    "df99['embedding_x'] = embedding[:, 0]\n",
    "df99['embedding_y'] = embedding[:, 1]\n",
    "df99['embedding_z'] = embedding[:, 2]\n",
    "df99['embedding_a'] = embedding[:, 3]\n",
    "df99['embedding_b'] = embedding[:, 4]\n",
    "df99['embedding_c'] = embedding[:, 5]\n",
    "df99['embedding_d'] = embedding[:, 6]\n",
    "df99['embedding_e'] = embedding[:, 7]\n",
    "df99['embedding_f'] = embedding[:, 8]\n",
    "df99['embedding_g'] = embedding[:, 9]\n",
    "\n",
    "# model definition\n",
    "hc1 = hc.linkage(df99, 'ward')\n",
    "\n",
    "# model predict\n",
    "labels = hc.fcluster(hc1, 10, criterion='maxclust')"
   ]
  },
  {
   "cell_type": "markdown",
   "metadata": {
    "heading_collapsed": true,
    "hidden": true
   },
   "source": [
    "## 8.1 Visualization inspection"
   ]
  },
  {
   "cell_type": "markdown",
   "metadata": {
    "heading_collapsed": true,
    "hidden": true,
    "jp-MarkdownHeadingCollapsed": true
   },
   "source": [
    "## 8.2 2d plot"
   ]
  },
  {
   "cell_type": "code",
   "execution_count": 95,
   "metadata": {
    "ExecuteTime": {
     "end_time": "2023-09-05T19:17:49.713458Z",
     "start_time": "2023-09-05T19:17:34.156169Z"
    },
    "execution": {
     "iopub.execute_input": "2023-10-26T20:08:17.705090Z",
     "iopub.status.busy": "2023-10-26T20:08:17.704711Z",
     "iopub.status.idle": "2023-10-26T20:08:17.713079Z",
     "shell.execute_reply": "2023-10-26T20:08:17.711359Z",
     "shell.execute_reply.started": "2023-10-26T20:08:17.705059Z"
    },
    "hidden": true
   },
   "outputs": [],
   "source": [
    "# sns.pairplot(df_viz, hue='cluster');"
   ]
  },
  {
   "cell_type": "markdown",
   "metadata": {
    "hidden": true,
    "jp-MarkdownHeadingCollapsed": true
   },
   "source": [
    "## 8.3 UMAP\n"
   ]
  },
  {
   "cell_type": "code",
   "execution_count": 96,
   "metadata": {
    "ExecuteTime": {
     "end_time": "2023-09-05T23:30:02.351401Z",
     "start_time": "2023-09-05T23:29:52.150835Z"
    },
    "execution": {
     "iopub.execute_input": "2023-10-26T20:08:17.716001Z",
     "iopub.status.busy": "2023-10-26T20:08:17.715349Z",
     "iopub.status.idle": "2023-10-26T20:08:17.728146Z",
     "shell.execute_reply": "2023-10-26T20:08:17.726926Z",
     "shell.execute_reply.started": "2023-10-26T20:08:17.715942Z"
    },
    "hidden": true
   },
   "outputs": [],
   "source": [
    "# # embedding\n",
    "# df99['cluster'] = labels\n",
    "\n",
    "# # plot UMAP\n",
    "# sns.scatterplot(x='embedding_x', y='embedding_y', \n",
    "#                  hue='cluster', \n",
    "#                  palette=sns.color_palette('hls', n_colors=len(df99['cluster'].unique())),\n",
    "#                  data=df99);"
   ]
  },
  {
   "cell_type": "markdown",
   "metadata": {
    "hidden": true,
    "jp-MarkdownHeadingCollapsed": true
   },
   "source": [
    "## 8.4 Cluster profile"
   ]
  },
  {
   "cell_type": "code",
   "execution_count": 99,
   "metadata": {
    "execution": {
     "iopub.execute_input": "2023-10-26T22:43:20.247987Z",
     "iopub.status.busy": "2023-10-26T22:43:20.246777Z",
     "iopub.status.idle": "2023-10-26T22:43:20.370374Z",
     "shell.execute_reply": "2023-10-26T22:43:20.368783Z",
     "shell.execute_reply.started": "2023-10-26T22:43:20.247896Z"
    }
   },
   "outputs": [
    {
     "data": {
      "text/html": [
       "<div>\n",
       "<style scoped>\n",
       "    .dataframe tbody tr th:only-of-type {\n",
       "        vertical-align: middle;\n",
       "    }\n",
       "\n",
       "    .dataframe tbody tr th {\n",
       "        vertical-align: top;\n",
       "    }\n",
       "\n",
       "    .dataframe thead th {\n",
       "        text-align: right;\n",
       "    }\n",
       "</style>\n",
       "<table border=\"1\" class=\"dataframe\">\n",
       "  <thead>\n",
       "    <tr style=\"text-align: right;\">\n",
       "      <th></th>\n",
       "      <th>cluster</th>\n",
       "      <th>customers</th>\n",
       "      <th>perc_customer</th>\n",
       "      <th>avg_gross_revenue</th>\n",
       "      <th>gross_perc</th>\n",
       "      <th>avg_items</th>\n",
       "      <th>avg_products</th>\n",
       "      <th>avg_invoices</th>\n",
       "      <th>avg_returns</th>\n",
       "      <th>avg_recency_days</th>\n",
       "      <th>avg_frequency</th>\n",
       "    </tr>\n",
       "  </thead>\n",
       "  <tbody>\n",
       "    <tr>\n",
       "      <th>0</th>\n",
       "      <td>0</td>\n",
       "      <td>550</td>\n",
       "      <td>9.66 %</td>\n",
       "      <td>$ 10,280.14</td>\n",
       "      <td>60.93 %</td>\n",
       "      <td>5910</td>\n",
       "      <td>367</td>\n",
       "      <td>13</td>\n",
       "      <td>131</td>\n",
       "      <td>44</td>\n",
       "      <td>0.21</td>\n",
       "    </tr>\n",
       "    <tr>\n",
       "      <th>1</th>\n",
       "      <td>1</td>\n",
       "      <td>383</td>\n",
       "      <td>6.73 %</td>\n",
       "      <td>$ 2,558.74</td>\n",
       "      <td>15.17 %</td>\n",
       "      <td>1570</td>\n",
       "      <td>160</td>\n",
       "      <td>6</td>\n",
       "      <td>21</td>\n",
       "      <td>40</td>\n",
       "      <td>0.10</td>\n",
       "    </tr>\n",
       "    <tr>\n",
       "      <th>2</th>\n",
       "      <td>2</td>\n",
       "      <td>819</td>\n",
       "      <td>14.38 %</td>\n",
       "      <td>$ 1,749.00</td>\n",
       "      <td>10.37 %</td>\n",
       "      <td>887</td>\n",
       "      <td>119</td>\n",
       "      <td>4</td>\n",
       "      <td>14</td>\n",
       "      <td>67</td>\n",
       "      <td>0.25</td>\n",
       "    </tr>\n",
       "    <tr>\n",
       "      <th>3</th>\n",
       "      <td>3</td>\n",
       "      <td>1194</td>\n",
       "      <td>20.97 %</td>\n",
       "      <td>$ 1,007.03</td>\n",
       "      <td>5.97 %</td>\n",
       "      <td>438</td>\n",
       "      <td>84</td>\n",
       "      <td>2</td>\n",
       "      <td>5</td>\n",
       "      <td>104</td>\n",
       "      <td>0.46</td>\n",
       "    </tr>\n",
       "    <tr>\n",
       "      <th>4</th>\n",
       "      <td>4</td>\n",
       "      <td>1050</td>\n",
       "      <td>18.44 %</td>\n",
       "      <td>$ 457.00</td>\n",
       "      <td>2.71 %</td>\n",
       "      <td>197</td>\n",
       "      <td>41</td>\n",
       "      <td>1</td>\n",
       "      <td>2</td>\n",
       "      <td>132</td>\n",
       "      <td>0.57</td>\n",
       "    </tr>\n",
       "    <tr>\n",
       "      <th>5</th>\n",
       "      <td>5</td>\n",
       "      <td>309</td>\n",
       "      <td>5.43 %</td>\n",
       "      <td>$ 269.31</td>\n",
       "      <td>1.60 %</td>\n",
       "      <td>88</td>\n",
       "      <td>23</td>\n",
       "      <td>1</td>\n",
       "      <td>0</td>\n",
       "      <td>181</td>\n",
       "      <td>0.84</td>\n",
       "    </tr>\n",
       "    <tr>\n",
       "      <th>6</th>\n",
       "      <td>6</td>\n",
       "      <td>326</td>\n",
       "      <td>5.73 %</td>\n",
       "      <td>$ 265.58</td>\n",
       "      <td>1.57 %</td>\n",
       "      <td>155</td>\n",
       "      <td>11</td>\n",
       "      <td>1</td>\n",
       "      <td>2</td>\n",
       "      <td>155</td>\n",
       "      <td>0.98</td>\n",
       "    </tr>\n",
       "    <tr>\n",
       "      <th>7</th>\n",
       "      <td>7</td>\n",
       "      <td>356</td>\n",
       "      <td>6.25 %</td>\n",
       "      <td>$ 201.17</td>\n",
       "      <td>1.19 %</td>\n",
       "      <td>58</td>\n",
       "      <td>18</td>\n",
       "      <td>1</td>\n",
       "      <td>1</td>\n",
       "      <td>179</td>\n",
       "      <td>0.92</td>\n",
       "    </tr>\n",
       "    <tr>\n",
       "      <th>8</th>\n",
       "      <td>8</td>\n",
       "      <td>494</td>\n",
       "      <td>8.68 %</td>\n",
       "      <td>$ 69.85</td>\n",
       "      <td>0.41 %</td>\n",
       "      <td>18</td>\n",
       "      <td>7</td>\n",
       "      <td>1</td>\n",
       "      <td>0</td>\n",
       "      <td>193</td>\n",
       "      <td>0.98</td>\n",
       "    </tr>\n",
       "    <tr>\n",
       "      <th>9</th>\n",
       "      <td>9</td>\n",
       "      <td>213</td>\n",
       "      <td>3.74 %</td>\n",
       "      <td>$ 13.15</td>\n",
       "      <td>0.08 %</td>\n",
       "      <td>1</td>\n",
       "      <td>1</td>\n",
       "      <td>1</td>\n",
       "      <td>0</td>\n",
       "      <td>188</td>\n",
       "      <td>1.00</td>\n",
       "    </tr>\n",
       "  </tbody>\n",
       "</table>\n",
       "</div>"
      ],
      "text/plain": [
       "   cluster  customers perc_customer avg_gross_revenue gross_perc  avg_items  avg_products  avg_invoices  avg_returns  avg_recency_days  avg_frequency\n",
       "0        0        550        9.66 %       $ 10,280.14    60.93 %       5910           367            13          131                44           0.21\n",
       "1        1        383        6.73 %        $ 2,558.74    15.17 %       1570           160             6           21                40           0.10\n",
       "2        2        819       14.38 %        $ 1,749.00    10.37 %        887           119             4           14                67           0.25\n",
       "3        3       1194       20.97 %        $ 1,007.03     5.97 %        438            84             2            5               104           0.46\n",
       "4        4       1050       18.44 %          $ 457.00     2.71 %        197            41             1            2               132           0.57\n",
       "5        5        309        5.43 %          $ 269.31     1.60 %         88            23             1            0               181           0.84\n",
       "6        6        326        5.73 %          $ 265.58     1.57 %        155            11             1            2               155           0.98\n",
       "7        7        356        6.25 %          $ 201.17     1.19 %         58            18             1            1               179           0.92\n",
       "8        8        494        8.68 %           $ 69.85     0.41 %         18             7             1            0               193           0.98\n",
       "9        9        213        3.74 %           $ 13.15     0.08 %          1             1             1            0               188           1.00"
      ]
     },
     "execution_count": 99,
     "metadata": {},
     "output_type": "execute_result"
    }
   ],
   "source": [
    "df8['cluster'] = labels\n",
    "\n",
    "# Percentual of customers\n",
    "df_cluster = df8[['customer_id', 'cluster']].groupby('cluster').count().reset_index()\n",
    "df_cluster['perc_customer'] = 100*(df_cluster['customer_id'] / df_cluster['customer_id'].sum())\n",
    "df_cluster['perc_customer']=df_cluster['perc_customer'].map('{:,.2f} %'.format)\n",
    "\n",
    "# # Total Gross revenue\n",
    "# df_gross_revenue = df8[['gross_revenue', 'cluster']].groupby('cluster').sum().reset_index()\n",
    "# df_cluster = pd.merge(df_cluster, df_gross_revenue, how='inner', on='cluster')\n",
    "\n",
    "# Avg Gross revenue\n",
    "df_avg_gross_revenue = df8[['gross_revenue', 'cluster']].groupby('cluster').mean().reset_index()\n",
    "df_avg_gross_revenue=df_avg_gross_revenue.rename(columns={'gross_revenue':'avg_gross_revenue'})\n",
    "df_cluster = pd.merge(df_cluster, df_avg_gross_revenue, how='inner', on='cluster')\n",
    "\n",
    "# Gross revenue percentual\n",
    "df_cluster['gross_perc'] = 100*(df_cluster['avg_gross_revenue'] / df_cluster['avg_gross_revenue'].sum())\n",
    "df_cluster['gross_perc']=df_cluster['gross_perc'].map('{:,.2f} %'.format)\n",
    "\n",
    "# # Total items\n",
    "# df_items = df8[['items', 'cluster']].groupby('cluster').sum().reset_index()\n",
    "# df_cluster = pd.merge(df_cluster, df_items, how='inner', on='cluster')\n",
    "# df_cluster['items']=df_cluster['items'].astype(int)\n",
    "\n",
    "# Avg items \n",
    "df_items = df8[['items', 'cluster']].groupby('cluster').mean().reset_index()\n",
    "df_items=df_items.rename(columns={'items':'avg_items'})\n",
    "df_cluster = pd.merge(df_cluster, df_items, how='inner', on='cluster')\n",
    "df_cluster['avg_items']=df_cluster['avg_items'].astype(int)\n",
    "\n",
    "# # Total products \n",
    "# df_products = df8[['products', 'cluster']].groupby('cluster').sum().reset_index()\n",
    "# df_cluster = pd.merge(df_cluster, df_products, how='inner', on='cluster')\n",
    "# df_cluster['products']=df_cluster['products'].astype(int)\n",
    "\n",
    "# Avg products \n",
    "df_products = df8[['products', 'cluster']].groupby('cluster').mean().reset_index()\n",
    "df_products=df_products.rename(columns={'products':'avg_products'})\n",
    "df_cluster = pd.merge(df_cluster, df_products, how='inner', on='cluster')\n",
    "df_cluster['avg_products']=df_cluster['avg_products'].astype(int)\n",
    "\n",
    "# # Total invoice_no\n",
    "# df_invoice_no = df8[['total_invoices', 'cluster']].groupby('cluster').sum().reset_index()\n",
    "# df_cluster = pd.merge(df_cluster, df_invoice_no, how='inner', on='cluster')\n",
    "# df_cluster['total_invoices']=df_cluster['total_invoices'].astype(int)\n",
    "# df_cluster=df_cluster.rename(columns={'total_invoices':'invoices'})\n",
    "\n",
    "# Avg invoice_no\n",
    "df_invoice_no = df8[['total_invoices', 'cluster']].groupby('cluster').mean().reset_index()\n",
    "df_invoice_no=df_invoice_no.rename(columns={'total_invoices':'avg_invoices'})\n",
    "df_cluster = pd.merge(df_cluster, df_invoice_no, how='inner', on='cluster')\n",
    "df_cluster['avg_invoices']=df_cluster['avg_invoices'].astype(int)\n",
    "\n",
    "# Avg returns\n",
    "df_returns = df8[['returns_qtt', 'cluster']].groupby('cluster').mean().reset_index()\n",
    "df_cluster = pd.merge(df_cluster, df_returns, how='inner', on='cluster')\n",
    "df_cluster['returns_qtt']=df_cluster['returns_qtt'].astype(int)\n",
    "df_cluster=df_cluster.rename(columns={'returns_qtt':'avg_returns'})\n",
    "\n",
    "# Avg recency days\n",
    "df_avg_recency_days = df8[['recency_days', 'cluster']].groupby('cluster').mean().reset_index()\n",
    "df_cluster = pd.merge(df_cluster, df_avg_recency_days, how='inner', on='cluster')\n",
    "df_cluster['recency_days']=df_cluster['recency_days'].astype(int)\n",
    "df_cluster=df_cluster.rename(columns={'recency_days':'avg_recency_days'})\n",
    "\n",
    "# Avg frequency\n",
    "df_avg_frequency = df8[['frequency', 'cluster']].groupby('cluster').mean().reset_index()\n",
    "df_cluster = pd.merge(df_cluster, df_avg_frequency, how='inner', on='cluster')\n",
    "df_cluster['frequency']=df_cluster['frequency'].astype(float)\n",
    "df_cluster['frequency']=df_cluster['frequency'].round(2)\n",
    "df_cluster=df_cluster.rename(columns={'frequency':'avg_frequency'})\n",
    "\n",
    "\n",
    "df_cluster=df_cluster.sort_values(['avg_gross_revenue'],ascending=False).reset_index(drop=True)\n",
    "\n",
    "# df_cluster['gross_revenue']=df_cluster['gross_revenue'].map('$ {:,.2f}'.format)\n",
    "df_cluster['avg_gross_revenue']=df_cluster['avg_gross_revenue'].map('$ {:,.2f}'.format)\n",
    "\n",
    "df_cluster=df_cluster.rename(columns={'customer_id':'customers'})\n",
    "\n",
    "df_cluster.loc[0:0,'cluster'] = 0\n",
    "df_cluster.loc[1:1,'cluster'] = 1\n",
    "df_cluster.loc[2:2,'cluster'] = 2\n",
    "\n",
    "rows=df_cluster.shape[0:1]\n",
    "rows=int(rows[0])\n",
    "\n",
    "if rows>3:\n",
    "        df_cluster.loc[3:3,'cluster'] = 3\n",
    "        df_cluster.loc[4:4,'cluster'] = 4\n",
    "        df_cluster.loc[5:5,'cluster'] = 5\n",
    "        df_cluster.loc[6:6,'cluster'] = 6\n",
    "        df_cluster.loc[7:7,'cluster'] = 7\n",
    "        df_cluster.loc[8:8,'cluster'] = 8\n",
    "        df_cluster.loc[9:9,'cluster'] = 9\n",
    "        df_cluster.loc[10:10,'cluster'] = 10\n",
    "else:\n",
    "    None\n",
    "\n",
    "df_cluster"
   ]
  },
  {
   "cell_type": "code",
   "execution_count": 117,
   "metadata": {
    "execution": {
     "iopub.execute_input": "2023-10-26T22:51:30.713444Z",
     "iopub.status.busy": "2023-10-26T22:51:30.712285Z",
     "iopub.status.idle": "2023-10-26T22:51:30.731325Z",
     "shell.execute_reply": "2023-10-26T22:51:30.729761Z",
     "shell.execute_reply.started": "2023-10-26T22:51:30.713378Z"
    }
   },
   "outputs": [],
   "source": [
    "df8['cluster']=df8['cluster'].apply(lambda x: 1 if x == 3 \n",
    "                                         else 2 if x == 6\n",
    "                                         else 3 if x == 4\n",
    "                                         else 4 if x == 8\n",
    "                                         else 5 if x == 10\n",
    "                                         else 6 if x == 7\n",
    "                                         else 7 if x == 9\n",
    "                                         else 8 if x == 5\n",
    "                                         else 9 if x == 1\n",
    "                                         else 10\n",
    "                                    )"
   ]
  },
  {
   "cell_type": "markdown",
   "metadata": {},
   "source": [
    "# 9.0 EDA"
   ]
  },
  {
   "cell_type": "markdown",
   "metadata": {},
   "source": [
    "## 9.1 Hypothesis"
   ]
  },
  {
   "cell_type": "markdown",
   "metadata": {
    "jp-MarkdownHeadingCollapsed": true
   },
   "source": [
    "### H1 **Insiders have a purchase volume (products) above 10% of total purchases**\n",
    "True: The product purchase volume is 38.28%"
   ]
  },
  {
   "cell_type": "code",
   "execution_count": 118,
   "metadata": {
    "execution": {
     "iopub.execute_input": "2023-10-26T22:51:40.311256Z",
     "iopub.status.busy": "2023-10-26T22:51:40.310088Z",
     "iopub.status.idle": "2023-10-26T22:51:40.337053Z",
     "shell.execute_reply": "2023-10-26T22:51:40.333182Z",
     "shell.execute_reply.started": "2023-10-26T22:51:40.311175Z"
    }
   },
   "outputs": [
    {
     "name": "stdout",
     "output_type": "stream",
     "text": [
      "% Sales Insiders: 38.28%\n"
     ]
    }
   ],
   "source": [
    "df_sales_insiders = df8.loc[df8['cluster'] == 1, 'products'].sum()\n",
    "df_sales_total = df8.loc[:, 'products'].sum()\n",
    "\n",
    "print('% Sales Insiders: {:.2f}%'.format(100*df_sales_insiders / df_sales_total))"
   ]
  },
  {
   "cell_type": "code",
   "execution_count": 119,
   "metadata": {
    "execution": {
     "iopub.execute_input": "2023-10-26T22:51:43.061118Z",
     "iopub.status.busy": "2023-10-26T22:51:43.060023Z",
     "iopub.status.idle": "2023-10-26T22:51:43.075364Z",
     "shell.execute_reply": "2023-10-26T22:51:43.074160Z",
     "shell.execute_reply.started": "2023-10-26T22:51:43.061051Z"
    }
   },
   "outputs": [
    {
     "data": {
      "text/plain": [
       "201908.0"
      ]
     },
     "execution_count": 119,
     "metadata": {},
     "output_type": "execute_result"
    }
   ],
   "source": [
    "df_sales_insiders = df8.loc[df8['cluster'] == 1, 'products'].sum()\n",
    "df_sales_insiders"
   ]
  },
  {
   "cell_type": "code",
   "execution_count": 132,
   "metadata": {
    "execution": {
     "iopub.execute_input": "2023-10-26T23:08:20.448561Z",
     "iopub.status.busy": "2023-10-26T23:08:20.447487Z",
     "iopub.status.idle": "2023-10-26T23:08:21.401089Z",
     "shell.execute_reply": "2023-10-26T23:08:21.399414Z",
     "shell.execute_reply.started": "2023-10-26T23:08:20.448505Z"
    }
   },
   "outputs": [
    {
     "name": "stderr",
     "output_type": "stream",
     "text": [
      "No artists with labels found to put in legend.  Note that artists whose label start with an underscore are ignored when legend() is called with no argument.\n"
     ]
    },
    {
     "data": {
      "image/png": "[encoded data removed]",
      "text/plain": [
       "<Figure size 2000x800 with 1 Axes>"
      ]
     },
     "metadata": {},
     "output_type": "display_data"
    }
   ],
   "source": [
    "rcParams['figure.figsize'] = 20,8\n",
    "sns.barplot(x='cluster',y='products',data=df8);\n",
    "plt.legend(title='Cluster 1 = Insiders');"
   ]
  },
  {
   "cell_type": "markdown",
   "metadata": {
    "jp-MarkdownHeadingCollapsed": true
   },
   "source": [
    "### H2 **Insiders have a purchase volume above 10% of total purchases**\n",
    "**True:** The GMV volume is 56.39%"
   ]
  },
  {
   "cell_type": "code",
   "execution_count": 121,
   "metadata": {
    "execution": {
     "iopub.execute_input": "2023-10-26T22:51:54.379695Z",
     "iopub.status.busy": "2023-10-26T22:51:54.378643Z",
     "iopub.status.idle": "2023-10-26T22:51:54.391168Z",
     "shell.execute_reply": "2023-10-26T22:51:54.389862Z",
     "shell.execute_reply.started": "2023-10-26T22:51:54.379636Z"
    }
   },
   "outputs": [
    {
     "name": "stdout",
     "output_type": "stream",
     "text": [
      "% GMV Insiders: 56.39%\n"
     ]
    }
   ],
   "source": [
    "df_gmv_insiders = df8.loc[df8['cluster'] == 1, 'gross_revenue'].sum()\n",
    "df_gmv_total = df8.loc[:, 'gross_revenue'].sum()\n",
    "\n",
    "print('% GMV Insiders: {:.2f}%'.format(100*df_gmv_insiders / df_gmv_total))"
   ]
  },
  {
   "cell_type": "markdown",
   "metadata": {
    "jp-MarkdownHeadingCollapsed": true
   },
   "source": [
    "### H3 **Insiders have an average number of returns below the average for the total customer base**\n",
    "**False**: In average insiders returns are 7x higher"
   ]
  },
  {
   "cell_type": "code",
   "execution_count": 122,
   "metadata": {
    "execution": {
     "iopub.execute_input": "2023-10-26T22:52:00.882618Z",
     "iopub.status.busy": "2023-10-26T22:52:00.880790Z",
     "iopub.status.idle": "2023-10-26T22:52:00.902070Z",
     "shell.execute_reply": "2023-10-26T22:52:00.899992Z",
     "shell.execute_reply.started": "2023-10-26T22:52:00.882526Z"
    }
   },
   "outputs": [
    {
     "name": "stdout",
     "output_type": "stream",
     "text": [
      "Avg Return Insiders: 132.0 vs Avg Return All:18.0\n"
     ]
    }
   ],
   "source": [
    "# media de devolucao do cluster insider\n",
    "df_avg_return_insiders = df8.loc[df8['cluster'] == 1, 'returns_qtt'].mean()\n",
    "\n",
    "# media de devolucao do total\n",
    "df_avg_return_all = df8['returns_qtt'].mean()\n",
    "\n",
    "#\n",
    "print('Avg Return Insiders: {} vs Avg Return All:{}'.format(np.round(df_avg_return_insiders, 0), \n",
    "                                                              np.round(df_avg_return_all, 0)))"
   ]
  },
  {
   "cell_type": "code",
   "execution_count": 135,
   "metadata": {
    "execution": {
     "iopub.execute_input": "2023-10-26T23:12:30.635590Z",
     "iopub.status.busy": "2023-10-26T23:12:30.634512Z",
     "iopub.status.idle": "2023-10-26T23:12:31.545329Z",
     "shell.execute_reply": "2023-10-26T23:12:31.543689Z",
     "shell.execute_reply.started": "2023-10-26T23:12:30.635507Z"
    }
   },
   "outputs": [
    {
     "name": "stderr",
     "output_type": "stream",
     "text": [
      "No artists with labels found to put in legend.  Note that artists whose label start with an underscore are ignored when legend() is called with no argument.\n"
     ]
    },
    {
     "data": {
      "image/png": "[encoded data removed]",
      "text/plain": [
       "<Figure size 2000x800 with 1 Axes>"
      ]
     },
     "metadata": {},
     "output_type": "display_data"
    }
   ],
   "source": [
    "rcParams['figure.figsize'] = 20,8\n",
    "sns.barplot(x='cluster',y='returns_qtt',data=df8);\n",
    "plt.legend(title='Cluster 1 = Insiders');"
   ]
  },
  {
   "cell_type": "markdown",
   "metadata": {
    "jp-MarkdownHeadingCollapsed": true
   },
   "source": [
    "### H4 **The median revenue for insiders is 10% higher than the median of the general revenue.**\n",
    "**True**: The median revenue is 758% above the average."
   ]
  },
  {
   "cell_type": "code",
   "execution_count": 123,
   "metadata": {
    "execution": {
     "iopub.execute_input": "2023-10-26T22:52:05.985102Z",
     "iopub.status.busy": "2023-10-26T22:52:05.982480Z",
     "iopub.status.idle": "2023-10-26T22:52:06.001301Z",
     "shell.execute_reply": "2023-10-26T22:52:05.999633Z",
     "shell.execute_reply.started": "2023-10-26T22:52:05.984929Z"
    }
   },
   "outputs": [
    {
     "name": "stdout",
     "output_type": "stream",
     "text": [
      "Median Diff: 758.62%\n"
     ]
    }
   ],
   "source": [
    "# mediana de gmv do insiders\n",
    "df_median_gmv_insiders = df8.loc[df8['cluster'] == 1, 'gross_revenue'].median()\n",
    "\n",
    "# mediana de gmv do total\n",
    "df_median_gmv_total = df8.loc[:, 'gross_revenue'].median()\n",
    "\n",
    "gmv_diff = (df_median_gmv_insiders - df_median_gmv_total) / df_median_gmv_total\n",
    "print('Median Diff: {:.2f}%'.format(100*gmv_diff))"
   ]
  },
  {
   "cell_type": "markdown",
   "metadata": {},
   "source": [
    "### H5 **The GMV of insiders is concentrated in the 3rd quartile**\n",
    "**False**: The insiders revenue is concentrated in quartile 1"
   ]
  },
  {
   "cell_type": "code",
   "execution_count": 124,
   "metadata": {
    "execution": {
     "iopub.execute_input": "2023-10-26T22:52:09.760757Z",
     "iopub.status.busy": "2023-10-26T22:52:09.758016Z",
     "iopub.status.idle": "2023-10-26T22:52:09.782070Z",
     "shell.execute_reply": "2023-10-26T22:52:09.780897Z",
     "shell.execute_reply.started": "2023-10-26T22:52:09.760611Z"
    }
   },
   "outputs": [
    {
     "data": {
      "text/plain": [
       "485.05317"
      ]
     },
     "execution_count": 124,
     "metadata": {},
     "output_type": "execute_result"
    }
   ],
   "source": [
    "np.percentile(df8.loc[df8['cluster'] == 1, 'gross_revenue'], q=0.1)"
   ]
  },
  {
   "cell_type": "code",
   "execution_count": 125,
   "metadata": {
    "execution": {
     "iopub.execute_input": "2023-10-26T22:52:13.591578Z",
     "iopub.status.busy": "2023-10-26T22:52:13.589850Z",
     "iopub.status.idle": "2023-10-26T22:52:13.609743Z",
     "shell.execute_reply": "2023-10-26T22:52:13.607827Z",
     "shell.execute_reply.started": "2023-10-26T22:52:13.591467Z"
    }
   },
   "outputs": [
    {
     "data": {
      "text/plain": [
       "1425.0010600000003"
      ]
     },
     "execution_count": 125,
     "metadata": {},
     "output_type": "execute_result"
    }
   ],
   "source": [
    "np.percentile(df8.loc[df8['cluster'] == 1, 'gross_revenue'], q=0.9)"
   ]
  },
  {
   "cell_type": "code",
   "execution_count": 126,
   "metadata": {
    "execution": {
     "iopub.execute_input": "2023-10-26T22:52:21.178784Z",
     "iopub.status.busy": "2023-10-26T22:52:21.177472Z",
     "iopub.status.idle": "2023-10-26T22:52:21.500163Z",
     "shell.execute_reply": "2023-10-26T22:52:21.498683Z",
     "shell.execute_reply.started": "2023-10-26T22:52:21.178661Z"
    }
   },
   "outputs": [
    {
     "data": {
      "image/png": "[encoded data removed]",
      "text/plain": [
       "<Figure size 1000x500 with 1 Axes>"
      ]
     },
     "metadata": {},
     "output_type": "display_data"
    }
   ],
   "source": [
    "rcParams['figure.figsize'] = 10,5\n",
    "\n",
    "# df_aux = df8.loc[(df8['cluster'] == 3),'gross_revenue']\n",
    "\n",
    "df_aux = df8.loc[(df8['cluster'] == 1) & (df8['gross_revenue'] < 20000), 'gross_revenue'];\n",
    "# sns.boxplot(y=df_aux);\n",
    "sns.violinplot(y=df_aux);"
   ]
  },
  {
   "cell_type": "markdown",
   "metadata": {},
   "source": [
    "## 9.2 Business questions"
   ]
  },
  {
   "cell_type": "markdown",
   "metadata": {},
   "source": [
    "### 1. How many customers are in the insiders group?"
   ]
  },
  {
   "cell_type": "code",
   "execution_count": 75,
   "metadata": {
    "execution": {
     "iopub.execute_input": "2023-10-05T21:51:49.798544Z",
     "iopub.status.busy": "2023-10-05T21:51:49.797136Z",
     "iopub.status.idle": "2023-10-05T21:51:49.810966Z",
     "shell.execute_reply": "2023-10-05T21:51:49.809396Z",
     "shell.execute_reply.started": "2023-10-05T21:51:49.798486Z"
    }
   },
   "outputs": [
    {
     "data": {
      "text/plain": [
       "550"
      ]
     },
     "execution_count": 75,
     "metadata": {},
     "output_type": "execute_result"
    }
   ],
   "source": [
    "df_cluster._get_value(0, 'customers')"
   ]
  },
  {
   "cell_type": "markdown",
   "metadata": {},
   "source": [
    "### 2. What are the main characteristics of these customers?"
   ]
  },
  {
   "cell_type": "code",
   "execution_count": 77,
   "metadata": {
    "execution": {
     "iopub.execute_input": "2023-10-05T21:54:41.531941Z",
     "iopub.status.busy": "2023-10-05T21:54:41.531401Z",
     "iopub.status.idle": "2023-10-05T21:54:41.551382Z",
     "shell.execute_reply": "2023-10-05T21:54:41.549856Z",
     "shell.execute_reply.started": "2023-10-05T21:54:41.531899Z"
    }
   },
   "outputs": [
    {
     "data": {
      "text/html": [
       "<div>\n",
       "<style scoped>\n",
       "    .dataframe tbody tr th:only-of-type {\n",
       "        vertical-align: middle;\n",
       "    }\n",
       "\n",
       "    .dataframe tbody tr th {\n",
       "        vertical-align: top;\n",
       "    }\n",
       "\n",
       "    .dataframe thead th {\n",
       "        text-align: right;\n",
       "    }\n",
       "</style>\n",
       "<table border=\"1\" class=\"dataframe\">\n",
       "  <thead>\n",
       "    <tr style=\"text-align: right;\">\n",
       "      <th></th>\n",
       "      <th>cluster</th>\n",
       "      <th>customers</th>\n",
       "      <th>perc_customer</th>\n",
       "      <th>avg_gross_revenue</th>\n",
       "      <th>gross_perc</th>\n",
       "      <th>avg_items</th>\n",
       "      <th>avg_products</th>\n",
       "      <th>avg_invoices</th>\n",
       "      <th>avg_returns</th>\n",
       "      <th>avg_recency_days</th>\n",
       "      <th>avg_frequency</th>\n",
       "    </tr>\n",
       "  </thead>\n",
       "  <tbody>\n",
       "    <tr>\n",
       "      <th>0</th>\n",
       "      <td>0</td>\n",
       "      <td>550</td>\n",
       "      <td>9.66 %</td>\n",
       "      <td>$ 10,280.14</td>\n",
       "      <td>60.93 %</td>\n",
       "      <td>5910</td>\n",
       "      <td>367</td>\n",
       "      <td>13</td>\n",
       "      <td>131</td>\n",
       "      <td>44</td>\n",
       "      <td>0.21</td>\n",
       "    </tr>\n",
       "    <tr>\n",
       "      <th>1</th>\n",
       "      <td>1</td>\n",
       "      <td>383</td>\n",
       "      <td>6.73 %</td>\n",
       "      <td>$ 2,558.74</td>\n",
       "      <td>15.17 %</td>\n",
       "      <td>1570</td>\n",
       "      <td>160</td>\n",
       "      <td>6</td>\n",
       "      <td>21</td>\n",
       "      <td>40</td>\n",
       "      <td>0.10</td>\n",
       "    </tr>\n",
       "    <tr>\n",
       "      <th>2</th>\n",
       "      <td>2</td>\n",
       "      <td>819</td>\n",
       "      <td>14.38 %</td>\n",
       "      <td>$ 1,749.00</td>\n",
       "      <td>10.37 %</td>\n",
       "      <td>887</td>\n",
       "      <td>119</td>\n",
       "      <td>4</td>\n",
       "      <td>14</td>\n",
       "      <td>67</td>\n",
       "      <td>0.25</td>\n",
       "    </tr>\n",
       "    <tr>\n",
       "      <th>3</th>\n",
       "      <td>3</td>\n",
       "      <td>1194</td>\n",
       "      <td>20.97 %</td>\n",
       "      <td>$ 1,007.03</td>\n",
       "      <td>5.97 %</td>\n",
       "      <td>438</td>\n",
       "      <td>84</td>\n",
       "      <td>2</td>\n",
       "      <td>5</td>\n",
       "      <td>104</td>\n",
       "      <td>0.46</td>\n",
       "    </tr>\n",
       "    <tr>\n",
       "      <th>4</th>\n",
       "      <td>4</td>\n",
       "      <td>1050</td>\n",
       "      <td>18.44 %</td>\n",
       "      <td>$ 457.00</td>\n",
       "      <td>2.71 %</td>\n",
       "      <td>197</td>\n",
       "      <td>41</td>\n",
       "      <td>1</td>\n",
       "      <td>2</td>\n",
       "      <td>132</td>\n",
       "      <td>0.57</td>\n",
       "    </tr>\n",
       "  </tbody>\n",
       "</table>\n",
       "</div>"
      ],
      "text/plain": [
       "   cluster  customers perc_customer avg_gross_revenue gross_perc  avg_items  avg_products  avg_invoices  avg_returns  avg_recency_days  avg_frequency\n",
       "0        0        550        9.66 %       $ 10,280.14    60.93 %       5910           367            13          131                44           0.21\n",
       "1        1        383        6.73 %        $ 2,558.74    15.17 %       1570           160             6           21                40           0.10\n",
       "2        2        819       14.38 %        $ 1,749.00    10.37 %        887           119             4           14                67           0.25\n",
       "3        3       1194       20.97 %        $ 1,007.03     5.97 %        438            84             2            5               104           0.46\n",
       "4        4       1050       18.44 %          $ 457.00     2.71 %        197            41             1            2               132           0.57"
      ]
     },
     "execution_count": 77,
     "metadata": {},
     "output_type": "execute_result"
    }
   ],
   "source": [
    "df_cluster.head()"
   ]
  },
  {
   "cell_type": "code",
   "execution_count": 101,
   "metadata": {
    "execution": {
     "iopub.execute_input": "2023-10-05T22:12:22.525007Z",
     "iopub.status.busy": "2023-10-05T22:12:22.524383Z",
     "iopub.status.idle": "2023-10-05T22:12:22.536521Z",
     "shell.execute_reply": "2023-10-05T22:12:22.535441Z",
     "shell.execute_reply.started": "2023-10-05T22:12:22.524945Z"
    }
   },
   "outputs": [
    {
     "name": "stdout",
     "output_type": "stream",
     "text": [
      "Number of customers : 550, 9.66 % of the total\n",
      "Average revenue : $ 10,280.14\n",
      "Average recency : 44\n",
      "Average number of products purchased : 367\n",
      "Average purchase frequency : 0.21/day\n"
     ]
    }
   ],
   "source": [
    "print(f'Number of customers : {df_cluster[\"customers\"][0]}, {df_cluster[\"perc_customer\"][0]} of the total')\n",
    "print(f'Average revenue : {df_cluster[\"avg_gross_revenue\"][0]}')\n",
    "print(f'Average recency : {df_cluster[\"avg_recency_days\"][0]}')\n",
    "print(f'Average number of products purchased : {df_cluster[\"avg_products\"][0]}')\n",
    "print(f'Average purchase frequency : {df_cluster[\"avg_frequency\"][0]}/day')"
   ]
  },
  {
   "cell_type": "code",
   "execution_count": null,
   "metadata": {},
   "outputs": [],
   "source": []
  },
  {
   "cell_type": "code",
   "execution_count": null,
   "metadata": {},
   "outputs": [],
   "source": []
  },
  {
   "cell_type": "code",
   "execution_count": null,
   "metadata": {},
   "outputs": [],
   "source": []
  },
  {
   "cell_type": "code",
   "execution_count": null,
   "metadata": {},
   "outputs": [],
   "source": []
  },
  {
   "cell_type": "code",
   "execution_count": null,
   "metadata": {},
   "outputs": [],
   "source": []
  }
 ],
 "metadata": {
  "hide_input": false,
  "kernelspec": {
   "display_name": "Python 3 (ipykernel)",
   "language": "python",
   "name": "python3"
  },
  "language_info": {
   "codemirror_mode": {
    "name": "ipython",
    "version": 3
   },
   "file_extension": ".py",
   "mimetype": "text/x-python",
   "name": "python",
   "nbconvert_exporter": "python",
   "pygments_lexer": "ipython3",
   "version": "3.10.4"
  }
 },
 "nbformat": 4,
 "nbformat_minor": 4
}
