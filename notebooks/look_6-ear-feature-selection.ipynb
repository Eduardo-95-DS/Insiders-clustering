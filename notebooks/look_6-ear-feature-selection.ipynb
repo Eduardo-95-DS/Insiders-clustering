{
 "cells": [
  {
   "cell_type": "markdown",
   "metadata": {
    "jp-MarkdownHeadingCollapsed": true
   },
   "source": [
    "# 0.0 Imports"
   ]
  },
  {
   "cell_type": "code",
   "execution_count": 120,
   "metadata": {
    "ExecuteTime": {
     "end_time": "2023-09-09T18:53:20.149292Z",
     "start_time": "2023-09-09T18:53:20.143130Z"
    },
    "execution": {
     "iopub.execute_input": "2023-09-28T13:14:34.797548Z",
     "iopub.status.busy": "2023-09-28T13:14:34.796401Z",
     "iopub.status.idle": "2023-09-28T13:14:34.806556Z",
     "shell.execute_reply": "2023-09-28T13:14:34.805220Z",
     "shell.execute_reply.started": "2023-09-28T13:14:34.797491Z"
    }
   },
   "outputs": [],
   "source": [
    "import warnings\n",
    "import numpy   as np\n",
    "import pandas  as pd\n",
    "import seaborn as sns\n",
    "import umap.umap_ as umap\n",
    "import regex as re\n",
    "import matplotlib.gridspec as gridspec\n",
    "\n",
    "from IPython.display     import HTML\n",
    "from ydata_profiling     import ProfileReport\n",
    "from pylab               import rcParams\n",
    "from matplotlib          import pyplot  as plt\n",
    "from plotly              import express as px\n",
    "from sklearn             import cluster as c\n",
    "from sklearn             import metrics as m\n",
    "from sklearn             import preprocessing as pp\n",
    "from sklearn             import decomposition as dd\n",
    "from sklearn             import ensemble as en\n",
    "from sklearn             import mixture       as mx\n",
    "from sklearn.manifold    import TSNE\n",
    "from scipy.cluster       import hierarchy as hc\n",
    "from yellowbrick.cluster import KElbowVisualizer, SilhouetteVisualizer"
   ]
  },
  {
   "cell_type": "markdown",
   "metadata": {
    "heading_collapsed": true,
    "jp-MarkdownHeadingCollapsed": true
   },
   "source": [
    "## 0.1 Helper functions"
   ]
  },
  {
   "cell_type": "code",
   "execution_count": 121,
   "metadata": {
    "ExecuteTime": {
     "end_time": "2023-09-09T18:53:20.187451Z",
     "start_time": "2023-09-09T18:53:20.172407Z"
    },
    "execution": {
     "iopub.execute_input": "2023-09-28T13:14:34.810764Z",
     "iopub.status.busy": "2023-09-28T13:14:34.809597Z",
     "iopub.status.idle": "2023-09-28T13:14:34.826697Z",
     "shell.execute_reply": "2023-09-28T13:14:34.825281Z",
     "shell.execute_reply.started": "2023-09-28T13:14:34.810690Z"
    },
    "hidden": true
   },
   "outputs": [
    {
     "data": {
      "text/html": [
       "<style>.container { width:100% !important; }</style>"
      ],
      "text/plain": [
       "<IPython.core.display.HTML object>"
      ]
     },
     "metadata": {},
     "output_type": "display_data"
    }
   ],
   "source": [
    "def jupyter_settings():\n",
    "    %matplotlib inline\n",
    "    \n",
    "    display(HTML('<style>.container { width:100% !important; }</style>'))\n",
    "    pd.set_option('display.expand_frame_repr', False)\n",
    "    warnings.filterwarnings(\"ignore\")    \n",
    "    \n",
    "    sns.set()\n",
    "    \n",
    "jupyter_settings()"
   ]
  },
  {
   "cell_type": "markdown",
   "metadata": {},
   "source": [
    "## 0.2 Load dataset"
   ]
  },
  {
   "cell_type": "code",
   "execution_count": 122,
   "metadata": {
    "ExecuteTime": {
     "end_time": "2023-09-09T18:53:21.199965Z",
     "start_time": "2023-09-09T18:53:20.192063Z"
    },
    "execution": {
     "iopub.execute_input": "2023-09-28T13:14:34.829612Z",
     "iopub.status.busy": "2023-09-28T13:14:34.828743Z",
     "iopub.status.idle": "2023-09-28T13:14:35.660520Z",
     "shell.execute_reply": "2023-09-28T13:14:35.659378Z",
     "shell.execute_reply.started": "2023-09-28T13:14:34.829545Z"
    }
   },
   "outputs": [
    {
     "data": {
      "text/html": [
       "<div>\n",
       "<style scoped>\n",
       "    .dataframe tbody tr th:only-of-type {\n",
       "        vertical-align: middle;\n",
       "    }\n",
       "\n",
       "    .dataframe tbody tr th {\n",
       "        vertical-align: top;\n",
       "    }\n",
       "\n",
       "    .dataframe thead th {\n",
       "        text-align: right;\n",
       "    }\n",
       "</style>\n",
       "<table border=\"1\" class=\"dataframe\">\n",
       "  <thead>\n",
       "    <tr style=\"text-align: right;\">\n",
       "      <th></th>\n",
       "      <th>InvoiceNo</th>\n",
       "      <th>StockCode</th>\n",
       "      <th>Description</th>\n",
       "      <th>Quantity</th>\n",
       "      <th>InvoiceDate</th>\n",
       "      <th>UnitPrice</th>\n",
       "      <th>CustomerID</th>\n",
       "      <th>Country</th>\n",
       "      <th>Unnamed: 8</th>\n",
       "    </tr>\n",
       "  </thead>\n",
       "  <tbody>\n",
       "    <tr>\n",
       "      <th>0</th>\n",
       "      <td>536365</td>\n",
       "      <td>85123A</td>\n",
       "      <td>WHITE HANGING HEART T-LIGHT HOLDER</td>\n",
       "      <td>6</td>\n",
       "      <td>29-Nov-16</td>\n",
       "      <td>2.55</td>\n",
       "      <td>17850.0</td>\n",
       "      <td>United Kingdom</td>\n",
       "      <td>NaN</td>\n",
       "    </tr>\n",
       "    <tr>\n",
       "      <th>1</th>\n",
       "      <td>536365</td>\n",
       "      <td>71053</td>\n",
       "      <td>WHITE METAL LANTERN</td>\n",
       "      <td>6</td>\n",
       "      <td>29-Nov-16</td>\n",
       "      <td>3.39</td>\n",
       "      <td>17850.0</td>\n",
       "      <td>United Kingdom</td>\n",
       "      <td>NaN</td>\n",
       "    </tr>\n",
       "    <tr>\n",
       "      <th>2</th>\n",
       "      <td>536365</td>\n",
       "      <td>84406B</td>\n",
       "      <td>CREAM CUPID HEARTS COAT HANGER</td>\n",
       "      <td>8</td>\n",
       "      <td>29-Nov-16</td>\n",
       "      <td>2.75</td>\n",
       "      <td>17850.0</td>\n",
       "      <td>United Kingdom</td>\n",
       "      <td>NaN</td>\n",
       "    </tr>\n",
       "    <tr>\n",
       "      <th>3</th>\n",
       "      <td>536365</td>\n",
       "      <td>84029G</td>\n",
       "      <td>KNITTED UNION FLAG HOT WATER BOTTLE</td>\n",
       "      <td>6</td>\n",
       "      <td>29-Nov-16</td>\n",
       "      <td>3.39</td>\n",
       "      <td>17850.0</td>\n",
       "      <td>United Kingdom</td>\n",
       "      <td>NaN</td>\n",
       "    </tr>\n",
       "    <tr>\n",
       "      <th>4</th>\n",
       "      <td>536365</td>\n",
       "      <td>84029E</td>\n",
       "      <td>RED WOOLLY HOTTIE WHITE HEART.</td>\n",
       "      <td>6</td>\n",
       "      <td>29-Nov-16</td>\n",
       "      <td>3.39</td>\n",
       "      <td>17850.0</td>\n",
       "      <td>United Kingdom</td>\n",
       "      <td>NaN</td>\n",
       "    </tr>\n",
       "    <tr>\n",
       "      <th>...</th>\n",
       "      <td>...</td>\n",
       "      <td>...</td>\n",
       "      <td>...</td>\n",
       "      <td>...</td>\n",
       "      <td>...</td>\n",
       "      <td>...</td>\n",
       "      <td>...</td>\n",
       "      <td>...</td>\n",
       "      <td>...</td>\n",
       "    </tr>\n",
       "    <tr>\n",
       "      <th>541904</th>\n",
       "      <td>581587</td>\n",
       "      <td>22613</td>\n",
       "      <td>PACK OF 20 SPACEBOY NAPKINS</td>\n",
       "      <td>12</td>\n",
       "      <td>7-Dec-17</td>\n",
       "      <td>0.85</td>\n",
       "      <td>12680.0</td>\n",
       "      <td>France</td>\n",
       "      <td>NaN</td>\n",
       "    </tr>\n",
       "    <tr>\n",
       "      <th>541905</th>\n",
       "      <td>581587</td>\n",
       "      <td>22899</td>\n",
       "      <td>CHILDREN'S APRON DOLLY GIRL</td>\n",
       "      <td>6</td>\n",
       "      <td>7-Dec-17</td>\n",
       "      <td>2.10</td>\n",
       "      <td>12680.0</td>\n",
       "      <td>France</td>\n",
       "      <td>NaN</td>\n",
       "    </tr>\n",
       "    <tr>\n",
       "      <th>541906</th>\n",
       "      <td>581587</td>\n",
       "      <td>23254</td>\n",
       "      <td>CHILDRENS CUTLERY DOLLY GIRL</td>\n",
       "      <td>4</td>\n",
       "      <td>7-Dec-17</td>\n",
       "      <td>4.15</td>\n",
       "      <td>12680.0</td>\n",
       "      <td>France</td>\n",
       "      <td>NaN</td>\n",
       "    </tr>\n",
       "    <tr>\n",
       "      <th>541907</th>\n",
       "      <td>581587</td>\n",
       "      <td>23255</td>\n",
       "      <td>CHILDRENS CUTLERY CIRCUS PARADE</td>\n",
       "      <td>4</td>\n",
       "      <td>7-Dec-17</td>\n",
       "      <td>4.15</td>\n",
       "      <td>12680.0</td>\n",
       "      <td>France</td>\n",
       "      <td>NaN</td>\n",
       "    </tr>\n",
       "    <tr>\n",
       "      <th>541908</th>\n",
       "      <td>581587</td>\n",
       "      <td>22138</td>\n",
       "      <td>BAKING SET 9 PIECE RETROSPOT</td>\n",
       "      <td>3</td>\n",
       "      <td>7-Dec-17</td>\n",
       "      <td>4.95</td>\n",
       "      <td>12680.0</td>\n",
       "      <td>France</td>\n",
       "      <td>NaN</td>\n",
       "    </tr>\n",
       "  </tbody>\n",
       "</table>\n",
       "<p>541909 rows × 9 columns</p>\n",
       "</div>"
      ],
      "text/plain": [
       "       InvoiceNo StockCode                          Description  Quantity InvoiceDate  UnitPrice  CustomerID         Country  Unnamed: 8\n",
       "0         536365    85123A   WHITE HANGING HEART T-LIGHT HOLDER         6   29-Nov-16       2.55     17850.0  United Kingdom         NaN\n",
       "1         536365     71053                  WHITE METAL LANTERN         6   29-Nov-16       3.39     17850.0  United Kingdom         NaN\n",
       "2         536365    84406B       CREAM CUPID HEARTS COAT HANGER         8   29-Nov-16       2.75     17850.0  United Kingdom         NaN\n",
       "3         536365    84029G  KNITTED UNION FLAG HOT WATER BOTTLE         6   29-Nov-16       3.39     17850.0  United Kingdom         NaN\n",
       "4         536365    84029E       RED WOOLLY HOTTIE WHITE HEART.         6   29-Nov-16       3.39     17850.0  United Kingdom         NaN\n",
       "...          ...       ...                                  ...       ...         ...        ...         ...             ...         ...\n",
       "541904    581587     22613          PACK OF 20 SPACEBOY NAPKINS        12    7-Dec-17       0.85     12680.0          France         NaN\n",
       "541905    581587     22899         CHILDREN'S APRON DOLLY GIRL          6    7-Dec-17       2.10     12680.0          France         NaN\n",
       "541906    581587     23254        CHILDRENS CUTLERY DOLLY GIRL          4    7-Dec-17       4.15     12680.0          France         NaN\n",
       "541907    581587     23255      CHILDRENS CUTLERY CIRCUS PARADE         4    7-Dec-17       4.15     12680.0          France         NaN\n",
       "541908    581587     22138        BAKING SET 9 PIECE RETROSPOT          3    7-Dec-17       4.95     12680.0          France         NaN\n",
       "\n",
       "[541909 rows x 9 columns]"
      ]
     },
     "execution_count": 122,
     "metadata": {},
     "output_type": "execute_result"
    }
   ],
   "source": [
    "# load data\n",
    "df_raw = pd.read_csv('../data/raw/Ecommerce.csv', encoding='unicode_escape')\n",
    "\n",
    "df_raw"
   ]
  },
  {
   "cell_type": "code",
   "execution_count": 123,
   "metadata": {
    "ExecuteTime": {
     "end_time": "2023-09-09T18:53:21.246411Z",
     "start_time": "2023-09-09T18:53:21.205116Z"
    },
    "execution": {
     "iopub.execute_input": "2023-09-28T13:14:35.664994Z",
     "iopub.status.busy": "2023-09-28T13:14:35.664198Z",
     "iopub.status.idle": "2023-09-28T13:14:35.695854Z",
     "shell.execute_reply": "2023-09-28T13:14:35.694647Z",
     "shell.execute_reply.started": "2023-09-28T13:14:35.664949Z"
    }
   },
   "outputs": [],
   "source": [
    "# drop extra column\n",
    "df_raw = df_raw.drop(columns=['Unnamed: 8'], axis=1)"
   ]
  },
  {
   "cell_type": "markdown",
   "metadata": {
    "heading_collapsed": true,
    "jp-MarkdownHeadingCollapsed": true
   },
   "source": [
    "# 1.0 Data description"
   ]
  },
  {
   "cell_type": "code",
   "execution_count": 124,
   "metadata": {
    "ExecuteTime": {
     "end_time": "2023-09-09T18:53:21.275437Z",
     "start_time": "2023-09-09T18:53:21.250775Z"
    },
    "execution": {
     "iopub.execute_input": "2023-09-28T13:14:35.697610Z",
     "iopub.status.busy": "2023-09-28T13:14:35.697237Z",
     "iopub.status.idle": "2023-09-28T13:14:35.723182Z",
     "shell.execute_reply": "2023-09-28T13:14:35.720996Z",
     "shell.execute_reply.started": "2023-09-28T13:14:35.697573Z"
    },
    "hidden": true
   },
   "outputs": [],
   "source": [
    "df1 = df_raw.copy()"
   ]
  },
  {
   "cell_type": "markdown",
   "metadata": {
    "heading_collapsed": true,
    "hidden": true,
    "jp-MarkdownHeadingCollapsed": true
   },
   "source": [
    "## 1.1 Rename columuns"
   ]
  },
  {
   "cell_type": "code",
   "execution_count": 125,
   "metadata": {
    "ExecuteTime": {
     "end_time": "2023-09-09T18:53:21.289470Z",
     "start_time": "2023-09-09T18:53:21.280201Z"
    },
    "execution": {
     "iopub.execute_input": "2023-09-28T13:14:35.725643Z",
     "iopub.status.busy": "2023-09-28T13:14:35.724993Z",
     "iopub.status.idle": "2023-09-28T13:14:35.738072Z",
     "shell.execute_reply": "2023-09-28T13:14:35.735879Z",
     "shell.execute_reply.started": "2023-09-28T13:14:35.725574Z"
    },
    "hidden": true
   },
   "outputs": [],
   "source": [
    "cols_new = ['invoice_no', 'stock_code', 'description', 'quantity', 'invoice_date', 'unit_price', 'customer_id', 'country']\n",
    "df1.columns = cols_new"
   ]
  },
  {
   "cell_type": "markdown",
   "metadata": {
    "heading_collapsed": true,
    "hidden": true,
    "jp-MarkdownHeadingCollapsed": true
   },
   "source": [
    "## 1.2 Data types"
   ]
  },
  {
   "cell_type": "code",
   "execution_count": 126,
   "metadata": {
    "ExecuteTime": {
     "end_time": "2023-09-09T18:53:21.310458Z",
     "start_time": "2023-09-09T18:53:21.296989Z"
    },
    "execution": {
     "iopub.execute_input": "2023-09-28T13:14:35.741389Z",
     "iopub.status.busy": "2023-09-28T13:14:35.740565Z",
     "iopub.status.idle": "2023-09-28T13:14:35.756626Z",
     "shell.execute_reply": "2023-09-28T13:14:35.754962Z",
     "shell.execute_reply.started": "2023-09-28T13:14:35.741315Z"
    },
    "hidden": true
   },
   "outputs": [
    {
     "data": {
      "text/plain": [
       "invoice_no       object\n",
       "stock_code       object\n",
       "description      object\n",
       "quantity          int64\n",
       "invoice_date     object\n",
       "unit_price      float64\n",
       "customer_id     float64\n",
       "country          object\n",
       "dtype: object"
      ]
     },
     "execution_count": 126,
     "metadata": {},
     "output_type": "execute_result"
    }
   ],
   "source": [
    "df1.dtypes"
   ]
  },
  {
   "cell_type": "markdown",
   "metadata": {
    "heading_collapsed": true,
    "hidden": true,
    "jp-MarkdownHeadingCollapsed": true
   },
   "source": [
    "## 1.3 Check NA"
   ]
  },
  {
   "cell_type": "code",
   "execution_count": 127,
   "metadata": {
    "ExecuteTime": {
     "end_time": "2023-09-09T18:53:21.493518Z",
     "start_time": "2023-09-09T18:53:21.313494Z"
    },
    "execution": {
     "iopub.execute_input": "2023-09-28T13:14:35.759277Z",
     "iopub.status.busy": "2023-09-28T13:14:35.758693Z",
     "iopub.status.idle": "2023-09-28T13:14:35.918279Z",
     "shell.execute_reply": "2023-09-28T13:14:35.916844Z",
     "shell.execute_reply.started": "2023-09-28T13:14:35.759223Z"
    },
    "hidden": true
   },
   "outputs": [
    {
     "data": {
      "text/plain": [
       "invoice_no           0\n",
       "stock_code           0\n",
       "description       1454\n",
       "quantity             0\n",
       "invoice_date         0\n",
       "unit_price           0\n",
       "customer_id     135080\n",
       "country              0\n",
       "dtype: int64"
      ]
     },
     "execution_count": 127,
     "metadata": {},
     "output_type": "execute_result"
    }
   ],
   "source": [
    "df1.isna().sum()"
   ]
  },
  {
   "cell_type": "markdown",
   "metadata": {
    "heading_collapsed": true,
    "hidden": true,
    "jp-MarkdownHeadingCollapsed": true
   },
   "source": [
    "## 1.4 Replace NA"
   ]
  },
  {
   "cell_type": "code",
   "execution_count": 128,
   "metadata": {
    "execution": {
     "iopub.execute_input": "2023-09-28T13:14:35.920990Z",
     "iopub.status.busy": "2023-09-28T13:14:35.919926Z",
     "iopub.status.idle": "2023-09-28T13:14:35.930668Z",
     "shell.execute_reply": "2023-09-28T13:14:35.928412Z",
     "shell.execute_reply.started": "2023-09-28T13:14:35.920943Z"
    }
   },
   "outputs": [],
   "source": [
    "# df1 = df1.dropna(subset=['description', 'customer_id'])"
   ]
  },
  {
   "cell_type": "code",
   "execution_count": 129,
   "metadata": {
    "ExecuteTime": {
     "end_time": "2023-09-09T18:53:21.773643Z",
     "start_time": "2023-09-09T18:53:21.593576Z"
    },
    "execution": {
     "iopub.execute_input": "2023-09-28T13:14:35.941127Z",
     "iopub.status.busy": "2023-09-28T13:14:35.939738Z",
     "iopub.status.idle": "2023-09-28T13:14:36.154906Z",
     "shell.execute_reply": "2023-09-28T13:14:36.153534Z",
     "shell.execute_reply.started": "2023-09-28T13:14:35.941050Z"
    },
    "hidden": true
   },
   "outputs": [],
   "source": [
    "df_missing = df1.loc[df1['customer_id'].isna()]\n",
    "df_not_missing = df1.loc[~df1['customer_id'].isna()]\n",
    "\n",
    "# create reference\n",
    "df_backup = pd.DataFrame(df_missing['invoice_no'].drop_duplicates())\n",
    "df_backup['customer_id'] = np.arange(19000, 19000+len(df_backup), 1)\n",
    "\n",
    "# merge original with reference dataframe\n",
    "df1 = pd.merge(df1, df_backup, on='invoice_no', how='left')\n",
    "\n",
    "# coalesce \n",
    "df1['customer_id'] = df1['customer_id_x'].combine_first(df1['customer_id_y'])\n",
    "\n",
    "# drop extra columns\n",
    "df1 = df1.drop(columns=['customer_id_x', 'customer_id_y'], axis=1)"
   ]
  },
  {
   "cell_type": "code",
   "execution_count": 130,
   "metadata": {
    "ExecuteTime": {
     "end_time": "2023-09-09T18:53:21.935209Z",
     "start_time": "2023-09-09T18:53:21.776853Z"
    },
    "execution": {
     "iopub.execute_input": "2023-09-28T13:14:36.157129Z",
     "iopub.status.busy": "2023-09-28T13:14:36.156428Z",
     "iopub.status.idle": "2023-09-28T13:14:36.312536Z",
     "shell.execute_reply": "2023-09-28T13:14:36.311058Z",
     "shell.execute_reply.started": "2023-09-28T13:14:36.157098Z"
    },
    "hidden": true
   },
   "outputs": [
    {
     "data": {
      "text/plain": [
       "invoice_no         0\n",
       "stock_code         0\n",
       "description     1454\n",
       "quantity           0\n",
       "invoice_date       0\n",
       "unit_price         0\n",
       "country            0\n",
       "customer_id        0\n",
       "dtype: int64"
      ]
     },
     "execution_count": 130,
     "metadata": {},
     "output_type": "execute_result"
    }
   ],
   "source": [
    "df1.isna().sum()"
   ]
  },
  {
   "cell_type": "markdown",
   "metadata": {
    "heading_collapsed": true,
    "hidden": true,
    "jp-MarkdownHeadingCollapsed": true
   },
   "source": [
    "## 1.5 Change dtypes"
   ]
  },
  {
   "cell_type": "code",
   "execution_count": 131,
   "metadata": {
    "ExecuteTime": {
     "end_time": "2023-09-09T18:53:22.040719Z",
     "start_time": "2023-09-09T18:53:21.938091Z"
    },
    "execution": {
     "iopub.execute_input": "2023-09-28T13:14:36.314858Z",
     "iopub.status.busy": "2023-09-28T13:14:36.314205Z",
     "iopub.status.idle": "2023-09-28T13:14:36.399732Z",
     "shell.execute_reply": "2023-09-28T13:14:36.398451Z",
     "shell.execute_reply.started": "2023-09-28T13:14:36.314804Z"
    },
    "hidden": true
   },
   "outputs": [
    {
     "data": {
      "text/html": [
       "<div>\n",
       "<style scoped>\n",
       "    .dataframe tbody tr th:only-of-type {\n",
       "        vertical-align: middle;\n",
       "    }\n",
       "\n",
       "    .dataframe tbody tr th {\n",
       "        vertical-align: top;\n",
       "    }\n",
       "\n",
       "    .dataframe thead th {\n",
       "        text-align: right;\n",
       "    }\n",
       "</style>\n",
       "<table border=\"1\" class=\"dataframe\">\n",
       "  <thead>\n",
       "    <tr style=\"text-align: right;\">\n",
       "      <th></th>\n",
       "      <th>invoice_no</th>\n",
       "      <th>stock_code</th>\n",
       "      <th>description</th>\n",
       "      <th>quantity</th>\n",
       "      <th>invoice_date</th>\n",
       "      <th>unit_price</th>\n",
       "      <th>country</th>\n",
       "      <th>customer_id</th>\n",
       "    </tr>\n",
       "  </thead>\n",
       "  <tbody>\n",
       "    <tr>\n",
       "      <th>0</th>\n",
       "      <td>536365</td>\n",
       "      <td>85123A</td>\n",
       "      <td>WHITE HANGING HEART T-LIGHT HOLDER</td>\n",
       "      <td>6</td>\n",
       "      <td>2016-11-29</td>\n",
       "      <td>2.55</td>\n",
       "      <td>United Kingdom</td>\n",
       "      <td>17850</td>\n",
       "    </tr>\n",
       "    <tr>\n",
       "      <th>1</th>\n",
       "      <td>536365</td>\n",
       "      <td>71053</td>\n",
       "      <td>WHITE METAL LANTERN</td>\n",
       "      <td>6</td>\n",
       "      <td>2016-11-29</td>\n",
       "      <td>3.39</td>\n",
       "      <td>United Kingdom</td>\n",
       "      <td>17850</td>\n",
       "    </tr>\n",
       "    <tr>\n",
       "      <th>2</th>\n",
       "      <td>536365</td>\n",
       "      <td>84406B</td>\n",
       "      <td>CREAM CUPID HEARTS COAT HANGER</td>\n",
       "      <td>8</td>\n",
       "      <td>2016-11-29</td>\n",
       "      <td>2.75</td>\n",
       "      <td>United Kingdom</td>\n",
       "      <td>17850</td>\n",
       "    </tr>\n",
       "    <tr>\n",
       "      <th>3</th>\n",
       "      <td>536365</td>\n",
       "      <td>84029G</td>\n",
       "      <td>KNITTED UNION FLAG HOT WATER BOTTLE</td>\n",
       "      <td>6</td>\n",
       "      <td>2016-11-29</td>\n",
       "      <td>3.39</td>\n",
       "      <td>United Kingdom</td>\n",
       "      <td>17850</td>\n",
       "    </tr>\n",
       "    <tr>\n",
       "      <th>4</th>\n",
       "      <td>536365</td>\n",
       "      <td>84029E</td>\n",
       "      <td>RED WOOLLY HOTTIE WHITE HEART.</td>\n",
       "      <td>6</td>\n",
       "      <td>2016-11-29</td>\n",
       "      <td>3.39</td>\n",
       "      <td>United Kingdom</td>\n",
       "      <td>17850</td>\n",
       "    </tr>\n",
       "  </tbody>\n",
       "</table>\n",
       "</div>"
      ],
      "text/plain": [
       "  invoice_no stock_code                          description  quantity invoice_date  unit_price         country  customer_id\n",
       "0     536365     85123A   WHITE HANGING HEART T-LIGHT HOLDER         6   2016-11-29        2.55  United Kingdom        17850\n",
       "1     536365      71053                  WHITE METAL LANTERN         6   2016-11-29        3.39  United Kingdom        17850\n",
       "2     536365     84406B       CREAM CUPID HEARTS COAT HANGER         8   2016-11-29        2.75  United Kingdom        17850\n",
       "3     536365     84029G  KNITTED UNION FLAG HOT WATER BOTTLE         6   2016-11-29        3.39  United Kingdom        17850\n",
       "4     536365     84029E       RED WOOLLY HOTTIE WHITE HEART.         6   2016-11-29        3.39  United Kingdom        17850"
      ]
     },
     "execution_count": 131,
     "metadata": {},
     "output_type": "execute_result"
    }
   ],
   "source": [
    "# invoice date\n",
    "df1['invoice_date'] = pd.to_datetime(df1['invoice_date'], format='%d-%b-%y')\n",
    "\n",
    "# customer id\n",
    "df1['customer_id'] = df1['customer_id'].astype(int)\n",
    "df1.head()"
   ]
  },
  {
   "cell_type": "code",
   "execution_count": 132,
   "metadata": {
    "ExecuteTime": {
     "end_time": "2023-09-09T18:53:22.052550Z",
     "start_time": "2023-09-09T18:53:22.044071Z"
    },
    "execution": {
     "iopub.execute_input": "2023-09-28T13:14:36.402736Z",
     "iopub.status.busy": "2023-09-28T13:14:36.402049Z",
     "iopub.status.idle": "2023-09-28T13:14:36.415986Z",
     "shell.execute_reply": "2023-09-28T13:14:36.414242Z",
     "shell.execute_reply.started": "2023-09-28T13:14:36.402675Z"
    },
    "hidden": true
   },
   "outputs": [
    {
     "data": {
      "text/plain": [
       "invoice_no              object\n",
       "stock_code              object\n",
       "description             object\n",
       "quantity                 int64\n",
       "invoice_date    datetime64[ns]\n",
       "unit_price             float64\n",
       "country                 object\n",
       "customer_id              int64\n",
       "dtype: object"
      ]
     },
     "execution_count": 132,
     "metadata": {},
     "output_type": "execute_result"
    }
   ],
   "source": [
    "df1.dtypes"
   ]
  },
  {
   "cell_type": "markdown",
   "metadata": {
    "heading_collapsed": true,
    "hidden": true,
    "jp-MarkdownHeadingCollapsed": true
   },
   "source": [
    "## 1.6 Descriptive statistics"
   ]
  },
  {
   "cell_type": "code",
   "execution_count": 133,
   "metadata": {
    "ExecuteTime": {
     "end_time": "2023-09-09T18:53:22.125708Z",
     "start_time": "2023-09-09T18:53:22.057401Z"
    },
    "execution": {
     "iopub.execute_input": "2023-09-28T13:14:36.418617Z",
     "iopub.status.busy": "2023-09-28T13:14:36.417778Z",
     "iopub.status.idle": "2023-09-28T13:14:36.509157Z",
     "shell.execute_reply": "2023-09-28T13:14:36.507955Z",
     "shell.execute_reply.started": "2023-09-28T13:14:36.418555Z"
    },
    "hidden": true
   },
   "outputs": [],
   "source": [
    "num_attributes = df1.select_dtypes(include=['int64', 'float64'])\n",
    "cat_attributes = df1.select_dtypes(exclude=['int64', 'float64', 'datetime64[ns]'])"
   ]
  },
  {
   "cell_type": "markdown",
   "metadata": {
    "heading_collapsed": true,
    "hidden": true
   },
   "source": [
    "### 1.6.1 Numerical attributes"
   ]
  },
  {
   "cell_type": "code",
   "execution_count": 134,
   "metadata": {
    "ExecuteTime": {
     "end_time": "2023-09-09T18:53:22.251814Z",
     "start_time": "2023-09-09T18:53:22.129012Z"
    },
    "execution": {
     "iopub.execute_input": "2023-09-28T13:14:36.511151Z",
     "iopub.status.busy": "2023-09-28T13:14:36.510518Z",
     "iopub.status.idle": "2023-09-28T13:14:36.642277Z",
     "shell.execute_reply": "2023-09-28T13:14:36.641160Z",
     "shell.execute_reply.started": "2023-09-28T13:14:36.511115Z"
    },
    "hidden": true
   },
   "outputs": [
    {
     "data": {
      "text/html": [
       "<div>\n",
       "<style scoped>\n",
       "    .dataframe tbody tr th:only-of-type {\n",
       "        vertical-align: middle;\n",
       "    }\n",
       "\n",
       "    .dataframe tbody tr th {\n",
       "        vertical-align: top;\n",
       "    }\n",
       "\n",
       "    .dataframe thead th {\n",
       "        text-align: right;\n",
       "    }\n",
       "</style>\n",
       "<table border=\"1\" class=\"dataframe\">\n",
       "  <thead>\n",
       "    <tr style=\"text-align: right;\">\n",
       "      <th></th>\n",
       "      <th>attributes</th>\n",
       "      <th>min</th>\n",
       "      <th>max</th>\n",
       "      <th>range</th>\n",
       "      <th>mean</th>\n",
       "      <th>median</th>\n",
       "      <th>std</th>\n",
       "      <th>skew</th>\n",
       "      <th>kurtosis</th>\n",
       "    </tr>\n",
       "  </thead>\n",
       "  <tbody>\n",
       "    <tr>\n",
       "      <th>0</th>\n",
       "      <td>quantity</td>\n",
       "      <td>-80995.00</td>\n",
       "      <td>80995.0</td>\n",
       "      <td>161990.00</td>\n",
       "      <td>9.552250</td>\n",
       "      <td>3.00</td>\n",
       "      <td>218.080957</td>\n",
       "      <td>-0.264076</td>\n",
       "      <td>119769.160031</td>\n",
       "    </tr>\n",
       "    <tr>\n",
       "      <th>1</th>\n",
       "      <td>unit_price</td>\n",
       "      <td>-11062.06</td>\n",
       "      <td>38970.0</td>\n",
       "      <td>50032.06</td>\n",
       "      <td>4.611114</td>\n",
       "      <td>2.08</td>\n",
       "      <td>96.759764</td>\n",
       "      <td>186.506972</td>\n",
       "      <td>59005.719097</td>\n",
       "    </tr>\n",
       "    <tr>\n",
       "      <th>2</th>\n",
       "      <td>customer_id</td>\n",
       "      <td>12346.00</td>\n",
       "      <td>22709.0</td>\n",
       "      <td>10363.00</td>\n",
       "      <td>16688.840453</td>\n",
       "      <td>16249.00</td>\n",
       "      <td>2911.408666</td>\n",
       "      <td>0.487449</td>\n",
       "      <td>-0.804287</td>\n",
       "    </tr>\n",
       "  </tbody>\n",
       "</table>\n",
       "</div>"
      ],
      "text/plain": [
       "    attributes       min      max      range          mean    median          std        skew       kurtosis\n",
       "0     quantity -80995.00  80995.0  161990.00      9.552250      3.00   218.080957   -0.264076  119769.160031\n",
       "1   unit_price -11062.06  38970.0   50032.06      4.611114      2.08    96.759764  186.506972   59005.719097\n",
       "2  customer_id  12346.00  22709.0   10363.00  16688.840453  16249.00  2911.408666    0.487449      -0.804287"
      ]
     },
     "execution_count": 134,
     "metadata": {},
     "output_type": "execute_result"
    }
   ],
   "source": [
    "# central tendency - mean, median\n",
    "ct1 = pd.DataFrame(num_attributes.apply(np.mean)).T\n",
    "ct2 = pd.DataFrame(num_attributes.apply(np.median)).T\n",
    "             \n",
    "# dispersion - desvio padrão, minimo, maximo, range, skew, kurtosis\n",
    "d1 = pd.DataFrame(num_attributes.apply(np.std)).T\n",
    "d2 = pd.DataFrame(num_attributes.apply(np.min)).T\n",
    "d3 = pd.DataFrame(num_attributes.apply(np.max)).T\n",
    "d4 = pd.DataFrame(num_attributes.apply(lambda x: x.max() - x.min())).T\n",
    "d5 = pd.DataFrame(num_attributes.apply(lambda x: x.skew())).T\n",
    "d6 = pd.DataFrame(num_attributes.apply(lambda x: x.kurtosis())).T\n",
    "\n",
    "# concatenate\n",
    "metrics = pd.concat([d2, d3, d4, ct1, ct2, d1, d5, d6]).T.reset_index()\n",
    "metrics.columns = ['attributes', 'min', 'max', 'range', 'mean', 'median', 'std', 'skew', 'kurtosis']\n",
    "metrics"
   ]
  },
  {
   "cell_type": "markdown",
   "metadata": {
    "heading_collapsed": true,
    "hidden": true
   },
   "source": [
    "#### 1.6.1.1 Quantity"
   ]
  },
  {
   "cell_type": "code",
   "execution_count": 135,
   "metadata": {
    "ExecuteTime": {
     "end_time": "2023-09-09T18:53:22.326726Z",
     "start_time": "2023-09-09T18:53:22.256142Z"
    },
    "execution": {
     "iopub.execute_input": "2023-09-28T13:14:36.644935Z",
     "iopub.status.busy": "2023-09-28T13:14:36.644143Z",
     "iopub.status.idle": "2023-09-28T13:14:36.721450Z",
     "shell.execute_reply": "2023-09-28T13:14:36.720192Z",
     "shell.execute_reply.started": "2023-09-28T13:14:36.644882Z"
    },
    "hidden": true
   },
   "outputs": [
    {
     "name": "stdout",
     "output_type": "stream",
     "text": [
      "0\n",
      "10624\n",
      "531285\n"
     ]
    }
   ],
   "source": [
    "print(len(df1[df1['quantity']==0]))\n",
    "print(len(df1[df1['quantity']<0]))\n",
    "print(len(df1[df1['quantity']>0]))"
   ]
  },
  {
   "cell_type": "markdown",
   "metadata": {
    "heading_collapsed": true,
    "hidden": true
   },
   "source": [
    "#### 1.6.1.2 Unit price"
   ]
  },
  {
   "cell_type": "code",
   "execution_count": 136,
   "metadata": {
    "ExecuteTime": {
     "end_time": "2023-09-09T18:53:22.351107Z",
     "start_time": "2023-09-09T18:53:22.329876Z"
    },
    "execution": {
     "iopub.execute_input": "2023-09-28T13:14:36.723963Z",
     "iopub.status.busy": "2023-09-28T13:14:36.723166Z",
     "iopub.status.idle": "2023-09-28T13:14:36.752485Z",
     "shell.execute_reply": "2023-09-28T13:14:36.751287Z",
     "shell.execute_reply.started": "2023-09-28T13:14:36.723916Z"
    },
    "hidden": true
   },
   "outputs": [
    {
     "data": {
      "text/html": [
       "<div>\n",
       "<style scoped>\n",
       "    .dataframe tbody tr th:only-of-type {\n",
       "        vertical-align: middle;\n",
       "    }\n",
       "\n",
       "    .dataframe tbody tr th {\n",
       "        vertical-align: top;\n",
       "    }\n",
       "\n",
       "    .dataframe thead th {\n",
       "        text-align: right;\n",
       "    }\n",
       "</style>\n",
       "<table border=\"1\" class=\"dataframe\">\n",
       "  <thead>\n",
       "    <tr style=\"text-align: right;\">\n",
       "      <th></th>\n",
       "      <th>invoice_no</th>\n",
       "      <th>stock_code</th>\n",
       "      <th>description</th>\n",
       "      <th>quantity</th>\n",
       "      <th>invoice_date</th>\n",
       "      <th>unit_price</th>\n",
       "      <th>country</th>\n",
       "      <th>customer_id</th>\n",
       "    </tr>\n",
       "  </thead>\n",
       "  <tbody>\n",
       "    <tr>\n",
       "      <th>4287</th>\n",
       "      <td>C536757</td>\n",
       "      <td>84347</td>\n",
       "      <td>ROTATING SILVER ANGELS T-LIGHT HLDR</td>\n",
       "      <td>-9360</td>\n",
       "      <td>2016-11-30</td>\n",
       "      <td>0.030</td>\n",
       "      <td>United Kingdom</td>\n",
       "      <td>15838</td>\n",
       "    </tr>\n",
       "    <tr>\n",
       "      <th>108088</th>\n",
       "      <td>C545478</td>\n",
       "      <td>D</td>\n",
       "      <td>Discount</td>\n",
       "      <td>-720</td>\n",
       "      <td>2017-03-01</td>\n",
       "      <td>0.010</td>\n",
       "      <td>United Kingdom</td>\n",
       "      <td>16422</td>\n",
       "    </tr>\n",
       "    <tr>\n",
       "      <th>157195</th>\n",
       "      <td>550193</td>\n",
       "      <td>PADS</td>\n",
       "      <td>PADS TO MATCH ALL CUSHIONS</td>\n",
       "      <td>1</td>\n",
       "      <td>2017-04-13</td>\n",
       "      <td>0.001</td>\n",
       "      <td>United Kingdom</td>\n",
       "      <td>13952</td>\n",
       "    </tr>\n",
       "    <tr>\n",
       "      <th>182729</th>\n",
       "      <td>C552569</td>\n",
       "      <td>D</td>\n",
       "      <td>Discount</td>\n",
       "      <td>-240</td>\n",
       "      <td>2017-05-08</td>\n",
       "      <td>0.030</td>\n",
       "      <td>United Kingdom</td>\n",
       "      <td>12901</td>\n",
       "    </tr>\n",
       "    <tr>\n",
       "      <th>279045</th>\n",
       "      <td>561226</td>\n",
       "      <td>PADS</td>\n",
       "      <td>PADS TO MATCH ALL CUSHIONS</td>\n",
       "      <td>1</td>\n",
       "      <td>2017-07-24</td>\n",
       "      <td>0.001</td>\n",
       "      <td>United Kingdom</td>\n",
       "      <td>15618</td>\n",
       "    </tr>\n",
       "    <tr>\n",
       "      <th>355050</th>\n",
       "      <td>C567903</td>\n",
       "      <td>M</td>\n",
       "      <td>Manual</td>\n",
       "      <td>-120</td>\n",
       "      <td>2017-09-20</td>\n",
       "      <td>0.030</td>\n",
       "      <td>United Kingdom</td>\n",
       "      <td>16422</td>\n",
       "    </tr>\n",
       "    <tr>\n",
       "      <th>359871</th>\n",
       "      <td>568200</td>\n",
       "      <td>PADS</td>\n",
       "      <td>PADS TO MATCH ALL CUSHIONS</td>\n",
       "      <td>1</td>\n",
       "      <td>2017-09-23</td>\n",
       "      <td>0.001</td>\n",
       "      <td>United Kingdom</td>\n",
       "      <td>16198</td>\n",
       "    </tr>\n",
       "    <tr>\n",
       "      <th>361741</th>\n",
       "      <td>568375</td>\n",
       "      <td>BANK CHARGES</td>\n",
       "      <td>Bank Charges</td>\n",
       "      <td>1</td>\n",
       "      <td>2017-09-24</td>\n",
       "      <td>0.001</td>\n",
       "      <td>United Kingdom</td>\n",
       "      <td>13405</td>\n",
       "    </tr>\n",
       "  </tbody>\n",
       "</table>\n",
       "</div>"
      ],
      "text/plain": [
       "       invoice_no    stock_code                          description  quantity invoice_date  unit_price         country  customer_id\n",
       "4287      C536757         84347  ROTATING SILVER ANGELS T-LIGHT HLDR     -9360   2016-11-30       0.030  United Kingdom        15838\n",
       "108088    C545478             D                             Discount      -720   2017-03-01       0.010  United Kingdom        16422\n",
       "157195     550193          PADS           PADS TO MATCH ALL CUSHIONS         1   2017-04-13       0.001  United Kingdom        13952\n",
       "182729    C552569             D                             Discount      -240   2017-05-08       0.030  United Kingdom        12901\n",
       "279045     561226          PADS           PADS TO MATCH ALL CUSHIONS         1   2017-07-24       0.001  United Kingdom        15618\n",
       "355050    C567903             M                               Manual      -120   2017-09-20       0.030  United Kingdom        16422\n",
       "359871     568200          PADS           PADS TO MATCH ALL CUSHIONS         1   2017-09-23       0.001  United Kingdom        16198\n",
       "361741     568375  BANK CHARGES                         Bank Charges         1   2017-09-24       0.001  United Kingdom        13405"
      ]
     },
     "execution_count": 136,
     "metadata": {},
     "output_type": "execute_result"
    }
   ],
   "source": [
    "df1[(df1['unit_price']>0.00) & (df1['unit_price']<=0.03)]"
   ]
  },
  {
   "cell_type": "code",
   "execution_count": 137,
   "metadata": {
    "ExecuteTime": {
     "end_time": "2023-09-09T18:53:22.381414Z",
     "start_time": "2023-09-09T18:53:22.355640Z"
    },
    "execution": {
     "iopub.execute_input": "2023-09-28T13:14:36.757118Z",
     "iopub.status.busy": "2023-09-28T13:14:36.756456Z",
     "iopub.status.idle": "2023-09-28T13:14:36.794727Z",
     "shell.execute_reply": "2023-09-28T13:14:36.793429Z",
     "shell.execute_reply.started": "2023-09-28T13:14:36.757001Z"
    },
    "hidden": true
   },
   "outputs": [
    {
     "data": {
      "text/html": [
       "<div>\n",
       "<style scoped>\n",
       "    .dataframe tbody tr th:only-of-type {\n",
       "        vertical-align: middle;\n",
       "    }\n",
       "\n",
       "    .dataframe tbody tr th {\n",
       "        vertical-align: top;\n",
       "    }\n",
       "\n",
       "    .dataframe thead th {\n",
       "        text-align: right;\n",
       "    }\n",
       "</style>\n",
       "<table border=\"1\" class=\"dataframe\">\n",
       "  <thead>\n",
       "    <tr style=\"text-align: right;\">\n",
       "      <th></th>\n",
       "      <th>invoice_no</th>\n",
       "      <th>stock_code</th>\n",
       "      <th>description</th>\n",
       "      <th>quantity</th>\n",
       "      <th>invoice_date</th>\n",
       "      <th>unit_price</th>\n",
       "      <th>country</th>\n",
       "      <th>customer_id</th>\n",
       "    </tr>\n",
       "  </thead>\n",
       "  <tbody>\n",
       "    <tr>\n",
       "      <th>4287</th>\n",
       "      <td>C536757</td>\n",
       "      <td>84347</td>\n",
       "      <td>ROTATING SILVER ANGELS T-LIGHT HLDR</td>\n",
       "      <td>-9360</td>\n",
       "      <td>2016-11-30</td>\n",
       "      <td>0.030</td>\n",
       "      <td>United Kingdom</td>\n",
       "      <td>15838</td>\n",
       "    </tr>\n",
       "    <tr>\n",
       "      <th>108088</th>\n",
       "      <td>C545478</td>\n",
       "      <td>D</td>\n",
       "      <td>Discount</td>\n",
       "      <td>-720</td>\n",
       "      <td>2017-03-01</td>\n",
       "      <td>0.010</td>\n",
       "      <td>United Kingdom</td>\n",
       "      <td>16422</td>\n",
       "    </tr>\n",
       "    <tr>\n",
       "      <th>157195</th>\n",
       "      <td>550193</td>\n",
       "      <td>PADS</td>\n",
       "      <td>PADS TO MATCH ALL CUSHIONS</td>\n",
       "      <td>1</td>\n",
       "      <td>2017-04-13</td>\n",
       "      <td>0.001</td>\n",
       "      <td>United Kingdom</td>\n",
       "      <td>13952</td>\n",
       "    </tr>\n",
       "    <tr>\n",
       "      <th>182729</th>\n",
       "      <td>C552569</td>\n",
       "      <td>D</td>\n",
       "      <td>Discount</td>\n",
       "      <td>-240</td>\n",
       "      <td>2017-05-08</td>\n",
       "      <td>0.030</td>\n",
       "      <td>United Kingdom</td>\n",
       "      <td>12901</td>\n",
       "    </tr>\n",
       "    <tr>\n",
       "      <th>217060</th>\n",
       "      <td>555876</td>\n",
       "      <td>16045</td>\n",
       "      <td>POPART WOODEN PENCILS ASST</td>\n",
       "      <td>100</td>\n",
       "      <td>2017-06-05</td>\n",
       "      <td>0.040</td>\n",
       "      <td>United Kingdom</td>\n",
       "      <td>15799</td>\n",
       "    </tr>\n",
       "    <tr>\n",
       "      <th>...</th>\n",
       "      <td>...</td>\n",
       "      <td>...</td>\n",
       "      <td>...</td>\n",
       "      <td>...</td>\n",
       "      <td>...</td>\n",
       "      <td>...</td>\n",
       "      <td>...</td>\n",
       "      <td>...</td>\n",
       "    </tr>\n",
       "    <tr>\n",
       "      <th>492556</th>\n",
       "      <td>578126</td>\n",
       "      <td>16045</td>\n",
       "      <td>POPART WOODEN PENCILS ASST</td>\n",
       "      <td>100</td>\n",
       "      <td>2017-11-21</td>\n",
       "      <td>0.040</td>\n",
       "      <td>United Kingdom</td>\n",
       "      <td>16900</td>\n",
       "    </tr>\n",
       "    <tr>\n",
       "      <th>506043</th>\n",
       "      <td>579124</td>\n",
       "      <td>16045</td>\n",
       "      <td>POPART WOODEN PENCILS ASST</td>\n",
       "      <td>100</td>\n",
       "      <td>2017-11-26</td>\n",
       "      <td>0.040</td>\n",
       "      <td>United Kingdom</td>\n",
       "      <td>15721</td>\n",
       "    </tr>\n",
       "    <tr>\n",
       "      <th>506918</th>\n",
       "      <td>579161</td>\n",
       "      <td>16045</td>\n",
       "      <td>POPART WOODEN PENCILS ASST</td>\n",
       "      <td>100</td>\n",
       "      <td>2017-11-26</td>\n",
       "      <td>0.040</td>\n",
       "      <td>United Kingdom</td>\n",
       "      <td>17379</td>\n",
       "    </tr>\n",
       "    <tr>\n",
       "      <th>523461</th>\n",
       "      <td>580513</td>\n",
       "      <td>16045</td>\n",
       "      <td>POPART WOODEN PENCILS ASST</td>\n",
       "      <td>100</td>\n",
       "      <td>2017-12-02</td>\n",
       "      <td>0.040</td>\n",
       "      <td>United Kingdom</td>\n",
       "      <td>14456</td>\n",
       "    </tr>\n",
       "    <tr>\n",
       "      <th>525404</th>\n",
       "      <td>580619</td>\n",
       "      <td>16045</td>\n",
       "      <td>POPART WOODEN PENCILS ASST</td>\n",
       "      <td>100</td>\n",
       "      <td>2017-12-03</td>\n",
       "      <td>0.040</td>\n",
       "      <td>United Kingdom</td>\n",
       "      <td>15053</td>\n",
       "    </tr>\n",
       "  </tbody>\n",
       "</table>\n",
       "<p>74 rows × 8 columns</p>\n",
       "</div>"
      ],
      "text/plain": [
       "       invoice_no stock_code                          description  quantity invoice_date  unit_price         country  customer_id\n",
       "4287      C536757      84347  ROTATING SILVER ANGELS T-LIGHT HLDR     -9360   2016-11-30       0.030  United Kingdom        15838\n",
       "108088    C545478          D                             Discount      -720   2017-03-01       0.010  United Kingdom        16422\n",
       "157195     550193       PADS           PADS TO MATCH ALL CUSHIONS         1   2017-04-13       0.001  United Kingdom        13952\n",
       "182729    C552569          D                             Discount      -240   2017-05-08       0.030  United Kingdom        12901\n",
       "217060     555876      16045           POPART WOODEN PENCILS ASST       100   2017-06-05       0.040  United Kingdom        15799\n",
       "...           ...        ...                                  ...       ...          ...         ...             ...          ...\n",
       "492556     578126      16045           POPART WOODEN PENCILS ASST       100   2017-11-21       0.040  United Kingdom        16900\n",
       "506043     579124      16045           POPART WOODEN PENCILS ASST       100   2017-11-26       0.040  United Kingdom        15721\n",
       "506918     579161      16045           POPART WOODEN PENCILS ASST       100   2017-11-26       0.040  United Kingdom        17379\n",
       "523461     580513      16045           POPART WOODEN PENCILS ASST       100   2017-12-02       0.040  United Kingdom        14456\n",
       "525404     580619      16045           POPART WOODEN PENCILS ASST       100   2017-12-03       0.040  United Kingdom        15053\n",
       "\n",
       "[74 rows x 8 columns]"
      ]
     },
     "execution_count": 137,
     "metadata": {},
     "output_type": "execute_result"
    }
   ],
   "source": [
    "df1[(df1['unit_price']>0.00) & (df1['unit_price']<=0.04)]"
   ]
  },
  {
   "cell_type": "code",
   "execution_count": 138,
   "metadata": {
    "ExecuteTime": {
     "end_time": "2023-09-09T18:53:22.394633Z",
     "start_time": "2023-09-09T18:53:22.383902Z"
    },
    "execution": {
     "iopub.execute_input": "2023-09-28T13:14:36.796709Z",
     "iopub.status.busy": "2023-09-28T13:14:36.796359Z",
     "iopub.status.idle": "2023-09-28T13:14:36.812392Z",
     "shell.execute_reply": "2023-09-28T13:14:36.810440Z",
     "shell.execute_reply.started": "2023-09-28T13:14:36.796680Z"
    },
    "hidden": true
   },
   "outputs": [
    {
     "data": {
      "text/plain": [
       "2591"
      ]
     },
     "execution_count": 138,
     "metadata": {},
     "output_type": "execute_result"
    }
   ],
   "source": [
    "len(df1[df1['unit_price']<0.05])"
   ]
  },
  {
   "cell_type": "markdown",
   "metadata": {
    "heading_collapsed": true,
    "hidden": true
   },
   "source": [
    "#### 1.6.1.3 Customer id"
   ]
  },
  {
   "cell_type": "code",
   "execution_count": 139,
   "metadata": {
    "ExecuteTime": {
     "end_time": "2023-09-09T18:53:22.413767Z",
     "start_time": "2023-09-09T18:53:22.398145Z"
    },
    "execution": {
     "iopub.execute_input": "2023-09-28T13:14:36.816844Z",
     "iopub.status.busy": "2023-09-28T13:14:36.814759Z",
     "iopub.status.idle": "2023-09-28T13:14:36.837324Z",
     "shell.execute_reply": "2023-09-28T13:14:36.835660Z",
     "shell.execute_reply.started": "2023-09-28T13:14:36.816761Z"
    },
    "hidden": true
   },
   "outputs": [
    {
     "data": {
      "text/plain": [
       "8082"
      ]
     },
     "execution_count": 139,
     "metadata": {},
     "output_type": "execute_result"
    }
   ],
   "source": [
    "len(df1['customer_id'].unique())"
   ]
  },
  {
   "cell_type": "markdown",
   "metadata": {
    "hidden": true
   },
   "source": [
    "questions :"
   ]
  },
  {
   "cell_type": "markdown",
   "metadata": {
    "hidden": true
   },
   "source": [
    "Negativate quantity - product return?\n",
    "\n",
    "Unit price 0 - promotion/sale?"
   ]
  },
  {
   "cell_type": "markdown",
   "metadata": {
    "hidden": true
   },
   "source": [
    "### 1.6.2 Categorical attributes"
   ]
  },
  {
   "cell_type": "markdown",
   "metadata": {
    "heading_collapsed": true,
    "hidden": true
   },
   "source": [
    "#### 1.6.2.1 Invoice no"
   ]
  },
  {
   "cell_type": "code",
   "execution_count": 140,
   "metadata": {
    "ExecuteTime": {
     "end_time": "2023-09-09T18:53:27.567358Z",
     "start_time": "2023-09-09T18:53:22.417464Z"
    },
    "execution": {
     "iopub.execute_input": "2023-09-28T13:14:36.840048Z",
     "iopub.status.busy": "2023-09-28T13:14:36.839221Z",
     "iopub.status.idle": "2023-09-28T13:14:41.778480Z",
     "shell.execute_reply": "2023-09-28T13:14:41.777160Z",
     "shell.execute_reply.started": "2023-09-28T13:14:36.839992Z"
    },
    "hidden": true,
    "scrolled": true
   },
   "outputs": [
    {
     "name": "stdout",
     "output_type": "stream",
     "text": [
      "Total number of invoices with letters: 9291\n",
      "Total number of negative quantity in invoices with letters: 9288\n",
      "% of the total data: 1.71%\n"
     ]
    }
   ],
   "source": [
    "df_letter_invoices = df1.loc[df1['invoice_no'].apply(lambda x: bool(re.search('[^0-9]+', x))),:]\n",
    "# df_letter_invoices.head()\n",
    "\n",
    "print('Total number of invoices with letters: {}'.format(len(df_letter_invoices)))\n",
    "print('Total number of negative quantity in invoices with letters: {}'.format(len(df_letter_invoices[df_letter_invoices['quantity'] < 0])))\n",
    "print('% of the total data: {:.2f}%'.format((df_letter_invoices.shape[0] / df1.shape[0])*100))"
   ]
  },
  {
   "cell_type": "code",
   "execution_count": 141,
   "metadata": {
    "ExecuteTime": {
     "end_time": "2023-09-09T18:53:27.592528Z",
     "start_time": "2023-09-09T18:53:27.571276Z"
    },
    "execution": {
     "iopub.execute_input": "2023-09-28T13:14:41.780265Z",
     "iopub.status.busy": "2023-09-28T13:14:41.779914Z",
     "iopub.status.idle": "2023-09-28T13:14:41.803561Z",
     "shell.execute_reply": "2023-09-28T13:14:41.801516Z",
     "shell.execute_reply.started": "2023-09-28T13:14:41.780235Z"
    },
    "hidden": true
   },
   "outputs": [
    {
     "data": {
      "text/html": [
       "<div>\n",
       "<style scoped>\n",
       "    .dataframe tbody tr th:only-of-type {\n",
       "        vertical-align: middle;\n",
       "    }\n",
       "\n",
       "    .dataframe tbody tr th {\n",
       "        vertical-align: top;\n",
       "    }\n",
       "\n",
       "    .dataframe thead th {\n",
       "        text-align: right;\n",
       "    }\n",
       "</style>\n",
       "<table border=\"1\" class=\"dataframe\">\n",
       "  <thead>\n",
       "    <tr style=\"text-align: right;\">\n",
       "      <th></th>\n",
       "      <th>invoice_no</th>\n",
       "      <th>stock_code</th>\n",
       "      <th>description</th>\n",
       "      <th>quantity</th>\n",
       "      <th>invoice_date</th>\n",
       "      <th>unit_price</th>\n",
       "      <th>country</th>\n",
       "      <th>customer_id</th>\n",
       "    </tr>\n",
       "  </thead>\n",
       "  <tbody>\n",
       "    <tr>\n",
       "      <th>299982</th>\n",
       "      <td>A563185</td>\n",
       "      <td>B</td>\n",
       "      <td>Adjust bad debt</td>\n",
       "      <td>1</td>\n",
       "      <td>2017-08-10</td>\n",
       "      <td>11062.06</td>\n",
       "      <td>United Kingdom</td>\n",
       "      <td>21497</td>\n",
       "    </tr>\n",
       "    <tr>\n",
       "      <th>299983</th>\n",
       "      <td>A563186</td>\n",
       "      <td>B</td>\n",
       "      <td>Adjust bad debt</td>\n",
       "      <td>1</td>\n",
       "      <td>2017-08-10</td>\n",
       "      <td>-11062.06</td>\n",
       "      <td>United Kingdom</td>\n",
       "      <td>21498</td>\n",
       "    </tr>\n",
       "    <tr>\n",
       "      <th>299984</th>\n",
       "      <td>A563187</td>\n",
       "      <td>B</td>\n",
       "      <td>Adjust bad debt</td>\n",
       "      <td>1</td>\n",
       "      <td>2017-08-10</td>\n",
       "      <td>-11062.06</td>\n",
       "      <td>United Kingdom</td>\n",
       "      <td>21499</td>\n",
       "    </tr>\n",
       "  </tbody>\n",
       "</table>\n",
       "</div>"
      ],
      "text/plain": [
       "       invoice_no stock_code      description  quantity invoice_date  unit_price         country  customer_id\n",
       "299982    A563185          B  Adjust bad debt         1   2017-08-10    11062.06  United Kingdom        21497\n",
       "299983    A563186          B  Adjust bad debt         1   2017-08-10   -11062.06  United Kingdom        21498\n",
       "299984    A563187          B  Adjust bad debt         1   2017-08-10   -11062.06  United Kingdom        21499"
      ]
     },
     "execution_count": 141,
     "metadata": {},
     "output_type": "execute_result"
    }
   ],
   "source": [
    "df_letter_invoices[df_letter_invoices['quantity'] > 0]"
   ]
  },
  {
   "cell_type": "markdown",
   "metadata": {
    "hidden": true
   },
   "source": [
    "remove customers 21497,21498,21499"
   ]
  },
  {
   "cell_type": "markdown",
   "metadata": {
    "heading_collapsed": true,
    "hidden": true
   },
   "source": [
    "#### 1.6.2.2 Stock code"
   ]
  },
  {
   "cell_type": "code",
   "execution_count": 142,
   "metadata": {
    "ExecuteTime": {
     "end_time": "2023-09-09T18:53:32.696764Z",
     "start_time": "2023-09-09T18:53:27.596897Z"
    },
    "execution": {
     "iopub.execute_input": "2023-09-28T13:14:41.808338Z",
     "iopub.status.busy": "2023-09-28T13:14:41.806865Z",
     "iopub.status.idle": "2023-09-28T13:14:46.730831Z",
     "shell.execute_reply": "2023-09-28T13:14:46.729375Z",
     "shell.execute_reply.started": "2023-09-28T13:14:41.808270Z"
    },
    "hidden": true
   },
   "outputs": [
    {
     "data": {
      "text/plain": [
       "array(['POST', 'D', 'DOT', 'M', 'S', 'AMAZONFEE', 'm', 'DCGSSBOY',\n",
       "       'DCGSSGIRL', 'PADS', 'B', 'CRUK'], dtype=object)"
      ]
     },
     "execution_count": 142,
     "metadata": {},
     "output_type": "execute_result"
    }
   ],
   "source": [
    "df1.loc[df1['stock_code'].apply(lambda x: bool(re.search('^[a-zA-Z]+$', x))), 'stock_code'].unique()"
   ]
  },
  {
   "cell_type": "code",
   "execution_count": 143,
   "metadata": {
    "ExecuteTime": {
     "end_time": "2023-09-09T18:53:37.775598Z",
     "start_time": "2023-09-09T18:53:32.700321Z"
    },
    "execution": {
     "iopub.execute_input": "2023-09-28T13:14:46.732900Z",
     "iopub.status.busy": "2023-09-28T13:14:46.732571Z",
     "iopub.status.idle": "2023-09-28T13:14:51.701795Z",
     "shell.execute_reply": "2023-09-28T13:14:51.700234Z",
     "shell.execute_reply.started": "2023-09-28T13:14:46.732871Z"
    },
    "hidden": true
   },
   "outputs": [
    {
     "name": "stdout",
     "output_type": "stream",
     "text": [
      "% of the total data: 0.51%\n"
     ]
    }
   ],
   "source": [
    "df_stock_letters=df1.loc[df1['stock_code'].apply(lambda x: bool(re.search('^[a-zA-Z]+$', x))), 'stock_code']\n",
    "print('% of the total data: {:.2f}%'.format((df_stock_letters.shape[0] / df1.shape[0])*100))"
   ]
  },
  {
   "cell_type": "code",
   "execution_count": 144,
   "metadata": {
    "ExecuteTime": {
     "end_time": "2023-09-09T18:53:37.850984Z",
     "start_time": "2023-09-09T18:53:37.778700Z"
    },
    "execution": {
     "iopub.execute_input": "2023-09-28T13:14:51.704520Z",
     "iopub.status.busy": "2023-09-28T13:14:51.703735Z",
     "iopub.status.idle": "2023-09-28T13:14:51.780140Z",
     "shell.execute_reply": "2023-09-28T13:14:51.778728Z",
     "shell.execute_reply.started": "2023-09-28T13:14:51.704468Z"
    },
    "hidden": true
   },
   "outputs": [
    {
     "data": {
      "text/html": [
       "<div>\n",
       "<style scoped>\n",
       "    .dataframe tbody tr th:only-of-type {\n",
       "        vertical-align: middle;\n",
       "    }\n",
       "\n",
       "    .dataframe tbody tr th {\n",
       "        vertical-align: top;\n",
       "    }\n",
       "\n",
       "    .dataframe thead th {\n",
       "        text-align: right;\n",
       "    }\n",
       "</style>\n",
       "<table border=\"1\" class=\"dataframe\">\n",
       "  <thead>\n",
       "    <tr style=\"text-align: right;\">\n",
       "      <th></th>\n",
       "      <th>invoice_no</th>\n",
       "      <th>stock_code</th>\n",
       "      <th>description</th>\n",
       "      <th>quantity</th>\n",
       "      <th>invoice_date</th>\n",
       "      <th>unit_price</th>\n",
       "      <th>country</th>\n",
       "      <th>customer_id</th>\n",
       "    </tr>\n",
       "  </thead>\n",
       "  <tbody>\n",
       "    <tr>\n",
       "      <th>45</th>\n",
       "      <td>536370</td>\n",
       "      <td>POST</td>\n",
       "      <td>POSTAGE</td>\n",
       "      <td>3</td>\n",
       "      <td>2016-11-29</td>\n",
       "      <td>18.0</td>\n",
       "      <td>France</td>\n",
       "      <td>12583</td>\n",
       "    </tr>\n",
       "    <tr>\n",
       "      <th>386</th>\n",
       "      <td>536403</td>\n",
       "      <td>POST</td>\n",
       "      <td>POSTAGE</td>\n",
       "      <td>1</td>\n",
       "      <td>2016-11-29</td>\n",
       "      <td>15.0</td>\n",
       "      <td>Netherlands</td>\n",
       "      <td>12791</td>\n",
       "    </tr>\n",
       "    <tr>\n",
       "      <th>1123</th>\n",
       "      <td>536527</td>\n",
       "      <td>POST</td>\n",
       "      <td>POSTAGE</td>\n",
       "      <td>1</td>\n",
       "      <td>2016-11-29</td>\n",
       "      <td>18.0</td>\n",
       "      <td>Germany</td>\n",
       "      <td>12662</td>\n",
       "    </tr>\n",
       "    <tr>\n",
       "      <th>5073</th>\n",
       "      <td>536840</td>\n",
       "      <td>POST</td>\n",
       "      <td>POSTAGE</td>\n",
       "      <td>1</td>\n",
       "      <td>2016-11-30</td>\n",
       "      <td>18.0</td>\n",
       "      <td>Germany</td>\n",
       "      <td>12738</td>\n",
       "    </tr>\n",
       "    <tr>\n",
       "      <th>5258</th>\n",
       "      <td>536852</td>\n",
       "      <td>POST</td>\n",
       "      <td>POSTAGE</td>\n",
       "      <td>1</td>\n",
       "      <td>2016-12-01</td>\n",
       "      <td>18.0</td>\n",
       "      <td>France</td>\n",
       "      <td>12686</td>\n",
       "    </tr>\n",
       "  </tbody>\n",
       "</table>\n",
       "</div>"
      ],
      "text/plain": [
       "     invoice_no stock_code description  quantity invoice_date  unit_price      country  customer_id\n",
       "45       536370       POST     POSTAGE         3   2016-11-29        18.0       France        12583\n",
       "386      536403       POST     POSTAGE         1   2016-11-29        15.0  Netherlands        12791\n",
       "1123     536527       POST     POSTAGE         1   2016-11-29        18.0      Germany        12662\n",
       "5073     536840       POST     POSTAGE         1   2016-11-30        18.0      Germany        12738\n",
       "5258     536852       POST     POSTAGE         1   2016-12-01        18.0       France        12686"
      ]
     },
     "execution_count": 144,
     "metadata": {},
     "output_type": "execute_result"
    }
   ],
   "source": [
    "df1[df1['stock_code']=='POST'].head()\n",
    "\n",
    "# not remove"
   ]
  },
  {
   "cell_type": "code",
   "execution_count": 145,
   "metadata": {
    "ExecuteTime": {
     "end_time": "2023-09-09T18:53:37.918419Z",
     "start_time": "2023-09-09T18:53:37.854964Z"
    },
    "execution": {
     "iopub.execute_input": "2023-09-28T13:14:51.781960Z",
     "iopub.status.busy": "2023-09-28T13:14:51.781616Z",
     "iopub.status.idle": "2023-09-28T13:14:51.852542Z",
     "shell.execute_reply": "2023-09-28T13:14:51.850068Z",
     "shell.execute_reply.started": "2023-09-28T13:14:51.781931Z"
    },
    "hidden": true
   },
   "outputs": [
    {
     "data": {
      "text/html": [
       "<div>\n",
       "<style scoped>\n",
       "    .dataframe tbody tr th:only-of-type {\n",
       "        vertical-align: middle;\n",
       "    }\n",
       "\n",
       "    .dataframe tbody tr th {\n",
       "        vertical-align: top;\n",
       "    }\n",
       "\n",
       "    .dataframe thead th {\n",
       "        text-align: right;\n",
       "    }\n",
       "</style>\n",
       "<table border=\"1\" class=\"dataframe\">\n",
       "  <thead>\n",
       "    <tr style=\"text-align: right;\">\n",
       "      <th></th>\n",
       "      <th>invoice_no</th>\n",
       "      <th>stock_code</th>\n",
       "      <th>description</th>\n",
       "      <th>quantity</th>\n",
       "      <th>invoice_date</th>\n",
       "      <th>unit_price</th>\n",
       "      <th>country</th>\n",
       "      <th>customer_id</th>\n",
       "    </tr>\n",
       "  </thead>\n",
       "  <tbody>\n",
       "    <tr>\n",
       "      <th>141</th>\n",
       "      <td>C536379</td>\n",
       "      <td>D</td>\n",
       "      <td>Discount</td>\n",
       "      <td>-1</td>\n",
       "      <td>2016-11-29</td>\n",
       "      <td>27.50</td>\n",
       "      <td>United Kingdom</td>\n",
       "      <td>14527</td>\n",
       "    </tr>\n",
       "    <tr>\n",
       "      <th>9038</th>\n",
       "      <td>C537164</td>\n",
       "      <td>D</td>\n",
       "      <td>Discount</td>\n",
       "      <td>-1</td>\n",
       "      <td>2016-12-03</td>\n",
       "      <td>29.29</td>\n",
       "      <td>United Kingdom</td>\n",
       "      <td>14527</td>\n",
       "    </tr>\n",
       "    <tr>\n",
       "      <th>14498</th>\n",
       "      <td>C537597</td>\n",
       "      <td>D</td>\n",
       "      <td>Discount</td>\n",
       "      <td>-1</td>\n",
       "      <td>2016-12-05</td>\n",
       "      <td>281.00</td>\n",
       "      <td>United Kingdom</td>\n",
       "      <td>15498</td>\n",
       "    </tr>\n",
       "    <tr>\n",
       "      <th>19392</th>\n",
       "      <td>C537857</td>\n",
       "      <td>D</td>\n",
       "      <td>Discount</td>\n",
       "      <td>-1</td>\n",
       "      <td>2016-12-06</td>\n",
       "      <td>267.12</td>\n",
       "      <td>United Kingdom</td>\n",
       "      <td>17340</td>\n",
       "    </tr>\n",
       "    <tr>\n",
       "      <th>31134</th>\n",
       "      <td>C538897</td>\n",
       "      <td>D</td>\n",
       "      <td>Discount</td>\n",
       "      <td>-1</td>\n",
       "      <td>2016-12-13</td>\n",
       "      <td>5.76</td>\n",
       "      <td>United Kingdom</td>\n",
       "      <td>16422</td>\n",
       "    </tr>\n",
       "    <tr>\n",
       "      <th>...</th>\n",
       "      <td>...</td>\n",
       "      <td>...</td>\n",
       "      <td>...</td>\n",
       "      <td>...</td>\n",
       "      <td>...</td>\n",
       "      <td>...</td>\n",
       "      <td>...</td>\n",
       "      <td>...</td>\n",
       "    </tr>\n",
       "    <tr>\n",
       "      <th>479868</th>\n",
       "      <td>C577227</td>\n",
       "      <td>D</td>\n",
       "      <td>Discount</td>\n",
       "      <td>-1</td>\n",
       "      <td>2017-11-16</td>\n",
       "      <td>19.82</td>\n",
       "      <td>United Kingdom</td>\n",
       "      <td>14527</td>\n",
       "    </tr>\n",
       "    <tr>\n",
       "      <th>479869</th>\n",
       "      <td>C577227</td>\n",
       "      <td>D</td>\n",
       "      <td>Discount</td>\n",
       "      <td>-1</td>\n",
       "      <td>2017-11-16</td>\n",
       "      <td>16.76</td>\n",
       "      <td>United Kingdom</td>\n",
       "      <td>14527</td>\n",
       "    </tr>\n",
       "    <tr>\n",
       "      <th>493613</th>\n",
       "      <td>C578239</td>\n",
       "      <td>D</td>\n",
       "      <td>Discount</td>\n",
       "      <td>-1</td>\n",
       "      <td>2017-11-21</td>\n",
       "      <td>26.33</td>\n",
       "      <td>Italy</td>\n",
       "      <td>14912</td>\n",
       "    </tr>\n",
       "    <tr>\n",
       "      <th>516221</th>\n",
       "      <td>C579884</td>\n",
       "      <td>D</td>\n",
       "      <td>Discount</td>\n",
       "      <td>-1</td>\n",
       "      <td>2017-11-28</td>\n",
       "      <td>20.53</td>\n",
       "      <td>United Kingdom</td>\n",
       "      <td>14527</td>\n",
       "    </tr>\n",
       "    <tr>\n",
       "      <th>516455</th>\n",
       "      <td>C579908</td>\n",
       "      <td>D</td>\n",
       "      <td>Discount</td>\n",
       "      <td>-1</td>\n",
       "      <td>2017-11-29</td>\n",
       "      <td>28.68</td>\n",
       "      <td>United Kingdom</td>\n",
       "      <td>14527</td>\n",
       "    </tr>\n",
       "  </tbody>\n",
       "</table>\n",
       "<p>77 rows × 8 columns</p>\n",
       "</div>"
      ],
      "text/plain": [
       "       invoice_no stock_code description  quantity invoice_date  unit_price         country  customer_id\n",
       "141       C536379          D    Discount        -1   2016-11-29       27.50  United Kingdom        14527\n",
       "9038      C537164          D    Discount        -1   2016-12-03       29.29  United Kingdom        14527\n",
       "14498     C537597          D    Discount        -1   2016-12-05      281.00  United Kingdom        15498\n",
       "19392     C537857          D    Discount        -1   2016-12-06      267.12  United Kingdom        17340\n",
       "31134     C538897          D    Discount        -1   2016-12-13        5.76  United Kingdom        16422\n",
       "...           ...        ...         ...       ...          ...         ...             ...          ...\n",
       "479868    C577227          D    Discount        -1   2017-11-16       19.82  United Kingdom        14527\n",
       "479869    C577227          D    Discount        -1   2017-11-16       16.76  United Kingdom        14527\n",
       "493613    C578239          D    Discount        -1   2017-11-21       26.33           Italy        14912\n",
       "516221    C579884          D    Discount        -1   2017-11-28       20.53  United Kingdom        14527\n",
       "516455    C579908          D    Discount        -1   2017-11-29       28.68  United Kingdom        14527\n",
       "\n",
       "[77 rows x 8 columns]"
      ]
     },
     "execution_count": 145,
     "metadata": {},
     "output_type": "execute_result"
    }
   ],
   "source": [
    "df1[df1['stock_code']=='D']"
   ]
  },
  {
   "cell_type": "code",
   "execution_count": 146,
   "metadata": {
    "ExecuteTime": {
     "end_time": "2023-09-09T18:53:37.980743Z",
     "start_time": "2023-09-09T18:53:37.922592Z"
    },
    "execution": {
     "iopub.execute_input": "2023-09-28T13:14:51.855550Z",
     "iopub.status.busy": "2023-09-28T13:14:51.855034Z",
     "iopub.status.idle": "2023-09-28T13:14:51.923147Z",
     "shell.execute_reply": "2023-09-28T13:14:51.921182Z",
     "shell.execute_reply.started": "2023-09-28T13:14:51.855502Z"
    },
    "hidden": true
   },
   "outputs": [
    {
     "data": {
      "text/html": [
       "<div>\n",
       "<style scoped>\n",
       "    .dataframe tbody tr th:only-of-type {\n",
       "        vertical-align: middle;\n",
       "    }\n",
       "\n",
       "    .dataframe tbody tr th {\n",
       "        vertical-align: top;\n",
       "    }\n",
       "\n",
       "    .dataframe thead th {\n",
       "        text-align: right;\n",
       "    }\n",
       "</style>\n",
       "<table border=\"1\" class=\"dataframe\">\n",
       "  <thead>\n",
       "    <tr style=\"text-align: right;\">\n",
       "      <th></th>\n",
       "      <th>invoice_no</th>\n",
       "      <th>stock_code</th>\n",
       "      <th>description</th>\n",
       "      <th>quantity</th>\n",
       "      <th>invoice_date</th>\n",
       "      <th>unit_price</th>\n",
       "      <th>country</th>\n",
       "      <th>customer_id</th>\n",
       "    </tr>\n",
       "  </thead>\n",
       "  <tbody>\n",
       "  </tbody>\n",
       "</table>\n",
       "</div>"
      ],
      "text/plain": [
       "Empty DataFrame\n",
       "Columns: [invoice_no, stock_code, description, quantity, invoice_date, unit_price, country, customer_id]\n",
       "Index: []"
      ]
     },
     "execution_count": 146,
     "metadata": {},
     "output_type": "execute_result"
    }
   ],
   "source": [
    "df1[(df1['stock_code']=='D') & (df1['quantity']>0)]\n",
    "\n",
    "# will be removed with invoice letters"
   ]
  },
  {
   "cell_type": "code",
   "execution_count": 147,
   "metadata": {
    "ExecuteTime": {
     "end_time": "2023-09-09T18:53:38.068617Z",
     "start_time": "2023-09-09T18:53:37.992406Z"
    },
    "execution": {
     "iopub.execute_input": "2023-09-28T13:14:51.942568Z",
     "iopub.status.busy": "2023-09-28T13:14:51.940934Z",
     "iopub.status.idle": "2023-09-28T13:14:52.011459Z",
     "shell.execute_reply": "2023-09-28T13:14:52.009963Z",
     "shell.execute_reply.started": "2023-09-28T13:14:51.942524Z"
    },
    "hidden": true
   },
   "outputs": [
    {
     "data": {
      "text/html": [
       "<div>\n",
       "<style scoped>\n",
       "    .dataframe tbody tr th:only-of-type {\n",
       "        vertical-align: middle;\n",
       "    }\n",
       "\n",
       "    .dataframe tbody tr th {\n",
       "        vertical-align: top;\n",
       "    }\n",
       "\n",
       "    .dataframe thead th {\n",
       "        text-align: right;\n",
       "    }\n",
       "</style>\n",
       "<table border=\"1\" class=\"dataframe\">\n",
       "  <thead>\n",
       "    <tr style=\"text-align: right;\">\n",
       "      <th></th>\n",
       "      <th>invoice_no</th>\n",
       "      <th>stock_code</th>\n",
       "      <th>description</th>\n",
       "      <th>quantity</th>\n",
       "      <th>invoice_date</th>\n",
       "      <th>unit_price</th>\n",
       "      <th>country</th>\n",
       "      <th>customer_id</th>\n",
       "    </tr>\n",
       "  </thead>\n",
       "  <tbody>\n",
       "    <tr>\n",
       "      <th>1814</th>\n",
       "      <td>536544</td>\n",
       "      <td>DOT</td>\n",
       "      <td>DOTCOM POSTAGE</td>\n",
       "      <td>1</td>\n",
       "      <td>2016-11-29</td>\n",
       "      <td>569.77</td>\n",
       "      <td>United Kingdom</td>\n",
       "      <td>19001</td>\n",
       "    </tr>\n",
       "    <tr>\n",
       "      <th>3041</th>\n",
       "      <td>536592</td>\n",
       "      <td>DOT</td>\n",
       "      <td>DOTCOM POSTAGE</td>\n",
       "      <td>1</td>\n",
       "      <td>2016-11-29</td>\n",
       "      <td>607.49</td>\n",
       "      <td>United Kingdom</td>\n",
       "      <td>19014</td>\n",
       "    </tr>\n",
       "    <tr>\n",
       "      <th>5450</th>\n",
       "      <td>536862</td>\n",
       "      <td>DOT</td>\n",
       "      <td>DOTCOM POSTAGE</td>\n",
       "      <td>1</td>\n",
       "      <td>2016-12-01</td>\n",
       "      <td>254.43</td>\n",
       "      <td>United Kingdom</td>\n",
       "      <td>19023</td>\n",
       "    </tr>\n",
       "    <tr>\n",
       "      <th>5545</th>\n",
       "      <td>536864</td>\n",
       "      <td>DOT</td>\n",
       "      <td>DOTCOM POSTAGE</td>\n",
       "      <td>1</td>\n",
       "      <td>2016-12-01</td>\n",
       "      <td>121.06</td>\n",
       "      <td>United Kingdom</td>\n",
       "      <td>19024</td>\n",
       "    </tr>\n",
       "    <tr>\n",
       "      <th>5685</th>\n",
       "      <td>536865</td>\n",
       "      <td>DOT</td>\n",
       "      <td>DOTCOM POSTAGE</td>\n",
       "      <td>1</td>\n",
       "      <td>2016-12-01</td>\n",
       "      <td>498.47</td>\n",
       "      <td>United Kingdom</td>\n",
       "      <td>19025</td>\n",
       "    </tr>\n",
       "    <tr>\n",
       "      <th>...</th>\n",
       "      <td>...</td>\n",
       "      <td>...</td>\n",
       "      <td>...</td>\n",
       "      <td>...</td>\n",
       "      <td>...</td>\n",
       "      <td>...</td>\n",
       "      <td>...</td>\n",
       "      <td>...</td>\n",
       "    </tr>\n",
       "    <tr>\n",
       "      <th>536834</th>\n",
       "      <td>581219</td>\n",
       "      <td>DOT</td>\n",
       "      <td>DOTCOM POSTAGE</td>\n",
       "      <td>1</td>\n",
       "      <td>2017-12-06</td>\n",
       "      <td>1008.96</td>\n",
       "      <td>United Kingdom</td>\n",
       "      <td>22696</td>\n",
       "    </tr>\n",
       "    <tr>\n",
       "      <th>537254</th>\n",
       "      <td>581238</td>\n",
       "      <td>DOT</td>\n",
       "      <td>DOTCOM POSTAGE</td>\n",
       "      <td>1</td>\n",
       "      <td>2017-12-06</td>\n",
       "      <td>1683.75</td>\n",
       "      <td>United Kingdom</td>\n",
       "      <td>22699</td>\n",
       "    </tr>\n",
       "    <tr>\n",
       "      <th>539368</th>\n",
       "      <td>581439</td>\n",
       "      <td>DOT</td>\n",
       "      <td>DOTCOM POSTAGE</td>\n",
       "      <td>1</td>\n",
       "      <td>2017-12-06</td>\n",
       "      <td>938.59</td>\n",
       "      <td>United Kingdom</td>\n",
       "      <td>22706</td>\n",
       "    </tr>\n",
       "    <tr>\n",
       "      <th>540908</th>\n",
       "      <td>581492</td>\n",
       "      <td>DOT</td>\n",
       "      <td>DOTCOM POSTAGE</td>\n",
       "      <td>1</td>\n",
       "      <td>2017-12-07</td>\n",
       "      <td>933.17</td>\n",
       "      <td>United Kingdom</td>\n",
       "      <td>22707</td>\n",
       "    </tr>\n",
       "    <tr>\n",
       "      <th>541540</th>\n",
       "      <td>581498</td>\n",
       "      <td>DOT</td>\n",
       "      <td>DOTCOM POSTAGE</td>\n",
       "      <td>1</td>\n",
       "      <td>2017-12-07</td>\n",
       "      <td>1714.17</td>\n",
       "      <td>United Kingdom</td>\n",
       "      <td>22709</td>\n",
       "    </tr>\n",
       "  </tbody>\n",
       "</table>\n",
       "<p>710 rows × 8 columns</p>\n",
       "</div>"
      ],
      "text/plain": [
       "       invoice_no stock_code     description  quantity invoice_date  unit_price         country  customer_id\n",
       "1814       536544        DOT  DOTCOM POSTAGE         1   2016-11-29      569.77  United Kingdom        19001\n",
       "3041       536592        DOT  DOTCOM POSTAGE         1   2016-11-29      607.49  United Kingdom        19014\n",
       "5450       536862        DOT  DOTCOM POSTAGE         1   2016-12-01      254.43  United Kingdom        19023\n",
       "5545       536864        DOT  DOTCOM POSTAGE         1   2016-12-01      121.06  United Kingdom        19024\n",
       "5685       536865        DOT  DOTCOM POSTAGE         1   2016-12-01      498.47  United Kingdom        19025\n",
       "...           ...        ...             ...       ...          ...         ...             ...          ...\n",
       "536834     581219        DOT  DOTCOM POSTAGE         1   2017-12-06     1008.96  United Kingdom        22696\n",
       "537254     581238        DOT  DOTCOM POSTAGE         1   2017-12-06     1683.75  United Kingdom        22699\n",
       "539368     581439        DOT  DOTCOM POSTAGE         1   2017-12-06      938.59  United Kingdom        22706\n",
       "540908     581492        DOT  DOTCOM POSTAGE         1   2017-12-07      933.17  United Kingdom        22707\n",
       "541540     581498        DOT  DOTCOM POSTAGE         1   2017-12-07     1714.17  United Kingdom        22709\n",
       "\n",
       "[710 rows x 8 columns]"
      ]
     },
     "execution_count": 147,
     "metadata": {},
     "output_type": "execute_result"
    }
   ],
   "source": [
    "df1[df1['stock_code']=='DOT']\n",
    "\n",
    "# not remove"
   ]
  },
  {
   "cell_type": "code",
   "execution_count": 148,
   "metadata": {
    "ExecuteTime": {
     "end_time": "2023-09-09T18:53:38.140707Z",
     "start_time": "2023-09-09T18:53:38.073199Z"
    },
    "execution": {
     "iopub.execute_input": "2023-09-28T13:14:52.014123Z",
     "iopub.status.busy": "2023-09-28T13:14:52.013188Z",
     "iopub.status.idle": "2023-09-28T13:14:52.092917Z",
     "shell.execute_reply": "2023-09-28T13:14:52.091806Z",
     "shell.execute_reply.started": "2023-09-28T13:14:52.014060Z"
    },
    "hidden": true
   },
   "outputs": [
    {
     "data": {
      "text/html": [
       "<div>\n",
       "<style scoped>\n",
       "    .dataframe tbody tr th:only-of-type {\n",
       "        vertical-align: middle;\n",
       "    }\n",
       "\n",
       "    .dataframe tbody tr th {\n",
       "        vertical-align: top;\n",
       "    }\n",
       "\n",
       "    .dataframe thead th {\n",
       "        text-align: right;\n",
       "    }\n",
       "</style>\n",
       "<table border=\"1\" class=\"dataframe\">\n",
       "  <thead>\n",
       "    <tr style=\"text-align: right;\">\n",
       "      <th></th>\n",
       "      <th>invoice_no</th>\n",
       "      <th>stock_code</th>\n",
       "      <th>description</th>\n",
       "      <th>quantity</th>\n",
       "      <th>invoice_date</th>\n",
       "      <th>unit_price</th>\n",
       "      <th>country</th>\n",
       "      <th>customer_id</th>\n",
       "    </tr>\n",
       "  </thead>\n",
       "  <tbody>\n",
       "    <tr>\n",
       "      <th>2239</th>\n",
       "      <td>536569</td>\n",
       "      <td>M</td>\n",
       "      <td>Manual</td>\n",
       "      <td>1</td>\n",
       "      <td>2016-11-29</td>\n",
       "      <td>1.25</td>\n",
       "      <td>United Kingdom</td>\n",
       "      <td>16274</td>\n",
       "    </tr>\n",
       "    <tr>\n",
       "      <th>2250</th>\n",
       "      <td>536569</td>\n",
       "      <td>M</td>\n",
       "      <td>Manual</td>\n",
       "      <td>1</td>\n",
       "      <td>2016-11-29</td>\n",
       "      <td>18.95</td>\n",
       "      <td>United Kingdom</td>\n",
       "      <td>16274</td>\n",
       "    </tr>\n",
       "    <tr>\n",
       "      <th>5684</th>\n",
       "      <td>536865</td>\n",
       "      <td>M</td>\n",
       "      <td>Manual</td>\n",
       "      <td>1</td>\n",
       "      <td>2016-12-01</td>\n",
       "      <td>2.55</td>\n",
       "      <td>United Kingdom</td>\n",
       "      <td>19025</td>\n",
       "    </tr>\n",
       "    <tr>\n",
       "      <th>6798</th>\n",
       "      <td>536981</td>\n",
       "      <td>M</td>\n",
       "      <td>Manual</td>\n",
       "      <td>2</td>\n",
       "      <td>2016-12-01</td>\n",
       "      <td>0.85</td>\n",
       "      <td>United Kingdom</td>\n",
       "      <td>14723</td>\n",
       "    </tr>\n",
       "    <tr>\n",
       "      <th>7976</th>\n",
       "      <td>537077</td>\n",
       "      <td>M</td>\n",
       "      <td>Manual</td>\n",
       "      <td>12</td>\n",
       "      <td>2016-12-03</td>\n",
       "      <td>0.42</td>\n",
       "      <td>United Kingdom</td>\n",
       "      <td>17062</td>\n",
       "    </tr>\n",
       "    <tr>\n",
       "      <th>...</th>\n",
       "      <td>...</td>\n",
       "      <td>...</td>\n",
       "      <td>...</td>\n",
       "      <td>...</td>\n",
       "      <td>...</td>\n",
       "      <td>...</td>\n",
       "      <td>...</td>\n",
       "      <td>...</td>\n",
       "    </tr>\n",
       "    <tr>\n",
       "      <th>531432</th>\n",
       "      <td>580956</td>\n",
       "      <td>M</td>\n",
       "      <td>Manual</td>\n",
       "      <td>4</td>\n",
       "      <td>2017-12-04</td>\n",
       "      <td>1.25</td>\n",
       "      <td>United Kingdom</td>\n",
       "      <td>17841</td>\n",
       "    </tr>\n",
       "    <tr>\n",
       "      <th>533082</th>\n",
       "      <td>C581009</td>\n",
       "      <td>M</td>\n",
       "      <td>Manual</td>\n",
       "      <td>-1</td>\n",
       "      <td>2017-12-05</td>\n",
       "      <td>125.00</td>\n",
       "      <td>United Kingdom</td>\n",
       "      <td>16971</td>\n",
       "    </tr>\n",
       "    <tr>\n",
       "      <th>534308</th>\n",
       "      <td>C581145</td>\n",
       "      <td>M</td>\n",
       "      <td>Manual</td>\n",
       "      <td>-1</td>\n",
       "      <td>2017-12-05</td>\n",
       "      <td>9.95</td>\n",
       "      <td>United Kingdom</td>\n",
       "      <td>17490</td>\n",
       "    </tr>\n",
       "    <tr>\n",
       "      <th>538321</th>\n",
       "      <td>581405</td>\n",
       "      <td>M</td>\n",
       "      <td>Manual</td>\n",
       "      <td>3</td>\n",
       "      <td>2017-12-06</td>\n",
       "      <td>0.42</td>\n",
       "      <td>United Kingdom</td>\n",
       "      <td>13521</td>\n",
       "    </tr>\n",
       "    <tr>\n",
       "      <th>541541</th>\n",
       "      <td>C581499</td>\n",
       "      <td>M</td>\n",
       "      <td>Manual</td>\n",
       "      <td>-1</td>\n",
       "      <td>2017-12-07</td>\n",
       "      <td>224.69</td>\n",
       "      <td>United Kingdom</td>\n",
       "      <td>15498</td>\n",
       "    </tr>\n",
       "  </tbody>\n",
       "</table>\n",
       "<p>571 rows × 8 columns</p>\n",
       "</div>"
      ],
      "text/plain": [
       "       invoice_no stock_code description  quantity invoice_date  unit_price         country  customer_id\n",
       "2239       536569          M      Manual         1   2016-11-29        1.25  United Kingdom        16274\n",
       "2250       536569          M      Manual         1   2016-11-29       18.95  United Kingdom        16274\n",
       "5684       536865          M      Manual         1   2016-12-01        2.55  United Kingdom        19025\n",
       "6798       536981          M      Manual         2   2016-12-01        0.85  United Kingdom        14723\n",
       "7976       537077          M      Manual        12   2016-12-03        0.42  United Kingdom        17062\n",
       "...           ...        ...         ...       ...          ...         ...             ...          ...\n",
       "531432     580956          M      Manual         4   2017-12-04        1.25  United Kingdom        17841\n",
       "533082    C581009          M      Manual        -1   2017-12-05      125.00  United Kingdom        16971\n",
       "534308    C581145          M      Manual        -1   2017-12-05        9.95  United Kingdom        17490\n",
       "538321     581405          M      Manual         3   2017-12-06        0.42  United Kingdom        13521\n",
       "541541    C581499          M      Manual        -1   2017-12-07      224.69  United Kingdom        15498\n",
       "\n",
       "[571 rows x 8 columns]"
      ]
     },
     "execution_count": 148,
     "metadata": {},
     "output_type": "execute_result"
    }
   ],
   "source": [
    "df1[df1['stock_code']=='M']\n",
    "\n",
    "# not remove"
   ]
  },
  {
   "cell_type": "code",
   "execution_count": 149,
   "metadata": {
    "ExecuteTime": {
     "end_time": "2023-09-09T18:53:38.211183Z",
     "start_time": "2023-09-09T18:53:38.145016Z"
    },
    "execution": {
     "iopub.execute_input": "2023-09-28T13:14:52.095634Z",
     "iopub.status.busy": "2023-09-28T13:14:52.094817Z",
     "iopub.status.idle": "2023-09-28T13:14:52.176827Z",
     "shell.execute_reply": "2023-09-28T13:14:52.175706Z",
     "shell.execute_reply.started": "2023-09-28T13:14:52.095597Z"
    },
    "hidden": true
   },
   "outputs": [
    {
     "data": {
      "text/html": [
       "<div>\n",
       "<style scoped>\n",
       "    .dataframe tbody tr th:only-of-type {\n",
       "        vertical-align: middle;\n",
       "    }\n",
       "\n",
       "    .dataframe tbody tr th {\n",
       "        vertical-align: top;\n",
       "    }\n",
       "\n",
       "    .dataframe thead th {\n",
       "        text-align: right;\n",
       "    }\n",
       "</style>\n",
       "<table border=\"1\" class=\"dataframe\">\n",
       "  <thead>\n",
       "    <tr style=\"text-align: right;\">\n",
       "      <th></th>\n",
       "      <th>invoice_no</th>\n",
       "      <th>stock_code</th>\n",
       "      <th>description</th>\n",
       "      <th>quantity</th>\n",
       "      <th>invoice_date</th>\n",
       "      <th>unit_price</th>\n",
       "      <th>country</th>\n",
       "      <th>customer_id</th>\n",
       "    </tr>\n",
       "  </thead>\n",
       "  <tbody>\n",
       "    <tr>\n",
       "      <th>14436</th>\n",
       "      <td>C537581</td>\n",
       "      <td>S</td>\n",
       "      <td>SAMPLES</td>\n",
       "      <td>-1</td>\n",
       "      <td>2016-12-05</td>\n",
       "      <td>12.95</td>\n",
       "      <td>United Kingdom</td>\n",
       "      <td>19100</td>\n",
       "    </tr>\n",
       "    <tr>\n",
       "      <th>14437</th>\n",
       "      <td>C537581</td>\n",
       "      <td>S</td>\n",
       "      <td>SAMPLES</td>\n",
       "      <td>-1</td>\n",
       "      <td>2016-12-05</td>\n",
       "      <td>52.00</td>\n",
       "      <td>United Kingdom</td>\n",
       "      <td>19100</td>\n",
       "    </tr>\n",
       "    <tr>\n",
       "      <th>96680</th>\n",
       "      <td>C544580</td>\n",
       "      <td>S</td>\n",
       "      <td>SAMPLES</td>\n",
       "      <td>-1</td>\n",
       "      <td>2017-02-19</td>\n",
       "      <td>5.74</td>\n",
       "      <td>United Kingdom</td>\n",
       "      <td>19707</td>\n",
       "    </tr>\n",
       "    <tr>\n",
       "      <th>96681</th>\n",
       "      <td>C544580</td>\n",
       "      <td>S</td>\n",
       "      <td>SAMPLES</td>\n",
       "      <td>-1</td>\n",
       "      <td>2017-02-19</td>\n",
       "      <td>11.08</td>\n",
       "      <td>United Kingdom</td>\n",
       "      <td>19707</td>\n",
       "    </tr>\n",
       "    <tr>\n",
       "      <th>96682</th>\n",
       "      <td>C544580</td>\n",
       "      <td>S</td>\n",
       "      <td>SAMPLES</td>\n",
       "      <td>-1</td>\n",
       "      <td>2017-02-19</td>\n",
       "      <td>5.79</td>\n",
       "      <td>United Kingdom</td>\n",
       "      <td>19707</td>\n",
       "    </tr>\n",
       "    <tr>\n",
       "      <th>...</th>\n",
       "      <td>...</td>\n",
       "      <td>...</td>\n",
       "      <td>...</td>\n",
       "      <td>...</td>\n",
       "      <td>...</td>\n",
       "      <td>...</td>\n",
       "      <td>...</td>\n",
       "      <td>...</td>\n",
       "    </tr>\n",
       "    <tr>\n",
       "      <th>414147</th>\n",
       "      <td>C572347</td>\n",
       "      <td>S</td>\n",
       "      <td>SAMPLES</td>\n",
       "      <td>-1</td>\n",
       "      <td>2017-10-22</td>\n",
       "      <td>33.05</td>\n",
       "      <td>United Kingdom</td>\n",
       "      <td>22090</td>\n",
       "    </tr>\n",
       "    <tr>\n",
       "      <th>419666</th>\n",
       "      <td>572849</td>\n",
       "      <td>S</td>\n",
       "      <td>SAMPLES</td>\n",
       "      <td>1</td>\n",
       "      <td>2017-10-24</td>\n",
       "      <td>33.05</td>\n",
       "      <td>United Kingdom</td>\n",
       "      <td>22159</td>\n",
       "    </tr>\n",
       "    <tr>\n",
       "      <th>480961</th>\n",
       "      <td>C577330</td>\n",
       "      <td>S</td>\n",
       "      <td>SAMPLES</td>\n",
       "      <td>-1</td>\n",
       "      <td>2017-11-16</td>\n",
       "      <td>2.89</td>\n",
       "      <td>United Kingdom</td>\n",
       "      <td>22469</td>\n",
       "    </tr>\n",
       "    <tr>\n",
       "      <th>480962</th>\n",
       "      <td>C577330</td>\n",
       "      <td>S</td>\n",
       "      <td>SAMPLES</td>\n",
       "      <td>-1</td>\n",
       "      <td>2017-11-16</td>\n",
       "      <td>75.00</td>\n",
       "      <td>United Kingdom</td>\n",
       "      <td>22469</td>\n",
       "    </tr>\n",
       "    <tr>\n",
       "      <th>480963</th>\n",
       "      <td>C577330</td>\n",
       "      <td>S</td>\n",
       "      <td>SAMPLES</td>\n",
       "      <td>-1</td>\n",
       "      <td>2017-11-16</td>\n",
       "      <td>5.99</td>\n",
       "      <td>United Kingdom</td>\n",
       "      <td>22469</td>\n",
       "    </tr>\n",
       "  </tbody>\n",
       "</table>\n",
       "<p>63 rows × 8 columns</p>\n",
       "</div>"
      ],
      "text/plain": [
       "       invoice_no stock_code description  quantity invoice_date  unit_price         country  customer_id\n",
       "14436     C537581          S     SAMPLES        -1   2016-12-05       12.95  United Kingdom        19100\n",
       "14437     C537581          S     SAMPLES        -1   2016-12-05       52.00  United Kingdom        19100\n",
       "96680     C544580          S     SAMPLES        -1   2017-02-19        5.74  United Kingdom        19707\n",
       "96681     C544580          S     SAMPLES        -1   2017-02-19       11.08  United Kingdom        19707\n",
       "96682     C544580          S     SAMPLES        -1   2017-02-19        5.79  United Kingdom        19707\n",
       "...           ...        ...         ...       ...          ...         ...             ...          ...\n",
       "414147    C572347          S     SAMPLES        -1   2017-10-22       33.05  United Kingdom        22090\n",
       "419666     572849          S     SAMPLES         1   2017-10-24       33.05  United Kingdom        22159\n",
       "480961    C577330          S     SAMPLES        -1   2017-11-16        2.89  United Kingdom        22469\n",
       "480962    C577330          S     SAMPLES        -1   2017-11-16       75.00  United Kingdom        22469\n",
       "480963    C577330          S     SAMPLES        -1   2017-11-16        5.99  United Kingdom        22469\n",
       "\n",
       "[63 rows x 8 columns]"
      ]
     },
     "execution_count": 149,
     "metadata": {},
     "output_type": "execute_result"
    }
   ],
   "source": [
    "df1[df1['stock_code']=='S']"
   ]
  },
  {
   "cell_type": "code",
   "execution_count": 150,
   "metadata": {
    "ExecuteTime": {
     "end_time": "2023-09-09T18:53:38.278970Z",
     "start_time": "2023-09-09T18:53:38.214023Z"
    },
    "execution": {
     "iopub.execute_input": "2023-09-28T13:14:52.178905Z",
     "iopub.status.busy": "2023-09-28T13:14:52.178295Z",
     "iopub.status.idle": "2023-09-28T13:14:52.250828Z",
     "shell.execute_reply": "2023-09-28T13:14:52.249417Z",
     "shell.execute_reply.started": "2023-09-28T13:14:52.178864Z"
    },
    "hidden": true
   },
   "outputs": [
    {
     "data": {
      "text/html": [
       "<div>\n",
       "<style scoped>\n",
       "    .dataframe tbody tr th:only-of-type {\n",
       "        vertical-align: middle;\n",
       "    }\n",
       "\n",
       "    .dataframe tbody tr th {\n",
       "        vertical-align: top;\n",
       "    }\n",
       "\n",
       "    .dataframe thead th {\n",
       "        text-align: right;\n",
       "    }\n",
       "</style>\n",
       "<table border=\"1\" class=\"dataframe\">\n",
       "  <thead>\n",
       "    <tr style=\"text-align: right;\">\n",
       "      <th></th>\n",
       "      <th>invoice_no</th>\n",
       "      <th>stock_code</th>\n",
       "      <th>description</th>\n",
       "      <th>quantity</th>\n",
       "      <th>invoice_date</th>\n",
       "      <th>unit_price</th>\n",
       "      <th>country</th>\n",
       "      <th>customer_id</th>\n",
       "    </tr>\n",
       "  </thead>\n",
       "  <tbody>\n",
       "    <tr>\n",
       "      <th>152709</th>\n",
       "      <td>549684</td>\n",
       "      <td>S</td>\n",
       "      <td>SAMPLES</td>\n",
       "      <td>1</td>\n",
       "      <td>2017-04-09</td>\n",
       "      <td>30.00</td>\n",
       "      <td>United Kingdom</td>\n",
       "      <td>20307</td>\n",
       "    </tr>\n",
       "    <tr>\n",
       "      <th>419666</th>\n",
       "      <td>572849</td>\n",
       "      <td>S</td>\n",
       "      <td>SAMPLES</td>\n",
       "      <td>1</td>\n",
       "      <td>2017-10-24</td>\n",
       "      <td>33.05</td>\n",
       "      <td>United Kingdom</td>\n",
       "      <td>22159</td>\n",
       "    </tr>\n",
       "  </tbody>\n",
       "</table>\n",
       "</div>"
      ],
      "text/plain": [
       "       invoice_no stock_code description  quantity invoice_date  unit_price         country  customer_id\n",
       "152709     549684          S     SAMPLES         1   2017-04-09       30.00  United Kingdom        20307\n",
       "419666     572849          S     SAMPLES         1   2017-10-24       33.05  United Kingdom        22159"
      ]
     },
     "execution_count": 150,
     "metadata": {},
     "output_type": "execute_result"
    }
   ],
   "source": [
    "df1[(df1['stock_code']=='S') & (df1['quantity']>0)]\n",
    "\n",
    "# not remove"
   ]
  },
  {
   "cell_type": "code",
   "execution_count": 151,
   "metadata": {
    "ExecuteTime": {
     "end_time": "2023-09-09T18:53:38.349071Z",
     "start_time": "2023-09-09T18:53:38.282178Z"
    },
    "execution": {
     "iopub.execute_input": "2023-09-28T13:14:52.253738Z",
     "iopub.status.busy": "2023-09-28T13:14:52.252647Z",
     "iopub.status.idle": "2023-09-28T13:14:52.325045Z",
     "shell.execute_reply": "2023-09-28T13:14:52.323232Z",
     "shell.execute_reply.started": "2023-09-28T13:14:52.253682Z"
    },
    "hidden": true
   },
   "outputs": [
    {
     "data": {
      "text/html": [
       "<div>\n",
       "<style scoped>\n",
       "    .dataframe tbody tr th:only-of-type {\n",
       "        vertical-align: middle;\n",
       "    }\n",
       "\n",
       "    .dataframe tbody tr th {\n",
       "        vertical-align: top;\n",
       "    }\n",
       "\n",
       "    .dataframe thead th {\n",
       "        text-align: right;\n",
       "    }\n",
       "</style>\n",
       "<table border=\"1\" class=\"dataframe\">\n",
       "  <thead>\n",
       "    <tr style=\"text-align: right;\">\n",
       "      <th></th>\n",
       "      <th>invoice_no</th>\n",
       "      <th>stock_code</th>\n",
       "      <th>description</th>\n",
       "      <th>quantity</th>\n",
       "      <th>invoice_date</th>\n",
       "      <th>unit_price</th>\n",
       "      <th>country</th>\n",
       "      <th>customer_id</th>\n",
       "    </tr>\n",
       "  </thead>\n",
       "  <tbody>\n",
       "    <tr>\n",
       "      <th>14514</th>\n",
       "      <td>C537600</td>\n",
       "      <td>AMAZONFEE</td>\n",
       "      <td>AMAZON FEE</td>\n",
       "      <td>-1</td>\n",
       "      <td>2016-12-05</td>\n",
       "      <td>1.00</td>\n",
       "      <td>United Kingdom</td>\n",
       "      <td>19101</td>\n",
       "    </tr>\n",
       "    <tr>\n",
       "      <th>15016</th>\n",
       "      <td>C537630</td>\n",
       "      <td>AMAZONFEE</td>\n",
       "      <td>AMAZON FEE</td>\n",
       "      <td>-1</td>\n",
       "      <td>2016-12-05</td>\n",
       "      <td>13541.33</td>\n",
       "      <td>United Kingdom</td>\n",
       "      <td>19105</td>\n",
       "    </tr>\n",
       "    <tr>\n",
       "      <th>15017</th>\n",
       "      <td>537632</td>\n",
       "      <td>AMAZONFEE</td>\n",
       "      <td>AMAZON FEE</td>\n",
       "      <td>1</td>\n",
       "      <td>2016-12-05</td>\n",
       "      <td>13541.33</td>\n",
       "      <td>United Kingdom</td>\n",
       "      <td>19106</td>\n",
       "    </tr>\n",
       "    <tr>\n",
       "      <th>16232</th>\n",
       "      <td>C537644</td>\n",
       "      <td>AMAZONFEE</td>\n",
       "      <td>AMAZON FEE</td>\n",
       "      <td>-1</td>\n",
       "      <td>2016-12-05</td>\n",
       "      <td>13474.79</td>\n",
       "      <td>United Kingdom</td>\n",
       "      <td>19116</td>\n",
       "    </tr>\n",
       "    <tr>\n",
       "      <th>16313</th>\n",
       "      <td>C537647</td>\n",
       "      <td>AMAZONFEE</td>\n",
       "      <td>AMAZON FEE</td>\n",
       "      <td>-1</td>\n",
       "      <td>2016-12-05</td>\n",
       "      <td>5519.25</td>\n",
       "      <td>United Kingdom</td>\n",
       "      <td>19117</td>\n",
       "    </tr>\n",
       "  </tbody>\n",
       "</table>\n",
       "</div>"
      ],
      "text/plain": [
       "      invoice_no stock_code description  quantity invoice_date  unit_price         country  customer_id\n",
       "14514    C537600  AMAZONFEE  AMAZON FEE        -1   2016-12-05        1.00  United Kingdom        19101\n",
       "15016    C537630  AMAZONFEE  AMAZON FEE        -1   2016-12-05    13541.33  United Kingdom        19105\n",
       "15017     537632  AMAZONFEE  AMAZON FEE         1   2016-12-05    13541.33  United Kingdom        19106\n",
       "16232    C537644  AMAZONFEE  AMAZON FEE        -1   2016-12-05    13474.79  United Kingdom        19116\n",
       "16313    C537647  AMAZONFEE  AMAZON FEE        -1   2016-12-05     5519.25  United Kingdom        19117"
      ]
     },
     "execution_count": 151,
     "metadata": {},
     "output_type": "execute_result"
    }
   ],
   "source": [
    "df1[df1['stock_code']=='AMAZONFEE'].head()\n",
    "\n",
    "# remove"
   ]
  },
  {
   "cell_type": "code",
   "execution_count": 152,
   "metadata": {
    "ExecuteTime": {
     "end_time": "2023-09-09T18:53:38.416670Z",
     "start_time": "2023-09-09T18:53:38.352594Z"
    },
    "execution": {
     "iopub.execute_input": "2023-09-28T13:14:52.327378Z",
     "iopub.status.busy": "2023-09-28T13:14:52.326587Z",
     "iopub.status.idle": "2023-09-28T13:14:52.397045Z",
     "shell.execute_reply": "2023-09-28T13:14:52.394887Z",
     "shell.execute_reply.started": "2023-09-28T13:14:52.327340Z"
    },
    "hidden": true
   },
   "outputs": [
    {
     "data": {
      "text/html": [
       "<div>\n",
       "<style scoped>\n",
       "    .dataframe tbody tr th:only-of-type {\n",
       "        vertical-align: middle;\n",
       "    }\n",
       "\n",
       "    .dataframe tbody tr th {\n",
       "        vertical-align: top;\n",
       "    }\n",
       "\n",
       "    .dataframe thead th {\n",
       "        text-align: right;\n",
       "    }\n",
       "</style>\n",
       "<table border=\"1\" class=\"dataframe\">\n",
       "  <thead>\n",
       "    <tr style=\"text-align: right;\">\n",
       "      <th></th>\n",
       "      <th>invoice_no</th>\n",
       "      <th>stock_code</th>\n",
       "      <th>description</th>\n",
       "      <th>quantity</th>\n",
       "      <th>invoice_date</th>\n",
       "      <th>unit_price</th>\n",
       "      <th>country</th>\n",
       "      <th>customer_id</th>\n",
       "    </tr>\n",
       "  </thead>\n",
       "  <tbody>\n",
       "    <tr>\n",
       "      <th>40383</th>\n",
       "      <td>539736</td>\n",
       "      <td>m</td>\n",
       "      <td>Manual</td>\n",
       "      <td>1</td>\n",
       "      <td>2016-12-19</td>\n",
       "      <td>2.55</td>\n",
       "      <td>United Kingdom</td>\n",
       "      <td>19282</td>\n",
       "    </tr>\n",
       "  </tbody>\n",
       "</table>\n",
       "</div>"
      ],
      "text/plain": [
       "      invoice_no stock_code description  quantity invoice_date  unit_price         country  customer_id\n",
       "40383     539736          m      Manual         1   2016-12-19        2.55  United Kingdom        19282"
      ]
     },
     "execution_count": 152,
     "metadata": {},
     "output_type": "execute_result"
    }
   ],
   "source": [
    "df1[df1['stock_code']=='m']\n",
    "\n",
    "# not remove"
   ]
  },
  {
   "cell_type": "code",
   "execution_count": 153,
   "metadata": {
    "ExecuteTime": {
     "end_time": "2023-09-09T18:53:38.481644Z",
     "start_time": "2023-09-09T18:53:38.420142Z"
    },
    "execution": {
     "iopub.execute_input": "2023-09-28T13:14:52.400269Z",
     "iopub.status.busy": "2023-09-28T13:14:52.399538Z",
     "iopub.status.idle": "2023-09-28T13:14:52.477105Z",
     "shell.execute_reply": "2023-09-28T13:14:52.475955Z",
     "shell.execute_reply.started": "2023-09-28T13:14:52.400203Z"
    },
    "hidden": true
   },
   "outputs": [
    {
     "data": {
      "text/html": [
       "<div>\n",
       "<style scoped>\n",
       "    .dataframe tbody tr th:only-of-type {\n",
       "        vertical-align: middle;\n",
       "    }\n",
       "\n",
       "    .dataframe tbody tr th {\n",
       "        vertical-align: top;\n",
       "    }\n",
       "\n",
       "    .dataframe thead th {\n",
       "        text-align: right;\n",
       "    }\n",
       "</style>\n",
       "<table border=\"1\" class=\"dataframe\">\n",
       "  <thead>\n",
       "    <tr style=\"text-align: right;\">\n",
       "      <th></th>\n",
       "      <th>invoice_no</th>\n",
       "      <th>stock_code</th>\n",
       "      <th>description</th>\n",
       "      <th>quantity</th>\n",
       "      <th>invoice_date</th>\n",
       "      <th>unit_price</th>\n",
       "      <th>country</th>\n",
       "      <th>customer_id</th>\n",
       "    </tr>\n",
       "  </thead>\n",
       "  <tbody>\n",
       "    <tr>\n",
       "      <th>84016</th>\n",
       "      <td>543358</td>\n",
       "      <td>DCGSSBOY</td>\n",
       "      <td>BOYS PARTY BAG</td>\n",
       "      <td>1</td>\n",
       "      <td>2017-02-05</td>\n",
       "      <td>3.29</td>\n",
       "      <td>United Kingdom</td>\n",
       "      <td>19614</td>\n",
       "    </tr>\n",
       "    <tr>\n",
       "      <th>97246</th>\n",
       "      <td>544599</td>\n",
       "      <td>DCGSSBOY</td>\n",
       "      <td>BOYS PARTY BAG</td>\n",
       "      <td>1</td>\n",
       "      <td>2017-02-19</td>\n",
       "      <td>3.29</td>\n",
       "      <td>United Kingdom</td>\n",
       "      <td>19715</td>\n",
       "    </tr>\n",
       "    <tr>\n",
       "      <th>112723</th>\n",
       "      <td>545897</td>\n",
       "      <td>DCGSSBOY</td>\n",
       "      <td>BOYS PARTY BAG</td>\n",
       "      <td>5</td>\n",
       "      <td>2017-03-05</td>\n",
       "      <td>3.29</td>\n",
       "      <td>United Kingdom</td>\n",
       "      <td>19801</td>\n",
       "    </tr>\n",
       "    <tr>\n",
       "      <th>116891</th>\n",
       "      <td>546306</td>\n",
       "      <td>DCGSSBOY</td>\n",
       "      <td>BOYS PARTY BAG</td>\n",
       "      <td>1</td>\n",
       "      <td>2017-03-08</td>\n",
       "      <td>3.29</td>\n",
       "      <td>United Kingdom</td>\n",
       "      <td>19843</td>\n",
       "    </tr>\n",
       "    <tr>\n",
       "      <th>128107</th>\n",
       "      <td>547249</td>\n",
       "      <td>DCGSSBOY</td>\n",
       "      <td>BOYS PARTY BAG</td>\n",
       "      <td>6</td>\n",
       "      <td>2017-03-20</td>\n",
       "      <td>3.29</td>\n",
       "      <td>United Kingdom</td>\n",
       "      <td>19916</td>\n",
       "    </tr>\n",
       "  </tbody>\n",
       "</table>\n",
       "</div>"
      ],
      "text/plain": [
       "       invoice_no stock_code     description  quantity invoice_date  unit_price         country  customer_id\n",
       "84016      543358   DCGSSBOY  BOYS PARTY BAG         1   2017-02-05        3.29  United Kingdom        19614\n",
       "97246      544599   DCGSSBOY  BOYS PARTY BAG         1   2017-02-19        3.29  United Kingdom        19715\n",
       "112723     545897   DCGSSBOY  BOYS PARTY BAG         5   2017-03-05        3.29  United Kingdom        19801\n",
       "116891     546306   DCGSSBOY  BOYS PARTY BAG         1   2017-03-08        3.29  United Kingdom        19843\n",
       "128107     547249   DCGSSBOY  BOYS PARTY BAG         6   2017-03-20        3.29  United Kingdom        19916"
      ]
     },
     "execution_count": 153,
     "metadata": {},
     "output_type": "execute_result"
    }
   ],
   "source": [
    "df1[df1['stock_code']=='DCGSSBOY'].head()\n",
    "\n",
    "# not remove"
   ]
  },
  {
   "cell_type": "code",
   "execution_count": 154,
   "metadata": {
    "ExecuteTime": {
     "end_time": "2023-09-09T18:53:38.546160Z",
     "start_time": "2023-09-09T18:53:38.485121Z"
    },
    "execution": {
     "iopub.execute_input": "2023-09-28T13:14:52.479403Z",
     "iopub.status.busy": "2023-09-28T13:14:52.478890Z",
     "iopub.status.idle": "2023-09-28T13:14:52.549537Z",
     "shell.execute_reply": "2023-09-28T13:14:52.548184Z",
     "shell.execute_reply.started": "2023-09-28T13:14:52.479357Z"
    },
    "hidden": true
   },
   "outputs": [
    {
     "data": {
      "text/html": [
       "<div>\n",
       "<style scoped>\n",
       "    .dataframe tbody tr th:only-of-type {\n",
       "        vertical-align: middle;\n",
       "    }\n",
       "\n",
       "    .dataframe tbody tr th {\n",
       "        vertical-align: top;\n",
       "    }\n",
       "\n",
       "    .dataframe thead th {\n",
       "        text-align: right;\n",
       "    }\n",
       "</style>\n",
       "<table border=\"1\" class=\"dataframe\">\n",
       "  <thead>\n",
       "    <tr style=\"text-align: right;\">\n",
       "      <th></th>\n",
       "      <th>invoice_no</th>\n",
       "      <th>stock_code</th>\n",
       "      <th>description</th>\n",
       "      <th>quantity</th>\n",
       "      <th>invoice_date</th>\n",
       "      <th>unit_price</th>\n",
       "      <th>country</th>\n",
       "      <th>customer_id</th>\n",
       "    </tr>\n",
       "  </thead>\n",
       "  <tbody>\n",
       "    <tr>\n",
       "      <th>84017</th>\n",
       "      <td>543358</td>\n",
       "      <td>DCGSSGIRL</td>\n",
       "      <td>GIRLS PARTY BAG</td>\n",
       "      <td>3</td>\n",
       "      <td>2017-02-05</td>\n",
       "      <td>3.29</td>\n",
       "      <td>United Kingdom</td>\n",
       "      <td>19614</td>\n",
       "    </tr>\n",
       "    <tr>\n",
       "      <th>112724</th>\n",
       "      <td>545897</td>\n",
       "      <td>DCGSSGIRL</td>\n",
       "      <td>GIRLS PARTY BAG</td>\n",
       "      <td>5</td>\n",
       "      <td>2017-03-05</td>\n",
       "      <td>3.29</td>\n",
       "      <td>United Kingdom</td>\n",
       "      <td>19801</td>\n",
       "    </tr>\n",
       "    <tr>\n",
       "      <th>116892</th>\n",
       "      <td>546306</td>\n",
       "      <td>DCGSSGIRL</td>\n",
       "      <td>GIRLS PARTY BAG</td>\n",
       "      <td>2</td>\n",
       "      <td>2017-03-08</td>\n",
       "      <td>3.29</td>\n",
       "      <td>United Kingdom</td>\n",
       "      <td>19843</td>\n",
       "    </tr>\n",
       "    <tr>\n",
       "      <th>128108</th>\n",
       "      <td>547249</td>\n",
       "      <td>DCGSSGIRL</td>\n",
       "      <td>GIRLS PARTY BAG</td>\n",
       "      <td>17</td>\n",
       "      <td>2017-03-20</td>\n",
       "      <td>3.29</td>\n",
       "      <td>United Kingdom</td>\n",
       "      <td>19916</td>\n",
       "    </tr>\n",
       "    <tr>\n",
       "      <th>128269</th>\n",
       "      <td>547250</td>\n",
       "      <td>DCGSSGIRL</td>\n",
       "      <td>GIRLS PARTY BAG</td>\n",
       "      <td>2</td>\n",
       "      <td>2017-03-20</td>\n",
       "      <td>3.29</td>\n",
       "      <td>United Kingdom</td>\n",
       "      <td>19917</td>\n",
       "    </tr>\n",
       "  </tbody>\n",
       "</table>\n",
       "</div>"
      ],
      "text/plain": [
       "       invoice_no stock_code      description  quantity invoice_date  unit_price         country  customer_id\n",
       "84017      543358  DCGSSGIRL  GIRLS PARTY BAG         3   2017-02-05        3.29  United Kingdom        19614\n",
       "112724     545897  DCGSSGIRL  GIRLS PARTY BAG         5   2017-03-05        3.29  United Kingdom        19801\n",
       "116892     546306  DCGSSGIRL  GIRLS PARTY BAG         2   2017-03-08        3.29  United Kingdom        19843\n",
       "128108     547249  DCGSSGIRL  GIRLS PARTY BAG        17   2017-03-20        3.29  United Kingdom        19916\n",
       "128269     547250  DCGSSGIRL  GIRLS PARTY BAG         2   2017-03-20        3.29  United Kingdom        19917"
      ]
     },
     "execution_count": 154,
     "metadata": {},
     "output_type": "execute_result"
    }
   ],
   "source": [
    "df1[df1['stock_code']=='DCGSSGIRL'].head()\n",
    "\n",
    "# not remove"
   ]
  },
  {
   "cell_type": "code",
   "execution_count": 155,
   "metadata": {
    "ExecuteTime": {
     "end_time": "2023-09-09T18:53:38.556063Z",
     "start_time": "2023-09-09T18:53:38.549316Z"
    },
    "execution": {
     "iopub.execute_input": "2023-09-28T13:14:52.551743Z",
     "iopub.status.busy": "2023-09-28T13:14:52.551153Z",
     "iopub.status.idle": "2023-09-28T13:14:52.561546Z",
     "shell.execute_reply": "2023-09-28T13:14:52.560363Z",
     "shell.execute_reply.started": "2023-09-28T13:14:52.551688Z"
    },
    "hidden": true
   },
   "outputs": [],
   "source": [
    "# df1[df1['stock_code']=='PADS'].head()\n",
    "\n",
    "# removed with low price"
   ]
  },
  {
   "cell_type": "code",
   "execution_count": 156,
   "metadata": {
    "ExecuteTime": {
     "end_time": "2023-09-09T18:53:38.619511Z",
     "start_time": "2023-09-09T18:53:38.558968Z"
    },
    "execution": {
     "iopub.execute_input": "2023-09-28T13:14:52.564381Z",
     "iopub.status.busy": "2023-09-28T13:14:52.563670Z",
     "iopub.status.idle": "2023-09-28T13:14:52.638822Z",
     "shell.execute_reply": "2023-09-28T13:14:52.637513Z",
     "shell.execute_reply.started": "2023-09-28T13:14:52.564311Z"
    },
    "hidden": true
   },
   "outputs": [
    {
     "data": {
      "text/html": [
       "<div>\n",
       "<style scoped>\n",
       "    .dataframe tbody tr th:only-of-type {\n",
       "        vertical-align: middle;\n",
       "    }\n",
       "\n",
       "    .dataframe tbody tr th {\n",
       "        vertical-align: top;\n",
       "    }\n",
       "\n",
       "    .dataframe thead th {\n",
       "        text-align: right;\n",
       "    }\n",
       "</style>\n",
       "<table border=\"1\" class=\"dataframe\">\n",
       "  <thead>\n",
       "    <tr style=\"text-align: right;\">\n",
       "      <th></th>\n",
       "      <th>invoice_no</th>\n",
       "      <th>stock_code</th>\n",
       "      <th>description</th>\n",
       "      <th>quantity</th>\n",
       "      <th>invoice_date</th>\n",
       "      <th>unit_price</th>\n",
       "      <th>country</th>\n",
       "      <th>customer_id</th>\n",
       "    </tr>\n",
       "  </thead>\n",
       "  <tbody>\n",
       "    <tr>\n",
       "      <th>299982</th>\n",
       "      <td>A563185</td>\n",
       "      <td>B</td>\n",
       "      <td>Adjust bad debt</td>\n",
       "      <td>1</td>\n",
       "      <td>2017-08-10</td>\n",
       "      <td>11062.06</td>\n",
       "      <td>United Kingdom</td>\n",
       "      <td>21497</td>\n",
       "    </tr>\n",
       "    <tr>\n",
       "      <th>299983</th>\n",
       "      <td>A563186</td>\n",
       "      <td>B</td>\n",
       "      <td>Adjust bad debt</td>\n",
       "      <td>1</td>\n",
       "      <td>2017-08-10</td>\n",
       "      <td>-11062.06</td>\n",
       "      <td>United Kingdom</td>\n",
       "      <td>21498</td>\n",
       "    </tr>\n",
       "    <tr>\n",
       "      <th>299984</th>\n",
       "      <td>A563187</td>\n",
       "      <td>B</td>\n",
       "      <td>Adjust bad debt</td>\n",
       "      <td>1</td>\n",
       "      <td>2017-08-10</td>\n",
       "      <td>-11062.06</td>\n",
       "      <td>United Kingdom</td>\n",
       "      <td>21499</td>\n",
       "    </tr>\n",
       "  </tbody>\n",
       "</table>\n",
       "</div>"
      ],
      "text/plain": [
       "       invoice_no stock_code      description  quantity invoice_date  unit_price         country  customer_id\n",
       "299982    A563185          B  Adjust bad debt         1   2017-08-10    11062.06  United Kingdom        21497\n",
       "299983    A563186          B  Adjust bad debt         1   2017-08-10   -11062.06  United Kingdom        21498\n",
       "299984    A563187          B  Adjust bad debt         1   2017-08-10   -11062.06  United Kingdom        21499"
      ]
     },
     "execution_count": 156,
     "metadata": {},
     "output_type": "execute_result"
    }
   ],
   "source": [
    "df1[df1['stock_code']=='B']\n",
    "\n",
    "# remove"
   ]
  },
  {
   "cell_type": "code",
   "execution_count": 157,
   "metadata": {
    "ExecuteTime": {
     "end_time": "2023-09-09T18:53:38.627465Z",
     "start_time": "2023-09-09T18:53:38.623442Z"
    },
    "execution": {
     "iopub.execute_input": "2023-09-28T13:14:52.641671Z",
     "iopub.status.busy": "2023-09-28T13:14:52.640948Z",
     "iopub.status.idle": "2023-09-28T13:14:52.648579Z",
     "shell.execute_reply": "2023-09-28T13:14:52.646399Z",
     "shell.execute_reply.started": "2023-09-28T13:14:52.641611Z"
    },
    "hidden": true
   },
   "outputs": [],
   "source": [
    "# df1[df1['stock_code']=='CRUK'].head()\n",
    "\n",
    "# will be removed with invoice letters"
   ]
  },
  {
   "cell_type": "markdown",
   "metadata": {
    "hidden": true
   },
   "source": [
    "TO REMOVE: 'AMAZONFEE', 'B'"
   ]
  },
  {
   "cell_type": "markdown",
   "metadata": {
    "heading_collapsed": true,
    "hidden": true
   },
   "source": [
    "#### 1.6.2.3 Description"
   ]
  },
  {
   "cell_type": "code",
   "execution_count": 158,
   "metadata": {
    "ExecuteTime": {
     "end_time": "2023-09-09T18:53:38.650986Z",
     "start_time": "2023-09-09T18:53:38.631143Z"
    },
    "execution": {
     "iopub.execute_input": "2023-09-28T13:14:52.650666Z",
     "iopub.status.busy": "2023-09-28T13:14:52.650130Z",
     "iopub.status.idle": "2023-09-28T13:14:52.683748Z",
     "shell.execute_reply": "2023-09-28T13:14:52.681866Z",
     "shell.execute_reply.started": "2023-09-28T13:14:52.650628Z"
    },
    "hidden": true
   },
   "outputs": [
    {
     "data": {
      "text/html": [
       "<div>\n",
       "<style scoped>\n",
       "    .dataframe tbody tr th:only-of-type {\n",
       "        vertical-align: middle;\n",
       "    }\n",
       "\n",
       "    .dataframe tbody tr th {\n",
       "        vertical-align: top;\n",
       "    }\n",
       "\n",
       "    .dataframe thead th {\n",
       "        text-align: right;\n",
       "    }\n",
       "</style>\n",
       "<table border=\"1\" class=\"dataframe\">\n",
       "  <thead>\n",
       "    <tr style=\"text-align: right;\">\n",
       "      <th></th>\n",
       "      <th>invoice_no</th>\n",
       "      <th>stock_code</th>\n",
       "      <th>description</th>\n",
       "      <th>quantity</th>\n",
       "      <th>invoice_date</th>\n",
       "      <th>unit_price</th>\n",
       "      <th>country</th>\n",
       "      <th>customer_id</th>\n",
       "    </tr>\n",
       "  </thead>\n",
       "  <tbody>\n",
       "    <tr>\n",
       "      <th>0</th>\n",
       "      <td>536365</td>\n",
       "      <td>85123A</td>\n",
       "      <td>WHITE HANGING HEART T-LIGHT HOLDER</td>\n",
       "      <td>6</td>\n",
       "      <td>2016-11-29</td>\n",
       "      <td>2.55</td>\n",
       "      <td>United Kingdom</td>\n",
       "      <td>17850</td>\n",
       "    </tr>\n",
       "    <tr>\n",
       "      <th>1</th>\n",
       "      <td>536365</td>\n",
       "      <td>71053</td>\n",
       "      <td>WHITE METAL LANTERN</td>\n",
       "      <td>6</td>\n",
       "      <td>2016-11-29</td>\n",
       "      <td>3.39</td>\n",
       "      <td>United Kingdom</td>\n",
       "      <td>17850</td>\n",
       "    </tr>\n",
       "    <tr>\n",
       "      <th>2</th>\n",
       "      <td>536365</td>\n",
       "      <td>84406B</td>\n",
       "      <td>CREAM CUPID HEARTS COAT HANGER</td>\n",
       "      <td>8</td>\n",
       "      <td>2016-11-29</td>\n",
       "      <td>2.75</td>\n",
       "      <td>United Kingdom</td>\n",
       "      <td>17850</td>\n",
       "    </tr>\n",
       "    <tr>\n",
       "      <th>3</th>\n",
       "      <td>536365</td>\n",
       "      <td>84029G</td>\n",
       "      <td>KNITTED UNION FLAG HOT WATER BOTTLE</td>\n",
       "      <td>6</td>\n",
       "      <td>2016-11-29</td>\n",
       "      <td>3.39</td>\n",
       "      <td>United Kingdom</td>\n",
       "      <td>17850</td>\n",
       "    </tr>\n",
       "    <tr>\n",
       "      <th>4</th>\n",
       "      <td>536365</td>\n",
       "      <td>84029E</td>\n",
       "      <td>RED WOOLLY HOTTIE WHITE HEART.</td>\n",
       "      <td>6</td>\n",
       "      <td>2016-11-29</td>\n",
       "      <td>3.39</td>\n",
       "      <td>United Kingdom</td>\n",
       "      <td>17850</td>\n",
       "    </tr>\n",
       "  </tbody>\n",
       "</table>\n",
       "</div>"
      ],
      "text/plain": [
       "  invoice_no stock_code                          description  quantity invoice_date  unit_price         country  customer_id\n",
       "0     536365     85123A   WHITE HANGING HEART T-LIGHT HOLDER         6   2016-11-29        2.55  United Kingdom        17850\n",
       "1     536365      71053                  WHITE METAL LANTERN         6   2016-11-29        3.39  United Kingdom        17850\n",
       "2     536365     84406B       CREAM CUPID HEARTS COAT HANGER         8   2016-11-29        2.75  United Kingdom        17850\n",
       "3     536365     84029G  KNITTED UNION FLAG HOT WATER BOTTLE         6   2016-11-29        3.39  United Kingdom        17850\n",
       "4     536365     84029E       RED WOOLLY HOTTIE WHITE HEART.         6   2016-11-29        3.39  United Kingdom        17850"
      ]
     },
     "execution_count": 158,
     "metadata": {},
     "output_type": "execute_result"
    }
   ],
   "source": [
    "df1.head()"
   ]
  },
  {
   "cell_type": "markdown",
   "metadata": {
    "heading_collapsed": true,
    "hidden": true
   },
   "source": [
    "#### 1.6.2.4 Country"
   ]
  },
  {
   "cell_type": "code",
   "execution_count": 159,
   "metadata": {
    "ExecuteTime": {
     "end_time": "2023-09-09T18:53:38.717713Z",
     "start_time": "2023-09-09T18:53:38.654357Z"
    },
    "execution": {
     "iopub.execute_input": "2023-09-28T13:14:52.687290Z",
     "iopub.status.busy": "2023-09-28T13:14:52.686698Z",
     "iopub.status.idle": "2023-09-28T13:14:52.752837Z",
     "shell.execute_reply": "2023-09-28T13:14:52.751579Z",
     "shell.execute_reply.started": "2023-09-28T13:14:52.687235Z"
    },
    "hidden": true
   },
   "outputs": [
    {
     "data": {
      "text/plain": [
       "country\n",
       "United Kingdom    0.914320\n",
       "Germany           0.017521\n",
       "France            0.015790\n",
       "EIRE              0.015124\n",
       "Spain             0.004674\n",
       "Name: proportion, dtype: float64"
      ]
     },
     "execution_count": 159,
     "metadata": {},
     "output_type": "execute_result"
    }
   ],
   "source": [
    "df1['country'].value_counts(normalize=True).head()"
   ]
  },
  {
   "cell_type": "code",
   "execution_count": 160,
   "metadata": {
    "ExecuteTime": {
     "end_time": "2023-09-09T18:53:38.805222Z",
     "start_time": "2023-09-09T18:53:38.721492Z"
    },
    "execution": {
     "iopub.execute_input": "2023-09-28T13:14:52.754978Z",
     "iopub.status.busy": "2023-09-28T13:14:52.754455Z",
     "iopub.status.idle": "2023-09-28T13:14:52.839766Z",
     "shell.execute_reply": "2023-09-28T13:14:52.838296Z",
     "shell.execute_reply.started": "2023-09-28T13:14:52.754928Z"
    },
    "hidden": true
   },
   "outputs": [
    {
     "data": {
      "text/html": [
       "<div>\n",
       "<style scoped>\n",
       "    .dataframe tbody tr th:only-of-type {\n",
       "        vertical-align: middle;\n",
       "    }\n",
       "\n",
       "    .dataframe tbody tr th {\n",
       "        vertical-align: top;\n",
       "    }\n",
       "\n",
       "    .dataframe thead th {\n",
       "        text-align: right;\n",
       "    }\n",
       "</style>\n",
       "<table border=\"1\" class=\"dataframe\">\n",
       "  <thead>\n",
       "    <tr style=\"text-align: right;\">\n",
       "      <th></th>\n",
       "      <th>country</th>\n",
       "      <th>customer_id</th>\n",
       "    </tr>\n",
       "  </thead>\n",
       "  <tbody>\n",
       "    <tr>\n",
       "      <th>36</th>\n",
       "      <td>United Kingdom</td>\n",
       "      <td>7587</td>\n",
       "    </tr>\n",
       "    <tr>\n",
       "      <th>14</th>\n",
       "      <td>Germany</td>\n",
       "      <td>95</td>\n",
       "    </tr>\n",
       "    <tr>\n",
       "      <th>13</th>\n",
       "      <td>France</td>\n",
       "      <td>90</td>\n",
       "    </tr>\n",
       "    <tr>\n",
       "      <th>10</th>\n",
       "      <td>EIRE</td>\n",
       "      <td>44</td>\n",
       "    </tr>\n",
       "    <tr>\n",
       "      <th>31</th>\n",
       "      <td>Spain</td>\n",
       "      <td>31</td>\n",
       "    </tr>\n",
       "    <tr>\n",
       "      <th>3</th>\n",
       "      <td>Belgium</td>\n",
       "      <td>25</td>\n",
       "    </tr>\n",
       "    <tr>\n",
       "      <th>33</th>\n",
       "      <td>Switzerland</td>\n",
       "      <td>24</td>\n",
       "    </tr>\n",
       "    <tr>\n",
       "      <th>27</th>\n",
       "      <td>Portugal</td>\n",
       "      <td>20</td>\n",
       "    </tr>\n",
       "    <tr>\n",
       "      <th>19</th>\n",
       "      <td>Italy</td>\n",
       "      <td>15</td>\n",
       "    </tr>\n",
       "    <tr>\n",
       "      <th>16</th>\n",
       "      <td>Hong Kong</td>\n",
       "      <td>15</td>\n",
       "    </tr>\n",
       "    <tr>\n",
       "      <th>12</th>\n",
       "      <td>Finland</td>\n",
       "      <td>12</td>\n",
       "    </tr>\n",
       "    <tr>\n",
       "      <th>1</th>\n",
       "      <td>Austria</td>\n",
       "      <td>11</td>\n",
       "    </tr>\n",
       "    <tr>\n",
       "      <th>25</th>\n",
       "      <td>Norway</td>\n",
       "      <td>10</td>\n",
       "    </tr>\n",
       "    <tr>\n",
       "      <th>24</th>\n",
       "      <td>Netherlands</td>\n",
       "      <td>9</td>\n",
       "    </tr>\n",
       "    <tr>\n",
       "      <th>0</th>\n",
       "      <td>Australia</td>\n",
       "      <td>9</td>\n",
       "    </tr>\n",
       "    <tr>\n",
       "      <th>37</th>\n",
       "      <td>Unspecified</td>\n",
       "      <td>9</td>\n",
       "    </tr>\n",
       "    <tr>\n",
       "      <th>9</th>\n",
       "      <td>Denmark</td>\n",
       "      <td>9</td>\n",
       "    </tr>\n",
       "    <tr>\n",
       "      <th>6</th>\n",
       "      <td>Channel Islands</td>\n",
       "      <td>9</td>\n",
       "    </tr>\n",
       "    <tr>\n",
       "      <th>7</th>\n",
       "      <td>Cyprus</td>\n",
       "      <td>8</td>\n",
       "    </tr>\n",
       "    <tr>\n",
       "      <th>32</th>\n",
       "      <td>Sweden</td>\n",
       "      <td>8</td>\n",
       "    </tr>\n",
       "    <tr>\n",
       "      <th>20</th>\n",
       "      <td>Japan</td>\n",
       "      <td>8</td>\n",
       "    </tr>\n",
       "    <tr>\n",
       "      <th>18</th>\n",
       "      <td>Israel</td>\n",
       "      <td>7</td>\n",
       "    </tr>\n",
       "    <tr>\n",
       "      <th>26</th>\n",
       "      <td>Poland</td>\n",
       "      <td>6</td>\n",
       "    </tr>\n",
       "    <tr>\n",
       "      <th>5</th>\n",
       "      <td>Canada</td>\n",
       "      <td>4</td>\n",
       "    </tr>\n",
       "    <tr>\n",
       "      <th>34</th>\n",
       "      <td>USA</td>\n",
       "      <td>4</td>\n",
       "    </tr>\n",
       "    <tr>\n",
       "      <th>2</th>\n",
       "      <td>Bahrain</td>\n",
       "      <td>4</td>\n",
       "    </tr>\n",
       "    <tr>\n",
       "      <th>15</th>\n",
       "      <td>Greece</td>\n",
       "      <td>4</td>\n",
       "    </tr>\n",
       "    <tr>\n",
       "      <th>23</th>\n",
       "      <td>Malta</td>\n",
       "      <td>2</td>\n",
       "    </tr>\n",
       "    <tr>\n",
       "      <th>35</th>\n",
       "      <td>United Arab Emirates</td>\n",
       "      <td>2</td>\n",
       "    </tr>\n",
       "    <tr>\n",
       "      <th>8</th>\n",
       "      <td>Czech Republic</td>\n",
       "      <td>1</td>\n",
       "    </tr>\n",
       "    <tr>\n",
       "      <th>22</th>\n",
       "      <td>Lithuania</td>\n",
       "      <td>1</td>\n",
       "    </tr>\n",
       "    <tr>\n",
       "      <th>11</th>\n",
       "      <td>European Community</td>\n",
       "      <td>1</td>\n",
       "    </tr>\n",
       "    <tr>\n",
       "      <th>21</th>\n",
       "      <td>Lebanon</td>\n",
       "      <td>1</td>\n",
       "    </tr>\n",
       "    <tr>\n",
       "      <th>28</th>\n",
       "      <td>RSA</td>\n",
       "      <td>1</td>\n",
       "    </tr>\n",
       "    <tr>\n",
       "      <th>29</th>\n",
       "      <td>Saudi Arabia</td>\n",
       "      <td>1</td>\n",
       "    </tr>\n",
       "    <tr>\n",
       "      <th>30</th>\n",
       "      <td>Singapore</td>\n",
       "      <td>1</td>\n",
       "    </tr>\n",
       "    <tr>\n",
       "      <th>17</th>\n",
       "      <td>Iceland</td>\n",
       "      <td>1</td>\n",
       "    </tr>\n",
       "    <tr>\n",
       "      <th>4</th>\n",
       "      <td>Brazil</td>\n",
       "      <td>1</td>\n",
       "    </tr>\n",
       "  </tbody>\n",
       "</table>\n",
       "</div>"
      ],
      "text/plain": [
       "                 country  customer_id\n",
       "36        United Kingdom         7587\n",
       "14               Germany           95\n",
       "13                France           90\n",
       "10                  EIRE           44\n",
       "31                 Spain           31\n",
       "3                Belgium           25\n",
       "33           Switzerland           24\n",
       "27              Portugal           20\n",
       "19                 Italy           15\n",
       "16             Hong Kong           15\n",
       "12               Finland           12\n",
       "1                Austria           11\n",
       "25                Norway           10\n",
       "24           Netherlands            9\n",
       "0              Australia            9\n",
       "37           Unspecified            9\n",
       "9                Denmark            9\n",
       "6        Channel Islands            9\n",
       "7                 Cyprus            8\n",
       "32                Sweden            8\n",
       "20                 Japan            8\n",
       "18                Israel            7\n",
       "26                Poland            6\n",
       "5                 Canada            4\n",
       "34                   USA            4\n",
       "2                Bahrain            4\n",
       "15                Greece            4\n",
       "23                 Malta            2\n",
       "35  United Arab Emirates            2\n",
       "8         Czech Republic            1\n",
       "22             Lithuania            1\n",
       "11    European Community            1\n",
       "21               Lebanon            1\n",
       "28                   RSA            1\n",
       "29          Saudi Arabia            1\n",
       "30             Singapore            1\n",
       "17               Iceland            1\n",
       "4                 Brazil            1"
      ]
     },
     "execution_count": 160,
     "metadata": {},
     "output_type": "execute_result"
    }
   ],
   "source": [
    "df1[['customer_id', 'country']].drop_duplicates().groupby('country').count().reset_index().sort_values('customer_id', ascending=False)"
   ]
  },
  {
   "cell_type": "markdown",
   "metadata": {
    "heading_collapsed": true,
    "jp-MarkdownHeadingCollapsed": true
   },
   "source": [
    "# 2.0 Variable filtering "
   ]
  },
  {
   "cell_type": "code",
   "execution_count": 161,
   "metadata": {
    "ExecuteTime": {
     "end_time": "2023-09-09T18:53:38.872122Z",
     "start_time": "2023-09-09T18:53:38.808757Z"
    },
    "execution": {
     "iopub.execute_input": "2023-09-28T13:14:52.842354Z",
     "iopub.status.busy": "2023-09-28T13:14:52.841483Z",
     "iopub.status.idle": "2023-09-28T13:14:52.940462Z",
     "shell.execute_reply": "2023-09-28T13:14:52.938820Z",
     "shell.execute_reply.started": "2023-09-28T13:14:52.842298Z"
    },
    "hidden": true
   },
   "outputs": [],
   "source": [
    "df2 = df1.copy()"
   ]
  },
  {
   "cell_type": "code",
   "execution_count": 162,
   "metadata": {
    "ExecuteTime": {
     "end_time": "2023-09-09T18:53:39.104725Z",
     "start_time": "2023-09-09T18:53:38.875294Z"
    },
    "execution": {
     "iopub.execute_input": "2023-09-28T13:14:52.942427Z",
     "iopub.status.busy": "2023-09-28T13:14:52.941912Z",
     "iopub.status.idle": "2023-09-28T13:14:53.290874Z",
     "shell.execute_reply": "2023-09-28T13:14:53.289461Z",
     "shell.execute_reply.started": "2023-09-28T13:14:52.942393Z"
    },
    "hidden": true
   },
   "outputs": [
    {
     "name": "stdout",
     "output_type": "stream",
     "text": [
      "% of the data lost : 0.011%\n"
     ]
    }
   ],
   "source": [
    "# unit price\n",
    "df2 = df2.loc[df2['unit_price'] >= 0.04]\n",
    "\n",
    "# stock code\n",
    "df2 = df2[~df2['stock_code'].isin( ['POST', 'D', 'DOT', 'M', 'S', 'AMAZONFEE', 'm', 'DCGSSBOY', 'DCGSSGIRL', 'PADS', 'B', 'CRUK'] ) ]\n",
    "\n",
    "# description\n",
    "df2 = df2.drop(columns='description', axis=1)\n",
    "\n",
    "df2 = df2[~df2['country'].isin( ['European Community', 'Unspecified' ] ) ]\n",
    "\n",
    "# bad users\n",
    "df2=df2[~df2['customer_id'].isin([12346,16446,21497,21498,21499])]\n",
    "\n",
    "# quantity\n",
    "df2_returns = df2.loc[df1['quantity'] < 0]\n",
    "\n",
    "# purchases\n",
    "df2_purchases = df2.loc[df1['quantity'] >= 0]\n",
    "\n",
    "\n",
    "print('% of the data lost : {:.3f}%'.format(1-(df2.shape[0] / df1.shape[0])))"
   ]
  },
  {
   "cell_type": "markdown",
   "metadata": {
    "jp-MarkdownHeadingCollapsed": true
   },
   "source": [
    "# 3.0 Feature engineering "
   ]
  },
  {
   "cell_type": "code",
   "execution_count": 163,
   "metadata": {
    "ExecuteTime": {
     "end_time": "2023-09-09T19:34:41.499616Z",
     "start_time": "2023-09-09T19:34:41.480645Z"
    },
    "execution": {
     "iopub.execute_input": "2023-09-28T13:14:53.293518Z",
     "iopub.status.busy": "2023-09-28T13:14:53.292594Z",
     "iopub.status.idle": "2023-09-28T13:14:53.317596Z",
     "shell.execute_reply": "2023-09-28T13:14:53.316091Z",
     "shell.execute_reply.started": "2023-09-28T13:14:53.293474Z"
    }
   },
   "outputs": [],
   "source": [
    "df3 = df2.copy()"
   ]
  },
  {
   "cell_type": "markdown",
   "metadata": {},
   "source": [
    "## 3.1 Feature creation"
   ]
  },
  {
   "cell_type": "code",
   "execution_count": 164,
   "metadata": {
    "ExecuteTime": {
     "end_time": "2023-09-09T19:34:41.768588Z",
     "start_time": "2023-09-09T19:34:41.752163Z"
    },
    "execution": {
     "iopub.execute_input": "2023-09-28T13:14:53.321185Z",
     "iopub.status.busy": "2023-09-28T13:14:53.320568Z",
     "iopub.status.idle": "2023-09-28T13:14:53.346564Z",
     "shell.execute_reply": "2023-09-28T13:14:53.344910Z",
     "shell.execute_reply.started": "2023-09-28T13:14:53.321128Z"
    }
   },
   "outputs": [],
   "source": [
    "# data reference\n",
    "df_ref = df3.drop(['invoice_no', 'stock_code', \n",
    "                    'quantity', 'invoice_date', 'unit_price', \n",
    "                    'country'], axis=1).drop_duplicates(ignore_index=True)"
   ]
  },
  {
   "cell_type": "markdown",
   "metadata": {},
   "source": [
    "### 3.1.1 Gross revenue"
   ]
  },
  {
   "cell_type": "code",
   "execution_count": 165,
   "metadata": {
    "ExecuteTime": {
     "end_time": "2023-09-09T19:34:42.129295Z",
     "start_time": "2023-09-09T19:34:42.077832Z"
    },
    "execution": {
     "iopub.execute_input": "2023-09-28T13:14:53.350456Z",
     "iopub.status.busy": "2023-09-28T13:14:53.349247Z",
     "iopub.status.idle": "2023-09-28T13:14:53.407654Z",
     "shell.execute_reply": "2023-09-28T13:14:53.405565Z",
     "shell.execute_reply.started": "2023-09-28T13:14:53.350408Z"
    }
   },
   "outputs": [
    {
     "data": {
      "text/plain": [
       "customer_id       0\n",
       "gross_revenue    91\n",
       "dtype: int64"
      ]
     },
     "execution_count": 165,
     "metadata": {},
     "output_type": "execute_result"
    }
   ],
   "source": [
    "# quantity * price\n",
    "df2_purchases['gross_revenue'] = df2_purchases['quantity'] * df2_purchases['unit_price']\n",
    "\n",
    "# Monetary\n",
    "df_monetary = df2_purchases[['customer_id', 'gross_revenue']].groupby('customer_id').sum().reset_index()\n",
    "df_ref = pd.merge(df_ref, df_monetary, on='customer_id', how='left')\n",
    "df_ref.isna().sum()"
   ]
  },
  {
   "cell_type": "markdown",
   "metadata": {},
   "source": [
    "### 3.1.2 Average ticket value "
   ]
  },
  {
   "cell_type": "code",
   "execution_count": 166,
   "metadata": {
    "ExecuteTime": {
     "end_time": "2023-09-09T19:34:42.665903Z",
     "start_time": "2023-09-09T19:34:42.630217Z"
    },
    "execution": {
     "iopub.execute_input": "2023-09-28T13:14:53.409792Z",
     "iopub.status.busy": "2023-09-28T13:14:53.409257Z",
     "iopub.status.idle": "2023-09-28T13:14:53.453416Z",
     "shell.execute_reply": "2023-09-28T13:14:53.452140Z",
     "shell.execute_reply.started": "2023-09-28T13:14:53.409758Z"
    }
   },
   "outputs": [
    {
     "data": {
      "text/plain": [
       "customer_id       0\n",
       "gross_revenue    91\n",
       "avg_ticket       91\n",
       "dtype: int64"
      ]
     },
     "execution_count": 166,
     "metadata": {},
     "output_type": "execute_result"
    }
   ],
   "source": [
    "# average gross revenue\n",
    "df_avg_ticket = df2_purchases[['customer_id', 'gross_revenue']].groupby('customer_id').mean().reset_index().rename(columns={'gross_revenue':'avg_ticket'})\n",
    "df_ref = pd.merge(df_ref, df_avg_ticket, on='customer_id', how='left')\n",
    "df_ref.isna().sum()"
   ]
  },
  {
   "cell_type": "markdown",
   "metadata": {},
   "source": [
    "### 3.1.2 Recency"
   ]
  },
  {
   "cell_type": "code",
   "execution_count": 167,
   "metadata": {
    "ExecuteTime": {
     "end_time": "2023-09-09T19:34:43.472971Z",
     "start_time": "2023-09-09T19:34:43.439295Z"
    },
    "execution": {
     "iopub.execute_input": "2023-09-28T13:14:53.456029Z",
     "iopub.status.busy": "2023-09-28T13:14:53.455284Z",
     "iopub.status.idle": "2023-09-28T13:14:53.504678Z",
     "shell.execute_reply": "2023-09-28T13:14:53.502626Z",
     "shell.execute_reply.started": "2023-09-28T13:14:53.455973Z"
    }
   },
   "outputs": [
    {
     "data": {
      "text/plain": [
       "customer_id       0\n",
       "gross_revenue    91\n",
       "avg_ticket       91\n",
       "recency_days     91\n",
       "dtype: int64"
      ]
     },
     "execution_count": 167,
     "metadata": {},
     "output_type": "execute_result"
    }
   ],
   "source": [
    "# how many days since last purchase\n",
    "df_recency = df2_purchases.loc[:, ['customer_id', 'invoice_date']].groupby('customer_id').max().reset_index()\n",
    "df_recency['recency_days'] = (df2['invoice_date'].max() - df_recency['invoice_date']).dt.days\n",
    "df_recency = df_recency[['customer_id', 'recency_days']].copy()\n",
    "df_ref = pd.merge(df_ref, df_recency, on='customer_id', how='left')\n",
    "df_ref.isna().sum()"
   ]
  },
  {
   "cell_type": "markdown",
   "metadata": {
    "jp-MarkdownHeadingCollapsed": true
   },
   "source": [
    "### 3.1.3 Frequency "
   ]
  },
  {
   "cell_type": "code",
   "execution_count": 168,
   "metadata": {
    "ExecuteTime": {
     "end_time": "2023-09-09T19:53:15.004904Z",
     "start_time": "2023-09-09T19:53:13.436381Z"
    },
    "execution": {
     "iopub.execute_input": "2023-09-28T13:14:53.507031Z",
     "iopub.status.busy": "2023-09-28T13:14:53.506244Z",
     "iopub.status.idle": "2023-09-28T13:14:55.073866Z",
     "shell.execute_reply": "2023-09-28T13:14:55.072361Z",
     "shell.execute_reply.started": "2023-09-28T13:14:53.506959Z"
    }
   },
   "outputs": [
    {
     "data": {
      "text/plain": [
       "customer_id       0\n",
       "gross_revenue    91\n",
       "avg_ticket       91\n",
       "recency_days     91\n",
       "frequency        91\n",
       "dtype: int64"
      ]
     },
     "execution_count": 168,
     "metadata": {},
     "output_type": "execute_result"
    }
   ],
   "source": [
    "# frequency of purchases\n",
    "df_aux = (df2_purchases[['customer_id', 'invoice_no', 'invoice_date']].drop_duplicates()\n",
    "                                                             .groupby('customer_id')\n",
    "                                                             .agg(max_ = ('invoice_date', 'max'), \n",
    "                                                                   min_ = ('invoice_date', 'min'),\n",
    "                                                                   days_= ('invoice_date', lambda x: ((x.max() - x.min()).days) + 1),\n",
    "                                                                   buy_ = ('invoice_no', 'count'))).reset_index()\n",
    "# # Frequency\n",
    "df_aux['frequency'] = df_aux[['buy_', 'days_']].apply(lambda x: x['buy_'] / x['days_'] if  x['days_'] != 0 else 0, axis=1)\n",
    "\n",
    "# # Merge\n",
    "df_ref = pd.merge(df_ref, df_aux[['customer_id', 'frequency']], on='customer_id', how='left')\n",
    "\n",
    "df_ref.isna().sum()"
   ]
  },
  {
   "cell_type": "markdown",
   "metadata": {
    "jp-MarkdownHeadingCollapsed": true
   },
   "source": [
    "### 3.1.4 Total invoices"
   ]
  },
  {
   "cell_type": "code",
   "execution_count": 169,
   "metadata": {
    "ExecuteTime": {
     "end_time": "2023-09-09T18:59:55.339885Z",
     "start_time": "2023-09-09T18:59:55.244182Z"
    },
    "execution": {
     "iopub.execute_input": "2023-09-28T13:14:55.075875Z",
     "iopub.status.busy": "2023-09-28T13:14:55.075408Z",
     "iopub.status.idle": "2023-09-28T13:14:55.162977Z",
     "shell.execute_reply": "2023-09-28T13:14:55.161757Z",
     "shell.execute_reply.started": "2023-09-28T13:14:55.075833Z"
    }
   },
   "outputs": [
    {
     "data": {
      "text/plain": [
       "customer_id        0\n",
       "gross_revenue     91\n",
       "avg_ticket        91\n",
       "recency_days      91\n",
       "frequency         91\n",
       "total_invoices    91\n",
       "dtype: int64"
      ]
     },
     "execution_count": 169,
     "metadata": {},
     "output_type": "execute_result"
    }
   ],
   "source": [
    "# total of invoices\n",
    "df_freq = (df2_purchases.loc[:, ['customer_id', 'invoice_no']].drop_duplicates()\n",
    "                                                             .groupby('customer_id')\n",
    "                                                             .count()\n",
    "                                                             .reset_index()\n",
    "                                                             .rename(columns={'invoice_no': 'total_invoices'}))\n",
    "\n",
    "df_ref = pd.merge(df_ref, df_freq, on='customer_id', how='left')\n",
    "df_ref.isna().sum()"
   ]
  },
  {
   "cell_type": "markdown",
   "metadata": {
    "jp-MarkdownHeadingCollapsed": true
   },
   "source": [
    "### 3.1.5 Total of items purchased "
   ]
  },
  {
   "cell_type": "code",
   "execution_count": 170,
   "metadata": {
    "ExecuteTime": {
     "end_time": "2023-09-09T18:59:56.150748Z",
     "start_time": "2023-09-09T18:59:56.105570Z"
    },
    "execution": {
     "iopub.execute_input": "2023-09-28T13:14:55.165104Z",
     "iopub.status.busy": "2023-09-28T13:14:55.164644Z",
     "iopub.status.idle": "2023-09-28T13:14:55.215316Z",
     "shell.execute_reply": "2023-09-28T13:14:55.213963Z",
     "shell.execute_reply.started": "2023-09-28T13:14:55.165063Z"
    }
   },
   "outputs": [
    {
     "data": {
      "text/plain": [
       "customer_id        0\n",
       "gross_revenue     91\n",
       "avg_ticket        91\n",
       "recency_days      91\n",
       "frequency         91\n",
       "total_invoices    91\n",
       "items_qtt         91\n",
       "dtype: int64"
      ]
     },
     "execution_count": 170,
     "metadata": {},
     "output_type": "execute_result"
    }
   ],
   "source": [
    "# number of products purchases\n",
    "df_freq = (df2_purchases.loc[:, ['customer_id', 'quantity']].groupby('customer_id').sum()\n",
    "                                                           .reset_index()\n",
    "                                                           .rename(columns={'quantity': 'items_qtt'}))\n",
    "df_ref = pd.merge(df_ref, df_freq, on='customer_id', how='left')\n",
    "df_ref.isna().sum()"
   ]
  },
  {
   "cell_type": "markdown",
   "metadata": {
    "jp-MarkdownHeadingCollapsed": true
   },
   "source": [
    "### 3.1.6 Total of different items purchased "
   ]
  },
  {
   "cell_type": "code",
   "execution_count": 171,
   "metadata": {
    "ExecuteTime": {
     "end_time": "2023-09-09T18:59:57.141893Z",
     "start_time": "2023-09-09T18:59:57.070600Z"
    },
    "execution": {
     "iopub.execute_input": "2023-09-28T13:14:55.217584Z",
     "iopub.status.busy": "2023-09-28T13:14:55.216963Z",
     "iopub.status.idle": "2023-09-28T13:14:55.288678Z",
     "shell.execute_reply": "2023-09-28T13:14:55.287405Z",
     "shell.execute_reply.started": "2023-09-28T13:14:55.217548Z"
    }
   },
   "outputs": [
    {
     "data": {
      "text/plain": [
       "customer_id        0\n",
       "gross_revenue     91\n",
       "avg_ticket        91\n",
       "recency_days      91\n",
       "frequency         91\n",
       "total_invoices    91\n",
       "items_qtt         91\n",
       "products_qtt      91\n",
       "dtype: int64"
      ]
     },
     "execution_count": 171,
     "metadata": {},
     "output_type": "execute_result"
    }
   ],
   "source": [
    "# number of different items purchased\n",
    "df_freq = (df2_purchases.loc[:, ['customer_id', 'stock_code']].groupby('customer_id').count()\n",
    "                                                           .reset_index()\n",
    "                                                           .rename(columns={'stock_code': 'products_qtt'}))\n",
    "df_ref = pd.merge(df_ref, df_freq, on='customer_id', how='left')\n",
    "df_ref.isna().sum()"
   ]
  },
  {
   "cell_type": "markdown",
   "metadata": {},
   "source": [
    "### 3.1.9 Basket size "
   ]
  },
  {
   "cell_type": "code",
   "execution_count": 172,
   "metadata": {
    "ExecuteTime": {
     "end_time": "2023-09-09T18:59:58.048517Z",
     "start_time": "2023-09-09T18:59:57.931448Z"
    },
    "execution": {
     "iopub.execute_input": "2023-09-28T13:14:55.290492Z",
     "iopub.status.busy": "2023-09-28T13:14:55.290121Z",
     "iopub.status.idle": "2023-09-28T13:14:55.401113Z",
     "shell.execute_reply": "2023-09-28T13:14:55.399991Z",
     "shell.execute_reply.started": "2023-09-28T13:14:55.290457Z"
    }
   },
   "outputs": [
    {
     "data": {
      "text/plain": [
       "customer_id         0\n",
       "gross_revenue      91\n",
       "avg_ticket         91\n",
       "recency_days       91\n",
       "frequency          91\n",
       "total_invoices     91\n",
       "items_qtt          91\n",
       "products_qtt       91\n",
       "avg_basket_size    91\n",
       "dtype: int64"
      ]
     },
     "execution_count": 172,
     "metadata": {},
     "output_type": "execute_result"
    }
   ],
   "source": [
    "# quantity of items per invoice\n",
    "df_aux = (df2_purchases.loc[:, ['customer_id', 'invoice_no', 'quantity']].groupby('customer_id')\n",
    "                                                                            .agg(n_purchase=('invoice_no', 'nunique'),\n",
    "                                                                                  n_products=('quantity', 'sum'))\n",
    "                                                                            .reset_index())\n",
    "\n",
    "# calculation\n",
    "df_aux['avg_basket_size'] = df_aux['n_products'] / df_aux['n_purchase']\n",
    "\n",
    "# merge\n",
    "df_ref = pd.merge(df_ref, df_aux[['customer_id', 'avg_basket_size']], how='left', on='customer_id')\n",
    "df_ref.isna().sum()"
   ]
  },
  {
   "cell_type": "markdown",
   "metadata": {},
   "source": [
    "### 3.2.0 Unique basket size "
   ]
  },
  {
   "cell_type": "code",
   "execution_count": 173,
   "metadata": {
    "ExecuteTime": {
     "end_time": "2023-09-09T18:59:59.257670Z",
     "start_time": "2023-09-09T18:59:58.967325Z"
    },
    "execution": {
     "iopub.execute_input": "2023-09-28T13:14:55.403014Z",
     "iopub.status.busy": "2023-09-28T13:14:55.402593Z",
     "iopub.status.idle": "2023-09-28T13:14:55.687222Z",
     "shell.execute_reply": "2023-09-28T13:14:55.686151Z",
     "shell.execute_reply.started": "2023-09-28T13:14:55.402984Z"
    }
   },
   "outputs": [
    {
     "data": {
      "text/plain": [
       "customer_id                0\n",
       "gross_revenue             91\n",
       "avg_ticket                91\n",
       "recency_days              91\n",
       "frequency                 91\n",
       "total_invoices            91\n",
       "items_qtt                 91\n",
       "products_qtt              91\n",
       "avg_basket_size           91\n",
       "avg_unique_basket_size    91\n",
       "dtype: int64"
      ]
     },
     "execution_count": 173,
     "metadata": {},
     "output_type": "execute_result"
    }
   ],
   "source": [
    "# quantity of different items per invoice\n",
    "df_aux = (df2_purchases.loc[:, ['customer_id', 'invoice_no', 'stock_code']].groupby('customer_id')\n",
    "                                                                            .agg(n_purchase=('invoice_no', 'nunique'),\n",
    "                                                                                   n_products=('stock_code', 'nunique'))\n",
    "                                                                            .reset_index())\n",
    "\n",
    "# calculation\n",
    "df_aux['avg_unique_basket_size'] = df_aux['n_products'] / df_aux['n_purchase']\n",
    "\n",
    "# merge\n",
    "df_ref = pd.merge(df_ref, df_aux[['customer_id', 'avg_unique_basket_size']], how='left', on='customer_id')\n",
    "df_ref.isna().sum()"
   ]
  },
  {
   "cell_type": "markdown",
   "metadata": {
    "jp-MarkdownHeadingCollapsed": true
   },
   "source": [
    "### 3.1.7 Returns "
   ]
  },
  {
   "cell_type": "code",
   "execution_count": 174,
   "metadata": {
    "ExecuteTime": {
     "end_time": "2023-09-09T19:00:00.933940Z",
     "start_time": "2023-09-09T19:00:00.914477Z"
    },
    "execution": {
     "iopub.execute_input": "2023-09-28T13:14:55.689582Z",
     "iopub.status.busy": "2023-09-28T13:14:55.688949Z",
     "iopub.status.idle": "2023-09-28T13:14:55.725907Z",
     "shell.execute_reply": "2023-09-28T13:14:55.723674Z",
     "shell.execute_reply.started": "2023-09-28T13:14:55.689546Z"
    }
   },
   "outputs": [
    {
     "data": {
      "text/plain": [
       "customer_id                0\n",
       "gross_revenue             91\n",
       "avg_ticket                91\n",
       "recency_days              91\n",
       "frequency                 91\n",
       "total_invoices            91\n",
       "items_qtt                 91\n",
       "products_qtt              91\n",
       "avg_basket_size           91\n",
       "avg_unique_basket_size    91\n",
       "returns_qtt                0\n",
       "dtype: int64"
      ]
     },
     "execution_count": 174,
     "metadata": {},
     "output_type": "execute_result"
    }
   ],
   "source": [
    "# total number of returns\n",
    "df_returns = df2_returns[['customer_id', 'quantity']].groupby('customer_id').sum().reset_index().rename(columns={'quantity':'returns_qtt'})\n",
    "df_returns['returns_qtt'] = df_returns['returns_qtt'] * -1\n",
    "\n",
    "df_ref = pd.merge(df_ref, df_returns, how='left', on='customer_id')\n",
    "df_ref.loc[df_ref['returns_qtt'].isna(), 'returns_qtt'] = 0\n",
    "\n",
    "df_ref.isna().sum()"
   ]
  },
  {
   "cell_type": "code",
   "execution_count": 175,
   "metadata": {
    "execution": {
     "iopub.execute_input": "2023-09-28T13:14:55.727908Z",
     "iopub.status.busy": "2023-09-28T13:14:55.727451Z",
     "iopub.status.idle": "2023-09-28T13:14:55.747065Z",
     "shell.execute_reply": "2023-09-28T13:14:55.745500Z",
     "shell.execute_reply.started": "2023-09-28T13:14:55.727867Z"
    }
   },
   "outputs": [
    {
     "data": {
      "text/plain": [
       "customer_id               0\n",
       "gross_revenue             0\n",
       "avg_ticket                0\n",
       "recency_days              0\n",
       "frequency                 0\n",
       "total_invoices            0\n",
       "items_qtt                 0\n",
       "products_qtt              0\n",
       "avg_basket_size           0\n",
       "avg_unique_basket_size    0\n",
       "returns_qtt               0\n",
       "dtype: int64"
      ]
     },
     "execution_count": 175,
     "metadata": {},
     "output_type": "execute_result"
    }
   ],
   "source": [
    "df_ref = df_ref.dropna()\n",
    "df_ref.isna().sum()"
   ]
  },
  {
   "cell_type": "markdown",
   "metadata": {
    "heading_collapsed": true,
    "jp-MarkdownHeadingCollapsed": true
   },
   "source": [
    "# 4.0 <s>DA (Exploratory Data Analysis)<s/> "
   ]
  },
  {
   "cell_type": "code",
   "execution_count": 176,
   "metadata": {
    "ExecuteTime": {
     "end_time": "2023-09-05T19:11:54.346423Z",
     "start_time": "2023-09-05T19:11:54.324979Z"
    },
    "execution": {
     "iopub.execute_input": "2023-09-28T13:14:55.748967Z",
     "iopub.status.busy": "2023-09-28T13:14:55.748569Z",
     "iopub.status.idle": "2023-09-28T13:14:55.760423Z",
     "shell.execute_reply": "2023-09-28T13:14:55.758271Z",
     "shell.execute_reply.started": "2023-09-28T13:14:55.748930Z"
    },
    "hidden": true
   },
   "outputs": [],
   "source": [
    "df4 = df_ref.copy()"
   ]
  },
  {
   "cell_type": "code",
   "execution_count": 177,
   "metadata": {
    "execution": {
     "iopub.execute_input": "2023-09-28T13:14:55.763925Z",
     "iopub.status.busy": "2023-09-28T13:14:55.763054Z",
     "iopub.status.idle": "2023-09-28T13:14:55.772125Z",
     "shell.execute_reply": "2023-09-28T13:14:55.770417Z",
     "shell.execute_reply.started": "2023-09-28T13:14:55.763862Z"
    }
   },
   "outputs": [],
   "source": [
    "# profile = ProfileReport(df4)\n",
    "# profile.to_file('../img/output_v1.html')"
   ]
  },
  {
   "cell_type": "markdown",
   "metadata": {},
   "source": [
    "## 4.1 Univariate analysis"
   ]
  },
  {
   "cell_type": "markdown",
   "metadata": {
    "jp-MarkdownHeadingCollapsed": true
   },
   "source": [
    "## 4.2 Bivariate analysis"
   ]
  },
  {
   "cell_type": "code",
   "execution_count": 191,
   "metadata": {
    "execution": {
     "iopub.execute_input": "2023-09-28T13:14:56.173552Z",
     "iopub.status.busy": "2023-09-28T13:14:56.173033Z",
     "iopub.status.idle": "2023-09-28T13:14:56.179950Z",
     "shell.execute_reply": "2023-09-28T13:14:56.178422Z",
     "shell.execute_reply.started": "2023-09-28T13:14:56.173504Z"
    }
   },
   "outputs": [],
   "source": [
    "# sns.pairplot(df42);"
   ]
  },
  {
   "cell_type": "markdown",
   "metadata": {
    "jp-MarkdownHeadingCollapsed": true
   },
   "source": [
    "## 4.3 Embedding spaces"
   ]
  },
  {
   "cell_type": "markdown",
   "metadata": {
    "jp-MarkdownHeadingCollapsed": true
   },
   "source": [
    "### 4.3.1 Transformations"
   ]
  },
  {
   "cell_type": "code",
   "execution_count": 1,
   "metadata": {
    "execution": {
     "iopub.execute_input": "2023-10-31T22:45:33.917669Z",
     "iopub.status.busy": "2023-10-31T22:45:33.917161Z",
     "iopub.status.idle": "2023-10-31T22:45:33.925751Z",
     "shell.execute_reply": "2023-10-31T22:45:33.924529Z",
     "shell.execute_reply.started": "2023-10-31T22:45:33.917626Z"
    }
   },
   "outputs": [],
   "source": [
    "# X1 = df4.drop(columns=['customer_id','avg_ticket','avg_basket_size','avg_unique_basket_size'], axis=1).copy()\n",
    "\n",
    "# ssgross = pp.RobustScaler()\n",
    "# ssrecency = pp.RobustScaler()\n",
    "# ssfrequency = pp.RobustScaler()\n",
    "# ssinvoices = pp.RobustScaler()\n",
    "# ssitems = pp.RobustScaler()\n",
    "# ssproducts = pp.RobustScaler()\n",
    "# ssreturns = pp.RobustScaler()\n",
    "\n",
    "# X1['gross_revenue'] = ssgross.fit_transform(X1[['gross_revenue']])\n",
    "# X1['frequency'] = ssfrequency.fit_transform(X1[['frequency']])\n",
    "# X1['total_invoices'] = ssinvoices.fit_transform(X1[['total_invoices']])\n",
    "# X1['items_qtt'] = ssitems.fit_transform(X1[['items_qtt']])\n",
    "# X1['products_qtt'] = ssproducts.fit_transform(X1[['products_qtt']])\n",
    "# X1['returns_qtt'] = ssreturns.fit_transform(X1[['returns_qtt']])\n",
    "\n",
    "# X2 = df4.drop(columns=['customer_id','avg_ticket','avg_basket_size','avg_unique_basket_size'], axis=1).copy()\n",
    "\n",
    "# ssgross = pp.MinMaxScaler()\n",
    "# ssrecency = pp.MinMaxScaler()\n",
    "# ssfrequency = pp.MinMaxScaler()\n",
    "# ssinvoices = pp.MinMaxScaler()\n",
    "# ssitems = pp.MinMaxScaler()\n",
    "# ssproducts = pp.MinMaxScaler()\n",
    "# ssreturns = pp.MinMaxScaler()\n",
    "\n",
    "# X2['gross_revenue'] = ssgross.fit_transform(X2[['gross_revenue']])\n",
    "# X2['recency_days'] = ssrecency.fit_transform(X2[['recency_days']])\n",
    "# X2['frequency'] = ssfrequency.fit_transform(X2[['frequency']])\n",
    "# X2['total_invoices'] = ssinvoices.fit_transform(X2[['total_invoices']])\n",
    "# X2['items_qtt'] = ssitems.fit_transform(X2[['items_qtt']])\n",
    "# X2['products_qtt'] = ssproducts.fit_transform(X2[['products_qtt']])\n",
    "# X2['returns_qtt'] = ssreturns.fit_transform(X2[['returns_qtt']])\n",
    "\n",
    "# X3 = df4.drop(columns=['customer_id','avg_ticket','avg_basket_size','avg_unique_basket_size'], axis=1).copy()\n",
    "\n",
    "# ssgross = pp.StandardScaler()\n",
    "# ssrecency = pp.StandardScaler()\n",
    "# ssfrequency = pp.StandardScaler()\n",
    "# ssinvoices = pp.StandardScaler()\n",
    "# ssitems = pp.StandardScaler()\n",
    "# ssproducts = pp.StandardScaler()\n",
    "# ssreturns = pp.StandardScaler()\n",
    "\n",
    "# X3['gross_revenue'] = ssgross.fit_transform(X3[['gross_revenue']])\n",
    "# X3['recency_days'] = ssrecency.fit_transform(X3[['recency_days']])\n",
    "# X3['frequency'] = ssfrequency.fit_transform(X3[['frequency']])\n",
    "# X3['total_invoices'] = ssinvoices.fit_transform(X3[['total_invoices']])\n",
    "# X3['items_qtt'] = ssitems.fit_transform(X3[['items_qtt']])\n",
    "# X3['products_qtt'] = ssproducts.fit_transform(X3[['products_qtt']])\n",
    "# X3['returns_qtt'] = ssreturns.fit_transform(X3[['returns_qtt']])"
   ]
  },
  {
   "cell_type": "markdown",
   "metadata": {
    "jp-MarkdownHeadingCollapsed": true
   },
   "source": [
    "### 4.3.2 PCA, UMAP, t-SNE and Tree-based embeddings"
   ]
  },
  {
   "cell_type": "code",
   "execution_count": 2,
   "metadata": {
    "execution": {
     "iopub.execute_input": "2023-10-31T22:45:38.088528Z",
     "iopub.status.busy": "2023-10-31T22:45:38.087927Z",
     "iopub.status.idle": "2023-10-31T22:45:38.106913Z",
     "shell.execute_reply": "2023-10-31T22:45:38.105591Z",
     "shell.execute_reply.started": "2023-10-31T22:45:38.088481Z"
    }
   },
   "outputs": [],
   "source": [
    "# # PCA=========================================================\n",
    "\n",
    "# rcParams['figure.figsize'] = 20,20\n",
    "# grid=gridspec.GridSpec(4,3)\n",
    "\n",
    "# # robust scaler\n",
    "# pca = dd.PCA(n_components=X1.shape[1])\n",
    "\n",
    "# principal_components = pca.fit_transform(X1)\n",
    "\n",
    "# # plot explained variable\n",
    "# features = range(pca.n_components_)\n",
    "\n",
    "# # ax1 = plt.subplot(grid[0,0]) \n",
    "# # plt.bar(features, pca.explained_variance_ratio_, color='black')\n",
    "\n",
    "# # pca component\n",
    "# df_pca = pd.DataFrame(principal_components)\n",
    "\n",
    "# ax1 = plt.subplot(grid[0,0]) \n",
    "# sns.scatterplot(x=0, y=1, data=df_pca);\n",
    "\n",
    "\n",
    "# # min max scaler\n",
    "# pca = dd.PCA(n_components=X2.shape[1])\n",
    "\n",
    "# principal_components = pca.fit_transform(X2)\n",
    "\n",
    "# # plot explained variable\n",
    "# features = range(pca.n_components_)\n",
    "\n",
    "# # a3 = plt.subplot(grid[1,0]) \n",
    "# # plt.bar(features, pca.explained_variance_ratio_, color='black')\n",
    "\n",
    "# # pca component\n",
    "# df_pca = pd.DataFrame(principal_components)\n",
    "\n",
    "# ax2 = plt.subplot(grid[0,1])\n",
    "# sns.scatterplot(x=0, y=1, data=df_pca);\n",
    "\n",
    "\n",
    "# # normalization\n",
    "# pca = dd.PCA(n_components=X3.shape[1])\n",
    "\n",
    "# principal_components = pca.fit_transform(X3)\n",
    "\n",
    "# # plot explained variable\n",
    "# features = range(pca.n_components_)\n",
    "\n",
    "# # ax5 = plt.subplot(grid[2,0]) \n",
    "# # plt.bar(features, pca.explained_variance_ratio_, color='black')\n",
    "\n",
    "# # pca component\n",
    "# df_pca = pd.DataFrame(principal_components)\n",
    "\n",
    "# ax3 = plt.subplot(grid[0,2]) \n",
    "# sns.scatterplot(x=0, y=1, data=df_pca);\n",
    "\n",
    "# ax1.legend(title='PCA-Robust scaler', fontsize=\"x-large\");\n",
    "# ax2.legend(title='PCA-Min Max scaler', fontsize=\"x-large\");\n",
    "# ax3.legend(title='PCA-Normalization', fontsize=\"x-large\");\n",
    "\n",
    "\n",
    "# # UMAP===========================================================================\n",
    "# # reducer\n",
    "# reducer = umap.UMAP(random_state=42)\n",
    "\n",
    "# # robust scaler\n",
    "# embedding = reducer.fit_transform(X1)\n",
    "\n",
    "# # embedding\n",
    "# df_umap_rs = pd.DataFrame()\n",
    "# df_umap_rs['embedding_x'] = embedding[:, 0]\n",
    "# df_umap_rs['embedding_y'] = embedding[:, 1]\n",
    "\n",
    "# # plot UMAP\n",
    "# ax4 = plt.subplot(grid[1,0]) \n",
    "# sns.scatterplot(x='embedding_x', \n",
    "#                  y='embedding_y', \n",
    "#                  data=df_umap_rs);\n",
    "\n",
    "\n",
    "# # min max scaler\n",
    "# embedding = reducer.fit_transform(X2)\n",
    "\n",
    "# # embedding\n",
    "# df_umap_mms = pd.DataFrame()\n",
    "# df_umap_mms['embedding_x'] = embedding[:, 0]\n",
    "# df_umap_mms['embedding_y'] = embedding[:, 1]\n",
    "\n",
    "# # plot UMAP\n",
    "# ax5 = plt.subplot(grid[1,1]) \n",
    "# sns.scatterplot(x='embedding_x', \n",
    "#                  y='embedding_y', \n",
    "#                  data=df_umap_mms);\n",
    "\n",
    "\n",
    "# # normalization\n",
    "# embedding = reducer.fit_transform(X3)\n",
    "\n",
    "# # embedding\n",
    "# df_umap_nor = pd.DataFrame()\n",
    "# df_umap_nor['embedding_x'] = embedding[:, 0]\n",
    "# df_umap_nor['embedding_y'] = embedding[:, 1]\n",
    "\n",
    "# # plot UMAP\n",
    "# ax6 = plt.subplot(grid[1,2]) \n",
    "# sns.scatterplot(x='embedding_x', \n",
    "#                  y='embedding_y', \n",
    "#                  data=df_umap_nor);\n",
    "\n",
    "# ax4.legend(title='UMAP-Robust scaler', fontsize=\"x-large\");\n",
    "# ax5.legend(title='UMAP-Min Max scaler', fontsize=\"x-large\");\n",
    "# ax6.legend(title='UMAP-Normalization', fontsize=\"x-large\");\n",
    "\n",
    "\n",
    "# # TSNE===========================================================================\n",
    "# # reducer\n",
    "# reducer = TSNE(n_components=2, n_jobs=-1, random_state=42)\n",
    "\n",
    "# # robust scaler\n",
    "# embedding = reducer.fit_transform(X1)\n",
    "\n",
    "# # embedding\n",
    "# df_tsne_rs = pd.DataFrame()\n",
    "# df_tsne_rs['embedding_x'] = embedding[:, 0]\n",
    "# df_tsne_rs['embedding_y'] = embedding[:, 1]\n",
    "\n",
    "# # plot tsne\n",
    "# ax7 = plt.subplot(grid[2,0]) \n",
    "# sns.scatterplot(x='embedding_x', \n",
    "#                  y='embedding_y', \n",
    "#                  data=df_tsne_rs);\n",
    "\n",
    "\n",
    "# # min max scaler\n",
    "# embedding = reducer.fit_transform(X2)\n",
    "\n",
    "# # embedding\n",
    "# df_tsne_mms = pd.DataFrame()\n",
    "# df_tsne_mms['embedding_x'] = embedding[:, 0]\n",
    "# df_tsne_mms['embedding_y'] = embedding[:, 1]\n",
    "\n",
    "# # plot tsne\n",
    "# ax8 = plt.subplot(grid[2,1]) \n",
    "# sns.scatterplot(x='embedding_x', \n",
    "#                  y='embedding_y', \n",
    "#                  data=df_tsne_mms);\n",
    "\n",
    "\n",
    "# # normalization\n",
    "# embedding = reducer.fit_transform(X3)\n",
    "\n",
    "# # embedding\n",
    "# df_tsne_nor = pd.DataFrame()\n",
    "# df_tsne_nor['embedding_x'] = embedding[:, 0]\n",
    "# df_tsne_nor['embedding_y'] = embedding[:, 1]\n",
    "\n",
    "# # plot plot tsne\n",
    "# ax9 = plt.subplot(grid[2,2]) \n",
    "# sns.scatterplot(x='embedding_x', \n",
    "#                  y='embedding_y', \n",
    "#                  data=df_tsne_nor);\n",
    "\n",
    "# ax7.legend(title='tSNE-Robust scaler', fontsize=\"x-large\");\n",
    "# ax8.legend(title='tSNE-Min Max scaler', fontsize=\"x-large\");\n",
    "# ax9.legend(title='tSNE-Normalization', fontsize=\"x-large\");\n",
    "\n",
    "\n",
    "# # TREE==================================================\n",
    "# # training dataset\n",
    "# X1 = df4.drop(columns=['customer_id','gross_revenue','avg_ticket','avg_basket_size','avg_unique_basket_size'], axis=1).copy()\n",
    "# y = df4['gross_revenue']\n",
    "\n",
    "\n",
    "# # model definition\n",
    "# rf_model = en.RandomForestRegressor( random_state=42)\n",
    "\n",
    "# # model training\n",
    "# rf_model.fit(X1, y)\n",
    "\n",
    "# # leaf\n",
    "# df_leaf = pd.DataFrame(rf_model.apply(X1))\n",
    "\n",
    "# # PCA TREE\n",
    "# pca = dd.PCA(X1.shape[1])\n",
    "\n",
    "# principal_components = pca.fit_transform(df_leaf)\n",
    "\n",
    "# # plot explained variable\n",
    "# features = range(pca.n_components_)\n",
    "\n",
    "# # ax1 = plt.subplot(grid[0,0]) \n",
    "# # plt.bar(features, pca.explained_variance_ratio_, color='black')\n",
    "\n",
    "# # pca component\n",
    "# df_pca = pd.DataFrame(principal_components)\n",
    "\n",
    "# ax10 = plt.subplot(grid[3,0]) \n",
    "# sns.scatterplot(x=0, y=1, data=df_pca);\n",
    "# ax10.legend(title='Tree based PCA', fontsize=\"x-large\");\n",
    "\n",
    "\n",
    "# # UMAP TREE\n",
    "# reducer = umap.UMAP(random_state=42)\n",
    "# embedding = reducer.fit_transform(df_leaf)\n",
    "\n",
    "# # embedding\n",
    "# df_umap_tree = pd.DataFrame()\n",
    "# df_umap_tree['embedding_x'] = embedding[:, 0]\n",
    "# df_umap_tree['embedding_y'] = embedding[:, 1]\n",
    "\n",
    "# # plot UMAP\n",
    "# aX1 = plt.subplot(grid[3,1]) \n",
    "# sns.scatterplot(x='embedding_x', \n",
    "#                  y='embedding_y', \n",
    "#                  data=df_umap_tree);\n",
    "\n",
    "# aX1.legend(title='Tree based UMAP', fontsize=\"x-large\");\n",
    "\n",
    "\n",
    "# # TSNE\n",
    "# reducer = TSNE(n_components=2, n_jobs=-1, random_state=42)\n",
    "# embedding = reducer.fit_transform(df_leaf)\n",
    "\n",
    "# # embedding\n",
    "# df_tsne_tree = pd.DataFrame()\n",
    "# df_tsne_tree['embedding_x'] = embedding[:, 0]\n",
    "# df_tsne_tree['embedding_y'] = embedding[:, 1]\n",
    "\n",
    "# # plot tsne\n",
    "# aX2 = plt.subplot(grid[3,2]) \n",
    "# sns.scatterplot(x='embedding_x', \n",
    "#                  y='embedding_y', \n",
    "#                  data=df_tsne_tree);\n",
    "\n",
    "# aX2.legend(title='Tree based TSNE', fontsize=\"x-large\");"
   ]
  },
  {
   "cell_type": "markdown",
   "metadata": {
    "heading_collapsed": true,
    "jp-MarkdownHeadingCollapsed": true
   },
   "source": [
    "# 5.0 Data preparation "
   ]
  },
  {
   "cell_type": "code",
   "execution_count": 194,
   "metadata": {
    "ExecuteTime": {
     "end_time": "2023-09-05T23:37:40.154237Z",
     "start_time": "2023-09-05T23:37:40.149133Z"
    },
    "execution": {
     "iopub.execute_input": "2023-09-28T13:17:53.664796Z",
     "iopub.status.busy": "2023-09-28T13:17:53.664459Z",
     "iopub.status.idle": "2023-09-28T13:17:53.673288Z",
     "shell.execute_reply": "2023-09-28T13:17:53.671588Z",
     "shell.execute_reply.started": "2023-09-28T13:17:53.664764Z"
    },
    "hidden": true
   },
   "outputs": [],
   "source": [
    "df5 = df4.copy()\n",
    "df5=df5.drop(columns=['avg_ticket','avg_basket_size','avg_unique_basket_size'], axis=1)"
   ]
  },
  {
   "cell_type": "markdown",
   "metadata": {
    "heading_collapsed": true,
    "jp-MarkdownHeadingCollapsed": true
   },
   "source": [
    "# 6.0 Feature selection "
   ]
  },
  {
   "cell_type": "code",
   "execution_count": 196,
   "metadata": {
    "ExecuteTime": {
     "end_time": "2023-09-05T23:37:43.623657Z",
     "start_time": "2023-09-05T23:37:43.613054Z"
    },
    "execution": {
     "iopub.execute_input": "2023-09-28T13:17:53.688557Z",
     "iopub.status.busy": "2023-09-28T13:17:53.687930Z",
     "iopub.status.idle": "2023-09-28T13:17:53.699024Z",
     "shell.execute_reply": "2023-09-28T13:17:53.698065Z",
     "shell.execute_reply.started": "2023-09-28T13:17:53.688502Z"
    },
    "hidden": true
   },
   "outputs": [],
   "source": [
    "df6 = df5.copy()"
   ]
  },
  {
   "cell_type": "markdown",
   "metadata": {},
   "source": [
    "## 6.1 Random forest regressor "
   ]
  },
  {
   "cell_type": "code",
   "execution_count": 197,
   "metadata": {
    "execution": {
     "iopub.execute_input": "2023-09-28T13:17:53.701374Z",
     "iopub.status.busy": "2023-09-28T13:17:53.700837Z",
     "iopub.status.idle": "2023-09-28T13:17:55.744318Z",
     "shell.execute_reply": "2023-09-28T13:17:55.742910Z",
     "shell.execute_reply.started": "2023-09-28T13:17:53.701320Z"
    }
   },
   "outputs": [
    {
     "name": "stdout",
     "output_type": "stream",
     "text": [
      "Feature ranking\n",
      "          feature  importance\n",
      "0       items_qtt    0.881922\n",
      "0     returns_qtt    0.042357\n",
      "0     customer_id    0.020220\n",
      "0    products_qtt    0.016447\n",
      "0    recency_days    0.014628\n",
      "0       frequency    0.013448\n",
      "0  total_invoices    0.010978\n"
     ]
    },
    {
     "data": {
      "image/png": "[encoded data removed]",
      "text/plain": [
       "<Figure size 1000x500 with 1 Axes>"
      ]
     },
     "metadata": {},
     "output_type": "display_data"
    }
   ],
   "source": [
    "rcParams['figure.figsize'] = 10,5\n",
    "\n",
    "# model definition\n",
    "forest=en.RandomForestRegressor(random_state=42,n_jobs=-1) \n",
    "\n",
    "# data preparation\n",
    "x_train_n=df6.drop(['gross_revenue'],axis=1)\n",
    "y_train=df6['gross_revenue']\n",
    "y_train_n=y_train.values\n",
    "forest.fit(x_train_n,y_train_n)\n",
    "\n",
    "importances=forest.feature_importances_\n",
    "std=np.std([tree.feature_importances_ for tree in forest.estimators_],axis=0)\n",
    "indices=np.argsort(importances)[::-1]  \n",
    "\n",
    "# print the feature ranking\n",
    "print('Feature ranking')\n",
    "df=pd.DataFrame()\n",
    "for i, j in zip(x_train_n,forest.feature_importances_): \n",
    "    aux=pd.DataFrame({'feature':i,'importance':j},index=[0])\n",
    "    df=pd.concat([df,aux],axis=0)\n",
    "    \n",
    "print(df.sort_values('importance',ascending=False))\n",
    "\n",
    "# plot the imputiry-based feature importances of the forest\n",
    "plt.figure()\n",
    "plt.title('feature importances')\n",
    "plt.bar(range(x_train_n.shape[1]),importances[indices],color='r',yerr=std[indices],align='center')\n",
    "plt.xticks(range(x_train_n.shape[1]),indices)\n",
    "plt.xlim([-1,x_train_n.shape[1]])\n",
    "plt.show()"
   ]
  },
  {
   "cell_type": "markdown",
   "metadata": {
    "heading_collapsed": true
   },
   "source": [
    "# 7.0 Hyperparameter Fine-Tunning"
   ]
  },
  {
   "cell_type": "code",
   "execution_count": 198,
   "metadata": {
    "execution": {
     "iopub.execute_input": "2023-09-28T13:17:55.746355Z",
     "iopub.status.busy": "2023-09-28T13:17:55.745838Z",
     "iopub.status.idle": "2023-09-28T13:17:55.755987Z",
     "shell.execute_reply": "2023-09-28T13:17:55.753936Z",
     "shell.execute_reply.started": "2023-09-28T13:17:55.746314Z"
    }
   },
   "outputs": [],
   "source": [
    "df7=df6.copy()"
   ]
  },
  {
   "cell_type": "markdown",
   "metadata": {
    "hidden": true
   },
   "source": [
    "## 7.1 Silhouette score"
   ]
  },
  {
   "cell_type": "markdown",
   "metadata": {},
   "source": [
    "### 7.1.1 Tree based embedding + UMAP"
   ]
  },
  {
   "cell_type": "code",
   "execution_count": 211,
   "metadata": {
    "execution": {
     "iopub.execute_input": "2023-09-28T18:05:16.219713Z",
     "iopub.status.busy": "2023-09-28T18:05:16.218572Z",
     "iopub.status.idle": "2023-09-28T18:07:24.126541Z",
     "shell.execute_reply": "2023-09-28T18:07:24.125189Z",
     "shell.execute_reply.started": "2023-09-28T18:05:16.219647Z"
    }
   },
   "outputs": [
    {
     "data": {
      "image/png": "[encoded data removed]",
      "text/plain": [
       "<Figure size 2000x1800 with 9 Axes>"
      ]
     },
     "metadata": {},
     "output_type": "display_data"
    }
   ],
   "source": [
    "rcParams['figure.figsize'] = 20,18\n",
    "grid=gridspec.GridSpec(3,3)\n",
    "clusters = np.arange(2, 11, 1)\n",
    "\n",
    "# TREE==================================================\n",
    "# training dataset\n",
    "X1 = df7.drop(columns=['customer_id','gross_revenue'], axis=1)\n",
    "y = df7['gross_revenue']\n",
    "\n",
    "# model definition\n",
    "rf_model = en.RandomForestRegressor( random_state=42)\n",
    "\n",
    "# model training\n",
    "rf_model.fit(X1, y)\n",
    "\n",
    "# leaf\n",
    "df_leaf = pd.DataFrame(rf_model.apply(X1))\n",
    "\n",
    "# UMAP TREE\n",
    "reducer = umap.UMAP(n_components=2,random_state=42)\n",
    "embedding = reducer.fit_transform(df_leaf)\n",
    "\n",
    "# embedding\n",
    "df_umap_tree = pd.DataFrame()\n",
    "df_umap_tree['embedding_x'] = embedding[:, 0]\n",
    "df_umap_tree['embedding_y'] = embedding[:, 1]\n",
    "\n",
    "X1=df_umap_tree\n",
    "kmeans_list1 = []\n",
    "for k in clusters:\n",
    "    # model definition\n",
    "    kmeans1 = c.KMeans(n_clusters=k)\n",
    "\n",
    "    # model training\n",
    "    kmeans1.fit(X1)\n",
    "\n",
    "    # model predict\n",
    "    labels1 = kmeans1.predict(X1)\n",
    "\n",
    "    # model performance\n",
    "    sil = m.silhouette_score(X1, labels1, metric='euclidean')\n",
    "    kmeans_list1.append(sil)\n",
    "\n",
    "ax1 = plt.subplot(grid[0,0])\n",
    "plt.plot(clusters, kmeans_list1, linestyle='--', marker='o', color='b')\n",
    "plt.xlabel('K');\n",
    "plt.ylabel('Silhouette Score');\n",
    "plt.title('K-means');\n",
    "\n",
    "\n",
    "gmm_list1 = []\n",
    "for k in clusters:\n",
    "    # model definition\n",
    "    gmm1 = mx.GaussianMixture(n_components=k)\n",
    "\n",
    "    # model training\n",
    "    gmm1.fit(X1)\n",
    "\n",
    "    # model predict\n",
    "    labels2 = gmm1.predict(X1)\n",
    "\n",
    "    # model performance\n",
    "    sil = m.silhouette_score(X1, labels2, metric='euclidean')\n",
    "    gmm_list1.append(sil)\n",
    "\n",
    "ax2 = plt.subplot(grid[0,1])\n",
    "plt.plot(clusters, gmm_list1, linestyle='--', marker='o', color='b')\n",
    "plt.xlabel('K');\n",
    "plt.ylabel('Silhouette Score');\n",
    "plt.title('GMM');\n",
    "\n",
    "\n",
    "hc_list1 = []\n",
    "for k in clusters:\n",
    "    # model definition & training\n",
    "    hc1 = hc.linkage(X1, 'ward')\n",
    "\n",
    "    # model predict\n",
    "    labels3 = hc.fcluster(hc1, k, criterion='maxclust')\n",
    "\n",
    "    # metrics\n",
    "    sil = m.silhouette_score(X1, labels3, metric='euclidean')\n",
    "    hc_list1.append(sil)\n",
    "\n",
    "ax3 = plt.subplot(grid[0,2])\n",
    "plt.plot(clusters,  hc_list1, linestyle='--', marker='o', color='b');\n",
    "plt.xlabel('K');\n",
    "plt.ylabel('Silhouette Score');\n",
    "plt.title('HC');\n",
    "\n",
    "\n",
    "# TREE==================================================\n",
    "# training dataset\n",
    "X2 = df7.drop(columns=['customer_id','gross_revenue','total_invoices','frequency'], axis=1)\n",
    "y = df7['gross_revenue']\n",
    "\n",
    "# model definition\n",
    "rf_model = en.RandomForestRegressor( random_state=42)\n",
    "\n",
    "# model training\n",
    "rf_model.fit(X2, y)\n",
    "\n",
    "# leaf\n",
    "df_leaf = pd.DataFrame(rf_model.apply(X2))\n",
    "\n",
    "# UMAP TREE\n",
    "reducer = umap.UMAP(n_components=2,random_state=42)\n",
    "embedding = reducer.fit_transform(df_leaf)\n",
    "\n",
    "# embedding\n",
    "df_umap_tree = pd.DataFrame()\n",
    "df_umap_tree['embedding_x'] = embedding[:, 0]\n",
    "df_umap_tree['embedding_y'] = embedding[:, 1]\n",
    "\n",
    "X2=df_umap_tree\n",
    "kmeans_list2 = []\n",
    "for k in clusters:\n",
    "    # model definition\n",
    "    kmeans2 = c.KMeans(n_clusters=k)\n",
    "\n",
    "    # model training\n",
    "    kmeans2.fit(X2)\n",
    "\n",
    "    # model predict\n",
    "    labels4 = kmeans2.predict(X2)\n",
    "\n",
    "    # model performance\n",
    "    sil = m.silhouette_score(X2, labels4, metric='euclidean')\n",
    "    kmeans_list2.append(sil)\n",
    "\n",
    "aX4 = plt.subplot(grid[1,0])\n",
    "plt.plot(clusters, kmeans_list2, linestyle='--', marker='o', color='b')\n",
    "plt.xlabel('K');\n",
    "plt.ylabel('Silhouette Score');\n",
    "plt.title('K-means');\n",
    "\n",
    "\n",
    "gmm_list2 = []\n",
    "for k in clusters:\n",
    "    # model definition\n",
    "    gmm2 = mx.GaussianMixture(n_components=k)\n",
    "\n",
    "    # model training\n",
    "    gmm2.fit(X2)\n",
    "\n",
    "    # model predict\n",
    "    labels5 = gmm2.predict(X2)\n",
    "\n",
    "    # model performance\n",
    "    sil = m.silhouette_score(X2, labels5, metric='euclidean')\n",
    "    gmm_list2.append(sil)\n",
    "\n",
    "ax5 = plt.subplot(grid[1,1])\n",
    "plt.plot(clusters, gmm_list2, linestyle='--', marker='o', color='b')\n",
    "plt.xlabel('K');\n",
    "plt.ylabel('Silhouette Score');\n",
    "plt.title('GMM');\n",
    "\n",
    "\n",
    "hc_list2 = []\n",
    "for k in clusters:\n",
    "    # model definition & training\n",
    "    hc2 = hc.linkage(X2, 'ward')\n",
    "\n",
    "    # model predict\n",
    "    labels6 = hc.fcluster(hc2, k, criterion='maxclust')\n",
    "\n",
    "    # metrics\n",
    "    sil = m.silhouette_score(X2, labels6, metric='euclidean')\n",
    "    hc_list2.append(sil)\n",
    "\n",
    "ax6 = plt.subplot(grid[1,2])\n",
    "plt.plot(clusters,  hc_list2, linestyle='--', marker='o', color='b');\n",
    "plt.xlabel('K');\n",
    "plt.ylabel('Silhouette Score');\n",
    "plt.title('HC');\n",
    "\n",
    "\n",
    "# TREE==================================================\n",
    "# training dataset\n",
    "X3 = df7.drop(columns=['customer_id','gross_revenue','total_invoices','frequency','returns_qtt'], axis=1)\n",
    "y = df7['gross_revenue']\n",
    "\n",
    "# model definition\n",
    "rf_model = en.RandomForestRegressor( random_state=42)\n",
    "\n",
    "# model training\n",
    "rf_model.fit(X3, y)\n",
    "\n",
    "# leaf\n",
    "df_leaf = pd.DataFrame(rf_model.apply(X3))\n",
    "\n",
    "# UMAP TREE\n",
    "reducer = umap.UMAP(n_components=2,random_state=42)\n",
    "embedding = reducer.fit_transform(df_leaf)\n",
    "\n",
    "# embedding\n",
    "df_umap_tree = pd.DataFrame()\n",
    "df_umap_tree['embedding_x'] = embedding[:, 0]\n",
    "df_umap_tree['embedding_y'] = embedding[:, 1]\n",
    "\n",
    "X3=df_umap_tree\n",
    "kmeans_list3 = []\n",
    "for k in clusters:\n",
    "    # model definition\n",
    "    kmeans3 = c.KMeans(n_clusters=k)\n",
    "\n",
    "    # model training\n",
    "    kmeans3.fit(X3)\n",
    "\n",
    "    # model predict\n",
    "    labels7 = kmeans3.predict(X3)\n",
    "\n",
    "    # model performance\n",
    "    sil = m.silhouette_score(X3, labels7, metric='euclidean')\n",
    "    kmeans_list3.append(sil)\n",
    "\n",
    "aX7 = plt.subplot(grid[2,0])\n",
    "plt.plot(clusters, kmeans_list3, linestyle='--', marker='o', color='b')\n",
    "plt.xlabel('K');\n",
    "plt.ylabel('Silhouette Score');\n",
    "plt.title('K-means');\n",
    "\n",
    "\n",
    "gmm_list3 = []\n",
    "for k in clusters:\n",
    "    # model definition\n",
    "    gmm3 = mx.GaussianMixture(n_components=k)\n",
    "\n",
    "    # model training\n",
    "    gmm3.fit(X3)\n",
    "\n",
    "    # model predict\n",
    "    labels8 = gmm3.predict(X3)\n",
    "\n",
    "    # model performance\n",
    "    sil = m.silhouette_score(X3, labels8, metric='euclidean')\n",
    "    gmm_list3.append(sil)\n",
    "\n",
    "ax8 = plt.subplot(grid[2,1])\n",
    "plt.plot(clusters, gmm_list3, linestyle='--', marker='o', color='b')\n",
    "plt.xlabel('K');\n",
    "plt.ylabel('Silhouette Score');\n",
    "plt.title('GMM');\n",
    "\n",
    "\n",
    "hc_list3 = []\n",
    "for k in clusters:\n",
    "    # model definition & training\n",
    "    hc3 = hc.linkage(X3, 'ward')\n",
    "\n",
    "    # model predict\n",
    "    labels9= hc.fcluster(hc3, k, criterion='maxclust')\n",
    "\n",
    "    # metrics\n",
    "    sil = m.silhouette_score(X3, labels9, metric='euclidean')\n",
    "    hc_list3.append(sil)\n",
    "\n",
    "ax9 = plt.subplot(grid[2,2])\n",
    "plt.plot(clusters,  hc_list3, linestyle='--', marker='o', color='b');\n",
    "plt.xlabel('K');\n",
    "plt.ylabel('Silhouette Score');\n",
    "plt.title('HC');"
   ]
  },
  {
   "cell_type": "markdown",
   "metadata": {},
   "source": [
    "## 7.2 Results"
   ]
  },
  {
   "cell_type": "code",
   "execution_count": 212,
   "metadata": {
    "execution": {
     "iopub.execute_input": "2023-09-28T18:07:24.129937Z",
     "iopub.status.busy": "2023-09-28T18:07:24.128985Z",
     "iopub.status.idle": "2023-09-28T18:07:24.165939Z",
     "shell.execute_reply": "2023-09-28T18:07:24.164738Z",
     "shell.execute_reply.started": "2023-09-28T18:07:24.129879Z"
    }
   },
   "outputs": [
    {
     "data": {
      "text/html": [
       "<style type=\"text/css\">\n",
       "#T_a7842_row0_col0, #T_a7842_row0_col3, #T_a7842_row0_col4, #T_a7842_row0_col5, #T_a7842_row0_col6, #T_a7842_row0_col7, #T_a7842_row0_col8, #T_a7842_row1_col1, #T_a7842_row1_col2 {\n",
       "  background-color: orange;\n",
       "}\n",
       "</style>\n",
       "<table id=\"T_a7842\">\n",
       "  <thead>\n",
       "    <tr>\n",
       "      <th class=\"blank level0\" >&nbsp;</th>\n",
       "      <th id=\"T_a7842_level0_col0\" class=\"col_heading level0 col0\" >2</th>\n",
       "      <th id=\"T_a7842_level0_col1\" class=\"col_heading level0 col1\" >3</th>\n",
       "      <th id=\"T_a7842_level0_col2\" class=\"col_heading level0 col2\" >4</th>\n",
       "      <th id=\"T_a7842_level0_col3\" class=\"col_heading level0 col3\" >5</th>\n",
       "      <th id=\"T_a7842_level0_col4\" class=\"col_heading level0 col4\" >6</th>\n",
       "      <th id=\"T_a7842_level0_col5\" class=\"col_heading level0 col5\" >7</th>\n",
       "      <th id=\"T_a7842_level0_col6\" class=\"col_heading level0 col6\" >8</th>\n",
       "      <th id=\"T_a7842_level0_col7\" class=\"col_heading level0 col7\" >9</th>\n",
       "      <th id=\"T_a7842_level0_col8\" class=\"col_heading level0 col8\" >10</th>\n",
       "    </tr>\n",
       "  </thead>\n",
       "  <tbody>\n",
       "    <tr>\n",
       "      <th id=\"T_a7842_level0_row0\" class=\"row_heading level0 row0\" >KMeans1</th>\n",
       "      <td id=\"T_a7842_row0_col0\" class=\"data row0 col0\" >0.386175</td>\n",
       "      <td id=\"T_a7842_row0_col1\" class=\"data row0 col1\" >0.433340</td>\n",
       "      <td id=\"T_a7842_row0_col2\" class=\"data row0 col2\" >0.444288</td>\n",
       "      <td id=\"T_a7842_row0_col3\" class=\"data row0 col3\" >0.464824</td>\n",
       "      <td id=\"T_a7842_row0_col4\" class=\"data row0 col4\" >0.470658</td>\n",
       "      <td id=\"T_a7842_row0_col5\" class=\"data row0 col5\" >0.500500</td>\n",
       "      <td id=\"T_a7842_row0_col6\" class=\"data row0 col6\" >0.502695</td>\n",
       "      <td id=\"T_a7842_row0_col7\" class=\"data row0 col7\" >0.514641</td>\n",
       "      <td id=\"T_a7842_row0_col8\" class=\"data row0 col8\" >0.532916</td>\n",
       "    </tr>\n",
       "    <tr>\n",
       "      <th id=\"T_a7842_level0_row1\" class=\"row_heading level0 row1\" >Kmeans2</th>\n",
       "      <td id=\"T_a7842_row1_col0\" class=\"data row1 col0\" >0.376485</td>\n",
       "      <td id=\"T_a7842_row1_col1\" class=\"data row1 col1\" >0.445955</td>\n",
       "      <td id=\"T_a7842_row1_col2\" class=\"data row1 col2\" >0.454269</td>\n",
       "      <td id=\"T_a7842_row1_col3\" class=\"data row1 col3\" >0.451037</td>\n",
       "      <td id=\"T_a7842_row1_col4\" class=\"data row1 col4\" >0.460935</td>\n",
       "      <td id=\"T_a7842_row1_col5\" class=\"data row1 col5\" >0.476736</td>\n",
       "      <td id=\"T_a7842_row1_col6\" class=\"data row1 col6\" >0.470111</td>\n",
       "      <td id=\"T_a7842_row1_col7\" class=\"data row1 col7\" >0.471026</td>\n",
       "      <td id=\"T_a7842_row1_col8\" class=\"data row1 col8\" >0.486671</td>\n",
       "    </tr>\n",
       "    <tr>\n",
       "      <th id=\"T_a7842_level0_row2\" class=\"row_heading level0 row2\" >Kmeans3</th>\n",
       "      <td id=\"T_a7842_row2_col0\" class=\"data row2 col0\" >0.365827</td>\n",
       "      <td id=\"T_a7842_row2_col1\" class=\"data row2 col1\" >0.398904</td>\n",
       "      <td id=\"T_a7842_row2_col2\" class=\"data row2 col2\" >0.424467</td>\n",
       "      <td id=\"T_a7842_row2_col3\" class=\"data row2 col3\" >0.406341</td>\n",
       "      <td id=\"T_a7842_row2_col4\" class=\"data row2 col4\" >0.458887</td>\n",
       "      <td id=\"T_a7842_row2_col5\" class=\"data row2 col5\" >0.479944</td>\n",
       "      <td id=\"T_a7842_row2_col6\" class=\"data row2 col6\" >0.489904</td>\n",
       "      <td id=\"T_a7842_row2_col7\" class=\"data row2 col7\" >0.491599</td>\n",
       "      <td id=\"T_a7842_row2_col8\" class=\"data row2 col8\" >0.509948</td>\n",
       "    </tr>\n",
       "    <tr>\n",
       "      <th id=\"T_a7842_level0_row3\" class=\"row_heading level0 row3\" >GMM1</th>\n",
       "      <td id=\"T_a7842_row3_col0\" class=\"data row3 col0\" >0.385895</td>\n",
       "      <td id=\"T_a7842_row3_col1\" class=\"data row3 col1\" >0.432409</td>\n",
       "      <td id=\"T_a7842_row3_col2\" class=\"data row3 col2\" >0.440946</td>\n",
       "      <td id=\"T_a7842_row3_col3\" class=\"data row3 col3\" >0.398300</td>\n",
       "      <td id=\"T_a7842_row3_col4\" class=\"data row3 col4\" >0.425064</td>\n",
       "      <td id=\"T_a7842_row3_col5\" class=\"data row3 col5\" >0.490297</td>\n",
       "      <td id=\"T_a7842_row3_col6\" class=\"data row3 col6\" >0.410161</td>\n",
       "      <td id=\"T_a7842_row3_col7\" class=\"data row3 col7\" >0.444224</td>\n",
       "      <td id=\"T_a7842_row3_col8\" class=\"data row3 col8\" >0.498578</td>\n",
       "    </tr>\n",
       "    <tr>\n",
       "      <th id=\"T_a7842_level0_row4\" class=\"row_heading level0 row4\" >GMM2</th>\n",
       "      <td id=\"T_a7842_row4_col0\" class=\"data row4 col0\" >0.376799</td>\n",
       "      <td id=\"T_a7842_row4_col1\" class=\"data row4 col1\" >0.399949</td>\n",
       "      <td id=\"T_a7842_row4_col2\" class=\"data row4 col2\" >0.389517</td>\n",
       "      <td id=\"T_a7842_row4_col3\" class=\"data row4 col3\" >0.441152</td>\n",
       "      <td id=\"T_a7842_row4_col4\" class=\"data row4 col4\" >0.437653</td>\n",
       "      <td id=\"T_a7842_row4_col5\" class=\"data row4 col5\" >0.412304</td>\n",
       "      <td id=\"T_a7842_row4_col6\" class=\"data row4 col6\" >0.364425</td>\n",
       "      <td id=\"T_a7842_row4_col7\" class=\"data row4 col7\" >0.442017</td>\n",
       "      <td id=\"T_a7842_row4_col8\" class=\"data row4 col8\" >0.418707</td>\n",
       "    </tr>\n",
       "    <tr>\n",
       "      <th id=\"T_a7842_level0_row5\" class=\"row_heading level0 row5\" >GMM3</th>\n",
       "      <td id=\"T_a7842_row5_col0\" class=\"data row5 col0\" >0.338085</td>\n",
       "      <td id=\"T_a7842_row5_col1\" class=\"data row5 col1\" >0.367831</td>\n",
       "      <td id=\"T_a7842_row5_col2\" class=\"data row5 col2\" >0.381158</td>\n",
       "      <td id=\"T_a7842_row5_col3\" class=\"data row5 col3\" >0.358815</td>\n",
       "      <td id=\"T_a7842_row5_col4\" class=\"data row5 col4\" >0.331841</td>\n",
       "      <td id=\"T_a7842_row5_col5\" class=\"data row5 col5\" >0.315800</td>\n",
       "      <td id=\"T_a7842_row5_col6\" class=\"data row5 col6\" >0.356576</td>\n",
       "      <td id=\"T_a7842_row5_col7\" class=\"data row5 col7\" >0.479981</td>\n",
       "      <td id=\"T_a7842_row5_col8\" class=\"data row5 col8\" >0.390820</td>\n",
       "    </tr>\n",
       "    <tr>\n",
       "      <th id=\"T_a7842_level0_row6\" class=\"row_heading level0 row6\" >HC1</th>\n",
       "      <td id=\"T_a7842_row6_col0\" class=\"data row6 col0\" >0.351767</td>\n",
       "      <td id=\"T_a7842_row6_col1\" class=\"data row6 col1\" >0.387566</td>\n",
       "      <td id=\"T_a7842_row6_col2\" class=\"data row6 col2\" >0.402931</td>\n",
       "      <td id=\"T_a7842_row6_col3\" class=\"data row6 col3\" >0.434686</td>\n",
       "      <td id=\"T_a7842_row6_col4\" class=\"data row6 col4\" >0.446444</td>\n",
       "      <td id=\"T_a7842_row6_col5\" class=\"data row6 col5\" >0.488732</td>\n",
       "      <td id=\"T_a7842_row6_col6\" class=\"data row6 col6\" >0.483039</td>\n",
       "      <td id=\"T_a7842_row6_col7\" class=\"data row6 col7\" >0.509995</td>\n",
       "      <td id=\"T_a7842_row6_col8\" class=\"data row6 col8\" >0.524974</td>\n",
       "    </tr>\n",
       "    <tr>\n",
       "      <th id=\"T_a7842_level0_row7\" class=\"row_heading level0 row7\" >HC2</th>\n",
       "      <td id=\"T_a7842_row7_col0\" class=\"data row7 col0\" >0.363689</td>\n",
       "      <td id=\"T_a7842_row7_col1\" class=\"data row7 col1\" >0.441778</td>\n",
       "      <td id=\"T_a7842_row7_col2\" class=\"data row7 col2\" >0.429191</td>\n",
       "      <td id=\"T_a7842_row7_col3\" class=\"data row7 col3\" >0.424945</td>\n",
       "      <td id=\"T_a7842_row7_col4\" class=\"data row7 col4\" >0.424392</td>\n",
       "      <td id=\"T_a7842_row7_col5\" class=\"data row7 col5\" >0.437091</td>\n",
       "      <td id=\"T_a7842_row7_col6\" class=\"data row7 col6\" >0.433857</td>\n",
       "      <td id=\"T_a7842_row7_col7\" class=\"data row7 col7\" >0.438404</td>\n",
       "      <td id=\"T_a7842_row7_col8\" class=\"data row7 col8\" >0.440168</td>\n",
       "    </tr>\n",
       "    <tr>\n",
       "      <th id=\"T_a7842_level0_row8\" class=\"row_heading level0 row8\" >HC3</th>\n",
       "      <td id=\"T_a7842_row8_col0\" class=\"data row8 col0\" >0.356502</td>\n",
       "      <td id=\"T_a7842_row8_col1\" class=\"data row8 col1\" >0.360473</td>\n",
       "      <td id=\"T_a7842_row8_col2\" class=\"data row8 col2\" >0.374562</td>\n",
       "      <td id=\"T_a7842_row8_col3\" class=\"data row8 col3\" >0.380080</td>\n",
       "      <td id=\"T_a7842_row8_col4\" class=\"data row8 col4\" >0.441346</td>\n",
       "      <td id=\"T_a7842_row8_col5\" class=\"data row8 col5\" >0.465901</td>\n",
       "      <td id=\"T_a7842_row8_col6\" class=\"data row8 col6\" >0.477684</td>\n",
       "      <td id=\"T_a7842_row8_col7\" class=\"data row8 col7\" >0.476316</td>\n",
       "      <td id=\"T_a7842_row8_col8\" class=\"data row8 col8\" >0.491831</td>\n",
       "    </tr>\n",
       "  </tbody>\n",
       "</table>\n"
      ],
      "text/plain": [
       "<pandas.io.formats.style.Styler at 0x7fd4225e62f0>"
      ]
     },
     "execution_count": 212,
     "metadata": {},
     "output_type": "execute_result"
    }
   ],
   "source": [
    "df1 = pd.DataFrame(\n",
    "    {'KMeans1': kmeans_list1, \n",
    "     'Kmeans2': kmeans_list2,\n",
    "     'Kmeans3': kmeans_list3,\n",
    "     'GMM1': gmm_list1, \n",
    "     'GMM2': gmm_list2,\n",
    "     'GMM3': gmm_list3,\n",
    "     'HC1': hc_list1, \n",
    "     'HC2': hc_list2,\n",
    "     'HC3': hc_list3,}).T\n",
    "\n",
    "df1.columns = clusters\n",
    "df1.style.highlight_max(color='orange',axis=0)"
   ]
  },
  {
   "cell_type": "markdown",
   "metadata": {
    "heading_collapsed": true,
    "hidden": true
   },
   "source": [
    "### 7.3 Silhouette Analysis"
   ]
  },
  {
   "cell_type": "code",
   "execution_count": 213,
   "metadata": {
    "execution": {
     "iopub.execute_input": "2023-09-28T18:07:39.551152Z",
     "iopub.status.busy": "2023-09-28T18:07:39.542091Z",
     "iopub.status.idle": "2023-09-28T18:07:41.488165Z",
     "shell.execute_reply": "2023-09-28T18:07:41.486516Z",
     "shell.execute_reply.started": "2023-09-28T18:07:39.551072Z"
    }
   },
   "outputs": [
    {
     "data": {
      "image/png": "[encoded data removed]",
      "text/plain": [
       "<Figure size 1000x500 with 1 Axes>"
      ]
     },
     "metadata": {},
     "output_type": "display_data"
    }
   ],
   "source": [
    "rcParams['figure.figsize'] = 10,5\n",
    "\n",
    "visualizer = SilhouetteVisualizer(kmeans1, colors='yellowbrick')\n",
    "visualizer.fit(X1)\n",
    "visualizer.finalize()"
   ]
  },
  {
   "cell_type": "markdown",
   "metadata": {
    "heading_collapsed": true
   },
   "source": [
    "#  8.0 Model training "
   ]
  },
  {
   "cell_type": "markdown",
   "metadata": {
    "hidden": true
   },
   "source": [
    "## 8.1 K-Means"
   ]
  },
  {
   "cell_type": "code",
   "execution_count": 214,
   "metadata": {
    "ExecuteTime": {
     "end_time": "2023-09-05T23:38:03.224007Z",
     "start_time": "2023-09-05T23:38:02.891052Z"
    },
    "execution": {
     "iopub.execute_input": "2023-09-28T18:08:19.267657Z",
     "iopub.status.busy": "2023-09-28T18:08:19.266789Z",
     "iopub.status.idle": "2023-09-28T18:08:19.417429Z",
     "shell.execute_reply": "2023-09-28T18:08:19.416287Z",
     "shell.execute_reply.started": "2023-09-28T18:08:19.267604Z"
    },
    "hidden": true
   },
   "outputs": [],
   "source": [
    "k=10\n",
    "\n",
    "# model definition\n",
    "kmeans= c.KMeans(n_clusters=k,random_state=42)\n",
    "\n",
    "# model training\n",
    "kmeans.fit(X1)\n",
    "\n",
    "# clustering\n",
    "labels = kmeans.labels_"
   ]
  },
  {
   "cell_type": "markdown",
   "metadata": {
    "hidden": true
   },
   "source": [
    "## 8.2 Cluster validation"
   ]
  },
  {
   "cell_type": "code",
   "execution_count": 215,
   "metadata": {
    "execution": {
     "iopub.execute_input": "2023-09-28T18:08:26.479422Z",
     "iopub.status.busy": "2023-09-28T18:08:26.478626Z",
     "iopub.status.idle": "2023-09-28T18:08:27.200562Z",
     "shell.execute_reply": "2023-09-28T18:08:27.199314Z",
     "shell.execute_reply.started": "2023-09-28T18:08:26.479355Z"
    }
   },
   "outputs": [
    {
     "name": "stdout",
     "output_type": "stream",
     "text": [
      "WSS value: 62881.2265625\n",
      "SS value: 0.5230939388275146\n"
     ]
    }
   ],
   "source": [
    "## WSS (Within-cluster sum of square)\n",
    "print('WSS value: {}'.format(kmeans1.inertia_))\n",
    "\n",
    "## SS (Silhouette Score \n",
    "print('SS value: {}'.format(m.silhouette_score(X1, labels, metric='euclidean')))"
   ]
  },
  {
   "cell_type": "markdown",
   "metadata": {
    "heading_collapsed": true,
    "jp-MarkdownHeadingCollapsed": true
   },
   "source": [
    "# 9.0 Cluster analysis"
   ]
  },
  {
   "cell_type": "code",
   "execution_count": 216,
   "metadata": {
    "ExecuteTime": {
     "end_time": "2023-09-05T23:38:13.148869Z",
     "start_time": "2023-09-05T23:38:13.143048Z"
    },
    "execution": {
     "iopub.execute_input": "2023-09-28T18:09:09.575984Z",
     "iopub.status.busy": "2023-09-28T18:09:09.575391Z",
     "iopub.status.idle": "2023-09-28T18:09:09.587289Z",
     "shell.execute_reply": "2023-09-28T18:09:09.585481Z",
     "shell.execute_reply.started": "2023-09-28T18:09:09.575927Z"
    },
    "hidden": true
   },
   "outputs": [],
   "source": [
    "df9=df7.copy()\n",
    "df9['cluster'] = labels"
   ]
  },
  {
   "cell_type": "markdown",
   "metadata": {
    "heading_collapsed": true,
    "hidden": true,
    "jp-MarkdownHeadingCollapsed": true
   },
   "source": [
    "## 9.1 Visualization inspection"
   ]
  },
  {
   "cell_type": "code",
   "execution_count": 217,
   "metadata": {
    "ExecuteTime": {
     "end_time": "2023-09-05T19:20:03.494731Z",
     "start_time": "2023-09-05T19:20:01.821449Z"
    },
    "execution": {
     "iopub.execute_input": "2023-09-28T18:09:16.324095Z",
     "iopub.status.busy": "2023-09-28T18:09:16.322956Z",
     "iopub.status.idle": "2023-09-28T18:09:18.295000Z",
     "shell.execute_reply": "2023-09-28T18:09:18.293473Z",
     "shell.execute_reply.started": "2023-09-28T18:09:16.324031Z"
    },
    "hidden": true
   },
   "outputs": [
    {
     "data": {
      "image/png": "[encoded data removed]",
      "text/plain": [
       "<Figure size 1000x500 with 1 Axes>"
      ]
     },
     "metadata": {},
     "output_type": "display_data"
    }
   ],
   "source": [
    "rcParams['figure.figsize'] = 10,5\n",
    "\n",
    "visualizer = SilhouetteVisualizer(kmeans, colors='yellowbrick')\n",
    "visualizer.fit(X1)\n",
    "visualizer.finalize()"
   ]
  },
  {
   "cell_type": "markdown",
   "metadata": {
    "heading_collapsed": true,
    "hidden": true
   },
   "source": [
    "## 9.2 2d plot"
   ]
  },
  {
   "cell_type": "code",
   "execution_count": 124,
   "metadata": {
    "ExecuteTime": {
     "end_time": "2023-09-05T19:17:49.713458Z",
     "start_time": "2023-09-05T19:17:34.156169Z"
    },
    "execution": {
     "iopub.execute_input": "2023-09-25T21:29:27.029539Z",
     "iopub.status.busy": "2023-09-25T21:29:27.028343Z",
     "iopub.status.idle": "2023-09-25T21:29:27.037201Z",
     "shell.execute_reply": "2023-09-25T21:29:27.034658Z",
     "shell.execute_reply.started": "2023-09-25T21:29:27.029438Z"
    },
    "hidden": true
   },
   "outputs": [],
   "source": [
    "# sns.pairplot(df_viz, hue='cluster');"
   ]
  },
  {
   "cell_type": "markdown",
   "metadata": {
    "hidden": true,
    "jp-MarkdownHeadingCollapsed": true
   },
   "source": [
    "## 9.3 UMAP\n"
   ]
  },
  {
   "cell_type": "code",
   "execution_count": 218,
   "metadata": {
    "ExecuteTime": {
     "end_time": "2023-09-05T23:30:02.351401Z",
     "start_time": "2023-09-05T23:29:52.150835Z"
    },
    "execution": {
     "iopub.execute_input": "2023-09-28T18:10:31.878613Z",
     "iopub.status.busy": "2023-09-28T18:10:31.877084Z",
     "iopub.status.idle": "2023-09-28T18:10:33.252008Z",
     "shell.execute_reply": "2023-09-28T18:10:33.250262Z",
     "shell.execute_reply.started": "2023-09-28T18:10:31.878549Z"
    },
    "hidden": true
   },
   "outputs": [
    {
     "data": {
      "image/png": "[encoded data removed]",
      "text/plain": [
       "<Figure size 1000x500 with 1 Axes>"
      ]
     },
     "metadata": {},
     "output_type": "display_data"
    }
   ],
   "source": [
    "# embedding\n",
    "X1['cluster'] = labels\n",
    "\n",
    "# plot UMAP\n",
    "sns.scatterplot(x='embedding_x', y='embedding_y', \n",
    "                 hue='cluster', \n",
    "                 palette=sns.color_palette('hls', n_colors=len(X1['cluster'].unique())),\n",
    "                 data=X1);"
   ]
  },
  {
   "cell_type": "markdown",
   "metadata": {
    "hidden": true
   },
   "source": [
    "## 9.4 Cluster profile"
   ]
  },
  {
   "cell_type": "code",
   "execution_count": 219,
   "metadata": {
    "execution": {
     "iopub.execute_input": "2023-09-28T18:11:20.980835Z",
     "iopub.status.busy": "2023-09-28T18:11:20.980394Z",
     "iopub.status.idle": "2023-09-28T18:11:21.092845Z",
     "shell.execute_reply": "2023-09-28T18:11:21.091555Z",
     "shell.execute_reply.started": "2023-09-28T18:11:20.980806Z"
    }
   },
   "outputs": [
    {
     "data": {
      "text/html": [
       "<div>\n",
       "<style scoped>\n",
       "    .dataframe tbody tr th:only-of-type {\n",
       "        vertical-align: middle;\n",
       "    }\n",
       "\n",
       "    .dataframe tbody tr th {\n",
       "        vertical-align: top;\n",
       "    }\n",
       "\n",
       "    .dataframe thead th {\n",
       "        text-align: right;\n",
       "    }\n",
       "</style>\n",
       "<table border=\"1\" class=\"dataframe\">\n",
       "  <thead>\n",
       "    <tr style=\"text-align: right;\">\n",
       "      <th></th>\n",
       "      <th>cluster</th>\n",
       "      <th>customer_id</th>\n",
       "      <th>perc_customer</th>\n",
       "      <th>avg_gross_revenue</th>\n",
       "      <th>gross_perc</th>\n",
       "      <th>avg_recency_days</th>\n",
       "      <th>avg_invoices</th>\n",
       "    </tr>\n",
       "  </thead>\n",
       "  <tbody>\n",
       "    <tr>\n",
       "      <th>0</th>\n",
       "      <td>0</td>\n",
       "      <td>493</td>\n",
       "      <td>8.66 %</td>\n",
       "      <td>$ 10,923.09</td>\n",
       "      <td>58.82 %</td>\n",
       "      <td>29.89</td>\n",
       "      <td>14.83</td>\n",
       "    </tr>\n",
       "    <tr>\n",
       "      <th>1</th>\n",
       "      <td>1</td>\n",
       "      <td>440</td>\n",
       "      <td>7.73 %</td>\n",
       "      <td>$ 2,838.62</td>\n",
       "      <td>15.29 %</td>\n",
       "      <td>57.70</td>\n",
       "      <td>5.89</td>\n",
       "    </tr>\n",
       "    <tr>\n",
       "      <th>2</th>\n",
       "      <td>2</td>\n",
       "      <td>819</td>\n",
       "      <td>14.38 %</td>\n",
       "      <td>$ 1,749.00</td>\n",
       "      <td>9.42 %</td>\n",
       "      <td>67.88</td>\n",
       "      <td>4.01</td>\n",
       "    </tr>\n",
       "    <tr>\n",
       "      <th>3</th>\n",
       "      <td>3</td>\n",
       "      <td>837</td>\n",
       "      <td>14.70 %</td>\n",
       "      <td>$ 1,021.99</td>\n",
       "      <td>5.50 %</td>\n",
       "      <td>116.66</td>\n",
       "      <td>1.87</td>\n",
       "    </tr>\n",
       "    <tr>\n",
       "      <th>4</th>\n",
       "      <td>4</td>\n",
       "      <td>358</td>\n",
       "      <td>6.29 %</td>\n",
       "      <td>$ 971.22</td>\n",
       "      <td>5.23 %</td>\n",
       "      <td>74.22</td>\n",
       "      <td>3.46</td>\n",
       "    </tr>\n",
       "    <tr>\n",
       "      <th>5</th>\n",
       "      <td>5</td>\n",
       "      <td>935</td>\n",
       "      <td>16.42 %</td>\n",
       "      <td>$ 476.56</td>\n",
       "      <td>2.57 %</td>\n",
       "      <td>130.63</td>\n",
       "      <td>1.76</td>\n",
       "    </tr>\n",
       "    <tr>\n",
       "      <th>6</th>\n",
       "      <td>6</td>\n",
       "      <td>440</td>\n",
       "      <td>7.73 %</td>\n",
       "      <td>$ 273.06</td>\n",
       "      <td>1.47 %</td>\n",
       "      <td>154.10</td>\n",
       "      <td>1.34</td>\n",
       "    </tr>\n",
       "    <tr>\n",
       "      <th>7</th>\n",
       "      <td>7</td>\n",
       "      <td>665</td>\n",
       "      <td>11.68 %</td>\n",
       "      <td>$ 232.83</td>\n",
       "      <td>1.25 %</td>\n",
       "      <td>180.57</td>\n",
       "      <td>1.21</td>\n",
       "    </tr>\n",
       "    <tr>\n",
       "      <th>8</th>\n",
       "      <td>8</td>\n",
       "      <td>494</td>\n",
       "      <td>8.68 %</td>\n",
       "      <td>$ 69.85</td>\n",
       "      <td>0.38 %</td>\n",
       "      <td>193.41</td>\n",
       "      <td>1.05</td>\n",
       "    </tr>\n",
       "    <tr>\n",
       "      <th>9</th>\n",
       "      <td>9</td>\n",
       "      <td>213</td>\n",
       "      <td>3.74 %</td>\n",
       "      <td>$ 13.15</td>\n",
       "      <td>0.07 %</td>\n",
       "      <td>188.17</td>\n",
       "      <td>1.00</td>\n",
       "    </tr>\n",
       "  </tbody>\n",
       "</table>\n",
       "</div>"
      ],
      "text/plain": [
       "   cluster  customer_id perc_customer avg_gross_revenue gross_perc avg_recency_days avg_invoices\n",
       "0        0          493        8.66 %       $ 10,923.09    58.82 %            29.89        14.83\n",
       "1        1          440        7.73 %        $ 2,838.62    15.29 %            57.70         5.89\n",
       "2        2          819       14.38 %        $ 1,749.00     9.42 %            67.88         4.01\n",
       "3        3          837       14.70 %        $ 1,021.99     5.50 %           116.66         1.87\n",
       "4        4          358        6.29 %          $ 971.22     5.23 %            74.22         3.46\n",
       "5        5          935       16.42 %          $ 476.56     2.57 %           130.63         1.76\n",
       "6        6          440        7.73 %          $ 273.06     1.47 %           154.10         1.34\n",
       "7        7          665       11.68 %          $ 232.83     1.25 %           180.57         1.21\n",
       "8        8          494        8.68 %           $ 69.85     0.38 %           193.41         1.05\n",
       "9        9          213        3.74 %           $ 13.15     0.07 %           188.17         1.00"
      ]
     },
     "execution_count": 219,
     "metadata": {},
     "output_type": "execute_result"
    }
   ],
   "source": [
    "df91 = df9.copy()\n",
    "df91['cluster'] = labels\n",
    "\n",
    "# Percentual of customers\n",
    "df_cluster = df91[['customer_id', 'cluster']].groupby('cluster').count().reset_index()\n",
    "df_cluster['perc_customer'] = 100*(df_cluster['customer_id'] / df_cluster['customer_id'].sum())\n",
    "df_cluster['perc_customer']=df_cluster['perc_customer'].map('{:,.2f} %'.format)\n",
    "\n",
    "# Avg Gross revenue\n",
    "df_avg_gross_revenue = df91[['gross_revenue', 'cluster']].groupby('cluster').mean().reset_index()\n",
    "df_cluster = pd.merge(df_cluster, df_avg_gross_revenue, how='inner', on='cluster')\n",
    "df_cluster=df_cluster.rename(columns={'gross_revenue':'avg_gross_revenue'})\n",
    "\n",
    "# Gross revenue percentual\n",
    "df_gross_perc = df91[['cluster', 'gross_revenue']].groupby('cluster').sum().reset_index()\n",
    "df_cluster['gross_perc'] = 100*(df_cluster['avg_gross_revenue'] / df_cluster['avg_gross_revenue'].sum())\n",
    "df_cluster['gross_perc']=df_cluster['gross_perc'].map('{:,.2f} %'.format)\n",
    "\n",
    "# Avg recency days\n",
    "df_avg_recency_days = df91[['recency_days', 'cluster']].groupby('cluster').mean().reset_index()\n",
    "df_cluster = pd.merge(df_cluster, df_avg_recency_days, how='inner', on='cluster')\n",
    "df_cluster['recency_days']=df_cluster['recency_days'].map('{:,.2f}'.format)\n",
    "df_cluster=df_cluster.rename(columns={'recency_days':'avg_recency_days'})\n",
    "\n",
    "# Avg invoice_no\n",
    "df_invoice_no = df91[['total_invoices', 'cluster']].groupby('cluster').mean().reset_index()\n",
    "df_cluster = pd.merge(df_cluster, df_invoice_no, how='inner', on='cluster')\n",
    "df_cluster['total_invoices']=df_cluster['total_invoices'].map('{:,.2f}'.format)\n",
    "df_cluster=df_cluster.rename(columns={'total_invoices':'avg_invoices'})\n",
    "\n",
    "# Avg items qtt\n",
    "df_items = df91[['items_qtt', 'cluster']].groupby('cluster').mean().reset_index()\n",
    "df_cluster = pd.merge(df_cluster, df_items, how='inner', on='cluster')\n",
    "df_cluster['items_qtt']=df_cluster['items_qtt'].astype(int)\n",
    "df_cluster=df_cluster.rename(columns={'items_qtt':'avg_items'})\n",
    "\n",
    "# Avg products qtt\n",
    "df_products = df91[['products_qtt', 'cluster']].groupby('cluster').mean().reset_index()\n",
    "df_cluster = pd.merge(df_cluster, df_products, how='inner', on='cluster')\n",
    "df_cluster['products_qtt']=df_cluster['products_qtt'].astype(int)\n",
    "df_cluster=df_cluster.rename(columns={'products_qtt':'avg_products'})\n",
    "\n",
    "# Avg returns\n",
    "df_returns = df91[['returns_qtt', 'cluster']].groupby('cluster').mean().reset_index()\n",
    "df_cluster = pd.merge(df_cluster, df_returns, how='inner', on='cluster')\n",
    "df_cluster['returns_qtt']=df_cluster['returns_qtt'].astype(int)\n",
    "df_cluster=df_cluster.rename(columns={'returns_qtt':'avg_returns'})\n",
    "\n",
    "\n",
    "df_cluster=df_cluster.sort_values(['avg_gross_revenue'],ascending=False).reset_index(drop=True)\n",
    "\n",
    "df_cluster['avg_gross_revenue']=df_cluster['avg_gross_revenue'].map('$ {:,.2f}'.format)\n",
    "\n",
    "df_cluster=df_cluster.rename(columns={'customer_id':'customers'})\n",
    "\n",
    "df_cluster.loc[0:0,'cluster'] = 0\n",
    "df_cluster.loc[1:1,'cluster'] = 1\n",
    "df_cluster.loc[2:2,'cluster'] = 2\n",
    "\n",
    "rows=df_cluster.shape[0:1]\n",
    "rows=int(rows[0])\n",
    "\n",
    "if rows>3:\n",
    "        df_cluster.loc[3:3,'cluster'] = 3\n",
    "        df_cluster.loc[4:4,'cluster'] = 4\n",
    "        df_cluster.loc[5:5,'cluster'] = 5\n",
    "        df_cluster.loc[6:6,'cluster'] = 6\n",
    "        df_cluster.loc[7:7,'cluster'] = 7\n",
    "        df_cluster.loc[8:8,'cluster'] = 8\n",
    "        df_cluster.loc[9:9,'cluster'] = 9\n",
    "        df_cluster.loc[10:10,'cluster'] = 10\n",
    "else:\n",
    "    None\n",
    "\n",
    "df_cluster"
   ]
  },
  {
   "cell_type": "markdown",
   "metadata": {},
   "source": [
    "# <font color='red'> 10.0. Deploy To Production </font>"
   ]
  }
 ],
 "metadata": {
  "hide_input": false,
  "kernelspec": {
   "display_name": "Python 3 (ipykernel)",
   "language": "python",
   "name": "python3"
  },
  "language_info": {
   "codemirror_mode": {
    "name": "ipython",
    "version": 3
   },
   "file_extension": ".py",
   "mimetype": "text/x-python",
   "name": "python",
   "nbconvert_exporter": "python",
   "pygments_lexer": "ipython3",
   "version": "3.10.4"
  }
 },
 "nbformat": 4,
 "nbformat_minor": 4
}
