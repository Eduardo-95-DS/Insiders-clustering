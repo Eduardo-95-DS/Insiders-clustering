{
 "cells": [
  {
   "cell_type": "markdown",
   "metadata": {
    "ExecuteTime": {
     "end_time": "2021-03-27T20:58:22.276780Z",
     "start_time": "2021-03-27T20:58:22.274533Z"
    },
    "heading_collapsed": true
   },
   "source": [
    "# High Value Customer Identification"
   ]
  },
  {
   "cell_type": "markdown",
   "metadata": {},
   "source": [
    "# 0.0. Solution planning ( IOT )"
   ]
  },
  {
   "cell_type": "markdown",
   "metadata": {},
   "source": [
    "## Input "
   ]
  },
  {
   "cell_type": "markdown",
   "metadata": {},
   "source": [
    "### The business problem\n"
   ]
  },
  {
   "cell_type": "markdown",
   "metadata": {},
   "source": [
    "1. Select the most valuable customers to form the loyalty program **\"INSIDERS\"**\n",
    "2. Dataset with sales for 1 year ( Nov 2015 to Dec 2016 )"
   ]
  },
  {
   "cell_type": "markdown",
   "metadata": {},
   "source": [
    "## Output "
   ]
  },
  {
   "cell_type": "markdown",
   "metadata": {},
   "source": [
    "1. Indication of people to be part of the loyalty program **\"INSIDERS\"**.\n",
    "\n",
    "2. Report with answers to the following questions:\n",
    "\n",
    "\n",
    "    - Who are eligible to participate in the Insiders program?   \n",
    "       \n",
    "       \n",
    "    - How many customers will be part of the group?      \n",
    "    \n",
    "    \n",
    "    - What are the main characteristics of these customers?   \n",
    "    \n",
    "    \n",
    "    - What is the percentage of revenue contribution from Insiders?\n",
    "    \n",
    "    \n",
    "    - What is this group's billing expectation for the coming months?\n",
    "    \n",
    "    \n",
    "    - What are the conditions for a person to be eligible for Insiders?\n",
    "    \n",
    "    \n",
    "    - What are the conditions for a person to be removed from Insiders?\n",
    "    \n",
    "    \n",
    "    - What is the guarantee that the Insiders program is better than the rest of the base?\n",
    "    \n",
    "    \n",
    "    - What actions can the marketing team take to increase revenue?"
   ]
  },
  {
   "cell_type": "markdown",
   "metadata": {},
   "source": [
    "## Tasks "
   ]
  },
  {
   "cell_type": "markdown",
   "metadata": {},
   "source": [
    "1. **Who are eligible to participate in the Insiders program?**\n",
    "    - What does it mean to be eligible? What is a \"valuable\" customer for the company?\n",
    "        - Invoicing:\n",
    "            - High Average Ticket\n",
    "            - High LTV\n",
    "            - Low Recency or High Frequency (time between purchases)\n",
    "            - High Basket Size (average amount of products purchased)\n",
    "            - Low probability of Churn\n",
    "            - High LTV forecast\n",
    "            - High propensity to buy\n",
    "\n",
    "        - Cost:\n",
    "            - Low number of returns\n",
    "\n",
    "        - Experience:\n",
    "            - High average ratings\n",
    "            \n",
    "            \n",
    "2. **How ​​many customers will be part of the group?**\n",
    "    - Number of customers\n",
    "    - % in relation to the total number of clients\n",
    "    \n",
    "    \n",
    "3. **What are the main characteristics of these clients?**\n",
    "    - Write key customer attributes\n",
    "        - Age\n",
    "        - Country\n",
    "        - Wage\n",
    "        \n",
    "    - Write down customers' main buying behaviors (business metrics)\n",
    "        - See above\n",
    "    \n",
    "    \n",
    "4. **What is the percentage of revenue contribution from Insiders?**\n",
    "    - Calculate the company's total revenue during the year.\n",
    "    - Calculate revenue (%) for the Insiders cluster only.\n",
    "    \n",
    "    \n",
    "5. **What is this group's billing expectation for the coming months?**\n",
    "    - Insiders group LTV calculation\n",
    "    - Time Series ( ARMA, ARIMA, HoltWinter, etc )\n",
    "    \n",
    "\n",
    "6. **What are the conditions for a person to be eligible for Insiders?**\n",
    "    - What is the evaluation period?\n",
    "    - Customer \"performance\" is close to the average for the Insiders cluster.\n",
    "    \n",
    "    \n",
    "7. **What are the conditions for a person to be removed from Insiders?**\n",
    "    - Customer \"performance\" is no closer to the average for the Insiders cluster.\n",
    "    \n",
    "    \n",
    "8. **What is the guarantee that the Insiders program is better than the rest of the base?**\n",
    "    - Hypothesis Test\n",
    "    - A/B testing\n",
    "    \n",
    "    \n",
    "9. **What actions can the marketing team take to increase revenue?**\n",
    "    - Discounts\n",
    "    - Choice preferences\n",
    "    - Exclusive products"
   ]
  }
 ],
 "metadata": {
  "hide_input": false,
  "kernelspec": {
   "display_name": "Python 3 (ipykernel)",
   "language": "python",
   "name": "python3"
  },
  "language_info": {
   "codemirror_mode": {
    "name": "ipython",
    "version": 3
   },
   "file_extension": ".py",
   "mimetype": "text/x-python",
   "name": "python",
   "nbconvert_exporter": "python",
   "pygments_lexer": "ipython3",
   "version": "3.10.4"
  }
 },
 "nbformat": 4,
 "nbformat_minor": 4
}
